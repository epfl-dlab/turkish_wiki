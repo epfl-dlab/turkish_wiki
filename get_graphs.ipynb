{
 "cells": [
  {
   "cell_type": "code",
   "execution_count": 3,
   "metadata": {},
   "outputs": [],
   "source": [
    "import pandas as pd\n",
    "import numpy as np\n",
    "import networkx as nx"
   ]
  },
  {
   "cell_type": "code",
   "execution_count": 4,
   "metadata": {},
   "outputs": [],
   "source": [
    "DATA_PATH = '/dlabdata1/turkish_wiki'"
   ]
  },
  {
   "cell_type": "markdown",
   "metadata": {},
   "source": [
    "# Preprocessing edits for analysis"
   ]
  },
  {
   "cell_type": "code",
   "execution_count": 5,
   "metadata": {},
   "outputs": [
    {
     "name": "stderr",
     "output_type": "stream",
     "text": [
      "/opt/anaconda3/lib/python3.7/site-packages/IPython/core/interactiveshell.py:3063: DtypeWarning: Columns (10,13) have mixed types.Specify dtype option on import or set low_memory=False.\n",
      "  interactivity=interactivity, compiler=compiler, result=result)\n",
      "/opt/anaconda3/lib/python3.7/site-packages/numpy/lib/arraysetops.py:569: FutureWarning: elementwise comparison failed; returning scalar instead, but in the future will perform elementwise comparison\n",
      "  mask |= (ar1 == a)\n"
     ]
    }
   ],
   "source": [
    "edits = pd.read_csv(f'{DATA_PATH}/processed_data/account_edits.csv', index_col = 0)\n",
    "block_dates = [pd.to_datetime('2017-04-29', utc = True), pd.to_datetime('2020-01-15 19:00', utc = True)]\n",
    "edits = edits[['event_user_id', 'event_timestamp', 'page_id']]\n",
    "edits['event_timestamp'] = pd.to_datetime(edits['event_timestamp'],   utc = True)"
   ]
  },
  {
   "cell_type": "markdown",
   "metadata": {},
   "source": [
    "# Community graph\n"
   ]
  },
  {
   "cell_type": "code",
   "execution_count": 7,
   "metadata": {},
   "outputs": [
    {
     "name": "stdout",
     "output_type": "stream",
     "text": [
      "Number of distinct editors : 212768\n"
     ]
    }
   ],
   "source": [
    "print(f\"Number of distinct editors : {len(edits.event_user_id.unique())}\")"
   ]
  },
  {
   "cell_type": "code",
   "execution_count": 8,
   "metadata": {},
   "outputs": [],
   "source": [
    "blocked_days = (block_dates[1] - block_dates[0]).days"
   ]
  },
  {
   "cell_type": "markdown",
   "metadata": {},
   "source": [
    "## 1) Preblock graph (filtered to a similar time period as the block period)"
   ]
  },
  {
   "cell_type": "code",
   "execution_count": 9,
   "metadata": {},
   "outputs": [],
   "source": [
    "preblock_edits = edits[(edits['event_timestamp'] < block_dates[0]) & (edits['event_timestamp'] > block_dates[0]-pd.Timedelta(days=blocked_days))]"
   ]
  },
  {
   "cell_type": "code",
   "execution_count": 13,
   "metadata": {},
   "outputs": [
    {
     "data": {
      "text/html": [
       "<div>\n",
       "<style scoped>\n",
       "    .dataframe tbody tr th:only-of-type {\n",
       "        vertical-align: middle;\n",
       "    }\n",
       "\n",
       "    .dataframe tbody tr th {\n",
       "        vertical-align: top;\n",
       "    }\n",
       "\n",
       "    .dataframe thead th {\n",
       "        text-align: right;\n",
       "    }\n",
       "</style>\n",
       "<table border=\"1\" class=\"dataframe\">\n",
       "  <thead>\n",
       "    <tr style=\"text-align: right;\">\n",
       "      <th></th>\n",
       "      <th>event_user_id</th>\n",
       "      <th>event_timestamp</th>\n",
       "      <th>page_id</th>\n",
       "    </tr>\n",
       "  </thead>\n",
       "  <tbody>\n",
       "    <tr>\n",
       "      <th>10332</th>\n",
       "      <td>573665</td>\n",
       "      <td>222814</td>\n",
       "      <td>222814</td>\n",
       "    </tr>\n",
       "    <tr>\n",
       "      <th>1105</th>\n",
       "      <td>90501</td>\n",
       "      <td>216000</td>\n",
       "      <td>216000</td>\n",
       "    </tr>\n",
       "    <tr>\n",
       "      <th>2800</th>\n",
       "      <td>221544</td>\n",
       "      <td>73737</td>\n",
       "      <td>73737</td>\n",
       "    </tr>\n",
       "    <tr>\n",
       "      <th>1061</th>\n",
       "      <td>86010</td>\n",
       "      <td>47235</td>\n",
       "      <td>47235</td>\n",
       "    </tr>\n",
       "    <tr>\n",
       "      <th>1471</th>\n",
       "      <td>123656</td>\n",
       "      <td>35633</td>\n",
       "      <td>35633</td>\n",
       "    </tr>\n",
       "    <tr>\n",
       "      <th>...</th>\n",
       "      <td>...</td>\n",
       "      <td>...</td>\n",
       "      <td>...</td>\n",
       "    </tr>\n",
       "    <tr>\n",
       "      <th>46323</th>\n",
       "      <td>842788</td>\n",
       "      <td>1</td>\n",
       "      <td>1</td>\n",
       "    </tr>\n",
       "    <tr>\n",
       "      <th>46322</th>\n",
       "      <td>842779</td>\n",
       "      <td>1</td>\n",
       "      <td>1</td>\n",
       "    </tr>\n",
       "    <tr>\n",
       "      <th>46321</th>\n",
       "      <td>842773</td>\n",
       "      <td>1</td>\n",
       "      <td>1</td>\n",
       "    </tr>\n",
       "    <tr>\n",
       "      <th>21400</th>\n",
       "      <td>675719</td>\n",
       "      <td>1</td>\n",
       "      <td>1</td>\n",
       "    </tr>\n",
       "    <tr>\n",
       "      <th>34413</th>\n",
       "      <td>770939</td>\n",
       "      <td>1</td>\n",
       "      <td>1</td>\n",
       "    </tr>\n",
       "  </tbody>\n",
       "</table>\n",
       "<p>68827 rows × 3 columns</p>\n",
       "</div>"
      ],
      "text/plain": [
       "       event_user_id  event_timestamp  page_id\n",
       "10332         573665           222814   222814\n",
       "1105           90501           216000   216000\n",
       "2800          221544            73737    73737\n",
       "1061           86010            47235    47235\n",
       "1471          123656            35633    35633\n",
       "...              ...              ...      ...\n",
       "46323         842788                1        1\n",
       "46322         842779                1        1\n",
       "46321         842773                1        1\n",
       "21400         675719                1        1\n",
       "34413         770939                1        1\n",
       "\n",
       "[68827 rows x 3 columns]"
      ]
     },
     "execution_count": 13,
     "metadata": {},
     "output_type": "execute_result"
    }
   ],
   "source": [
    "preblock_edits.groupby('event_user_id').count().reset_index().sort_values('event_timestamp', ascending =False)"
   ]
  },
  {
   "cell_type": "code",
   "execution_count": 14,
   "metadata": {},
   "outputs": [],
   "source": [
    "preblock_editors = preblock_edits.groupby('event_user_id').size().reset_index()"
   ]
  },
  {
   "cell_type": "code",
   "execution_count": 15,
   "metadata": {},
   "outputs": [],
   "source": [
    "preblock_editors.columns = ['user_id', 'edit_count']"
   ]
  },
  {
   "cell_type": "code",
   "execution_count": 17,
   "metadata": {},
   "outputs": [],
   "source": [
    "preblock_editors['edits_per_day'] = preblock_editors['edit_count']/(blocked_days)"
   ]
  },
  {
   "cell_type": "code",
   "execution_count": 18,
   "metadata": {},
   "outputs": [],
   "source": [
    "preblock_editors = preblock_editors[preblock_editors['edit_count'] > 1]"
   ]
  },
  {
   "cell_type": "code",
   "execution_count": 19,
   "metadata": {},
   "outputs": [],
   "source": [
    "preblock_edits = preblock_edits[preblock_edits['event_user_id'].isin(preblock_editors.user_id.unique())]"
   ]
  },
  {
   "cell_type": "code",
   "execution_count": 20,
   "metadata": {},
   "outputs": [],
   "source": [
    "pageset_edits = preblock_edits.groupby('event_user_id')['page_id'].apply(set)"
   ]
  },
  {
   "cell_type": "code",
   "execution_count": 21,
   "metadata": {},
   "outputs": [],
   "source": [
    "pageset_edits = pageset_edits.reset_index()"
   ]
  },
  {
   "cell_type": "code",
   "execution_count": 22,
   "metadata": {},
   "outputs": [],
   "source": [
    "block_editors = edits[(edits['event_timestamp'] >= block_dates[0]) & (edits['event_timestamp'] < block_dates[1])]['event_user_id'].unique()"
   ]
  },
  {
   "cell_type": "code",
   "execution_count": 23,
   "metadata": {},
   "outputs": [],
   "source": [
    "pageset_edits.loc[pageset_edits[pageset_edits.event_user_id.isin(block_editors)].index, 'migrated'] = True"
   ]
  },
  {
   "cell_type": "code",
   "execution_count": 24,
   "metadata": {},
   "outputs": [],
   "source": [
    "pageset_edits['migrated'] = pageset_edits['migrated'].fillna(False)"
   ]
  },
  {
   "cell_type": "code",
   "execution_count": 25,
   "metadata": {},
   "outputs": [
    {
     "data": {
      "text/html": [
       "<div>\n",
       "<style scoped>\n",
       "    .dataframe tbody tr th:only-of-type {\n",
       "        vertical-align: middle;\n",
       "    }\n",
       "\n",
       "    .dataframe tbody tr th {\n",
       "        vertical-align: top;\n",
       "    }\n",
       "\n",
       "    .dataframe thead th {\n",
       "        text-align: right;\n",
       "    }\n",
       "</style>\n",
       "<table border=\"1\" class=\"dataframe\">\n",
       "  <thead>\n",
       "    <tr style=\"text-align: right;\">\n",
       "      <th></th>\n",
       "      <th>event_user_id</th>\n",
       "      <th>page_id</th>\n",
       "      <th>migrated</th>\n",
       "    </tr>\n",
       "  </thead>\n",
       "  <tbody>\n",
       "    <tr>\n",
       "      <th>0</th>\n",
       "      <td>25</td>\n",
       "      <td>{815064, 222351}</td>\n",
       "      <td>False</td>\n",
       "    </tr>\n",
       "    <tr>\n",
       "      <th>1</th>\n",
       "      <td>39</td>\n",
       "      <td>{9312, 1067105, 1571688, 644809, 414218, 18022...</td>\n",
       "      <td>False</td>\n",
       "    </tr>\n",
       "    <tr>\n",
       "      <th>2</th>\n",
       "      <td>47</td>\n",
       "      <td>{1664134, 2124426, 2124428, 2124437, 61624}</td>\n",
       "      <td>False</td>\n",
       "    </tr>\n",
       "    <tr>\n",
       "      <th>3</th>\n",
       "      <td>137</td>\n",
       "      <td>{647363, 473637, 1631751, 16958, 8148, 1908, 9...</td>\n",
       "      <td>False</td>\n",
       "    </tr>\n",
       "    <tr>\n",
       "      <th>4</th>\n",
       "      <td>146</td>\n",
       "      <td>{518121, 554324, 919417}</td>\n",
       "      <td>True</td>\n",
       "    </tr>\n",
       "    <tr>\n",
       "      <th>...</th>\n",
       "      <td>...</td>\n",
       "      <td>...</td>\n",
       "      <td>...</td>\n",
       "    </tr>\n",
       "    <tr>\n",
       "      <th>39462</th>\n",
       "      <td>964121</td>\n",
       "      <td>{1149349}</td>\n",
       "      <td>False</td>\n",
       "    </tr>\n",
       "    <tr>\n",
       "      <th>39463</th>\n",
       "      <td>964166</td>\n",
       "      <td>{2230151, 2230081, 2230137}</td>\n",
       "      <td>False</td>\n",
       "    </tr>\n",
       "    <tr>\n",
       "      <th>39464</th>\n",
       "      <td>964213</td>\n",
       "      <td>{1679269}</td>\n",
       "      <td>False</td>\n",
       "    </tr>\n",
       "    <tr>\n",
       "      <th>39465</th>\n",
       "      <td>964230</td>\n",
       "      <td>{2230208}</td>\n",
       "      <td>False</td>\n",
       "    </tr>\n",
       "    <tr>\n",
       "      <th>39466</th>\n",
       "      <td>964234</td>\n",
       "      <td>{266896}</td>\n",
       "      <td>False</td>\n",
       "    </tr>\n",
       "  </tbody>\n",
       "</table>\n",
       "<p>39467 rows × 3 columns</p>\n",
       "</div>"
      ],
      "text/plain": [
       "       event_user_id                                            page_id  \\\n",
       "0                 25                                   {815064, 222351}   \n",
       "1                 39  {9312, 1067105, 1571688, 644809, 414218, 18022...   \n",
       "2                 47        {1664134, 2124426, 2124428, 2124437, 61624}   \n",
       "3                137  {647363, 473637, 1631751, 16958, 8148, 1908, 9...   \n",
       "4                146                           {518121, 554324, 919417}   \n",
       "...              ...                                                ...   \n",
       "39462         964121                                          {1149349}   \n",
       "39463         964166                        {2230151, 2230081, 2230137}   \n",
       "39464         964213                                          {1679269}   \n",
       "39465         964230                                          {2230208}   \n",
       "39466         964234                                           {266896}   \n",
       "\n",
       "       migrated  \n",
       "0         False  \n",
       "1         False  \n",
       "2         False  \n",
       "3         False  \n",
       "4          True  \n",
       "...         ...  \n",
       "39462     False  \n",
       "39463     False  \n",
       "39464     False  \n",
       "39465     False  \n",
       "39466     False  \n",
       "\n",
       "[39467 rows x 3 columns]"
      ]
     },
     "execution_count": 25,
     "metadata": {},
     "output_type": "execute_result"
    }
   ],
   "source": [
    "pageset_edits"
   ]
  },
  {
   "cell_type": "code",
   "execution_count": 14,
   "metadata": {},
   "outputs": [],
   "source": [
    "def cartesian_product(*arrays):\n",
    "    la = len(arrays)\n",
    "    dtype = np.result_type(*arrays)\n",
    "    arr = np.empty([len(a) for a in arrays] + [la], dtype=dtype)\n",
    "    for i, a in enumerate(np.ix_(*arrays)):\n",
    "        arr[...,i] = a\n",
    "    return arr.reshape(-1, la)"
   ]
  },
  {
   "cell_type": "code",
   "execution_count": 41,
   "metadata": {},
   "outputs": [],
   "source": [
    "def get_pageset_adjacency(pageset):\n",
    "    \n",
    "    pageset_adjacency = cartesian_product(pageset,pageset)\n",
    "    pageset_adjacency = pageset_adjacency.reshape((pageset.shape[0],pageset.shape[0],-1))\n",
    "\n",
    "    pageset_adjacency = np.apply_along_axis(lambda arr: len(arr[0].intersection(arr[1])), 2, pageset_adjacency)\n",
    "\n",
    "    n = pageset_adjacency.shape[0]\n",
    "    pageset_adjacency[range(n), range(n)] = 0\n",
    "    \n",
    "\n",
    "    return pageset_adjacency"
   ]
  },
  {
   "cell_type": "code",
   "execution_count": 42,
   "metadata": {},
   "outputs": [],
   "source": [
    "from sys import getsizeof"
   ]
  },
  {
   "cell_type": "code",
   "execution_count": 43,
   "metadata": {
    "collapsed": true,
    "jupyter": {
     "outputs_hidden": true
    }
   },
   "outputs": [
    {
     "name": "stdout",
     "output_type": "stream",
     "text": [
      "DATA_PATH : 72\n",
      "In : 440\n",
      "Out : 376\n",
      "_ : 112\n",
      "_13 : 60749544\n",
      "_24 : 96\n",
      "_25 : 64\n",
      "_33 : 112\n",
      "_38 : 8096\n",
      "_40 : 112\n",
      "__ : 8096\n",
      "___ : 112\n",
      "__builtin__ : 88\n",
      "__builtins__ : 88\n",
      "__doc__ : 113\n",
      "__loader__ : 16\n",
      "__name__ : 57\n",
      "__package__ : 16\n",
      "__spec__ : 16\n",
      "_dh : 80\n",
      "_i : 74\n",
      "_i1 : 109\n",
      "_i10 : 153\n",
      "_i11 : 126\n",
      "_i12 : 92\n",
      "_i13 : 62\n",
      "_i14 : 300\n",
      "_i15 : 397\n",
      "_i16 : 417\n",
      "_i17 : 74\n",
      "_i18 : 127\n",
      "_i19 : 437\n",
      "_i2 : 86\n",
      "_i20 : 127\n",
      "_i21 : 66\n",
      "_i22 : 66\n",
      "_i23 : 72\n",
      "_i24 : 84\n",
      "_i25 : 90\n",
      "_i26 : 437\n",
      "_i27 : 127\n",
      "_i28 : 72\n",
      "_i29 : 580\n",
      "_i3 : 382\n",
      "_i30 : 127\n",
      "_i31 : 584\n",
      "_i32 : 127\n",
      "_i33 : 66\n",
      "_i34 : 87\n",
      "_i35 : 87\n",
      "_i36 : 89\n",
      "_i37 : 115\n",
      "_i38 : 171\n",
      "_i39 : 121\n",
      "_i4 : 123\n",
      "_i40 : 66\n",
      "_i41 : 603\n",
      "_i42 : 74\n",
      "_i43 : 119\n",
      "_i5 : 102\n",
      "_i6 : 194\n",
      "_i7 : 128\n",
      "_i8 : 101\n",
      "_i9 : 120\n",
      "_ih : 440\n",
      "_ii : 603\n",
      "_iii : 66\n",
      "_oh : 376\n",
      "block_dates : 88\n",
      "blocked_days : 28\n",
      "cartesian_product : 144\n",
      "edits : 305224800\n",
      "exit : 64\n",
      "get_ipython : 72\n",
      "get_pageset_adjacency : 144\n",
      "getsizeof : 80\n",
      "n : 28\n",
      "np : 88\n",
      "nx : 88\n",
      "pageset_adjacency : 112\n",
      "pageset_edits : 60749544\n",
      "pd : 88\n",
      "preblock_editors : 947240\n",
      "preblock_edits : 65847648\n",
      "quit : 64\n"
     ]
    }
   ],
   "source": [
    "for elem in dir():\n",
    "    print(f\"{elem} : {getsizeof(globals()[elem])}\")"
   ]
  },
  {
   "cell_type": "code",
   "execution_count": null,
   "metadata": {},
   "outputs": [
    {
     "name": "stdout",
     "output_type": "stream",
     "text": [
      "(1557644089, 2)\n",
      "(39467, 39467, 2)\n"
     ]
    }
   ],
   "source": [
    "pageset_adjacency = get_pageset_adjacency(pageset_edits.page_id.values)"
   ]
  },
  {
   "cell_type": "code",
   "execution_count": null,
   "metadata": {},
   "outputs": [],
   "source": [
    "pageset_graph = nx.from_numpy_array(pageset_adjacency)"
   ]
  },
  {
   "cell_type": "code",
   "execution_count": 51,
   "metadata": {},
   "outputs": [],
   "source": [
    "nx.write_gexf(pageset_graph, 'pageset.gexf')"
   ]
  },
  {
   "cell_type": "code",
   "execution_count": 50,
   "metadata": {},
   "outputs": [
    {
     "name": "stdout",
     "output_type": "stream",
     "text": [
      "Number of nodes: 39467, Number of edges: 1701636\n",
      "Number of self-loops: 0, Number of connected components: 2485\n"
     ]
    }
   ],
   "source": [
    "print('Number of nodes: {}, Number of edges: {}'. format(pageset_graph.number_of_nodes(), pageset_graph.number_of_edges()))\n",
    "print('Number of self-loops: {}, Number of connected components: {}'. format(nx.number_of_selfloops(pageset_graph), nx.number_connected_components(pageset_graph)))"
   ]
  },
  {
   "cell_type": "code",
   "execution_count": 107,
   "metadata": {},
   "outputs": [
    {
     "data": {
      "text/html": [
       "<div>\n",
       "<style scoped>\n",
       "    .dataframe tbody tr th:only-of-type {\n",
       "        vertical-align: middle;\n",
       "    }\n",
       "\n",
       "    .dataframe tbody tr th {\n",
       "        vertical-align: top;\n",
       "    }\n",
       "\n",
       "    .dataframe thead th {\n",
       "        text-align: right;\n",
       "    }\n",
       "</style>\n",
       "<table border=\"1\" class=\"dataframe\">\n",
       "  <thead>\n",
       "    <tr style=\"text-align: right;\">\n",
       "      <th></th>\n",
       "      <th>event_user_id</th>\n",
       "      <th>page_id</th>\n",
       "      <th>number_of_neighbors</th>\n",
       "      <th>centrality</th>\n",
       "      <th>migrated</th>\n",
       "    </tr>\n",
       "  </thead>\n",
       "  <tbody>\n",
       "    <tr>\n",
       "      <th>0</th>\n",
       "      <td>25</td>\n",
       "      <td>{815064, 222351}</td>\n",
       "      <td>5</td>\n",
       "      <td>4.578354e-04</td>\n",
       "      <td>False</td>\n",
       "    </tr>\n",
       "    <tr>\n",
       "      <th>1</th>\n",
       "      <td>39</td>\n",
       "      <td>{9312, 1067105, 1571688, 644809, 414218, 18022...</td>\n",
       "      <td>178</td>\n",
       "      <td>6.456035e-03</td>\n",
       "      <td>False</td>\n",
       "    </tr>\n",
       "    <tr>\n",
       "      <th>2</th>\n",
       "      <td>47</td>\n",
       "      <td>{1664134, 2124426, 2124428, 2124437, 61624}</td>\n",
       "      <td>12</td>\n",
       "      <td>6.382531e-04</td>\n",
       "      <td>False</td>\n",
       "    </tr>\n",
       "    <tr>\n",
       "      <th>3</th>\n",
       "      <td>137</td>\n",
       "      <td>{647363, 473637, 1631751, 16958, 8148, 1908, 9...</td>\n",
       "      <td>98</td>\n",
       "      <td>4.934069e-03</td>\n",
       "      <td>False</td>\n",
       "    </tr>\n",
       "    <tr>\n",
       "      <th>4</th>\n",
       "      <td>146</td>\n",
       "      <td>{518121, 554324, 919417}</td>\n",
       "      <td>11</td>\n",
       "      <td>8.682507e-04</td>\n",
       "      <td>True</td>\n",
       "    </tr>\n",
       "    <tr>\n",
       "      <th>...</th>\n",
       "      <td>...</td>\n",
       "      <td>...</td>\n",
       "      <td>...</td>\n",
       "      <td>...</td>\n",
       "      <td>...</td>\n",
       "    </tr>\n",
       "    <tr>\n",
       "      <th>39462</th>\n",
       "      <td>964121</td>\n",
       "      <td>{1149349}</td>\n",
       "      <td>81</td>\n",
       "      <td>3.654886e-03</td>\n",
       "      <td>False</td>\n",
       "    </tr>\n",
       "    <tr>\n",
       "      <th>39463</th>\n",
       "      <td>964166</td>\n",
       "      <td>{2230151, 2230081, 2230137}</td>\n",
       "      <td>0</td>\n",
       "      <td>4.410460e-58</td>\n",
       "      <td>False</td>\n",
       "    </tr>\n",
       "    <tr>\n",
       "      <th>39464</th>\n",
       "      <td>964213</td>\n",
       "      <td>{1679269}</td>\n",
       "      <td>7</td>\n",
       "      <td>4.855382e-04</td>\n",
       "      <td>False</td>\n",
       "    </tr>\n",
       "    <tr>\n",
       "      <th>39465</th>\n",
       "      <td>964230</td>\n",
       "      <td>{2230208}</td>\n",
       "      <td>0</td>\n",
       "      <td>4.410460e-58</td>\n",
       "      <td>False</td>\n",
       "    </tr>\n",
       "    <tr>\n",
       "      <th>39466</th>\n",
       "      <td>964234</td>\n",
       "      <td>{266896}</td>\n",
       "      <td>3</td>\n",
       "      <td>2.860172e-04</td>\n",
       "      <td>False</td>\n",
       "    </tr>\n",
       "  </tbody>\n",
       "</table>\n",
       "<p>39467 rows × 5 columns</p>\n",
       "</div>"
      ],
      "text/plain": [
       "       event_user_id                                            page_id  \\\n",
       "0                 25                                   {815064, 222351}   \n",
       "1                 39  {9312, 1067105, 1571688, 644809, 414218, 18022...   \n",
       "2                 47        {1664134, 2124426, 2124428, 2124437, 61624}   \n",
       "3                137  {647363, 473637, 1631751, 16958, 8148, 1908, 9...   \n",
       "4                146                           {518121, 554324, 919417}   \n",
       "...              ...                                                ...   \n",
       "39462         964121                                          {1149349}   \n",
       "39463         964166                        {2230151, 2230081, 2230137}   \n",
       "39464         964213                                          {1679269}   \n",
       "39465         964230                                          {2230208}   \n",
       "39466         964234                                           {266896}   \n",
       "\n",
       "       number_of_neighbors    centrality  migrated  \n",
       "0                        5  4.578354e-04     False  \n",
       "1                      178  6.456035e-03     False  \n",
       "2                       12  6.382531e-04     False  \n",
       "3                       98  4.934069e-03     False  \n",
       "4                       11  8.682507e-04      True  \n",
       "...                    ...           ...       ...  \n",
       "39462                   81  3.654886e-03     False  \n",
       "39463                    0  4.410460e-58     False  \n",
       "39464                    7  4.855382e-04     False  \n",
       "39465                    0  4.410460e-58     False  \n",
       "39466                    3  2.860172e-04     False  \n",
       "\n",
       "[39467 rows x 5 columns]"
      ]
     },
     "execution_count": 107,
     "metadata": {},
     "output_type": "execute_result"
    }
   ],
   "source": [
    "pageset_edits"
   ]
  },
  {
   "cell_type": "code",
   "execution_count": 62,
   "metadata": {},
   "outputs": [],
   "source": [
    "pageset_edits['number_of_neighbors'] = np.count_nonzero(pageset_adjacency, axis = 1)"
   ]
  },
  {
   "cell_type": "code",
   "execution_count": 69,
   "metadata": {},
   "outputs": [],
   "source": [
    "centrality = nx.eigenvector_centrality(pageset_graph)"
   ]
  },
  {
   "cell_type": "code",
   "execution_count": 76,
   "metadata": {},
   "outputs": [],
   "source": [
    "pageset_edits['centrality'] = centrality.values()"
   ]
  },
  {
   "cell_type": "code",
   "execution_count": 164,
   "metadata": {},
   "outputs": [],
   "source": [
    "from tqdm import tqdm\n",
    "tqdm.pandas()"
   ]
  },
  {
   "cell_type": "code",
   "execution_count": 165,
   "metadata": {},
   "outputs": [],
   "source": [
    "def get_neighbours_and_migration_pct(graph):\n",
    "    pcts = np.zeros(graph.number_of_nodes())\n",
    "    for node in tqdm(graph.nodes()):\n",
    "        neigbours = pageset_edits.loc[list(graph.neighbors(node)), 'migrated']\n",
    "        pct = neigbours.sum()/neigbours.shape[0]\n",
    "        pcts[node] = pct\n",
    "    return pcts"
   ]
  },
  {
   "cell_type": "code",
   "execution_count": 166,
   "metadata": {},
   "outputs": [
    {
     "name": "stderr",
     "output_type": "stream",
     "text": [
      "  0%|          | 0/39467 [00:00<?, ?it/s]/opt/anaconda3/lib/python3.7/site-packages/ipykernel_launcher.py:5: RuntimeWarning: invalid value encountered in long_scalars\n",
      "  \"\"\"\n",
      "100%|██████████| 39467/39467 [00:32<00:00, 1215.75it/s]\n"
     ]
    }
   ],
   "source": [
    "pcts = get_neighbours_and_migration_pct(pageset_graph)"
   ]
  },
  {
   "cell_type": "code",
   "execution_count": 151,
   "metadata": {},
   "outputs": [
    {
     "data": {
      "text/plain": [
       "{90501, 369043, 573665, 730823, 881112}"
      ]
     },
     "execution_count": 151,
     "metadata": {},
     "output_type": "execute_result"
    }
   ],
   "source": [
    "set(pageset_edits.loc[pageset_edits.loc[list(pageset_graph.neighbors(0)), 'migrated'].index, 'event_user_id'].values)"
   ]
  },
  {
   "cell_type": "code",
   "execution_count": 171,
   "metadata": {},
   "outputs": [],
   "source": [
    "pageset_edits['migration_percentage'] = pcts"
   ]
  },
  {
   "cell_type": "code",
   "execution_count": 41,
   "metadata": {},
   "outputs": [],
   "source": [
    "pageset_edits = pd.merge(pageset_edits, preblock_editors[['user_id', 'edits_per_day']], left_on ='event_user_id', right_on = 'user_id')"
   ]
  },
  {
   "cell_type": "code",
   "execution_count": 43,
   "metadata": {},
   "outputs": [],
   "source": [
    "pageset_edits = pageset_edits[['event_user_id', 'page_id', 'number_of_neighbors', 'centrality',\n",
    "       'migrated', 'migration_percentage', 'edits_per_day']]"
   ]
  },
  {
   "cell_type": "code",
   "execution_count": 45,
   "metadata": {},
   "outputs": [],
   "source": [
    "pageset_edits.to_csv(f'{DATA_PATH}/processed_data/pageset_edits_pct.csv', index=False)"
   ]
  }
 ],
 "metadata": {
  "kernelspec": {
   "display_name": "Python 3",
   "language": "python",
   "name": "python3"
  },
  "language_info": {
   "codemirror_mode": {
    "name": "ipython",
    "version": 3
   },
   "file_extension": ".py",
   "mimetype": "text/x-python",
   "name": "python",
   "nbconvert_exporter": "python",
   "pygments_lexer": "ipython3",
   "version": "3.7.7"
  }
 },
 "nbformat": 4,
 "nbformat_minor": 4
}
