{
 "cells": [
  {
   "cell_type": "code",
   "execution_count": 3,
   "metadata": {},
   "outputs": [],
   "source": [
    "import pandas as pd\n",
    "import numpy as np"
   ]
  },
  {
   "cell_type": "markdown",
   "metadata": {},
   "source": [
    "## Calculate the Gini Coefficient representing the centralization or inequality in contributions accross registered account edits.\n",
    "This is a normalized measure of inequality, that we will apply to study the\n",
    "distribution (or dispersion) of contributions from Wikipedia authors.\n",
    "We consider a population comprising $n$ individuals. Let $p(i)$ be the cumulative percentage of the population represented by all contributors up to the i-th individual (sorted by their amount of contribution, in ascending order). Let $q(i)$ be the cumulative percentage of the parameter under study contributed by all previous individuals up to the $\\mathrm{i}$ -th subject (included). Then, the value of the Gini coefficient is given by the following equation:\n",
    "$G=\\frac{\\sum_{i=1}^{n-1}[p(i)-q(i)]}{\\sum_{i=1}^{n-1} p(i)}$\n",
    "\n",
    "Consequently, values of the Gini coefficient close to 0 correspond to equal or almost equal\n",
    "distributions (lower departures from the line of perfect equality), while values close to 1 are good\n",
    "indicators of high inequalities."
   ]
  },
  {
   "cell_type": "code",
   "execution_count": 4,
   "metadata": {},
   "outputs": [],
   "source": [
    "DATA_PATH = '/dlabdata1/turkish_wiki'"
   ]
  },
  {
   "cell_type": "code",
   "execution_count": 5,
   "metadata": {},
   "outputs": [],
   "source": [
    "# Registered page edits\n",
    "edits = pd.read_csv(f'{DATA_PATH}/processed_data/account_edits.csv', usecols=['event_user_id', 'event_timestamp', 'page_id'], index_col = 0)\n",
    "\n",
    "# Dates of the initial ban and the lifting of the ban\n",
    "block_dates = [pd.to_datetime('2017-04-29', utc = True), pd.to_datetime('2020-01-15', utc = True)]"
   ]
  },
  {
   "cell_type": "code",
   "execution_count": 6,
   "metadata": {},
   "outputs": [],
   "source": [
    "edits = edits.reset_index()"
   ]
  },
  {
   "cell_type": "code",
   "execution_count": 7,
   "metadata": {},
   "outputs": [],
   "source": [
    "edits['event_timestamp'] = pd.to_datetime(edits['event_timestamp'],   utc = True)"
   ]
  },
  {
   "cell_type": "code",
   "execution_count": 8,
   "metadata": {},
   "outputs": [],
   "source": [
    "edits['period'] = np.nan\n",
    "edits.loc[edits['event_timestamp'] < block_dates[0], 'period'] = 'pre-block'\n",
    "edits.loc[(edits['event_timestamp'] >= block_dates[0]) & (edits['event_timestamp'] < block_dates[1]) , 'period'] = 'block'\n",
    "edits.loc[edits['event_timestamp'] >= block_dates[1], 'period'] = 'after-block'"
   ]
  },
  {
   "cell_type": "markdown",
   "metadata": {},
   "source": [
    "We will calculate the Gini coefficient of contributions on a daily, weekly and monthly basis to evaulate its' evolution in time due to the ban.\n",
    "### 1) Daily Gini Coefficient"
   ]
  },
  {
   "cell_type": "code",
   "execution_count": 281,
   "metadata": {},
   "outputs": [],
   "source": [
    "def calculate_gini(edits, timeframe, stratification_column = None):\n",
    "    \n",
    "    first_grouper = ['period',  pd.Grouper(key = 'event_timestamp', freq=timeframe), 'event_user_id']\n",
    "    columns = ['period', 'date',  'user_id', 'number_of_edits']\n",
    "    second_grouper = ['period', 'date']\n",
    "    \n",
    "    if stratification_column is not None:\n",
    "        first_grouper.append(stratification_column)\n",
    "        columns.insert(-1, stratification_column)\n",
    "        second_grouper.append(stratification_column)\n",
    "        \n",
    "    periodical_stratified_edits = edits.groupby(first_grouper).size().reset_index()\n",
    "    periodical_stratified_edits.columns = columns\n",
    "    periodical_stratified_edits['period'] = pd.Categorical(periodical_stratified_edits['period'], [\"pre-block\", \"block\", \"after-block\"])\n",
    "\n",
    "    periodical_stratified_edits = periodical_stratified_edits.sort_values(second_grouper + ['number_of_edits'])\n",
    "\n",
    "    periodical_stratified_edits['cumulative_edit_pct'] = periodical_stratified_edits.groupby(second_grouper)['number_of_edits'].apply(lambda x: (x/x.sum()).cumsum())\n",
    "    periodical_stratified_edits['cumulative_user_pct'] = periodical_stratified_edits.groupby(second_grouper)['user_id'].cumcount() + 1\n",
    "\n",
    "    periodical_stratified_edits['cumulative_user_pct'] = periodical_stratified_edits.groupby(second_grouper).apply(lambda x: x['cumulative_user_pct']/len(x)).values\n",
    "\n",
    "    periodical_stratified_edits['p_i - q_i'] = periodical_stratified_edits['cumulative_user_pct'] - periodical_stratified_edits['cumulative_edit_pct']\n",
    "\n",
    "    periodical_gini = periodical_stratified_edits.groupby(second_grouper).agg({'p_i - q_i' : 'sum', 'cumulative_user_pct' : 'sum'})\n",
    "\n",
    "    periodical_gini['gini'] = periodical_gini['p_i - q_i']/periodical_gini['cumulative_user_pct']\n",
    "\n",
    "    periodical_gini = periodical_gini[['gini']]\n",
    "\n",
    "    periodical_gini = periodical_gini.reset_index()\n",
    "    periodical_gini = periodical_gini.dropna()\n",
    "    periodical_gini['date'] = pd.to_datetime(periodical_gini['date'],   utc = True)\n",
    "    \n",
    "    if stratification_column is not None:\n",
    "        periodical_gini = periodical_gini.set_index(['date', 'period', stratification_column])\n",
    "        periodical_gini = periodical_gini.reindex(\n",
    "                pd.MultiIndex.from_product([periodical_gini.index.levels[0], \n",
    "                                            periodical_gini.index.levels[1],\n",
    "                                            periodical_gini.index.levels[2]], \n",
    "                                           names=['date', 'period', stratification_column]), fill_value=0)\n",
    "\n",
    "\n",
    "        periodical_gini = periodical_gini.reset_index().set_index(['date', 'period'])\n",
    "\n",
    "        periodical_gini = periodical_gini.loc[periodical_gini.gini.groupby(periodical_gini.index).sum() != 0].reset_index()\n",
    "\n",
    "    \n",
    "    \n",
    "    return periodical_gini"
   ]
  },
  {
   "cell_type": "code",
   "execution_count": 282,
   "metadata": {},
   "outputs": [],
   "source": [
    "daily_gini = calculate_gini(edits, timeframe='D')"
   ]
  },
  {
   "cell_type": "code",
   "execution_count": 302,
   "metadata": {},
   "outputs": [],
   "source": [
    "daily_gini.to_csv(f'{DATA_PATH}/processed_data/daily_gini.csv', index = False)"
   ]
  },
  {
   "cell_type": "markdown",
   "metadata": {},
   "source": [
    "### 2) Weekly Gini Coefficient "
   ]
  },
  {
   "cell_type": "code",
   "execution_count": 285,
   "metadata": {},
   "outputs": [],
   "source": [
    "weekly_gini = calculate_gini(edits, timeframe='7D')"
   ]
  },
  {
   "cell_type": "code",
   "execution_count": 303,
   "metadata": {},
   "outputs": [],
   "source": [
    "weekly_gini.to_csv(f'{DATA_PATH}/processed_data/weekly_gini.csv', index = False)"
   ]
  },
  {
   "cell_type": "markdown",
   "metadata": {},
   "source": [
    "### 3) Monthly Gini Coefficient "
   ]
  },
  {
   "cell_type": "code",
   "execution_count": 288,
   "metadata": {},
   "outputs": [],
   "source": [
    "monthly_gini = calculate_gini(edits, timeframe='30D')"
   ]
  },
  {
   "cell_type": "code",
   "execution_count": 304,
   "metadata": {},
   "outputs": [],
   "source": [
    "monthly_gini.to_csv(f'{DATA_PATH}/processed_data/monhtly_gini.csv', index = False)"
   ]
  },
  {
   "cell_type": "markdown",
   "metadata": {},
   "source": [
    "## Calculate the Gini Coefficient for article topic stratification\n",
    "The Gini Coefficient measuring the collaboration dynamics between registered users can be stratified with the Article Topics that we obtain through WikiPDA. The idea of the formula is the same, except that instead of considering all articles and all edits in a given timeframe as we did above, we stratify articles by their categories and calculate the periodical Gini Coefficient separately for each Topic.\n"
   ]
  },
  {
   "cell_type": "code",
   "execution_count": 11,
   "metadata": {},
   "outputs": [],
   "source": [
    "topic_df = pd.read_csv('/dlabdata1/turkish_wiki/processed_data/thresholded_topics.csv')"
   ]
  },
  {
   "cell_type": "code",
   "execution_count": 17,
   "metadata": {},
   "outputs": [],
   "source": [
    "topic_edits = pd.merge(edits, topic_df)"
   ]
  },
  {
   "cell_type": "code",
   "execution_count": 19,
   "metadata": {},
   "outputs": [
    {
     "data": {
      "text/html": [
       "<div>\n",
       "<style scoped>\n",
       "    .dataframe tbody tr th:only-of-type {\n",
       "        vertical-align: middle;\n",
       "    }\n",
       "\n",
       "    .dataframe tbody tr th {\n",
       "        vertical-align: top;\n",
       "    }\n",
       "\n",
       "    .dataframe thead th {\n",
       "        text-align: right;\n",
       "    }\n",
       "</style>\n",
       "<table border=\"1\" class=\"dataframe\">\n",
       "  <thead>\n",
       "    <tr style=\"text-align: right;\">\n",
       "      <th></th>\n",
       "      <th>event_timestamp</th>\n",
       "      <th>event_user_id</th>\n",
       "      <th>page_id</th>\n",
       "      <th>period</th>\n",
       "      <th>page_title</th>\n",
       "      <th>topic</th>\n",
       "    </tr>\n",
       "  </thead>\n",
       "  <tbody>\n",
       "    <tr>\n",
       "      <th>0</th>\n",
       "      <td>2003-03-13 16:30:04+00:00</td>\n",
       "      <td>6</td>\n",
       "      <td>10</td>\n",
       "      <td>pre-block</td>\n",
       "      <td>Cengiz_Han</td>\n",
       "      <td>Society</td>\n",
       "    </tr>\n",
       "    <tr>\n",
       "      <th>1</th>\n",
       "      <td>2003-03-13 16:30:04+00:00</td>\n",
       "      <td>6</td>\n",
       "      <td>10</td>\n",
       "      <td>pre-block</td>\n",
       "      <td>Cengiz_Han</td>\n",
       "      <td>West Asia</td>\n",
       "    </tr>\n",
       "    <tr>\n",
       "      <th>2</th>\n",
       "      <td>2003-03-13 16:30:04+00:00</td>\n",
       "      <td>6</td>\n",
       "      <td>10</td>\n",
       "      <td>pre-block</td>\n",
       "      <td>Cengiz_Han</td>\n",
       "      <td>Asia_</td>\n",
       "    </tr>\n",
       "    <tr>\n",
       "      <th>3</th>\n",
       "      <td>2003-03-13 16:30:04+00:00</td>\n",
       "      <td>6</td>\n",
       "      <td>10</td>\n",
       "      <td>pre-block</td>\n",
       "      <td>Cengiz_Han</td>\n",
       "      <td>Central Asia</td>\n",
       "    </tr>\n",
       "    <tr>\n",
       "      <th>4</th>\n",
       "      <td>2003-03-13 16:30:04+00:00</td>\n",
       "      <td>6</td>\n",
       "      <td>10</td>\n",
       "      <td>pre-block</td>\n",
       "      <td>Cengiz_Han</td>\n",
       "      <td>East Asia</td>\n",
       "    </tr>\n",
       "  </tbody>\n",
       "</table>\n",
       "</div>"
      ],
      "text/plain": [
       "            event_timestamp  event_user_id  page_id     period  page_title  \\\n",
       "0 2003-03-13 16:30:04+00:00              6       10  pre-block  Cengiz_Han   \n",
       "1 2003-03-13 16:30:04+00:00              6       10  pre-block  Cengiz_Han   \n",
       "2 2003-03-13 16:30:04+00:00              6       10  pre-block  Cengiz_Han   \n",
       "3 2003-03-13 16:30:04+00:00              6       10  pre-block  Cengiz_Han   \n",
       "4 2003-03-13 16:30:04+00:00              6       10  pre-block  Cengiz_Han   \n",
       "\n",
       "          topic  \n",
       "0       Society  \n",
       "1     West Asia  \n",
       "2         Asia_  \n",
       "3  Central Asia  \n",
       "4     East Asia  "
      ]
     },
     "execution_count": 19,
     "metadata": {},
     "output_type": "execute_result"
    }
   ],
   "source": [
    "topic_edits.head()"
   ]
  },
  {
   "cell_type": "markdown",
   "metadata": {},
   "source": [
    "### 1) Daily Stratified Gini Coefficient "
   ]
  },
  {
   "cell_type": "code",
   "execution_count": 291,
   "metadata": {},
   "outputs": [],
   "source": [
    "daily_stratified_gini = calculate_gini(topic_edits, 'D', stratification_column='topic')"
   ]
  },
  {
   "cell_type": "code",
   "execution_count": 307,
   "metadata": {},
   "outputs": [],
   "source": [
    "daily_stratified_gini.to_csv(f'{DATA_PATH}/processed_data/daily_topic_gini.csv', index = False)"
   ]
  },
  {
   "cell_type": "markdown",
   "metadata": {},
   "source": [
    "### 2) Weekly Stratified Gini Coefficient "
   ]
  },
  {
   "cell_type": "code",
   "execution_count": 292,
   "metadata": {},
   "outputs": [],
   "source": [
    "weekly_stratified_gini = calculate_gini(topic_edits, '7D', stratification_column='topic')"
   ]
  },
  {
   "cell_type": "code",
   "execution_count": 306,
   "metadata": {},
   "outputs": [],
   "source": [
    "weekly_stratified_gini.to_csv(f'{DATA_PATH}/processed_data/weekly_topic_gini.csv', index = False)"
   ]
  },
  {
   "cell_type": "markdown",
   "metadata": {},
   "source": [
    "### 3) Monthly Stratified Gini Coefficient "
   ]
  },
  {
   "cell_type": "code",
   "execution_count": 293,
   "metadata": {},
   "outputs": [],
   "source": [
    "monthly_stratified_gini = calculate_gini(topic_edits, '30D', stratification_column='topic')"
   ]
  },
  {
   "cell_type": "code",
   "execution_count": 308,
   "metadata": {},
   "outputs": [],
   "source": [
    "monthly_stratified_gini.to_csv(f'{DATA_PATH}/processed_data/monthly_topic_gini.csv', index = False)"
   ]
  }
 ],
 "metadata": {
  "kernelspec": {
   "display_name": "Python 3",
   "language": "python",
   "name": "python3"
  },
  "language_info": {
   "codemirror_mode": {
    "name": "ipython",
    "version": 3
   },
   "file_extension": ".py",
   "mimetype": "text/x-python",
   "name": "python",
   "nbconvert_exporter": "python",
   "pygments_lexer": "ipython3",
   "version": "3.7.7"
  }
 },
 "nbformat": 4,
 "nbformat_minor": 4
}
