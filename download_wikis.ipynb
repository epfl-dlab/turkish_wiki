{
 "cells": [
  {
   "cell_type": "markdown",
   "metadata": {
    "pycharm": {
     "name": "#%%\n"
    }
   },
   "source": [
    "# Downloads\n",
    "All the downloads are handled in this notebook. \n",
    "Downloads in this notebook:\n",
    "* Turkish Wikipedia Dumps\n",
    "* ORES Topic classification of Wikipedia Articles\n",
    "* WikiText: all Turkish Wikipedia articles text\n",
    "\n",
    "\n",
    "## 1) Downloads the Wikipedia Dump\n",
    "\n",
    "All the mediawikis can be downloaded using the link below.\n",
    "\n",
    "https://dumps.wikimedia.org/other/mediawiki_history/\n",
    "\n",
    "\n",
    "The structure of the dumps are pretty straightforward. One must choose the dump version in the page (dumps up to the two previous months are available) and then choose the wiki to download. Turkish wikis start with ```tr``` and a number of them are available, ```trwiki``` being the main Turkish Wikipedia. The dumps are regrouped yearly and must be combined in order to have all the activities of Turkish Wikipedia since 2002.\n",
    "\n",
    "The detailed documentation of the dumps can be found in the link below.\n",
    "\n",
    "https://wikitech.wikimedia.org/wiki/Analytics/Data_Lake/Edits/Mediawiki_history_dumps\n",
    "\n",
    "After that the data was downloaded, it was processed and the dumps from different years were combined into one and the separate files were deleted. The notebook ```process_data.ipynb``` handles those operations\n"
   ]
  },
  {
   "cell_type": "code",
   "execution_count": 1,
   "metadata": {
    "pycharm": {
     "name": "#%%\n"
    }
   },
   "outputs": [],
   "source": [
    "import sys\n",
    "import wget\n",
    "from pathlib import Path\n",
    "import logging\n",
    "import pandas as pd\n",
    "import numpy as np\n",
    "\n",
    "%load_ext autoreload\n",
    "%autoreload 2\n",
    "\n",
    "# Add other codes if you desire other language wikis\n",
    "CODES = [\"tr\"]\n",
    "\n",
    "# The path inside iccluster111 where the dumps will be downloaded\n",
    "DUMPS_PATH = \"/dlabdata1/turkish_wiki\"\n",
    "\n",
    "# Configure to the dump you want to download\n",
    "DUMP_URL= f'https://dumps.wikimedia.org/other/mediawiki_history'\n",
    "DUMP_VERSION = '2021-01'\n",
    "DUMP_FE = 'tsv.bz2'\n",
    "\n",
    "# Range of years of the dumps to be downloaded.\n",
    "YEARS = list(range(2002, 2022))\n",
    "\n",
    "# Create the download path if it doesn't exist\n",
    "Path(f'{DUMPS_PATH}').mkdir(parents=True, exist_ok=True)"
   ]
  },
  {
   "cell_type": "code",
   "execution_count": 3,
   "metadata": {},
   "outputs": [
    {
     "name": "stderr",
     "output_type": "stream",
     "text": [
      "WARNING:root:Processing tr...\n",
      "WARNING:root:Download https://dumps.wikimedia.org/other/mediawiki_history/2021-01/trwiki/2021-01.trwiki.2002.tsv.bz2...\n",
      "WARNING:root:Download https://dumps.wikimedia.org/other/mediawiki_history/2021-01/trwiki/2021-01.trwiki.2003.tsv.bz2...\n",
      "WARNING:root:Download https://dumps.wikimedia.org/other/mediawiki_history/2021-01/trwiki/2021-01.trwiki.2004.tsv.bz2...\n",
      "WARNING:root:Download https://dumps.wikimedia.org/other/mediawiki_history/2021-01/trwiki/2021-01.trwiki.2005.tsv.bz2...\n",
      "WARNING:root:Download https://dumps.wikimedia.org/other/mediawiki_history/2021-01/trwiki/2021-01.trwiki.2006.tsv.bz2...\n",
      "WARNING:root:Download https://dumps.wikimedia.org/other/mediawiki_history/2021-01/trwiki/2021-01.trwiki.2007.tsv.bz2...\n",
      "WARNING:root:Download https://dumps.wikimedia.org/other/mediawiki_history/2021-01/trwiki/2021-01.trwiki.2008.tsv.bz2...\n",
      "WARNING:root:Download https://dumps.wikimedia.org/other/mediawiki_history/2021-01/trwiki/2021-01.trwiki.2009.tsv.bz2...\n",
      "WARNING:root:Download https://dumps.wikimedia.org/other/mediawiki_history/2021-01/trwiki/2021-01.trwiki.2010.tsv.bz2...\n",
      "WARNING:root:Download https://dumps.wikimedia.org/other/mediawiki_history/2021-01/trwiki/2021-01.trwiki.2011.tsv.bz2...\n",
      "WARNING:root:Download https://dumps.wikimedia.org/other/mediawiki_history/2021-01/trwiki/2021-01.trwiki.2012.tsv.bz2...\n",
      "WARNING:root:Download https://dumps.wikimedia.org/other/mediawiki_history/2021-01/trwiki/2021-01.trwiki.2013.tsv.bz2...\n",
      "WARNING:root:Download https://dumps.wikimedia.org/other/mediawiki_history/2021-01/trwiki/2021-01.trwiki.2014.tsv.bz2...\n",
      "WARNING:root:Download https://dumps.wikimedia.org/other/mediawiki_history/2021-01/trwiki/2021-01.trwiki.2015.tsv.bz2...\n",
      "WARNING:root:Download https://dumps.wikimedia.org/other/mediawiki_history/2021-01/trwiki/2021-01.trwiki.2016.tsv.bz2...\n",
      "WARNING:root:Download https://dumps.wikimedia.org/other/mediawiki_history/2021-01/trwiki/2021-01.trwiki.2017.tsv.bz2...\n",
      "WARNING:root:Download https://dumps.wikimedia.org/other/mediawiki_history/2021-01/trwiki/2021-01.trwiki.2018.tsv.bz2...\n",
      "WARNING:root:Download https://dumps.wikimedia.org/other/mediawiki_history/2021-01/trwiki/2021-01.trwiki.2019.tsv.bz2...\n",
      "WARNING:root:Download https://dumps.wikimedia.org/other/mediawiki_history/2021-01/trwiki/2021-01.trwiki.2020.tsv.bz2...\n",
      "WARNING:root:Download https://dumps.wikimedia.org/other/mediawiki_history/2021-01/trwiki/2021-01.trwiki.2021.tsv.bz2...\n"
     ]
    }
   ],
   "source": [
    "# Downloads the desired dumps\n",
    "month = 0\n",
    "for code in CODES:\n",
    "    logging.warning(f'Processing {code}...')\n",
    "    for year in YEARS:\n",
    "        try:\n",
    "            if code != 'en':\n",
    "                url = f'{DUMP_URL}/{DUMP_VERSION}/{code}wiki/{DUMP_VERSION}.{code}wiki.{year}.{DUMP_FE}'\n",
    "                loc = f'{DUMPS_PATH}/{code}-{year}.{DUMP_FE}'\n",
    "                logging.warning(f'Download {url}...')\n",
    "                wget.download(url, loc)\n",
    "            else:\n",
    "                 for month in range(1, 13):\n",
    "                    url = f'{DUMP_URL}/{DUMP_VERSION}/{code}wiki/{DUMP_VERSION}.{code}wiki.{year}-{month:02d}.{DUMP_FE}'\n",
    "                    loc = f'{DUMPS_PATH}/{code}-{year}-{month:02d}.{DUMP_FE}'\n",
    "                    logging.info(f'Download {url}...')\n",
    "                    wget.download(url, loc)\n",
    "        except:\n",
    "            logging.error(f'Error when downloading {code}-{year}-{month}')"
   ]
  },
  {
   "cell_type": "markdown",
   "metadata": {},
   "source": [
    "## 2) Get ORES Topics\n",
    "The url below downloads the ORES topic classification of Wikipedia articles accross all language editions of Wikipedia. The resulting DataFrame contains namely the name of the project (i.e. ```trwiki```, ```enwiki``` etc.), id of the page in Wiki data (i.e [Q43](https://www.wikidata.org/wiki/Q43)) the pageid and the probabilities of the article belonging to any of the ORES categories.\n"
   ]
  },
  {
   "cell_type": "code",
   "execution_count": 4,
   "metadata": {},
   "outputs": [
    {
     "name": "stderr",
     "output_type": "stream",
     "text": [
      "WARNING:root:Download https://ndownloader.figshare.com/files/26338159...\n"
     ]
    }
   ],
   "source": [
    "try:\n",
    "        url = \"https://ndownloader.figshare.com/files/26338159\"\n",
    "        loc = \"/scratch/ira\"\n",
    "        logging.warning(f'Download {url}...')\n",
    "        wget.download(url, loc)\n",
    "except:\n",
    "    logging.error(f'Error when downloading {url}')"
   ]
  },
  {
   "cell_type": "markdown",
   "metadata": {},
   "source": [
    "#### How to load the ORES data"
   ]
  },
  {
   "cell_type": "code",
   "execution_count": 4,
   "metadata": {},
   "outputs": [],
   "source": [
    "df = pd.read_csv(f'/scratch/ira/topics_all_wikipedia_articles_202012.tsv.bz2', sep=\"\\t\", nrows=100)"
   ]
  },
  {
   "cell_type": "code",
   "execution_count": 6,
   "metadata": {},
   "outputs": [
    {
     "data": {
      "text/html": [
       "<div>\n",
       "<style scoped>\n",
       "    .dataframe tbody tr th:only-of-type {\n",
       "        vertical-align: middle;\n",
       "    }\n",
       "\n",
       "    .dataframe tbody tr th {\n",
       "        vertical-align: top;\n",
       "    }\n",
       "\n",
       "    .dataframe thead th {\n",
       "        text-align: right;\n",
       "    }\n",
       "</style>\n",
       "<table border=\"1\" class=\"dataframe\">\n",
       "  <thead>\n",
       "    <tr style=\"text-align: right;\">\n",
       "      <th></th>\n",
       "      <th>wiki_db</th>\n",
       "      <th>qid</th>\n",
       "      <th>pid</th>\n",
       "      <th>num_outlinks</th>\n",
       "      <th>Culture.Biography.Biography*</th>\n",
       "      <th>Culture.Biography.Women</th>\n",
       "      <th>Culture.Food_and_drink</th>\n",
       "      <th>Culture.Internet_culture</th>\n",
       "      <th>Culture.Linguistics</th>\n",
       "      <th>Culture.Literature</th>\n",
       "      <th>...</th>\n",
       "      <th>STEM.Computing</th>\n",
       "      <th>STEM.Earth_and_environment</th>\n",
       "      <th>STEM.Engineering</th>\n",
       "      <th>STEM.Libraries_&amp;_Information</th>\n",
       "      <th>STEM.Mathematics</th>\n",
       "      <th>STEM.Medicine_&amp;_Health</th>\n",
       "      <th>STEM.Physics</th>\n",
       "      <th>STEM.STEM*</th>\n",
       "      <th>STEM.Space</th>\n",
       "      <th>STEM.Technology</th>\n",
       "    </tr>\n",
       "  </thead>\n",
       "  <tbody>\n",
       "    <tr>\n",
       "      <th>0</th>\n",
       "      <td>abwiki</td>\n",
       "      <td>Q40349</td>\n",
       "      <td>2444</td>\n",
       "      <td>66</td>\n",
       "      <td>0.019</td>\n",
       "      <td>0.004</td>\n",
       "      <td>0.001</td>\n",
       "      <td>0.000</td>\n",
       "      <td>0.003</td>\n",
       "      <td>0.005</td>\n",
       "      <td>...</td>\n",
       "      <td>0.000</td>\n",
       "      <td>0.001</td>\n",
       "      <td>0.003</td>\n",
       "      <td>0.000</td>\n",
       "      <td>0.000</td>\n",
       "      <td>0.002</td>\n",
       "      <td>0.000</td>\n",
       "      <td>0.013</td>\n",
       "      <td>0.000</td>\n",
       "      <td>0.002</td>\n",
       "    </tr>\n",
       "    <tr>\n",
       "      <th>1</th>\n",
       "      <td>abwiki</td>\n",
       "      <td>Q2657</td>\n",
       "      <td>2855</td>\n",
       "      <td>51</td>\n",
       "      <td>0.000</td>\n",
       "      <td>0.002</td>\n",
       "      <td>0.000</td>\n",
       "      <td>0.003</td>\n",
       "      <td>0.000</td>\n",
       "      <td>0.012</td>\n",
       "      <td>...</td>\n",
       "      <td>0.003</td>\n",
       "      <td>0.004</td>\n",
       "      <td>0.006</td>\n",
       "      <td>0.000</td>\n",
       "      <td>0.003</td>\n",
       "      <td>0.000</td>\n",
       "      <td>0.001</td>\n",
       "      <td>0.446</td>\n",
       "      <td>0.001</td>\n",
       "      <td>0.005</td>\n",
       "    </tr>\n",
       "    <tr>\n",
       "      <th>2</th>\n",
       "      <td>abwiki</td>\n",
       "      <td>Q713229</td>\n",
       "      <td>4439</td>\n",
       "      <td>2</td>\n",
       "      <td>0.000</td>\n",
       "      <td>0.000</td>\n",
       "      <td>0.002</td>\n",
       "      <td>0.000</td>\n",
       "      <td>0.008</td>\n",
       "      <td>0.000</td>\n",
       "      <td>...</td>\n",
       "      <td>0.000</td>\n",
       "      <td>0.000</td>\n",
       "      <td>0.000</td>\n",
       "      <td>0.000</td>\n",
       "      <td>0.997</td>\n",
       "      <td>0.000</td>\n",
       "      <td>0.001</td>\n",
       "      <td>1.000</td>\n",
       "      <td>0.000</td>\n",
       "      <td>0.001</td>\n",
       "    </tr>\n",
       "    <tr>\n",
       "      <th>3</th>\n",
       "      <td>abwiki</td>\n",
       "      <td>Q7821</td>\n",
       "      <td>7819</td>\n",
       "      <td>7</td>\n",
       "      <td>0.207</td>\n",
       "      <td>0.001</td>\n",
       "      <td>0.005</td>\n",
       "      <td>0.000</td>\n",
       "      <td>0.006</td>\n",
       "      <td>0.033</td>\n",
       "      <td>...</td>\n",
       "      <td>0.000</td>\n",
       "      <td>0.030</td>\n",
       "      <td>0.028</td>\n",
       "      <td>0.007</td>\n",
       "      <td>0.001</td>\n",
       "      <td>0.022</td>\n",
       "      <td>0.025</td>\n",
       "      <td>0.064</td>\n",
       "      <td>0.000</td>\n",
       "      <td>0.008</td>\n",
       "    </tr>\n",
       "    <tr>\n",
       "      <th>4</th>\n",
       "      <td>abwiki</td>\n",
       "      <td>Q19590</td>\n",
       "      <td>9095</td>\n",
       "      <td>7</td>\n",
       "      <td>0.002</td>\n",
       "      <td>0.003</td>\n",
       "      <td>0.000</td>\n",
       "      <td>0.000</td>\n",
       "      <td>0.000</td>\n",
       "      <td>0.000</td>\n",
       "      <td>...</td>\n",
       "      <td>0.000</td>\n",
       "      <td>0.000</td>\n",
       "      <td>0.000</td>\n",
       "      <td>0.000</td>\n",
       "      <td>0.000</td>\n",
       "      <td>0.000</td>\n",
       "      <td>0.000</td>\n",
       "      <td>0.047</td>\n",
       "      <td>0.012</td>\n",
       "      <td>0.000</td>\n",
       "    </tr>\n",
       "  </tbody>\n",
       "</table>\n",
       "<p>5 rows × 68 columns</p>\n",
       "</div>"
      ],
      "text/plain": [
       "  wiki_db      qid   pid  num_outlinks  Culture.Biography.Biography*  \\\n",
       "0  abwiki   Q40349  2444            66                         0.019   \n",
       "1  abwiki    Q2657  2855            51                         0.000   \n",
       "2  abwiki  Q713229  4439             2                         0.000   \n",
       "3  abwiki    Q7821  7819             7                         0.207   \n",
       "4  abwiki   Q19590  9095             7                         0.002   \n",
       "\n",
       "   Culture.Biography.Women  Culture.Food_and_drink  Culture.Internet_culture  \\\n",
       "0                    0.004                   0.001                     0.000   \n",
       "1                    0.002                   0.000                     0.003   \n",
       "2                    0.000                   0.002                     0.000   \n",
       "3                    0.001                   0.005                     0.000   \n",
       "4                    0.003                   0.000                     0.000   \n",
       "\n",
       "   Culture.Linguistics  Culture.Literature  ...  STEM.Computing  \\\n",
       "0                0.003               0.005  ...           0.000   \n",
       "1                0.000               0.012  ...           0.003   \n",
       "2                0.008               0.000  ...           0.000   \n",
       "3                0.006               0.033  ...           0.000   \n",
       "4                0.000               0.000  ...           0.000   \n",
       "\n",
       "   STEM.Earth_and_environment  STEM.Engineering  STEM.Libraries_&_Information  \\\n",
       "0                       0.001             0.003                         0.000   \n",
       "1                       0.004             0.006                         0.000   \n",
       "2                       0.000             0.000                         0.000   \n",
       "3                       0.030             0.028                         0.007   \n",
       "4                       0.000             0.000                         0.000   \n",
       "\n",
       "   STEM.Mathematics  STEM.Medicine_&_Health  STEM.Physics  STEM.STEM*  \\\n",
       "0             0.000                   0.002         0.000       0.013   \n",
       "1             0.003                   0.000         0.001       0.446   \n",
       "2             0.997                   0.000         0.001       1.000   \n",
       "3             0.001                   0.022         0.025       0.064   \n",
       "4             0.000                   0.000         0.000       0.047   \n",
       "\n",
       "   STEM.Space  STEM.Technology  \n",
       "0       0.000            0.002  \n",
       "1       0.001            0.005  \n",
       "2       0.000            0.001  \n",
       "3       0.000            0.008  \n",
       "4       0.012            0.000  \n",
       "\n",
       "[5 rows x 68 columns]"
      ]
     },
     "execution_count": 6,
     "metadata": {},
     "output_type": "execute_result"
    }
   ],
   "source": [
    "df.head()"
   ]
  },
  {
   "cell_type": "markdown",
   "metadata": {},
   "source": [
    "## 3) Get WikiText\n",
    "\n",
    "The dump in the link below downloads the textual content of Turkish Wikipedias revisions up to 01.02.2021. This dump is used to get article topics using WikiPDA. The notebook where article topics are obtained using WikiPDA is ```get_wikipda_categories.ipynb```. Documentation and a guide for WikiPDA can be found in the link below. \n",
    "\n",
    "https://github.com/epfl-dlab/WikiPDA"
   ]
  },
  {
   "cell_type": "code",
   "execution_count": 2,
   "metadata": {
    "collapsed": true,
    "jupyter": {
     "outputs_hidden": true
    }
   },
   "outputs": [
    {
     "name": "stderr",
     "output_type": "stream",
     "text": [
      "WARNING:root:Download https://dumps.wikimedia.org/trwiki/20210201/trwiki-20210201-pages-articles-multistream.xml.bz2...\n",
      "ERROR:root:Error when downloading https://dumps.wikimedia.org/trwiki/20210201/trwiki-20210201-pages-articles-multistream.xml.bz2\n"
     ]
    }
   ],
   "source": [
    "try:\n",
    "        url = \"https://dumps.wikimedia.org/trwiki/20210201/trwiki-20210201-pages-articles-multistream.xml.bz2\"\n",
    "        loc = \"/dlabdata1/turkish_wiki\"\n",
    "        logging.warning(f'Download {url}...')\n",
    "        wget.download(url, loc)\n",
    "except:\n",
    "    logging.error(f'Error when downloading {url}')"
   ]
  }
 ],
 "metadata": {
  "kernelspec": {
   "display_name": "Python 3",
   "language": "python",
   "name": "python3"
  },
  "language_info": {
   "codemirror_mode": {
    "name": "ipython",
    "version": 3
   },
   "file_extension": ".py",
   "mimetype": "text/x-python",
   "name": "python",
   "nbconvert_exporter": "python",
   "pygments_lexer": "ipython3",
   "version": "3.7.7"
  },
  "pycharm": {
   "stem_cell": {
    "cell_type": "raw",
    "metadata": {
     "collapsed": false
    },
    "source": []
   }
  }
 },
 "nbformat": 4,
 "nbformat_minor": 4
}
