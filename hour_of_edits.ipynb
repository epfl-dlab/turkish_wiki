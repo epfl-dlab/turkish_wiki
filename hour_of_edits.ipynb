{
 "cells": [
  {
   "cell_type": "code",
   "execution_count": 2,
   "metadata": {},
   "outputs": [],
   "source": [
    "import pandas as pd\n",
    "import numpy as np\n",
    "import matplotlib.pyplot as plt\n",
    "import geoip2.database"
   ]
  },
  {
   "cell_type": "code",
   "execution_count": 43,
   "metadata": {},
   "outputs": [],
   "source": [
    "IP_DATA_PATH = \"/scratch/ira\"\n",
    "PROCESSED_DATA_PATH = '/dlabdata1/turkish_wiki/processed_data'"
   ]
  },
  {
   "cell_type": "code",
   "execution_count": 50,
   "metadata": {},
   "outputs": [
    {
     "name": "stderr",
     "output_type": "stream",
     "text": [
      "/opt/anaconda3/lib/python3.7/site-packages/IPython/core/interactiveshell.py:3063: DtypeWarning: Columns (6,7,8) have mixed types.Specify dtype option on import or set low_memory=False.\n",
      "  interactivity=interactivity, compiler=compiler, result=result)\n",
      "/opt/anaconda3/lib/python3.7/site-packages/numpy/lib/arraysetops.py:569: FutureWarning: elementwise comparison failed; returning scalar instead, but in the future will perform elementwise comparison\n",
      "  mask |= (ar1 == a)\n"
     ]
    }
   ],
   "source": [
    "edits = pd.read_csv(f'{PROCESSED_DATA_PATH}/all_edits.csv', index_col = 0)"
   ]
  },
  {
   "cell_type": "code",
   "execution_count": 49,
   "metadata": {},
   "outputs": [
    {
     "data": {
      "text/html": [
       "<div>\n",
       "<style scoped>\n",
       "    .dataframe tbody tr th:only-of-type {\n",
       "        vertical-align: middle;\n",
       "    }\n",
       "\n",
       "    .dataframe tbody tr th {\n",
       "        vertical-align: top;\n",
       "    }\n",
       "\n",
       "    .dataframe thead th {\n",
       "        text-align: right;\n",
       "    }\n",
       "</style>\n",
       "<table border=\"1\" class=\"dataframe\">\n",
       "  <thead>\n",
       "    <tr style=\"text-align: right;\">\n",
       "      <th></th>\n",
       "      <th>event_type</th>\n",
       "      <th>event_timestamp</th>\n",
       "      <th>event_user_id</th>\n",
       "      <th>event_user_text_historical</th>\n",
       "      <th>page_id</th>\n",
       "      <th>revision_minor_edit</th>\n",
       "      <th>revision_is_identity_revert</th>\n",
       "      <th>revision_is_identity_reverted</th>\n",
       "    </tr>\n",
       "  </thead>\n",
       "  <tbody>\n",
       "    <tr>\n",
       "      <th>0</th>\n",
       "      <td>create</td>\n",
       "      <td>2002-12-05 22:51:28+00:00</td>\n",
       "      <td>NaN</td>\n",
       "      <td>209.162.17.70</td>\n",
       "      <td>2740662</td>\n",
       "      <td>True</td>\n",
       "      <td>False</td>\n",
       "      <td>False</td>\n",
       "    </tr>\n",
       "    <tr>\n",
       "      <th>1</th>\n",
       "      <td>create</td>\n",
       "      <td>2002-12-05 22:54:39+00:00</td>\n",
       "      <td>1.0</td>\n",
       "      <td>Brion VIBBER</td>\n",
       "      <td>5</td>\n",
       "      <td>False</td>\n",
       "      <td>False</td>\n",
       "      <td>False</td>\n",
       "    </tr>\n",
       "    <tr>\n",
       "      <th>2</th>\n",
       "      <td>create</td>\n",
       "      <td>2002-12-05 23:39:38+00:00</td>\n",
       "      <td>NaN</td>\n",
       "      <td>80.128.44.46</td>\n",
       "      <td>2740662</td>\n",
       "      <td>False</td>\n",
       "      <td>False</td>\n",
       "      <td>False</td>\n",
       "    </tr>\n",
       "    <tr>\n",
       "      <th>3</th>\n",
       "      <td>create</td>\n",
       "      <td>2002-12-13 17:59:34+00:00</td>\n",
       "      <td>NaN</td>\n",
       "      <td>193.140.196.133</td>\n",
       "      <td>2740662</td>\n",
       "      <td>False</td>\n",
       "      <td>False</td>\n",
       "      <td>False</td>\n",
       "    </tr>\n",
       "    <tr>\n",
       "      <th>4</th>\n",
       "      <td>create</td>\n",
       "      <td>2002-12-13 18:01:20+00:00</td>\n",
       "      <td>NaN</td>\n",
       "      <td>193.140.196.133</td>\n",
       "      <td>2740662</td>\n",
       "      <td>False</td>\n",
       "      <td>False</td>\n",
       "      <td>False</td>\n",
       "    </tr>\n",
       "    <tr>\n",
       "      <th>...</th>\n",
       "      <td>...</td>\n",
       "      <td>...</td>\n",
       "      <td>...</td>\n",
       "      <td>...</td>\n",
       "      <td>...</td>\n",
       "      <td>...</td>\n",
       "      <td>...</td>\n",
       "      <td>...</td>\n",
       "    </tr>\n",
       "    <tr>\n",
       "      <th>134</th>\n",
       "      <td>create</td>\n",
       "      <td>2003-09-16 07:53:46+00:00</td>\n",
       "      <td>NaN</td>\n",
       "      <td>195.161.196.237</td>\n",
       "      <td>59</td>\n",
       "      <td>False</td>\n",
       "      <td>False</td>\n",
       "      <td>False</td>\n",
       "    </tr>\n",
       "    <tr>\n",
       "      <th>136</th>\n",
       "      <td>create</td>\n",
       "      <td>2003-09-16 12:56:04+00:00</td>\n",
       "      <td>23.0</td>\n",
       "      <td>Traroth</td>\n",
       "      <td>58</td>\n",
       "      <td>False</td>\n",
       "      <td>False</td>\n",
       "      <td>False</td>\n",
       "    </tr>\n",
       "    <tr>\n",
       "      <th>137</th>\n",
       "      <td>create</td>\n",
       "      <td>2003-09-16 13:01:16+00:00</td>\n",
       "      <td>23.0</td>\n",
       "      <td>Traroth</td>\n",
       "      <td>40</td>\n",
       "      <td>False</td>\n",
       "      <td>False</td>\n",
       "      <td>False</td>\n",
       "    </tr>\n",
       "    <tr>\n",
       "      <th>138</th>\n",
       "      <td>create</td>\n",
       "      <td>2003-09-16 13:09:52+00:00</td>\n",
       "      <td>23.0</td>\n",
       "      <td>Traroth</td>\n",
       "      <td>2740662</td>\n",
       "      <td>False</td>\n",
       "      <td>False</td>\n",
       "      <td>False</td>\n",
       "    </tr>\n",
       "    <tr>\n",
       "      <th>139</th>\n",
       "      <td>create</td>\n",
       "      <td>2003-09-16 13:26:05+00:00</td>\n",
       "      <td>23.0</td>\n",
       "      <td>Traroth</td>\n",
       "      <td>24</td>\n",
       "      <td>False</td>\n",
       "      <td>False</td>\n",
       "      <td>False</td>\n",
       "    </tr>\n",
       "  </tbody>\n",
       "</table>\n",
       "<p>100 rows × 8 columns</p>\n",
       "</div>"
      ],
      "text/plain": [
       "    event_type            event_timestamp  event_user_id  \\\n",
       "0       create  2002-12-05 22:51:28+00:00            NaN   \n",
       "1       create  2002-12-05 22:54:39+00:00            1.0   \n",
       "2       create  2002-12-05 23:39:38+00:00            NaN   \n",
       "3       create  2002-12-13 17:59:34+00:00            NaN   \n",
       "4       create  2002-12-13 18:01:20+00:00            NaN   \n",
       "..         ...                        ...            ...   \n",
       "134     create  2003-09-16 07:53:46+00:00            NaN   \n",
       "136     create  2003-09-16 12:56:04+00:00           23.0   \n",
       "137     create  2003-09-16 13:01:16+00:00           23.0   \n",
       "138     create  2003-09-16 13:09:52+00:00           23.0   \n",
       "139     create  2003-09-16 13:26:05+00:00           23.0   \n",
       "\n",
       "    event_user_text_historical  page_id  revision_minor_edit  \\\n",
       "0                209.162.17.70  2740662                 True   \n",
       "1                 Brion VIBBER        5                False   \n",
       "2                 80.128.44.46  2740662                False   \n",
       "3              193.140.196.133  2740662                False   \n",
       "4              193.140.196.133  2740662                False   \n",
       "..                         ...      ...                  ...   \n",
       "134            195.161.196.237       59                False   \n",
       "136                    Traroth       58                False   \n",
       "137                    Traroth       40                False   \n",
       "138                    Traroth  2740662                False   \n",
       "139                    Traroth       24                False   \n",
       "\n",
       "     revision_is_identity_revert  revision_is_identity_reverted  \n",
       "0                          False                          False  \n",
       "1                          False                          False  \n",
       "2                          False                          False  \n",
       "3                          False                          False  \n",
       "4                          False                          False  \n",
       "..                           ...                            ...  \n",
       "134                        False                          False  \n",
       "136                        False                          False  \n",
       "137                        False                          False  \n",
       "138                        False                          False  \n",
       "139                        False                          False  \n",
       "\n",
       "[100 rows x 8 columns]"
      ]
     },
     "execution_count": 49,
     "metadata": {},
     "output_type": "execute_result"
    }
   ],
   "source": [
    "edits"
   ]
  },
  {
   "cell_type": "code",
   "execution_count": 14,
   "metadata": {},
   "outputs": [
    {
     "data": {
      "text/plain": [
       "17391816"
      ]
     },
     "execution_count": 14,
     "metadata": {},
     "output_type": "execute_result"
    }
   ],
   "source": [
    "edits['event_user_id'].sum()"
   ]
  },
  {
   "cell_type": "code",
   "execution_count": 16,
   "metadata": {},
   "outputs": [
    {
     "data": {
      "text/plain": [
       "9538274"
      ]
     },
     "execution_count": 16,
     "metadata": {},
     "output_type": "execute_result"
    }
   ],
   "source": [
    "edits[edits['user_kind'] == 'account']['event_user_id'].sum()"
   ]
  },
  {
   "cell_type": "code",
   "execution_count": 17,
   "metadata": {},
   "outputs": [
    {
     "data": {
      "text/plain": [
       "4327908"
      ]
     },
     "execution_count": 17,
     "metadata": {},
     "output_type": "execute_result"
    }
   ],
   "source": [
    "edits[edits['user_kind'] == 'bot']['event_user_id'].sum()"
   ]
  },
  {
   "cell_type": "code",
   "execution_count": 18,
   "metadata": {},
   "outputs": [
    {
     "data": {
      "text/plain": [
       "3525634"
      ]
     },
     "execution_count": 18,
     "metadata": {},
     "output_type": "execute_result"
    }
   ],
   "source": [
    "edits[edits['user_kind'] == 'anonymous']['event_user_id'].sum()"
   ]
  },
  {
   "cell_type": "code",
   "execution_count": 10,
   "metadata": {},
   "outputs": [
    {
     "data": {
      "text/html": [
       "<div>\n",
       "<style scoped>\n",
       "    .dataframe tbody tr th:only-of-type {\n",
       "        vertical-align: middle;\n",
       "    }\n",
       "\n",
       "    .dataframe tbody tr th {\n",
       "        vertical-align: top;\n",
       "    }\n",
       "\n",
       "    .dataframe thead th {\n",
       "        text-align: right;\n",
       "    }\n",
       "</style>\n",
       "<table border=\"1\" class=\"dataframe\">\n",
       "  <thead>\n",
       "    <tr style=\"text-align: right;\">\n",
       "      <th></th>\n",
       "      <th>date</th>\n",
       "      <th>user_kind</th>\n",
       "      <th>revision_is_identity_revert</th>\n",
       "    </tr>\n",
       "  </thead>\n",
       "  <tbody>\n",
       "    <tr>\n",
       "      <th>18926</th>\n",
       "      <td>2021-01-29</td>\n",
       "      <td>bot</td>\n",
       "      <td>10</td>\n",
       "    </tr>\n",
       "    <tr>\n",
       "      <th>18927</th>\n",
       "      <td>2021-01-30</td>\n",
       "      <td>account</td>\n",
       "      <td>315</td>\n",
       "    </tr>\n",
       "    <tr>\n",
       "      <th>18928</th>\n",
       "      <td>2021-01-30</td>\n",
       "      <td>anonymous</td>\n",
       "      <td>26</td>\n",
       "    </tr>\n",
       "    <tr>\n",
       "      <th>18929</th>\n",
       "      <td>2021-01-30</td>\n",
       "      <td>bot</td>\n",
       "      <td>4</td>\n",
       "    </tr>\n",
       "    <tr>\n",
       "      <th>18930</th>\n",
       "      <td>2021-01-31</td>\n",
       "      <td>account</td>\n",
       "      <td>400</td>\n",
       "    </tr>\n",
       "    <tr>\n",
       "      <th>18931</th>\n",
       "      <td>2021-01-31</td>\n",
       "      <td>anonymous</td>\n",
       "      <td>9</td>\n",
       "    </tr>\n",
       "    <tr>\n",
       "      <th>18932</th>\n",
       "      <td>2021-01-31</td>\n",
       "      <td>bot</td>\n",
       "      <td>96</td>\n",
       "    </tr>\n",
       "    <tr>\n",
       "      <th>18933</th>\n",
       "      <td>2021-02-01</td>\n",
       "      <td>account</td>\n",
       "      <td>104</td>\n",
       "    </tr>\n",
       "    <tr>\n",
       "      <th>18934</th>\n",
       "      <td>2021-02-01</td>\n",
       "      <td>anonymous</td>\n",
       "      <td>3</td>\n",
       "    </tr>\n",
       "    <tr>\n",
       "      <th>18935</th>\n",
       "      <td>2021-02-01</td>\n",
       "      <td>bot</td>\n",
       "      <td>0</td>\n",
       "    </tr>\n",
       "  </tbody>\n",
       "</table>\n",
       "</div>"
      ],
      "text/plain": [
       "             date  user_kind  revision_is_identity_revert\n",
       "18926  2021-01-29        bot                           10\n",
       "18927  2021-01-30    account                          315\n",
       "18928  2021-01-30  anonymous                           26\n",
       "18929  2021-01-30        bot                            4\n",
       "18930  2021-01-31    account                          400\n",
       "18931  2021-01-31  anonymous                            9\n",
       "18932  2021-01-31        bot                           96\n",
       "18933  2021-02-01    account                          104\n",
       "18934  2021-02-01  anonymous                            3\n",
       "18935  2021-02-01        bot                            0"
      ]
     },
     "execution_count": 10,
     "metadata": {},
     "output_type": "execute_result"
    }
   ],
   "source": [
    "edits.tail(10)"
   ]
  },
  {
   "cell_type": "code",
   "execution_count": 42,
   "metadata": {},
   "outputs": [
    {
     "name": "stdout",
     "output_type": "stream",
     "text": [
      "GB\n",
      "United Kingdom\n",
      "M40\n",
      "Manchester\n",
      "Manchester\n",
      "53.5039\n",
      "-2.1959\n"
     ]
    }
   ],
   "source": [
    "reader = geoip2.database.Reader(f'{IP_DATA_PATH}GeoLite2-City.mmdb')\n",
    "response = reader.city('213.205.196.180')\n",
    "print(response.country.iso_code)\n",
    "print(response.country.name)\n",
    "print(response.postal.code)\n",
    "print(response.subdivisions.most_specific.name)\n",
    "print(response.city.name)\n",
    "print(response.location.latitude)\n",
    "print(response.location.longitude)"
   ]
  },
  {
   "cell_type": "code",
   "execution_count": null,
   "metadata": {},
   "outputs": [],
   "source": []
  }
 ],
 "metadata": {
  "kernelspec": {
   "display_name": "Python 3",
   "language": "python",
   "name": "python3"
  },
  "language_info": {
   "codemirror_mode": {
    "name": "ipython",
    "version": 3
   },
   "file_extension": ".py",
   "mimetype": "text/x-python",
   "name": "python",
   "nbconvert_exporter": "python",
   "pygments_lexer": "ipython3",
   "version": "3.7.7"
  }
 },
 "nbformat": 4,
 "nbformat_minor": 4
}
