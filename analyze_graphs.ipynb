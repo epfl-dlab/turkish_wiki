{
 "cells": [
  {
   "cell_type": "markdown",
   "metadata": {},
   "source": [
    "# Analyze graphs\n",
    "Logit regression on the graph obtained in ```get_graphs.ipynb``` to find relations between the different studied metrics."
   ]
  },
  {
   "cell_type": "code",
   "execution_count": 1,
   "metadata": {},
   "outputs": [],
   "source": [
    "import pandas as pd\n",
    "import numpy as np\n",
    "import statsmodels.api as sm\n",
    "import statsmodels.formula.api as smf"
   ]
  },
  {
   "cell_type": "code",
   "execution_count": 2,
   "metadata": {},
   "outputs": [],
   "source": [
    "DATA_PATH = '/dlabdata1/turkish_wiki/processed_data/'"
   ]
  },
  {
   "cell_type": "code",
   "execution_count": 11,
   "metadata": {},
   "outputs": [],
   "source": [
    "# Read the DataFrame\n",
    "pageset_edits = pd.read_csv(f'{DATA_PATH}/pageset_edits_pct.csv')\n",
    "pageset_edits['migrated'] = pageset_edits['migrated'].astype('float') \n",
    "pageset_edits = pageset_edits[pageset_edits['number_of_neighbors'] > 0]"
   ]
  },
  {
   "cell_type": "code",
   "execution_count": 14,
   "metadata": {},
   "outputs": [
    {
     "data": {
      "text/html": [
       "<div>\n",
       "<style scoped>\n",
       "    .dataframe tbody tr th:only-of-type {\n",
       "        vertical-align: middle;\n",
       "    }\n",
       "\n",
       "    .dataframe tbody tr th {\n",
       "        vertical-align: top;\n",
       "    }\n",
       "\n",
       "    .dataframe thead th {\n",
       "        text-align: right;\n",
       "    }\n",
       "</style>\n",
       "<table border=\"1\" class=\"dataframe\">\n",
       "  <thead>\n",
       "    <tr style=\"text-align: right;\">\n",
       "      <th></th>\n",
       "      <th>event_user_id</th>\n",
       "      <th>page_id</th>\n",
       "      <th>number_of_neighbors</th>\n",
       "      <th>centrality</th>\n",
       "      <th>migrated</th>\n",
       "      <th>migration_percentage</th>\n",
       "      <th>edits_per_day</th>\n",
       "    </tr>\n",
       "  </thead>\n",
       "  <tbody>\n",
       "    <tr>\n",
       "      <th>0</th>\n",
       "      <td>25</td>\n",
       "      <td>{815064, 222351}</td>\n",
       "      <td>5</td>\n",
       "      <td>0.000458</td>\n",
       "      <td>0.0</td>\n",
       "      <td>1.000000</td>\n",
       "      <td>0.002018</td>\n",
       "    </tr>\n",
       "    <tr>\n",
       "      <th>1</th>\n",
       "      <td>39</td>\n",
       "      <td>{9312, 1067105, 1571688, 644809, 414218, 18022...</td>\n",
       "      <td>178</td>\n",
       "      <td>0.006456</td>\n",
       "      <td>0.0</td>\n",
       "      <td>0.443820</td>\n",
       "      <td>0.014127</td>\n",
       "    </tr>\n",
       "    <tr>\n",
       "      <th>2</th>\n",
       "      <td>47</td>\n",
       "      <td>{1664134, 2124426, 2124428, 2124437, 61624}</td>\n",
       "      <td>12</td>\n",
       "      <td>0.000638</td>\n",
       "      <td>0.0</td>\n",
       "      <td>0.583333</td>\n",
       "      <td>0.007064</td>\n",
       "    </tr>\n",
       "    <tr>\n",
       "      <th>3</th>\n",
       "      <td>137</td>\n",
       "      <td>{647363, 473637, 1631751, 16958, 8148, 1908, 9...</td>\n",
       "      <td>98</td>\n",
       "      <td>0.004934</td>\n",
       "      <td>0.0</td>\n",
       "      <td>0.520408</td>\n",
       "      <td>0.010091</td>\n",
       "    </tr>\n",
       "    <tr>\n",
       "      <th>4</th>\n",
       "      <td>146</td>\n",
       "      <td>{518121, 554324, 919417}</td>\n",
       "      <td>11</td>\n",
       "      <td>0.000868</td>\n",
       "      <td>1.0</td>\n",
       "      <td>0.727273</td>\n",
       "      <td>0.003027</td>\n",
       "    </tr>\n",
       "  </tbody>\n",
       "</table>\n",
       "</div>"
      ],
      "text/plain": [
       "   event_user_id                                            page_id  \\\n",
       "0             25                                   {815064, 222351}   \n",
       "1             39  {9312, 1067105, 1571688, 644809, 414218, 18022...   \n",
       "2             47        {1664134, 2124426, 2124428, 2124437, 61624}   \n",
       "3            137  {647363, 473637, 1631751, 16958, 8148, 1908, 9...   \n",
       "4            146                           {518121, 554324, 919417}   \n",
       "\n",
       "   number_of_neighbors  centrality  migrated  migration_percentage  \\\n",
       "0                    5    0.000458       0.0              1.000000   \n",
       "1                  178    0.006456       0.0              0.443820   \n",
       "2                   12    0.000638       0.0              0.583333   \n",
       "3                   98    0.004934       0.0              0.520408   \n",
       "4                   11    0.000868       1.0              0.727273   \n",
       "\n",
       "   edits_per_day  \n",
       "0       0.002018  \n",
       "1       0.014127  \n",
       "2       0.007064  \n",
       "3       0.010091  \n",
       "4       0.003027  "
      ]
     },
     "execution_count": 14,
     "metadata": {},
     "output_type": "execute_result"
    }
   ],
   "source": [
    "pageset_edits.head()"
   ]
  },
  {
   "cell_type": "code",
   "execution_count": 39,
   "metadata": {},
   "outputs": [
    {
     "name": "stdout",
     "output_type": "stream",
     "text": [
      "Optimization terminated successfully.\n",
      "         Current function value: 0.216870\n",
      "         Iterations 9\n",
      "                           Logit Regression Results                           \n",
      "==============================================================================\n",
      "Dep. Variable:               migrated   No. Observations:                37012\n",
      "Model:                          Logit   Df Residuals:                    37007\n",
      "Method:                           MLE   Df Model:                            4\n",
      "Date:                Mon, 19 Apr 2021   Pseudo R-squ.:                 0.07520\n",
      "Time:                        15:35:18   Log-Likelihood:                -8026.8\n",
      "converged:                       True   LL-Null:                       -8679.5\n",
      "Covariance Type:            nonrobust   LLR p-value:                2.256e-281\n",
      "========================================================================================\n",
      "                           coef    std err          z      P>|z|      [0.025      0.975]\n",
      "----------------------------------------------------------------------------------------\n",
      "Intercept               -4.4790      0.099    -45.385      0.000      -4.672      -4.286\n",
      "migration_percentage     1.7958      0.125     14.366      0.000       1.551       2.041\n",
      "edits_per_day            0.4940      0.073      6.796      0.000       0.352       0.636\n",
      "number_of_neighbors     -0.0019      0.000    -16.402      0.000      -0.002      -0.002\n",
      "centrality             277.1382     10.876     25.481      0.000     255.821     298.455\n",
      "========================================================================================\n"
     ]
    }
   ],
   "source": [
    "mod = smf.logit(formula=f'migrated ~ migration_percentage + edits_per_day + number_of_neighbors + centrality',  data=pageset_edits)\n",
    "res = mod.fit()\n",
    "print(res.summary())"
   ]
  },
  {
   "cell_type": "markdown",
   "metadata": {},
   "source": [
    "All variables are significative with very small P values. We can see that all variables influence the migration of a user positively, except fot the number of neighbours. \n",
    "The results can be interpreted as:\n",
    "\n",
    "* A user is likelier to be active during the preblock period if its neighbours on the preblock graph were active during the block period.\n",
    "\n",
    "* A user is likelier to be active during the preblock period the more he edited in the preblock period.\n",
    "    \n",
    "* A user is likelier to be active during the preblock period if the user was central in the preblock graph.\n",
    "\n",
    "The fact that the coefficient for the number of neighbours is negative doesn't make much sense. We remove the centrality from the regression and fit again.\n",
    "    \n"
   ]
  },
  {
   "cell_type": "code",
   "execution_count": 41,
   "metadata": {},
   "outputs": [
    {
     "name": "stdout",
     "output_type": "stream",
     "text": [
      "Optimization terminated successfully.\n",
      "         Current function value: 0.224985\n",
      "         Iterations 9\n",
      "                           Logit Regression Results                           \n",
      "==============================================================================\n",
      "Dep. Variable:               migrated   No. Observations:                37012\n",
      "Model:                          Logit   Df Residuals:                    37008\n",
      "Method:                           MLE   Df Model:                            3\n",
      "Date:                Mon, 19 Apr 2021   Pseudo R-squ.:                 0.04060\n",
      "Time:                        15:36:04   Log-Likelihood:                -8327.1\n",
      "converged:                       True   LL-Null:                       -8679.5\n",
      "Covariance Type:            nonrobust   LLR p-value:                2.006e-152\n",
      "========================================================================================\n",
      "                           coef    std err          z      P>|z|      [0.025      0.975]\n",
      "----------------------------------------------------------------------------------------\n",
      "Intercept               -2.9709      0.062    -48.011      0.000      -3.092      -2.850\n",
      "migration_percentage     0.2240      0.094      2.393      0.017       0.041       0.407\n",
      "edits_per_day            0.3127      0.086      3.630      0.000       0.144       0.482\n",
      "number_of_neighbors      0.0009   8.21e-05     11.307      0.000       0.001       0.001\n",
      "========================================================================================\n"
     ]
    }
   ],
   "source": [
    "mod = smf.logit(formula='migrated ~ migration_percentage + edits_per_day + number_of_neighbors',  data=pageset_edits)\n",
    "res = mod.fit()\n",
    "print(res.summary())"
   ]
  },
  {
   "cell_type": "markdown",
   "metadata": {},
   "source": [
    "Now the number of neigbours is positively correlated to the survival of a user."
   ]
  }
 ],
 "metadata": {
  "kernelspec": {
   "display_name": "Python 3",
   "language": "python",
   "name": "python3"
  },
  "language_info": {
   "codemirror_mode": {
    "name": "ipython",
    "version": 3
   },
   "file_extension": ".py",
   "mimetype": "text/x-python",
   "name": "python",
   "nbconvert_exporter": "python",
   "pygments_lexer": "ipython3",
   "version": "3.7.7"
  }
 },
 "nbformat": 4,
 "nbformat_minor": 4
}
