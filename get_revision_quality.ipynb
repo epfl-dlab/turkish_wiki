{
 "cells": [
  {
   "cell_type": "code",
   "execution_count": 271,
   "metadata": {},
   "outputs": [],
   "source": [
    "import pandas as pd\n",
    "import numpy as np\n",
    "import requests\n",
    "import json\n",
    "from tqdm import tqdm"
   ]
  },
  {
   "cell_type": "markdown",
   "metadata": {},
   "source": [
    "## Get Revision Quality Scores.\n",
    "To analyze the shift in quality of Wikipedia articles, we can query Wikipedias internal tool ORES to get estimates of the quality of an article. For Turkish wiki, ORES implements three scoring algorithms namely ```articlequality```, ```damaging``` and ```goodfaith``` that we retrieve in this code. We are interested in revisions edits to articles so I restrict myself with the namespace ```0```, and I only take the relevant times of study, meaning the pre-block, block and the post-block periods defined before, to save time on the queries to the ORES API."
   ]
  },
  {
   "cell_type": "code",
   "execution_count": 4,
   "metadata": {},
   "outputs": [],
   "source": [
    "DATA_PATH = '/dlabdata1/turkish_wiki'"
   ]
  },
  {
   "cell_type": "code",
   "execution_count": 39,
   "metadata": {
    "collapsed": true,
    "jupyter": {
     "outputs_hidden": true
    }
   },
   "outputs": [
    {
     "name": "stderr",
     "output_type": "stream",
     "text": [
      "/opt/anaconda3/lib/python3.7/site-packages/IPython/core/interactiveshell.py:3063: DtypeWarning: Columns (50) have mixed types.Specify dtype option on import or set low_memory=False.\n",
      "  interactivity=interactivity, compiler=compiler, result=result)\n"
     ]
    }
   ],
   "source": [
    "# Retrieve revisions\n",
    "revisions =  pd.read_csv(f'{DATA_PATH}/revision_events.tsv.gz', sep=\"\\t\", usecols = ['event_entity', 'event_type', 'revision_id', 'event_timestamp', 'page_namespace', 'revision_is_identity_revert', 'event_user_id', 'event_user_is_bot_by'], error_bad_lines=False, warn_bad_lines=True, compression = 'gzip')"
   ]
  },
  {
   "cell_type": "code",
   "execution_count": null,
   "metadata": {},
   "outputs": [],
   "source": [
    "block_dates = [pd.to_datetime('2017-04-29', utc = True), pd.to_datetime('2020-01-15', utc = True)]\n",
    "blocked_days = (block_dates[1]-block_dates[0]).days"
   ]
  },
  {
   "cell_type": "code",
   "execution_count": 44,
   "metadata": {
    "collapsed": true,
    "jupyter": {
     "outputs_hidden": true
    }
   },
   "outputs": [],
   "source": [
    "# Filter revisions to get only those coming from non-bot users, \n",
    "# those who are in the main namespace 0 and those who are not reverts.\n",
    "create_revision_mask = (revisions.event_entity=='revision') & (revisions.event_type == 'create')\n",
    "ns_mask = revisions.page_namespace == 0\n",
    "norevert_mask = revisions.revision_is_identity_revert != True\n",
    "nobot_mask = revisions.event_user_is_bot_by.isna()\n",
    "\n",
    "revisions = revisions[create_revision_mask & ns_mask & nobot_mask & norevert_mask]\n",
    "revisions['event_timestamp'] = pd.to_datetime(revisions['event_timestamp'],  utc = True, errors = 'coerce')"
   ]
  },
  {
   "cell_type": "code",
   "execution_count": 47,
   "metadata": {},
   "outputs": [],
   "source": [
    "# Filter revisions who come before the ban, longer than the block period (991 days)\n",
    "revisions = revisions[revisions['event_timestamp'] >= (block_dates[0] - pd.Timedelta(days=blocked_days))]"
   ]
  },
  {
   "cell_type": "code",
   "execution_count": 50,
   "metadata": {},
   "outputs": [],
   "source": [
    "revisions.revision_id = revisions.revision_id.astype(int).astype(str)\n",
    "revision_ids = revisions.revision_id.values"
   ]
  },
  {
   "cell_type": "code",
   "execution_count": 244,
   "metadata": {},
   "outputs": [],
   "source": [
    "# The API Allows only chunks of 50 articles to be called at once, thus we use this method.\n",
    "def chunks(lst, n):\n",
    "    \"\"\"Yield successive n-sized chunks from lst.\"\"\"\n",
    "    for i in range(0, len(lst), n):\n",
    "        yield lst[i:i + n]"
   ]
  },
  {
   "cell_type": "code",
   "execution_count": 228,
   "metadata": {},
   "outputs": [],
   "source": [
    "# Lists to save the results of the three algorithms\n",
    "article_qualities = []\n",
    "damaging = []\n",
    "goodfaith = []"
   ]
  },
  {
   "cell_type": "code",
   "execution_count": null,
   "metadata": {},
   "outputs": [
    {
     "name": "stderr",
     "output_type": "stream",
     "text": [
      "\n",
      "0it [00:00, ?it/s]\u001b[A\n",
      "9513it [00:05, 1867.67it/s]\u001b[A\n",
      "9520it [00:30,  3.31s/it]  "
     ]
    }
   ],
   "source": [
    "for index, chunk in tqdm(enumerate(chunks(revision_ids, 50))):\n",
    "    \n",
    "    try:\n",
    "        # Query the API with 50 revision IDs\n",
    "        query = '|'.join(chunk)\n",
    "        response = requests.get(f'https://ores.wikimedia.org/scores/trwiki/?models=articlequality|damaging|goodfaith&revids={query}')\n",
    "        data = response.json()\n",
    "        \n",
    "        # Process the response and append to the lists\n",
    "        for elem in data:\n",
    "            quality = data[elem].get('articlequality').get('probability')\n",
    "            damage = data[elem].get('damaging').get('probability')\n",
    "            goodf = data[elem].get('goodfaith').get('probability')\n",
    "\n",
    "            if quality is not None:\n",
    "                article_qualities.append({\n",
    "                    \"rev_id\" : elem,\n",
    "                    \"quality\" : quality\n",
    "                })\n",
    "\n",
    "            if damage is not None:\n",
    "                damaging.append({\n",
    "                    \"rev_id\" : elem,\n",
    "                    \"damaging\" : damage\n",
    "                })\n",
    "\n",
    "            if goodf is not None:\n",
    "                goodfaith.append({\n",
    "                    \"rev_id\" : elem,\n",
    "                    \"goodfaith\" : goodf\n",
    "                })\n",
    "                \n",
    "        # Save the results every 1000 iterations         \n",
    "        if index % 1000 == 0:\n",
    "            with open(f\"{DATA_PATH}/article_quality.json\", \"w\") as outfile:\n",
    "                json.dump(article_qualities, outfile)\n",
    "            with open(f\"{DATA_PATH}/damaging.json\", \"w\") as outfile:\n",
    "                json.dump(damaging, outfile)\n",
    "            with open(f\"{DATA_PATH}/goodfaith.json\", \"w\") as outfile:\n",
    "                json.dump(goodfaith, outfile)\n",
    "    except:\n",
    "        continue\n"
   ]
  },
  {
   "cell_type": "code",
   "execution_count": 243,
   "metadata": {},
   "outputs": [],
   "source": [
    "# Save the results one last time\n",
    "with open(f\"{DATA_PATH}/article_quality.json\", \"w\") as outfile:\n",
    "    json.dump(article_qualities, outfile)\n",
    "with open(f\"{DATA_PATH}/damaging.json\", \"w\") as outfile:\n",
    "    json.dump(damaging, outfile)\n",
    "with open(f\"{DATA_PATH}/goodfaith.json\", \"w\") as outfile:\n",
    "    json.dump(goodfaith, outfile)"
   ]
  },
  {
   "cell_type": "code",
   "execution_count": 255,
   "metadata": {},
   "outputs": [],
   "source": [
    "df_article_quality = pd.DataFrame(article_qualities)\n",
    "df_damaging = pd.DataFrame(damaging)\n",
    "df_goodfaith = pd.DataFrame(goodfaith)"
   ]
  },
  {
   "cell_type": "code",
   "execution_count": 274,
   "metadata": {},
   "outputs": [],
   "source": [
    "df_article_quality[['b', 'baslagıç', 'c', 'km', 'sm', 'taslak']] = df_article_quality.quality.apply(pd.Series)"
   ]
  },
  {
   "cell_type": "code",
   "execution_count": 275,
   "metadata": {},
   "outputs": [],
   "source": [
    "df_damaging[['false', 'true']] = df_damaging.damaging.apply(pd.Series)"
   ]
  },
  {
   "cell_type": "code",
   "execution_count": 276,
   "metadata": {},
   "outputs": [],
   "source": [
    "df_goodfaith[['false', 'true']] = df_goodfaith.goodfaith.apply(pd.Series)"
   ]
  },
  {
   "cell_type": "code",
   "execution_count": 277,
   "metadata": {},
   "outputs": [
    {
     "data": {
      "text/html": [
       "<div>\n",
       "<style scoped>\n",
       "    .dataframe tbody tr th:only-of-type {\n",
       "        vertical-align: middle;\n",
       "    }\n",
       "\n",
       "    .dataframe tbody tr th {\n",
       "        vertical-align: top;\n",
       "    }\n",
       "\n",
       "    .dataframe thead th {\n",
       "        text-align: right;\n",
       "    }\n",
       "</style>\n",
       "<table border=\"1\" class=\"dataframe\">\n",
       "  <thead>\n",
       "    <tr style=\"text-align: right;\">\n",
       "      <th></th>\n",
       "      <th>rev_id</th>\n",
       "      <th>goodfaith</th>\n",
       "      <th>false</th>\n",
       "      <th>true</th>\n",
       "    </tr>\n",
       "  </thead>\n",
       "  <tbody>\n",
       "    <tr>\n",
       "      <th>0</th>\n",
       "      <td>14613355</td>\n",
       "      <td>{'false': 0.7179449317240227, 'true': 0.282055...</td>\n",
       "      <td>0.717945</td>\n",
       "      <td>0.282055</td>\n",
       "    </tr>\n",
       "    <tr>\n",
       "      <th>1</th>\n",
       "      <td>14613357</td>\n",
       "      <td>{'false': 0.7522729475492588, 'true': 0.247727...</td>\n",
       "      <td>0.752273</td>\n",
       "      <td>0.247727</td>\n",
       "    </tr>\n",
       "    <tr>\n",
       "      <th>2</th>\n",
       "      <td>14613359</td>\n",
       "      <td>{'false': 0.8090542141849668, 'true': 0.190945...</td>\n",
       "      <td>0.809054</td>\n",
       "      <td>0.190946</td>\n",
       "    </tr>\n",
       "    <tr>\n",
       "      <th>3</th>\n",
       "      <td>14613360</td>\n",
       "      <td>{'false': 0.010182771859936657, 'true': 0.9898...</td>\n",
       "      <td>0.010183</td>\n",
       "      <td>0.989817</td>\n",
       "    </tr>\n",
       "    <tr>\n",
       "      <th>4</th>\n",
       "      <td>14613363</td>\n",
       "      <td>{'false': 0.015441106549229366, 'true': 0.9845...</td>\n",
       "      <td>0.015441</td>\n",
       "      <td>0.984559</td>\n",
       "    </tr>\n",
       "    <tr>\n",
       "      <th>...</th>\n",
       "      <td>...</td>\n",
       "      <td>...</td>\n",
       "      <td>...</td>\n",
       "      <td>...</td>\n",
       "    </tr>\n",
       "    <tr>\n",
       "      <th>5037300</th>\n",
       "      <td>24769173</td>\n",
       "      <td>{'false': 0.03215497220448493, 'true': 0.96784...</td>\n",
       "      <td>0.032155</td>\n",
       "      <td>0.967845</td>\n",
       "    </tr>\n",
       "    <tr>\n",
       "      <th>5037301</th>\n",
       "      <td>24769174</td>\n",
       "      <td>{'false': 0.011484112002788427, 'true': 0.9885...</td>\n",
       "      <td>0.011484</td>\n",
       "      <td>0.988516</td>\n",
       "    </tr>\n",
       "    <tr>\n",
       "      <th>5037302</th>\n",
       "      <td>24769175</td>\n",
       "      <td>{'false': 0.020319365225920927, 'true': 0.9796...</td>\n",
       "      <td>0.020319</td>\n",
       "      <td>0.979681</td>\n",
       "    </tr>\n",
       "    <tr>\n",
       "      <th>5037303</th>\n",
       "      <td>24769176</td>\n",
       "      <td>{'false': 0.17059470815317868, 'true': 0.82940...</td>\n",
       "      <td>0.170595</td>\n",
       "      <td>0.829405</td>\n",
       "    </tr>\n",
       "    <tr>\n",
       "      <th>5037304</th>\n",
       "      <td>24769177</td>\n",
       "      <td>{'false': 0.011590805756878542, 'true': 0.9884...</td>\n",
       "      <td>0.011591</td>\n",
       "      <td>0.988409</td>\n",
       "    </tr>\n",
       "  </tbody>\n",
       "</table>\n",
       "<p>5037305 rows × 4 columns</p>\n",
       "</div>"
      ],
      "text/plain": [
       "           rev_id                                          goodfaith  \\\n",
       "0        14613355  {'false': 0.7179449317240227, 'true': 0.282055...   \n",
       "1        14613357  {'false': 0.7522729475492588, 'true': 0.247727...   \n",
       "2        14613359  {'false': 0.8090542141849668, 'true': 0.190945...   \n",
       "3        14613360  {'false': 0.010182771859936657, 'true': 0.9898...   \n",
       "4        14613363  {'false': 0.015441106549229366, 'true': 0.9845...   \n",
       "...           ...                                                ...   \n",
       "5037300  24769173  {'false': 0.03215497220448493, 'true': 0.96784...   \n",
       "5037301  24769174  {'false': 0.011484112002788427, 'true': 0.9885...   \n",
       "5037302  24769175  {'false': 0.020319365225920927, 'true': 0.9796...   \n",
       "5037303  24769176  {'false': 0.17059470815317868, 'true': 0.82940...   \n",
       "5037304  24769177  {'false': 0.011590805756878542, 'true': 0.9884...   \n",
       "\n",
       "            false      true  \n",
       "0        0.717945  0.282055  \n",
       "1        0.752273  0.247727  \n",
       "2        0.809054  0.190946  \n",
       "3        0.010183  0.989817  \n",
       "4        0.015441  0.984559  \n",
       "...           ...       ...  \n",
       "5037300  0.032155  0.967845  \n",
       "5037301  0.011484  0.988516  \n",
       "5037302  0.020319  0.979681  \n",
       "5037303  0.170595  0.829405  \n",
       "5037304  0.011591  0.988409  \n",
       "\n",
       "[5037305 rows x 4 columns]"
      ]
     },
     "execution_count": 277,
     "metadata": {},
     "output_type": "execute_result"
    }
   ],
   "source": [
    "df_goodfaith"
   ]
  },
  {
   "cell_type": "code",
   "execution_count": null,
   "metadata": {},
   "outputs": [],
   "source": []
  }
 ],
 "metadata": {
  "kernelspec": {
   "display_name": "Python 3",
   "language": "python",
   "name": "python3"
  },
  "language_info": {
   "codemirror_mode": {
    "name": "ipython",
    "version": 3
   },
   "file_extension": ".py",
   "mimetype": "text/x-python",
   "name": "python",
   "nbconvert_exporter": "python",
   "pygments_lexer": "ipython3",
   "version": "3.7.7"
  }
 },
 "nbformat": 4,
 "nbformat_minor": 4
}
