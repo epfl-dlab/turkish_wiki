{
 "cells": [
  {
   "cell_type": "markdown",
   "metadata": {},
   "source": [
    "# Activity plots\n",
    "Changes the activity characterization implemented in ```community.ipynb``` and analyses changes in user activities."
   ]
  },
  {
   "cell_type": "code",
   "execution_count": 1,
   "metadata": {},
   "outputs": [],
   "source": [
    "import pandas as pd\n",
    "import numpy as np\n",
    "import matplotlib.pyplot as plt\n",
    "import seaborn as sns"
   ]
  },
  {
   "cell_type": "code",
   "execution_count": 2,
   "metadata": {},
   "outputs": [],
   "source": [
    "DATA_PATH = '/dlabdata1/turkish_wiki'"
   ]
  },
  {
   "cell_type": "markdown",
   "metadata": {},
   "source": [
    "# Preprocessing edits for analysis"
   ]
  },
  {
   "cell_type": "code",
   "execution_count": 3,
   "metadata": {},
   "outputs": [
    {
     "name": "stderr",
     "output_type": "stream",
     "text": [
      "/opt/anaconda3/lib/python3.7/site-packages/IPython/core/interactiveshell.py:3063: DtypeWarning: Columns (10,13) have mixed types.Specify dtype option on import or set low_memory=False.\n",
      "  interactivity=interactivity, compiler=compiler, result=result)\n"
     ]
    }
   ],
   "source": [
    "edits = pd.read_csv(f'{DATA_PATH}/processed_data/account_edits.csv', usecols=['event_user_id', 'event_timestamp', 'page_id','page_revision_count', \n",
    "               'revision_minor_edit', 'revision_text_bytes','revision_is_identity_revert'], index_col = 0)"
   ]
  },
  {
   "cell_type": "code",
   "execution_count": 4,
   "metadata": {},
   "outputs": [],
   "source": [
    "edits = edits.reset_index()\n",
    "edits = edits[['event_user_id', 'event_timestamp', 'page_id','page_revision_count', \n",
    "               'revision_minor_edit', 'revision_text_bytes','revision_is_identity_revert']]\n",
    "edits[['revision_minor_edit','revision_is_identity_revert']] = edits[['revision_minor_edit','revision_is_identity_revert']].convert_dtypes()\n",
    "edits['event_timestamp'] = pd.to_datetime(edits['event_timestamp'],   utc = True)"
   ]
  },
  {
   "cell_type": "code",
   "execution_count": 5,
   "metadata": {},
   "outputs": [],
   "source": [
    "block_dates = [pd.to_datetime('2017-04-29', utc = True), pd.to_datetime('2020-01-15 19:00', utc = True)]"
   ]
  },
  {
   "cell_type": "markdown",
   "metadata": {},
   "source": [
    "# Characterize blocked users\n",
    "## 1) Change binning\n",
    "Instead of putting users in bins by predefined edit numbers, I look at different percentiles of daily edits of users in the preblock period. I bin them in 5 categories based on their daily edits percentile:\n",
    "* Daily edits between 0 and 25 percentile\n",
    "* Daily edits between 25 and 50 percentile\n",
    "* Daily edits between 50 and 75 percentile\n",
    "* Daily edits between 75 and 99 percentile\n",
    "* Daily edits between 99 and 100 percentile"
   ]
  },
  {
   "cell_type": "code",
   "execution_count": 6,
   "metadata": {},
   "outputs": [],
   "source": [
    "blocked_days = (block_dates[1] - block_dates[0]).days"
   ]
  },
  {
   "cell_type": "code",
   "execution_count": 7,
   "metadata": {},
   "outputs": [],
   "source": [
    "preblock_edit_counts = edits[(edits['event_timestamp'] >= block_dates[0] - pd.Timedelta(days=blocked_days)) & (edits['event_timestamp'] < block_dates[0])].groupby('event_user_id').agg(\n",
    "        {'event_timestamp': ['min', 'max'],'revision_minor_edit': 'size'}).reset_index()"
   ]
  },
  {
   "cell_type": "code",
   "execution_count": 8,
   "metadata": {},
   "outputs": [],
   "source": [
    "block_edit_counts = edits[(edits['event_timestamp'] >= block_dates[0]) & (edits['event_timestamp'] < block_dates[1])].groupby('event_user_id').agg(\n",
    "        {'event_timestamp': ['min', 'max'],'revision_minor_edit': 'size'}).reset_index()"
   ]
  },
  {
   "cell_type": "code",
   "execution_count": 9,
   "metadata": {},
   "outputs": [],
   "source": [
    "preblock_edit_counts.columns = ['user_id','first_edit_before_block', 'last_edit_before_block', 'number_of_edits']\n",
    "block_edit_counts.columns = ['user_id', 'first_edit_during_block', 'last_edit_during_block', 'number_of_edits']"
   ]
  },
  {
   "cell_type": "code",
   "execution_count": 10,
   "metadata": {},
   "outputs": [
    {
     "data": {
      "text/html": [
       "<div>\n",
       "<style scoped>\n",
       "    .dataframe tbody tr th:only-of-type {\n",
       "        vertical-align: middle;\n",
       "    }\n",
       "\n",
       "    .dataframe tbody tr th {\n",
       "        vertical-align: top;\n",
       "    }\n",
       "\n",
       "    .dataframe thead th {\n",
       "        text-align: right;\n",
       "    }\n",
       "</style>\n",
       "<table border=\"1\" class=\"dataframe\">\n",
       "  <thead>\n",
       "    <tr style=\"text-align: right;\">\n",
       "      <th></th>\n",
       "      <th>user_id</th>\n",
       "      <th>first_edit_before_block</th>\n",
       "      <th>last_edit_before_block</th>\n",
       "      <th>number_of_edits</th>\n",
       "    </tr>\n",
       "  </thead>\n",
       "  <tbody>\n",
       "    <tr>\n",
       "      <th>10332</th>\n",
       "      <td>573665</td>\n",
       "      <td>2014-08-12 21:22:49+00:00</td>\n",
       "      <td>2017-04-28 21:16:47+00:00</td>\n",
       "      <td>222814</td>\n",
       "    </tr>\n",
       "    <tr>\n",
       "      <th>1105</th>\n",
       "      <td>90501</td>\n",
       "      <td>2014-08-14 19:22:44+00:00</td>\n",
       "      <td>2017-04-28 22:04:57+00:00</td>\n",
       "      <td>216000</td>\n",
       "    </tr>\n",
       "    <tr>\n",
       "      <th>2800</th>\n",
       "      <td>221544</td>\n",
       "      <td>2014-08-12 13:00:53+00:00</td>\n",
       "      <td>2017-04-28 19:06:33+00:00</td>\n",
       "      <td>73737</td>\n",
       "    </tr>\n",
       "    <tr>\n",
       "      <th>1061</th>\n",
       "      <td>86010</td>\n",
       "      <td>2014-08-12 02:06:07+00:00</td>\n",
       "      <td>2017-04-28 21:23:09+00:00</td>\n",
       "      <td>47235</td>\n",
       "    </tr>\n",
       "    <tr>\n",
       "      <th>1471</th>\n",
       "      <td>123656</td>\n",
       "      <td>2014-08-12 08:53:00+00:00</td>\n",
       "      <td>2017-04-28 20:42:54+00:00</td>\n",
       "      <td>35633</td>\n",
       "    </tr>\n",
       "    <tr>\n",
       "      <th>...</th>\n",
       "      <td>...</td>\n",
       "      <td>...</td>\n",
       "      <td>...</td>\n",
       "      <td>...</td>\n",
       "    </tr>\n",
       "    <tr>\n",
       "      <th>46323</th>\n",
       "      <td>842788</td>\n",
       "      <td>2016-03-06 16:35:28+00:00</td>\n",
       "      <td>2016-03-06 16:35:28+00:00</td>\n",
       "      <td>1</td>\n",
       "    </tr>\n",
       "    <tr>\n",
       "      <th>46322</th>\n",
       "      <td>842779</td>\n",
       "      <td>2016-02-14 18:12:52+00:00</td>\n",
       "      <td>2016-02-14 18:12:52+00:00</td>\n",
       "      <td>1</td>\n",
       "    </tr>\n",
       "    <tr>\n",
       "      <th>46321</th>\n",
       "      <td>842773</td>\n",
       "      <td>2016-02-14 18:05:50+00:00</td>\n",
       "      <td>2016-02-14 18:05:50+00:00</td>\n",
       "      <td>1</td>\n",
       "    </tr>\n",
       "    <tr>\n",
       "      <th>21400</th>\n",
       "      <td>675719</td>\n",
       "      <td>2015-01-21 19:13:52+00:00</td>\n",
       "      <td>2015-01-21 19:13:52+00:00</td>\n",
       "      <td>1</td>\n",
       "    </tr>\n",
       "    <tr>\n",
       "      <th>34413</th>\n",
       "      <td>770939</td>\n",
       "      <td>2015-07-14 18:30:07+00:00</td>\n",
       "      <td>2015-07-14 18:30:07+00:00</td>\n",
       "      <td>1</td>\n",
       "    </tr>\n",
       "  </tbody>\n",
       "</table>\n",
       "<p>68827 rows × 4 columns</p>\n",
       "</div>"
      ],
      "text/plain": [
       "       user_id   first_edit_before_block    last_edit_before_block  \\\n",
       "10332   573665 2014-08-12 21:22:49+00:00 2017-04-28 21:16:47+00:00   \n",
       "1105     90501 2014-08-14 19:22:44+00:00 2017-04-28 22:04:57+00:00   \n",
       "2800    221544 2014-08-12 13:00:53+00:00 2017-04-28 19:06:33+00:00   \n",
       "1061     86010 2014-08-12 02:06:07+00:00 2017-04-28 21:23:09+00:00   \n",
       "1471    123656 2014-08-12 08:53:00+00:00 2017-04-28 20:42:54+00:00   \n",
       "...        ...                       ...                       ...   \n",
       "46323   842788 2016-03-06 16:35:28+00:00 2016-03-06 16:35:28+00:00   \n",
       "46322   842779 2016-02-14 18:12:52+00:00 2016-02-14 18:12:52+00:00   \n",
       "46321   842773 2016-02-14 18:05:50+00:00 2016-02-14 18:05:50+00:00   \n",
       "21400   675719 2015-01-21 19:13:52+00:00 2015-01-21 19:13:52+00:00   \n",
       "34413   770939 2015-07-14 18:30:07+00:00 2015-07-14 18:30:07+00:00   \n",
       "\n",
       "       number_of_edits  \n",
       "10332           222814  \n",
       "1105            216000  \n",
       "2800             73737  \n",
       "1061             47235  \n",
       "1471             35633  \n",
       "...                ...  \n",
       "46323                1  \n",
       "46322                1  \n",
       "46321                1  \n",
       "21400                1  \n",
       "34413                1  \n",
       "\n",
       "[68827 rows x 4 columns]"
      ]
     },
     "execution_count": 10,
     "metadata": {},
     "output_type": "execute_result"
    }
   ],
   "source": [
    "preblock_edit_counts.sort_values('number_of_edits', ascending = False)"
   ]
  },
  {
   "cell_type": "markdown",
   "metadata": {},
   "source": [
    "## Editor activity levels"
   ]
  },
  {
   "cell_type": "code",
   "execution_count": 11,
   "metadata": {},
   "outputs": [],
   "source": [
    "preblock_edit_counts['edits_per_day'] = preblock_edit_counts['number_of_edits']/(blocked_days)"
   ]
  },
  {
   "cell_type": "code",
   "execution_count": 12,
   "metadata": {},
   "outputs": [
    {
     "data": {
      "text/html": [
       "<div>\n",
       "<style scoped>\n",
       "    .dataframe tbody tr th:only-of-type {\n",
       "        vertical-align: middle;\n",
       "    }\n",
       "\n",
       "    .dataframe tbody tr th {\n",
       "        vertical-align: top;\n",
       "    }\n",
       "\n",
       "    .dataframe thead th {\n",
       "        text-align: right;\n",
       "    }\n",
       "</style>\n",
       "<table border=\"1\" class=\"dataframe\">\n",
       "  <thead>\n",
       "    <tr style=\"text-align: right;\">\n",
       "      <th></th>\n",
       "      <th>user_id</th>\n",
       "      <th>first_edit_before_block</th>\n",
       "      <th>last_edit_before_block</th>\n",
       "      <th>number_of_edits</th>\n",
       "      <th>edits_per_day</th>\n",
       "    </tr>\n",
       "  </thead>\n",
       "  <tbody>\n",
       "    <tr>\n",
       "      <th>0</th>\n",
       "      <td>25</td>\n",
       "      <td>2014-11-17 07:39:39+00:00</td>\n",
       "      <td>2016-09-15 08:51:50+00:00</td>\n",
       "      <td>2</td>\n",
       "      <td>0.002018</td>\n",
       "    </tr>\n",
       "    <tr>\n",
       "      <th>1</th>\n",
       "      <td>39</td>\n",
       "      <td>2015-07-08 11:00:43+00:00</td>\n",
       "      <td>2017-03-16 10:51:19+00:00</td>\n",
       "      <td>14</td>\n",
       "      <td>0.014127</td>\n",
       "    </tr>\n",
       "    <tr>\n",
       "      <th>2</th>\n",
       "      <td>47</td>\n",
       "      <td>2016-07-01 08:19:57+00:00</td>\n",
       "      <td>2016-07-01 08:53:14+00:00</td>\n",
       "      <td>7</td>\n",
       "      <td>0.007064</td>\n",
       "    </tr>\n",
       "    <tr>\n",
       "      <th>3</th>\n",
       "      <td>89</td>\n",
       "      <td>2016-09-14 13:27:45+00:00</td>\n",
       "      <td>2016-09-14 13:27:45+00:00</td>\n",
       "      <td>1</td>\n",
       "      <td>0.001009</td>\n",
       "    </tr>\n",
       "    <tr>\n",
       "      <th>4</th>\n",
       "      <td>137</td>\n",
       "      <td>2014-12-03 09:29:04+00:00</td>\n",
       "      <td>2016-08-24 09:13:13+00:00</td>\n",
       "      <td>10</td>\n",
       "      <td>0.010091</td>\n",
       "    </tr>\n",
       "    <tr>\n",
       "      <th>...</th>\n",
       "      <td>...</td>\n",
       "      <td>...</td>\n",
       "      <td>...</td>\n",
       "      <td>...</td>\n",
       "      <td>...</td>\n",
       "    </tr>\n",
       "    <tr>\n",
       "      <th>68822</th>\n",
       "      <td>964220</td>\n",
       "      <td>2017-04-28 21:44:27+00:00</td>\n",
       "      <td>2017-04-28 21:44:27+00:00</td>\n",
       "      <td>1</td>\n",
       "      <td>0.001009</td>\n",
       "    </tr>\n",
       "    <tr>\n",
       "      <th>68823</th>\n",
       "      <td>964228</td>\n",
       "      <td>2017-04-28 22:33:28+00:00</td>\n",
       "      <td>2017-04-28 22:33:28+00:00</td>\n",
       "      <td>1</td>\n",
       "      <td>0.001009</td>\n",
       "    </tr>\n",
       "    <tr>\n",
       "      <th>68824</th>\n",
       "      <td>964229</td>\n",
       "      <td>2017-04-28 22:23:20+00:00</td>\n",
       "      <td>2017-04-28 22:23:20+00:00</td>\n",
       "      <td>1</td>\n",
       "      <td>0.001009</td>\n",
       "    </tr>\n",
       "    <tr>\n",
       "      <th>68825</th>\n",
       "      <td>964230</td>\n",
       "      <td>2017-04-28 22:46:12+00:00</td>\n",
       "      <td>2017-04-28 22:52:38+00:00</td>\n",
       "      <td>3</td>\n",
       "      <td>0.003027</td>\n",
       "    </tr>\n",
       "    <tr>\n",
       "      <th>68826</th>\n",
       "      <td>964234</td>\n",
       "      <td>2017-04-28 22:48:40+00:00</td>\n",
       "      <td>2017-04-28 22:59:47+00:00</td>\n",
       "      <td>7</td>\n",
       "      <td>0.007064</td>\n",
       "    </tr>\n",
       "  </tbody>\n",
       "</table>\n",
       "<p>68827 rows × 5 columns</p>\n",
       "</div>"
      ],
      "text/plain": [
       "       user_id   first_edit_before_block    last_edit_before_block  \\\n",
       "0           25 2014-11-17 07:39:39+00:00 2016-09-15 08:51:50+00:00   \n",
       "1           39 2015-07-08 11:00:43+00:00 2017-03-16 10:51:19+00:00   \n",
       "2           47 2016-07-01 08:19:57+00:00 2016-07-01 08:53:14+00:00   \n",
       "3           89 2016-09-14 13:27:45+00:00 2016-09-14 13:27:45+00:00   \n",
       "4          137 2014-12-03 09:29:04+00:00 2016-08-24 09:13:13+00:00   \n",
       "...        ...                       ...                       ...   \n",
       "68822   964220 2017-04-28 21:44:27+00:00 2017-04-28 21:44:27+00:00   \n",
       "68823   964228 2017-04-28 22:33:28+00:00 2017-04-28 22:33:28+00:00   \n",
       "68824   964229 2017-04-28 22:23:20+00:00 2017-04-28 22:23:20+00:00   \n",
       "68825   964230 2017-04-28 22:46:12+00:00 2017-04-28 22:52:38+00:00   \n",
       "68826   964234 2017-04-28 22:48:40+00:00 2017-04-28 22:59:47+00:00   \n",
       "\n",
       "       number_of_edits  edits_per_day  \n",
       "0                    2       0.002018  \n",
       "1                   14       0.014127  \n",
       "2                    7       0.007064  \n",
       "3                    1       0.001009  \n",
       "4                   10       0.010091  \n",
       "...                ...            ...  \n",
       "68822                1       0.001009  \n",
       "68823                1       0.001009  \n",
       "68824                1       0.001009  \n",
       "68825                3       0.003027  \n",
       "68826                7       0.007064  \n",
       "\n",
       "[68827 rows x 5 columns]"
      ]
     },
     "execution_count": 12,
     "metadata": {},
     "output_type": "execute_result"
    }
   ],
   "source": [
    "preblock_edit_counts"
   ]
  },
  {
   "cell_type": "code",
   "execution_count": 13,
   "metadata": {},
   "outputs": [],
   "source": [
    "# Filter users who only have 1 edit\n",
    "preblock_edit_counts = preblock_edit_counts[preblock_edit_counts['number_of_edits'] > 1]"
   ]
  },
  {
   "cell_type": "code",
   "execution_count": 14,
   "metadata": {},
   "outputs": [],
   "source": [
    "summary_stats = preblock_edit_counts.edits_per_day.describe(percentiles=[0.25, 0.5, 0.75, 0.99])"
   ]
  },
  {
   "cell_type": "code",
   "execution_count": 15,
   "metadata": {},
   "outputs": [
    {
     "data": {
      "text/plain": [
       "count    39467.000000\n",
       "mean         0.052612\n",
       "std          1.737151\n",
       "min          0.002018\n",
       "25%          0.002018\n",
       "50%          0.003027\n",
       "75%          0.007064\n",
       "99%          0.341070\n",
       "max        224.837538\n",
       "Name: edits_per_day, dtype: float64"
      ]
     },
     "execution_count": 15,
     "metadata": {},
     "output_type": "execute_result"
    }
   ],
   "source": [
    "summary_stats"
   ]
  },
  {
   "cell_type": "code",
   "execution_count": 16,
   "metadata": {},
   "outputs": [],
   "source": [
    "bins = [0] +list(summary_stats.values[4:9])"
   ]
  },
  {
   "cell_type": "code",
   "execution_count": 17,
   "metadata": {},
   "outputs": [
    {
     "name": "stderr",
     "output_type": "stream",
     "text": [
      "/opt/anaconda3/lib/python3.7/site-packages/ipykernel_launcher.py:1: SettingWithCopyWarning: \n",
      "A value is trying to be set on a copy of a slice from a DataFrame.\n",
      "Try using .loc[row_indexer,col_indexer] = value instead\n",
      "\n",
      "See the caveats in the documentation: https://pandas.pydata.org/pandas-docs/stable/user_guide/indexing.html#returning-a-view-versus-a-copy\n",
      "  \"\"\"Entry point for launching an IPython kernel.\n"
     ]
    }
   ],
   "source": [
    "preblock_edit_counts['preblock_daily_edit_category'] = pd.cut(preblock_edit_counts.edits_per_day, bins, right=True)"
   ]
  },
  {
   "cell_type": "code",
   "execution_count": 18,
   "metadata": {},
   "outputs": [
    {
     "data": {
      "text/plain": [
       "[(0.0, 0.00202], (0.00706, 0.341], (0.00303, 0.00706], (0.00202, 0.00303], (0.341, 224.838]]\n",
       "Categories (5, interval[float64]): [(0.0, 0.00202] < (0.00202, 0.00303] < (0.00303, 0.00706] < (0.00706, 0.341] < (0.341, 224.838]]"
      ]
     },
     "execution_count": 18,
     "metadata": {},
     "output_type": "execute_result"
    }
   ],
   "source": [
    "preblock_edit_counts.preblock_daily_edit_category.unique()"
   ]
  },
  {
   "cell_type": "markdown",
   "metadata": {},
   "source": [
    "## Analysing daily user activity by preblock activity levels\n",
    "A user is defined as active on a given day if the user makes an edit during that day."
   ]
  },
  {
   "cell_type": "code",
   "execution_count": 19,
   "metadata": {},
   "outputs": [],
   "source": [
    "daily_active_users = edits.set_index('event_timestamp').groupby([pd.Grouper(freq= 'D')]).event_user_id.nunique()"
   ]
  },
  {
   "cell_type": "code",
   "execution_count": 20,
   "metadata": {},
   "outputs": [],
   "source": [
    "daily_active_users = daily_active_users.reset_index()"
   ]
  },
  {
   "cell_type": "code",
   "execution_count": 21,
   "metadata": {},
   "outputs": [],
   "source": [
    "daily_active_users = daily_active_users[daily_active_users['event_timestamp'] >= block_dates[0]-pd.Timedelta(days=blocked_days)]"
   ]
  },
  {
   "cell_type": "code",
   "execution_count": 22,
   "metadata": {},
   "outputs": [
    {
     "data": {
      "image/png": "[encoded data removed]",
      "text/plain": [
       "<Figure size 1152x288 with 1 Axes>"
      ]
     },
     "metadata": {
      "needs_background": "light"
     },
     "output_type": "display_data"
    }
   ],
   "source": [
    "plt.figure(figsize=(16,4))\n",
    "plt.title(\"Daily active users to Turkish Wikipedia\")\n",
    "rolling_mean = daily_active_users.rolling(window=7).mean()\n",
    "plt.plot(daily_active_users.event_timestamp.values, rolling_mean, color='blue', lw=0.5)\n",
    "plt.ylabel(\"Number of active users\")\n",
    "plt.xlabel(\"Day\")\n",
    "# for date in block_dates:\n",
    "#     plt.axvline(date)\n",
    "plt.show()"
   ]
  },
  {
   "cell_type": "code",
   "execution_count": 23,
   "metadata": {},
   "outputs": [],
   "source": [
    "daily_active_users['period'] = daily_active_users.apply(lambda row: 'pre-block' if row['event_timestamp'] < block_dates[0] else 'block' if not row['event_timestamp'] >= block_dates[1] else 'after-block', axis=1)"
   ]
  },
  {
   "cell_type": "code",
   "execution_count": 24,
   "metadata": {},
   "outputs": [
    {
     "data": {
      "text/html": [
       "<div>\n",
       "<style scoped>\n",
       "    .dataframe tbody tr th:only-of-type {\n",
       "        vertical-align: middle;\n",
       "    }\n",
       "\n",
       "    .dataframe tbody tr th {\n",
       "        vertical-align: top;\n",
       "    }\n",
       "\n",
       "    .dataframe thead tr th {\n",
       "        text-align: left;\n",
       "    }\n",
       "\n",
       "    .dataframe thead tr:last-of-type th {\n",
       "        text-align: right;\n",
       "    }\n",
       "</style>\n",
       "<table border=\"1\" class=\"dataframe\">\n",
       "  <thead>\n",
       "    <tr>\n",
       "      <th></th>\n",
       "      <th colspan=\"8\" halign=\"left\">event_user_id</th>\n",
       "    </tr>\n",
       "    <tr>\n",
       "      <th></th>\n",
       "      <th>count</th>\n",
       "      <th>mean</th>\n",
       "      <th>std</th>\n",
       "      <th>min</th>\n",
       "      <th>25%</th>\n",
       "      <th>50%</th>\n",
       "      <th>75%</th>\n",
       "      <th>max</th>\n",
       "    </tr>\n",
       "    <tr>\n",
       "      <th>period</th>\n",
       "      <th></th>\n",
       "      <th></th>\n",
       "      <th></th>\n",
       "      <th></th>\n",
       "      <th></th>\n",
       "      <th></th>\n",
       "      <th></th>\n",
       "      <th></th>\n",
       "    </tr>\n",
       "  </thead>\n",
       "  <tbody>\n",
       "    <tr>\n",
       "      <th>after-block</th>\n",
       "      <td>383.0</td>\n",
       "      <td>283.352480</td>\n",
       "      <td>71.960530</td>\n",
       "      <td>188.0</td>\n",
       "      <td>246.5</td>\n",
       "      <td>271.0</td>\n",
       "      <td>308.00</td>\n",
       "      <td>1285.0</td>\n",
       "    </tr>\n",
       "    <tr>\n",
       "      <th>block</th>\n",
       "      <td>992.0</td>\n",
       "      <td>73.993952</td>\n",
       "      <td>19.797970</td>\n",
       "      <td>40.0</td>\n",
       "      <td>67.0</td>\n",
       "      <td>73.0</td>\n",
       "      <td>79.25</td>\n",
       "      <td>607.0</td>\n",
       "    </tr>\n",
       "    <tr>\n",
       "      <th>pre-block</th>\n",
       "      <td>991.0</td>\n",
       "      <td>228.420787</td>\n",
       "      <td>33.085221</td>\n",
       "      <td>137.0</td>\n",
       "      <td>207.0</td>\n",
       "      <td>228.0</td>\n",
       "      <td>248.00</td>\n",
       "      <td>395.0</td>\n",
       "    </tr>\n",
       "  </tbody>\n",
       "</table>\n",
       "</div>"
      ],
      "text/plain": [
       "            event_user_id                                                      \\\n",
       "                    count        mean        std    min    25%    50%     75%   \n",
       "period                                                                          \n",
       "after-block         383.0  283.352480  71.960530  188.0  246.5  271.0  308.00   \n",
       "block               992.0   73.993952  19.797970   40.0   67.0   73.0   79.25   \n",
       "pre-block           991.0  228.420787  33.085221  137.0  207.0  228.0  248.00   \n",
       "\n",
       "                     \n",
       "                max  \n",
       "period               \n",
       "after-block  1285.0  \n",
       "block         607.0  \n",
       "pre-block     395.0  "
      ]
     },
     "execution_count": 24,
     "metadata": {},
     "output_type": "execute_result"
    }
   ],
   "source": [
    "daily_active_users.groupby('period').describe()"
   ]
  },
  {
   "cell_type": "code",
   "execution_count": 25,
   "metadata": {},
   "outputs": [
    {
     "name": "stdout",
     "output_type": "stream",
     "text": [
      "Median activity change for all users: -67.98245614035088%\n"
     ]
    }
   ],
   "source": [
    "print(f\"Median activity change for all users: {100*(73.0-228.0)/(228.0)}%\")"
   ]
  },
  {
   "cell_type": "markdown",
   "metadata": {},
   "source": [
    "Wikipedia lost nearly 70% of their daily active users due to the block."
   ]
  },
  {
   "cell_type": "code",
   "execution_count": 26,
   "metadata": {},
   "outputs": [],
   "source": [
    "from matplotlib import cm"
   ]
  },
  {
   "cell_type": "code",
   "execution_count": 27,
   "metadata": {},
   "outputs": [],
   "source": [
    "n = 5 # Number of colors\n",
    "new_colors = [plt.get_cmap('magma')(1. * i/n) for i in range(n)]\n",
    "plt.rc('axes', prop_cycle=(plt.cycler('color', new_colors[::-1])))"
   ]
  },
  {
   "cell_type": "code",
   "execution_count": 51,
   "metadata": {},
   "outputs": [
    {
     "data": {
      "image/png": "[encoded data removed]",
      "text/plain": [
       "<Figure size 1152x432 with 1 Axes>"
      ]
     },
     "metadata": {
      "needs_background": "light"
     },
     "output_type": "display_data"
    }
   ],
   "source": [
    "pctiles = [\"[0.0 - 0.25]\", \"[0.25 - 0.5]\", \"[0.5 - 0.75]\", \"[0.75 - 0.99]\", \"[0.99 - 1]\"]\n",
    "plt.figure(figsize=(16,6))\n",
    "plt.title(f\"Daily active users per user activity level.\")\n",
    "for idx, category in enumerate(sorted(preblock_edit_counts.preblock_daily_edit_category.unique())):\n",
    "    category_users = preblock_edit_counts[preblock_edit_counts['preblock_daily_edit_category'] == category].user_id\n",
    "    df = edits[(edits['event_timestamp'] >= block_dates[0]-pd.Timedelta(days=blocked_days))&(edits.event_user_id.isin(category_users))].set_index('event_timestamp').groupby(pd.Grouper(freq= 'D')).event_user_id.nunique().reset_index()\n",
    "    rolling_mean = df.rolling(window=30).mean()\n",
    "    plt.plot(df.event_timestamp.values, rolling_mean, label = f\"Percentiles {pctiles[idx]}\")\n",
    "\n",
    "plt.ylabel(\"Number of active users\")\n",
    "plt.xlabel(\"Day\")\n",
    "plt.legend()\n",
    "plt.show()"
   ]
  },
  {
   "cell_type": "code",
   "execution_count": 29,
   "metadata": {},
   "outputs": [],
   "source": [
    "edits_cat_slice = pd.merge(edits[['event_user_id']], preblock_edit_counts[['user_id', 'preblock_daily_edit_category']], how = 'left', left_on ='event_user_id', right_on='user_id' )"
   ]
  },
  {
   "cell_type": "code",
   "execution_count": 30,
   "metadata": {},
   "outputs": [],
   "source": [
    "edits = edits.reset_index()"
   ]
  },
  {
   "cell_type": "code",
   "execution_count": 31,
   "metadata": {},
   "outputs": [],
   "source": [
    "edits['preblock_daily_edit_category'] = edits_cat_slice['preblock_daily_edit_category']"
   ]
  },
  {
   "cell_type": "code",
   "execution_count": 32,
   "metadata": {},
   "outputs": [],
   "source": [
    "edits = edits[~edits.preblock_daily_edit_category.isna()]"
   ]
  },
  {
   "cell_type": "code",
   "execution_count": 33,
   "metadata": {},
   "outputs": [],
   "source": [
    "edits = edits[(edits['event_timestamp'] >= block_dates[0] - pd.Timedelta(days=blocked_days))]"
   ]
  },
  {
   "cell_type": "code",
   "execution_count": 34,
   "metadata": {},
   "outputs": [],
   "source": [
    "edits.loc[edits['event_timestamp'] < block_dates[0], 'period'] = 'pre-block'\n",
    "edits.loc[(edits['event_timestamp'] >= block_dates[0]) & (edits['event_timestamp'] < block_dates[1]), 'period'] = 'block'\n",
    "edits.loc[edits['event_timestamp'] >= block_dates[1], 'period'] = 'after-block'"
   ]
  },
  {
   "cell_type": "markdown",
   "metadata": {},
   "source": [
    "Wikipedia lost nearly 70% of their daily active users due to the block."
   ]
  },
  {
   "cell_type": "markdown",
   "metadata": {},
   "source": [
    "## Number of daily edits per user"
   ]
  },
  {
   "cell_type": "code",
   "execution_count": 35,
   "metadata": {},
   "outputs": [],
   "source": [
    "days = edits.groupby('period').agg({'event_timestamp' : ['min', 'max']})"
   ]
  },
  {
   "cell_type": "code",
   "execution_count": 36,
   "metadata": {},
   "outputs": [],
   "source": [
    "days.columns = ['min', 'max']"
   ]
  },
  {
   "cell_type": "code",
   "execution_count": 37,
   "metadata": {},
   "outputs": [],
   "source": [
    "days = (days['max'] - days['min']).apply(lambda x: x.days).reset_index()"
   ]
  },
  {
   "cell_type": "code",
   "execution_count": 38,
   "metadata": {},
   "outputs": [],
   "source": [
    "days.columns = ['period', 'n_days']"
   ]
  },
  {
   "cell_type": "code",
   "execution_count": 39,
   "metadata": {},
   "outputs": [],
   "source": [
    "daily_edits = edits.groupby(['preblock_daily_edit_category', 'period']).size()"
   ]
  },
  {
   "cell_type": "code",
   "execution_count": 40,
   "metadata": {},
   "outputs": [],
   "source": [
    "daily_edits = daily_edits.reset_index()"
   ]
  },
  {
   "cell_type": "code",
   "execution_count": 41,
   "metadata": {},
   "outputs": [],
   "source": [
    "daily_edits.columns = ['preblock_daily_edit_category', 'period', 'n_edits']"
   ]
  },
  {
   "cell_type": "code",
   "execution_count": 42,
   "metadata": {},
   "outputs": [],
   "source": [
    "daily_edits = pd.merge(daily_edits, days, how= 'left')"
   ]
  },
  {
   "cell_type": "code",
   "execution_count": 43,
   "metadata": {},
   "outputs": [],
   "source": [
    "daily_edits['edits_per_day'] = daily_edits['n_edits']/daily_edits['n_days']"
   ]
  },
  {
   "cell_type": "code",
   "execution_count": 44,
   "metadata": {},
   "outputs": [],
   "source": [
    "daily_edits = pd.merge(daily_edits, edits.groupby(['period', 'preblock_daily_edit_category'])['event_user_id'].nunique().reset_index(), how= 'left')"
   ]
  },
  {
   "cell_type": "code",
   "execution_count": 45,
   "metadata": {},
   "outputs": [],
   "source": [
    "daily_edits['edits_per_user_per_day'] = daily_edits['edits_per_day']/daily_edits['event_user_id']"
   ]
  },
  {
   "cell_type": "code",
   "execution_count": 46,
   "metadata": {},
   "outputs": [
    {
     "data": {
      "text/html": [
       "<div>\n",
       "<style scoped>\n",
       "    .dataframe tbody tr th:only-of-type {\n",
       "        vertical-align: middle;\n",
       "    }\n",
       "\n",
       "    .dataframe tbody tr th {\n",
       "        vertical-align: top;\n",
       "    }\n",
       "\n",
       "    .dataframe thead th {\n",
       "        text-align: right;\n",
       "    }\n",
       "</style>\n",
       "<table border=\"1\" class=\"dataframe\">\n",
       "  <thead>\n",
       "    <tr style=\"text-align: right;\">\n",
       "      <th></th>\n",
       "      <th>preblock_daily_edit_category</th>\n",
       "      <th>period</th>\n",
       "      <th>n_edits</th>\n",
       "      <th>n_days</th>\n",
       "      <th>edits_per_day</th>\n",
       "      <th>event_user_id</th>\n",
       "      <th>edits_per_user_per_day</th>\n",
       "    </tr>\n",
       "  </thead>\n",
       "  <tbody>\n",
       "    <tr>\n",
       "      <th>0</th>\n",
       "      <td>(0.0, 0.00202]</td>\n",
       "      <td>after-block</td>\n",
       "      <td>2094</td>\n",
       "      <td>382</td>\n",
       "      <td>5.481675</td>\n",
       "      <td>377</td>\n",
       "      <td>0.014540</td>\n",
       "    </tr>\n",
       "    <tr>\n",
       "      <th>1</th>\n",
       "      <td>(0.0, 0.00202]</td>\n",
       "      <td>block</td>\n",
       "      <td>1472</td>\n",
       "      <td>991</td>\n",
       "      <td>1.485368</td>\n",
       "      <td>332</td>\n",
       "      <td>0.004474</td>\n",
       "    </tr>\n",
       "    <tr>\n",
       "      <th>2</th>\n",
       "      <td>(0.0, 0.00202]</td>\n",
       "      <td>pre-block</td>\n",
       "      <td>26052</td>\n",
       "      <td>990</td>\n",
       "      <td>26.315152</td>\n",
       "      <td>13026</td>\n",
       "      <td>0.002020</td>\n",
       "    </tr>\n",
       "    <tr>\n",
       "      <th>3</th>\n",
       "      <td>(0.00202, 0.00303]</td>\n",
       "      <td>after-block</td>\n",
       "      <td>1162</td>\n",
       "      <td>382</td>\n",
       "      <td>3.041885</td>\n",
       "      <td>241</td>\n",
       "      <td>0.012622</td>\n",
       "    </tr>\n",
       "    <tr>\n",
       "      <th>4</th>\n",
       "      <td>(0.00202, 0.00303]</td>\n",
       "      <td>block</td>\n",
       "      <td>1212</td>\n",
       "      <td>991</td>\n",
       "      <td>1.223007</td>\n",
       "      <td>203</td>\n",
       "      <td>0.006025</td>\n",
       "    </tr>\n",
       "    <tr>\n",
       "      <th>5</th>\n",
       "      <td>(0.00202, 0.00303]</td>\n",
       "      <td>pre-block</td>\n",
       "      <td>20142</td>\n",
       "      <td>990</td>\n",
       "      <td>20.345455</td>\n",
       "      <td>6714</td>\n",
       "      <td>0.003030</td>\n",
       "    </tr>\n",
       "    <tr>\n",
       "      <th>6</th>\n",
       "      <td>(0.00303, 0.00706]</td>\n",
       "      <td>after-block</td>\n",
       "      <td>5409</td>\n",
       "      <td>382</td>\n",
       "      <td>14.159686</td>\n",
       "      <td>518</td>\n",
       "      <td>0.027335</td>\n",
       "    </tr>\n",
       "    <tr>\n",
       "      <th>7</th>\n",
       "      <td>(0.00303, 0.00706]</td>\n",
       "      <td>block</td>\n",
       "      <td>3230</td>\n",
       "      <td>991</td>\n",
       "      <td>3.259334</td>\n",
       "      <td>466</td>\n",
       "      <td>0.006994</td>\n",
       "    </tr>\n",
       "    <tr>\n",
       "      <th>8</th>\n",
       "      <td>(0.00303, 0.00706]</td>\n",
       "      <td>pre-block</td>\n",
       "      <td>53219</td>\n",
       "      <td>990</td>\n",
       "      <td>53.756566</td>\n",
       "      <td>10508</td>\n",
       "      <td>0.005116</td>\n",
       "    </tr>\n",
       "    <tr>\n",
       "      <th>9</th>\n",
       "      <td>(0.00706, 0.341]</td>\n",
       "      <td>after-block</td>\n",
       "      <td>101082</td>\n",
       "      <td>382</td>\n",
       "      <td>264.612565</td>\n",
       "      <td>1094</td>\n",
       "      <td>0.241876</td>\n",
       "    </tr>\n",
       "    <tr>\n",
       "      <th>10</th>\n",
       "      <td>(0.00706, 0.341]</td>\n",
       "      <td>block</td>\n",
       "      <td>52010</td>\n",
       "      <td>991</td>\n",
       "      <td>52.482341</td>\n",
       "      <td>1102</td>\n",
       "      <td>0.047625</td>\n",
       "    </tr>\n",
       "    <tr>\n",
       "      <th>11</th>\n",
       "      <td>(0.00706, 0.341]</td>\n",
       "      <td>pre-block</td>\n",
       "      <td>247403</td>\n",
       "      <td>990</td>\n",
       "      <td>249.902020</td>\n",
       "      <td>8825</td>\n",
       "      <td>0.028318</td>\n",
       "    </tr>\n",
       "    <tr>\n",
       "      <th>12</th>\n",
       "      <td>(0.341, 224.838]</td>\n",
       "      <td>after-block</td>\n",
       "      <td>804244</td>\n",
       "      <td>382</td>\n",
       "      <td>2105.350785</td>\n",
       "      <td>241</td>\n",
       "      <td>8.735895</td>\n",
       "    </tr>\n",
       "    <tr>\n",
       "      <th>13</th>\n",
       "      <td>(0.341, 224.838]</td>\n",
       "      <td>block</td>\n",
       "      <td>1396545</td>\n",
       "      <td>991</td>\n",
       "      <td>1409.228052</td>\n",
       "      <td>242</td>\n",
       "      <td>5.823256</td>\n",
       "    </tr>\n",
       "    <tr>\n",
       "      <th>14</th>\n",
       "      <td>(0.341, 224.838]</td>\n",
       "      <td>pre-block</td>\n",
       "      <td>1710922</td>\n",
       "      <td>990</td>\n",
       "      <td>1728.204040</td>\n",
       "      <td>394</td>\n",
       "      <td>4.386305</td>\n",
       "    </tr>\n",
       "  </tbody>\n",
       "</table>\n",
       "</div>"
      ],
      "text/plain": [
       "   preblock_daily_edit_category       period  n_edits  n_days  edits_per_day  \\\n",
       "0                (0.0, 0.00202]  after-block     2094     382       5.481675   \n",
       "1                (0.0, 0.00202]        block     1472     991       1.485368   \n",
       "2                (0.0, 0.00202]    pre-block    26052     990      26.315152   \n",
       "3            (0.00202, 0.00303]  after-block     1162     382       3.041885   \n",
       "4            (0.00202, 0.00303]        block     1212     991       1.223007   \n",
       "5            (0.00202, 0.00303]    pre-block    20142     990      20.345455   \n",
       "6            (0.00303, 0.00706]  after-block     5409     382      14.159686   \n",
       "7            (0.00303, 0.00706]        block     3230     991       3.259334   \n",
       "8            (0.00303, 0.00706]    pre-block    53219     990      53.756566   \n",
       "9              (0.00706, 0.341]  after-block   101082     382     264.612565   \n",
       "10             (0.00706, 0.341]        block    52010     991      52.482341   \n",
       "11             (0.00706, 0.341]    pre-block   247403     990     249.902020   \n",
       "12             (0.341, 224.838]  after-block   804244     382    2105.350785   \n",
       "13             (0.341, 224.838]        block  1396545     991    1409.228052   \n",
       "14             (0.341, 224.838]    pre-block  1710922     990    1728.204040   \n",
       "\n",
       "    event_user_id  edits_per_user_per_day  \n",
       "0             377                0.014540  \n",
       "1             332                0.004474  \n",
       "2           13026                0.002020  \n",
       "3             241                0.012622  \n",
       "4             203                0.006025  \n",
       "5            6714                0.003030  \n",
       "6             518                0.027335  \n",
       "7             466                0.006994  \n",
       "8           10508                0.005116  \n",
       "9            1094                0.241876  \n",
       "10           1102                0.047625  \n",
       "11           8825                0.028318  \n",
       "12            241                8.735895  \n",
       "13            242                5.823256  \n",
       "14            394                4.386305  "
      ]
     },
     "execution_count": 46,
     "metadata": {},
     "output_type": "execute_result"
    }
   ],
   "source": [
    "daily_edits"
   ]
  },
  {
   "cell_type": "code",
   "execution_count": 47,
   "metadata": {},
   "outputs": [],
   "source": [
    "pivot = pd.pivot(daily_edits, \n",
    "                               values=[\"edits_per_day\", \"edits_per_user_per_day\"],\n",
    "                               index=\"preblock_daily_edit_category\",\n",
    "                               columns=\"period\")"
   ]
  },
  {
   "cell_type": "code",
   "execution_count": 48,
   "metadata": {},
   "outputs": [],
   "source": [
    "pivot = pivot[[('edits_per_day', 'pre-block'),\n",
    "            (         'edits_per_day',       'block'),\n",
    "            (         'edits_per_day',   'after-block'),\n",
    "            ('edits_per_user_per_day', 'pre-block'),\n",
    "            ('edits_per_user_per_day',       'block'),\n",
    "            ('edits_per_user_per_day',   'after-block')]]"
   ]
  },
  {
   "cell_type": "code",
   "execution_count": 49,
   "metadata": {},
   "outputs": [
    {
     "data": {
      "text/html": [
       "<div>\n",
       "<style scoped>\n",
       "    .dataframe tbody tr th:only-of-type {\n",
       "        vertical-align: middle;\n",
       "    }\n",
       "\n",
       "    .dataframe tbody tr th {\n",
       "        vertical-align: top;\n",
       "    }\n",
       "\n",
       "    .dataframe thead tr th {\n",
       "        text-align: left;\n",
       "    }\n",
       "\n",
       "    .dataframe thead tr:last-of-type th {\n",
       "        text-align: right;\n",
       "    }\n",
       "</style>\n",
       "<table border=\"1\" class=\"dataframe\">\n",
       "  <thead>\n",
       "    <tr>\n",
       "      <th></th>\n",
       "      <th colspan=\"3\" halign=\"left\">edits_per_day</th>\n",
       "      <th colspan=\"3\" halign=\"left\">edits_per_user_per_day</th>\n",
       "    </tr>\n",
       "    <tr>\n",
       "      <th>period</th>\n",
       "      <th>pre-block</th>\n",
       "      <th>block</th>\n",
       "      <th>after-block</th>\n",
       "      <th>pre-block</th>\n",
       "      <th>block</th>\n",
       "      <th>after-block</th>\n",
       "    </tr>\n",
       "    <tr>\n",
       "      <th>preblock_daily_edit_category</th>\n",
       "      <th></th>\n",
       "      <th></th>\n",
       "      <th></th>\n",
       "      <th></th>\n",
       "      <th></th>\n",
       "      <th></th>\n",
       "    </tr>\n",
       "  </thead>\n",
       "  <tbody>\n",
       "    <tr>\n",
       "      <th>(0.0, 0.00202]</th>\n",
       "      <td>26.315152</td>\n",
       "      <td>1.485368</td>\n",
       "      <td>5.481675</td>\n",
       "      <td>0.002020</td>\n",
       "      <td>0.004474</td>\n",
       "      <td>0.014540</td>\n",
       "    </tr>\n",
       "    <tr>\n",
       "      <th>(0.00202, 0.00303]</th>\n",
       "      <td>20.345455</td>\n",
       "      <td>1.223007</td>\n",
       "      <td>3.041885</td>\n",
       "      <td>0.003030</td>\n",
       "      <td>0.006025</td>\n",
       "      <td>0.012622</td>\n",
       "    </tr>\n",
       "    <tr>\n",
       "      <th>(0.00303, 0.00706]</th>\n",
       "      <td>53.756566</td>\n",
       "      <td>3.259334</td>\n",
       "      <td>14.159686</td>\n",
       "      <td>0.005116</td>\n",
       "      <td>0.006994</td>\n",
       "      <td>0.027335</td>\n",
       "    </tr>\n",
       "    <tr>\n",
       "      <th>(0.00706, 0.341]</th>\n",
       "      <td>249.902020</td>\n",
       "      <td>52.482341</td>\n",
       "      <td>264.612565</td>\n",
       "      <td>0.028318</td>\n",
       "      <td>0.047625</td>\n",
       "      <td>0.241876</td>\n",
       "    </tr>\n",
       "    <tr>\n",
       "      <th>(0.341, 224.838]</th>\n",
       "      <td>1728.204040</td>\n",
       "      <td>1409.228052</td>\n",
       "      <td>2105.350785</td>\n",
       "      <td>4.386305</td>\n",
       "      <td>5.823256</td>\n",
       "      <td>8.735895</td>\n",
       "    </tr>\n",
       "  </tbody>\n",
       "</table>\n",
       "</div>"
      ],
      "text/plain": [
       "                             edits_per_day                            \\\n",
       "period                           pre-block        block  after-block   \n",
       "preblock_daily_edit_category                                           \n",
       "(0.0, 0.00202]                   26.315152     1.485368     5.481675   \n",
       "(0.00202, 0.00303]               20.345455     1.223007     3.041885   \n",
       "(0.00303, 0.00706]               53.756566     3.259334    14.159686   \n",
       "(0.00706, 0.341]                249.902020    52.482341   264.612565   \n",
       "(0.341, 224.838]               1728.204040  1409.228052  2105.350785   \n",
       "\n",
       "                             edits_per_user_per_day                        \n",
       "period                                    pre-block     block after-block  \n",
       "preblock_daily_edit_category                                               \n",
       "(0.0, 0.00202]                             0.002020  0.004474    0.014540  \n",
       "(0.00202, 0.00303]                         0.003030  0.006025    0.012622  \n",
       "(0.00303, 0.00706]                         0.005116  0.006994    0.027335  \n",
       "(0.00706, 0.341]                           0.028318  0.047625    0.241876  \n",
       "(0.341, 224.838]                           4.386305  5.823256    8.735895  "
      ]
     },
     "execution_count": 49,
     "metadata": {},
     "output_type": "execute_result"
    }
   ],
   "source": [
    "pivot"
   ]
  },
  {
   "cell_type": "code",
   "execution_count": 50,
   "metadata": {},
   "outputs": [],
   "source": [
    "edits_per_day_pct = pd.concat([100*(pivot['edits_per_day']['block']-pivot['edits_per_day']['pre-block'])/pivot['edits_per_day']['pre-block'], 100*(pivot['edits_per_day']['after-block']-pivot['edits_per_day']['pre-block'])/pivot['edits_per_day']['pre-block']], axis =1)\n",
    "edits_per_user_per_day = pd.concat([100*(pivot['edits_per_user_per_day']['block']-pivot['edits_per_user_per_day']['pre-block'])/pivot['edits_per_user_per_day']['pre-block'], 100*(pivot['edits_per_user_per_day']['after-block']-pivot['edits_per_user_per_day']['pre-block'])/pivot['edits_per_user_per_day']['pre-block']], axis =1)\n",
    "edits_per_day_pct.columns = ['preblock -> block', 'preblock -> postblock']\n",
    "edits_per_user_per_day.columns = ['preblock -> block', 'preblock -> postblock']"
   ]
  },
  {
   "cell_type": "code",
   "execution_count": 57,
   "metadata": {},
   "outputs": [],
   "source": [
    "edits_per_day_pct.index = pctiles\n",
    "edits_per_user_per_day.index = pctiles"
   ]
  },
  {
   "cell_type": "code",
   "execution_count": 56,
   "metadata": {},
   "outputs": [
    {
     "data": {
      "image/png": "[encoded data removed]",
      "text/plain": [
       "<Figure size 1080x432 with 1 Axes>"
      ]
     },
     "metadata": {
      "needs_background": "light"
     },
     "output_type": "display_data"
    }
   ],
   "source": [
    "ax = edits_per_day_pct.plot(kind=\"bar\")\n",
    "# Get a Matplotlib figure from the axes object for formatting purposes\n",
    "fig = ax.get_figure()\n",
    "# Change the plot dimensions (width, height)\n",
    "fig.set_size_inches(15, 6)\n",
    "# Change the axes labels\n",
    "ax.set_title('Percent Change in the number of edits by user activity levels')\n",
    "ax.set_xlabel(\"User Activity categories\")\n",
    "ax.set_ylabel(\"Percent change in edits per day\")\n",
    "plt.show()"
   ]
  },
  {
   "cell_type": "code",
   "execution_count": 58,
   "metadata": {},
   "outputs": [
    {
     "data": {
      "image/png": "[encoded data removed]",
      "text/plain": [
       "<Figure size 1080x432 with 1 Axes>"
      ]
     },
     "metadata": {
      "needs_background": "light"
     },
     "output_type": "display_data"
    }
   ],
   "source": [
    "ax = edits_per_user_per_day.plot(kind=\"bar\")\n",
    "# Get a Matplotlib figure from the axes object for formatting purposes\n",
    "fig = ax.get_figure()\n",
    "# Change the plot dimensions (width, height)\n",
    "fig.set_size_inches(15, 6)\n",
    "# Change the axes labels\n",
    "ax.set_title('Percent Change in the number of edits by user activity levels')\n",
    "ax.set_xlabel(\"User Activity categories\")\n",
    "ax.set_ylabel(\"Percent change in edits per user per day\")\n",
    "plt.show()"
   ]
  },
  {
   "cell_type": "markdown",
   "metadata": {},
   "source": [
    "## Non blocked users"
   ]
  },
  {
   "cell_type": "code",
   "execution_count": 59,
   "metadata": {},
   "outputs": [],
   "source": [
    "non_blocked_user_edits = edits[edits['event_user_id'].isin(edits[edits['period'] == 'block'].event_user_id.unique())]"
   ]
  },
  {
   "cell_type": "code",
   "execution_count": 60,
   "metadata": {},
   "outputs": [
    {
     "data": {
      "text/plain": [
       "period\n",
       "after-block     853076\n",
       "block          1454469\n",
       "pre-block      1488547\n",
       "dtype: int64"
      ]
     },
     "execution_count": 60,
     "metadata": {},
     "output_type": "execute_result"
    }
   ],
   "source": [
    "non_blocked_user_edits.groupby(['period']).size()"
   ]
  },
  {
   "cell_type": "code",
   "execution_count": 61,
   "metadata": {},
   "outputs": [],
   "source": [
    "daily_edits = non_blocked_user_edits.groupby(['preblock_daily_edit_category', 'period']).size()"
   ]
  },
  {
   "cell_type": "code",
   "execution_count": 62,
   "metadata": {},
   "outputs": [],
   "source": [
    "daily_edits = daily_edits.reset_index()"
   ]
  },
  {
   "cell_type": "code",
   "execution_count": 63,
   "metadata": {},
   "outputs": [],
   "source": [
    "daily_edits.columns = ['preblock_daily_edit_category', 'period', 'n_edits']"
   ]
  },
  {
   "cell_type": "code",
   "execution_count": 64,
   "metadata": {},
   "outputs": [],
   "source": [
    "daily_edits = pd.merge(daily_edits, days, how= 'left')"
   ]
  },
  {
   "cell_type": "code",
   "execution_count": 65,
   "metadata": {},
   "outputs": [],
   "source": [
    "daily_edits['edits_per_day'] = daily_edits['n_edits']/daily_edits['n_days']"
   ]
  },
  {
   "cell_type": "code",
   "execution_count": 66,
   "metadata": {},
   "outputs": [],
   "source": [
    "daily_edits = pd.merge(daily_edits, non_blocked_user_edits.groupby(['period', 'preblock_daily_edit_category'])['event_user_id'].nunique().reset_index(), how= 'left')"
   ]
  },
  {
   "cell_type": "code",
   "execution_count": 67,
   "metadata": {},
   "outputs": [],
   "source": [
    "daily_edits['edits_per_user_per_day'] = daily_edits['edits_per_day']/daily_edits['event_user_id']"
   ]
  },
  {
   "cell_type": "code",
   "execution_count": 68,
   "metadata": {},
   "outputs": [
    {
     "data": {
      "text/html": [
       "<div>\n",
       "<style scoped>\n",
       "    .dataframe tbody tr th:only-of-type {\n",
       "        vertical-align: middle;\n",
       "    }\n",
       "\n",
       "    .dataframe tbody tr th {\n",
       "        vertical-align: top;\n",
       "    }\n",
       "\n",
       "    .dataframe thead th {\n",
       "        text-align: right;\n",
       "    }\n",
       "</style>\n",
       "<table border=\"1\" class=\"dataframe\">\n",
       "  <thead>\n",
       "    <tr style=\"text-align: right;\">\n",
       "      <th></th>\n",
       "      <th>preblock_daily_edit_category</th>\n",
       "      <th>period</th>\n",
       "      <th>n_edits</th>\n",
       "      <th>n_days</th>\n",
       "      <th>edits_per_day</th>\n",
       "      <th>event_user_id</th>\n",
       "      <th>edits_per_user_per_day</th>\n",
       "    </tr>\n",
       "  </thead>\n",
       "  <tbody>\n",
       "    <tr>\n",
       "      <th>0</th>\n",
       "      <td>(0.0, 0.00202]</td>\n",
       "      <td>after-block</td>\n",
       "      <td>742</td>\n",
       "      <td>382</td>\n",
       "      <td>1.942408</td>\n",
       "      <td>92</td>\n",
       "      <td>0.021113</td>\n",
       "    </tr>\n",
       "    <tr>\n",
       "      <th>1</th>\n",
       "      <td>(0.0, 0.00202]</td>\n",
       "      <td>block</td>\n",
       "      <td>1472</td>\n",
       "      <td>991</td>\n",
       "      <td>1.485368</td>\n",
       "      <td>332</td>\n",
       "      <td>0.004474</td>\n",
       "    </tr>\n",
       "    <tr>\n",
       "      <th>2</th>\n",
       "      <td>(0.0, 0.00202]</td>\n",
       "      <td>pre-block</td>\n",
       "      <td>664</td>\n",
       "      <td>990</td>\n",
       "      <td>0.670707</td>\n",
       "      <td>332</td>\n",
       "      <td>0.002020</td>\n",
       "    </tr>\n",
       "    <tr>\n",
       "      <th>3</th>\n",
       "      <td>(0.00202, 0.00303]</td>\n",
       "      <td>after-block</td>\n",
       "      <td>462</td>\n",
       "      <td>382</td>\n",
       "      <td>1.209424</td>\n",
       "      <td>53</td>\n",
       "      <td>0.022819</td>\n",
       "    </tr>\n",
       "    <tr>\n",
       "      <th>4</th>\n",
       "      <td>(0.00202, 0.00303]</td>\n",
       "      <td>block</td>\n",
       "      <td>1212</td>\n",
       "      <td>991</td>\n",
       "      <td>1.223007</td>\n",
       "      <td>203</td>\n",
       "      <td>0.006025</td>\n",
       "    </tr>\n",
       "    <tr>\n",
       "      <th>5</th>\n",
       "      <td>(0.00202, 0.00303]</td>\n",
       "      <td>pre-block</td>\n",
       "      <td>609</td>\n",
       "      <td>990</td>\n",
       "      <td>0.615152</td>\n",
       "      <td>203</td>\n",
       "      <td>0.003030</td>\n",
       "    </tr>\n",
       "    <tr>\n",
       "      <th>6</th>\n",
       "      <td>(0.00303, 0.00706]</td>\n",
       "      <td>after-block</td>\n",
       "      <td>3039</td>\n",
       "      <td>382</td>\n",
       "      <td>7.955497</td>\n",
       "      <td>154</td>\n",
       "      <td>0.051659</td>\n",
       "    </tr>\n",
       "    <tr>\n",
       "      <th>7</th>\n",
       "      <td>(0.00303, 0.00706]</td>\n",
       "      <td>block</td>\n",
       "      <td>3230</td>\n",
       "      <td>991</td>\n",
       "      <td>3.259334</td>\n",
       "      <td>466</td>\n",
       "      <td>0.006994</td>\n",
       "    </tr>\n",
       "    <tr>\n",
       "      <th>8</th>\n",
       "      <td>(0.00303, 0.00706]</td>\n",
       "      <td>pre-block</td>\n",
       "      <td>2447</td>\n",
       "      <td>990</td>\n",
       "      <td>2.471717</td>\n",
       "      <td>466</td>\n",
       "      <td>0.005304</td>\n",
       "    </tr>\n",
       "    <tr>\n",
       "      <th>9</th>\n",
       "      <td>(0.00706, 0.341]</td>\n",
       "      <td>after-block</td>\n",
       "      <td>79874</td>\n",
       "      <td>382</td>\n",
       "      <td>209.094241</td>\n",
       "      <td>508</td>\n",
       "      <td>0.411603</td>\n",
       "    </tr>\n",
       "    <tr>\n",
       "      <th>10</th>\n",
       "      <td>(0.00706, 0.341]</td>\n",
       "      <td>block</td>\n",
       "      <td>52010</td>\n",
       "      <td>991</td>\n",
       "      <td>52.482341</td>\n",
       "      <td>1102</td>\n",
       "      <td>0.047625</td>\n",
       "    </tr>\n",
       "    <tr>\n",
       "      <th>11</th>\n",
       "      <td>(0.00706, 0.341]</td>\n",
       "      <td>pre-block</td>\n",
       "      <td>55300</td>\n",
       "      <td>990</td>\n",
       "      <td>55.858586</td>\n",
       "      <td>1102</td>\n",
       "      <td>0.050688</td>\n",
       "    </tr>\n",
       "    <tr>\n",
       "      <th>12</th>\n",
       "      <td>(0.341, 224.838]</td>\n",
       "      <td>after-block</td>\n",
       "      <td>768959</td>\n",
       "      <td>382</td>\n",
       "      <td>2012.981675</td>\n",
       "      <td>195</td>\n",
       "      <td>10.322983</td>\n",
       "    </tr>\n",
       "    <tr>\n",
       "      <th>13</th>\n",
       "      <td>(0.341, 224.838]</td>\n",
       "      <td>block</td>\n",
       "      <td>1396545</td>\n",
       "      <td>991</td>\n",
       "      <td>1409.228052</td>\n",
       "      <td>242</td>\n",
       "      <td>5.823256</td>\n",
       "    </tr>\n",
       "    <tr>\n",
       "      <th>14</th>\n",
       "      <td>(0.341, 224.838]</td>\n",
       "      <td>pre-block</td>\n",
       "      <td>1429527</td>\n",
       "      <td>990</td>\n",
       "      <td>1443.966667</td>\n",
       "      <td>242</td>\n",
       "      <td>5.966804</td>\n",
       "    </tr>\n",
       "  </tbody>\n",
       "</table>\n",
       "</div>"
      ],
      "text/plain": [
       "   preblock_daily_edit_category       period  n_edits  n_days  edits_per_day  \\\n",
       "0                (0.0, 0.00202]  after-block      742     382       1.942408   \n",
       "1                (0.0, 0.00202]        block     1472     991       1.485368   \n",
       "2                (0.0, 0.00202]    pre-block      664     990       0.670707   \n",
       "3            (0.00202, 0.00303]  after-block      462     382       1.209424   \n",
       "4            (0.00202, 0.00303]        block     1212     991       1.223007   \n",
       "5            (0.00202, 0.00303]    pre-block      609     990       0.615152   \n",
       "6            (0.00303, 0.00706]  after-block     3039     382       7.955497   \n",
       "7            (0.00303, 0.00706]        block     3230     991       3.259334   \n",
       "8            (0.00303, 0.00706]    pre-block     2447     990       2.471717   \n",
       "9              (0.00706, 0.341]  after-block    79874     382     209.094241   \n",
       "10             (0.00706, 0.341]        block    52010     991      52.482341   \n",
       "11             (0.00706, 0.341]    pre-block    55300     990      55.858586   \n",
       "12             (0.341, 224.838]  after-block   768959     382    2012.981675   \n",
       "13             (0.341, 224.838]        block  1396545     991    1409.228052   \n",
       "14             (0.341, 224.838]    pre-block  1429527     990    1443.966667   \n",
       "\n",
       "    event_user_id  edits_per_user_per_day  \n",
       "0              92                0.021113  \n",
       "1             332                0.004474  \n",
       "2             332                0.002020  \n",
       "3              53                0.022819  \n",
       "4             203                0.006025  \n",
       "5             203                0.003030  \n",
       "6             154                0.051659  \n",
       "7             466                0.006994  \n",
       "8             466                0.005304  \n",
       "9             508                0.411603  \n",
       "10           1102                0.047625  \n",
       "11           1102                0.050688  \n",
       "12            195               10.322983  \n",
       "13            242                5.823256  \n",
       "14            242                5.966804  "
      ]
     },
     "execution_count": 68,
     "metadata": {},
     "output_type": "execute_result"
    }
   ],
   "source": [
    "daily_edits"
   ]
  },
  {
   "cell_type": "code",
   "execution_count": 69,
   "metadata": {},
   "outputs": [],
   "source": [
    "pivot = pd.pivot(daily_edits, \n",
    "                               values=[\"edits_per_day\", \"edits_per_user_per_day\"],\n",
    "                               index=\"preblock_daily_edit_category\",\n",
    "                               columns=\"period\")"
   ]
  },
  {
   "cell_type": "code",
   "execution_count": 70,
   "metadata": {},
   "outputs": [],
   "source": [
    "pivot = pivot[[('edits_per_day', 'pre-block'),\n",
    "            (         'edits_per_day',       'block'),\n",
    "            (         'edits_per_day',   'after-block'),\n",
    "            ('edits_per_user_per_day', 'pre-block'),\n",
    "            ('edits_per_user_per_day',       'block'),\n",
    "            ('edits_per_user_per_day',   'after-block')]]"
   ]
  },
  {
   "cell_type": "code",
   "execution_count": 71,
   "metadata": {},
   "outputs": [
    {
     "data": {
      "text/html": [
       "<div>\n",
       "<style scoped>\n",
       "    .dataframe tbody tr th:only-of-type {\n",
       "        vertical-align: middle;\n",
       "    }\n",
       "\n",
       "    .dataframe tbody tr th {\n",
       "        vertical-align: top;\n",
       "    }\n",
       "\n",
       "    .dataframe thead tr th {\n",
       "        text-align: left;\n",
       "    }\n",
       "\n",
       "    .dataframe thead tr:last-of-type th {\n",
       "        text-align: right;\n",
       "    }\n",
       "</style>\n",
       "<table border=\"1\" class=\"dataframe\">\n",
       "  <thead>\n",
       "    <tr>\n",
       "      <th></th>\n",
       "      <th colspan=\"3\" halign=\"left\">edits_per_day</th>\n",
       "      <th colspan=\"3\" halign=\"left\">edits_per_user_per_day</th>\n",
       "    </tr>\n",
       "    <tr>\n",
       "      <th>period</th>\n",
       "      <th>pre-block</th>\n",
       "      <th>block</th>\n",
       "      <th>after-block</th>\n",
       "      <th>pre-block</th>\n",
       "      <th>block</th>\n",
       "      <th>after-block</th>\n",
       "    </tr>\n",
       "    <tr>\n",
       "      <th>preblock_daily_edit_category</th>\n",
       "      <th></th>\n",
       "      <th></th>\n",
       "      <th></th>\n",
       "      <th></th>\n",
       "      <th></th>\n",
       "      <th></th>\n",
       "    </tr>\n",
       "  </thead>\n",
       "  <tbody>\n",
       "    <tr>\n",
       "      <th>(0.0, 0.00202]</th>\n",
       "      <td>0.670707</td>\n",
       "      <td>1.485368</td>\n",
       "      <td>1.942408</td>\n",
       "      <td>0.002020</td>\n",
       "      <td>0.004474</td>\n",
       "      <td>0.021113</td>\n",
       "    </tr>\n",
       "    <tr>\n",
       "      <th>(0.00202, 0.00303]</th>\n",
       "      <td>0.615152</td>\n",
       "      <td>1.223007</td>\n",
       "      <td>1.209424</td>\n",
       "      <td>0.003030</td>\n",
       "      <td>0.006025</td>\n",
       "      <td>0.022819</td>\n",
       "    </tr>\n",
       "    <tr>\n",
       "      <th>(0.00303, 0.00706]</th>\n",
       "      <td>2.471717</td>\n",
       "      <td>3.259334</td>\n",
       "      <td>7.955497</td>\n",
       "      <td>0.005304</td>\n",
       "      <td>0.006994</td>\n",
       "      <td>0.051659</td>\n",
       "    </tr>\n",
       "    <tr>\n",
       "      <th>(0.00706, 0.341]</th>\n",
       "      <td>55.858586</td>\n",
       "      <td>52.482341</td>\n",
       "      <td>209.094241</td>\n",
       "      <td>0.050688</td>\n",
       "      <td>0.047625</td>\n",
       "      <td>0.411603</td>\n",
       "    </tr>\n",
       "    <tr>\n",
       "      <th>(0.341, 224.838]</th>\n",
       "      <td>1443.966667</td>\n",
       "      <td>1409.228052</td>\n",
       "      <td>2012.981675</td>\n",
       "      <td>5.966804</td>\n",
       "      <td>5.823256</td>\n",
       "      <td>10.322983</td>\n",
       "    </tr>\n",
       "  </tbody>\n",
       "</table>\n",
       "</div>"
      ],
      "text/plain": [
       "                             edits_per_day                            \\\n",
       "period                           pre-block        block  after-block   \n",
       "preblock_daily_edit_category                                           \n",
       "(0.0, 0.00202]                    0.670707     1.485368     1.942408   \n",
       "(0.00202, 0.00303]                0.615152     1.223007     1.209424   \n",
       "(0.00303, 0.00706]                2.471717     3.259334     7.955497   \n",
       "(0.00706, 0.341]                 55.858586    52.482341   209.094241   \n",
       "(0.341, 224.838]               1443.966667  1409.228052  2012.981675   \n",
       "\n",
       "                             edits_per_user_per_day                        \n",
       "period                                    pre-block     block after-block  \n",
       "preblock_daily_edit_category                                               \n",
       "(0.0, 0.00202]                             0.002020  0.004474    0.021113  \n",
       "(0.00202, 0.00303]                         0.003030  0.006025    0.022819  \n",
       "(0.00303, 0.00706]                         0.005304  0.006994    0.051659  \n",
       "(0.00706, 0.341]                           0.050688  0.047625    0.411603  \n",
       "(0.341, 224.838]                           5.966804  5.823256   10.322983  "
      ]
     },
     "execution_count": 71,
     "metadata": {},
     "output_type": "execute_result"
    }
   ],
   "source": [
    "pivot"
   ]
  },
  {
   "cell_type": "code",
   "execution_count": 72,
   "metadata": {},
   "outputs": [],
   "source": [
    "edits_per_day_pct = pd.concat([100*(pivot['edits_per_day']['block']-pivot['edits_per_day']['pre-block'])/pivot['edits_per_day']['pre-block'], 100*(pivot['edits_per_day']['after-block']-pivot['edits_per_day']['pre-block'])/pivot['edits_per_day']['pre-block']], axis =1)\n",
    "edits_per_user_per_day = pd.concat([100*(pivot['edits_per_user_per_day']['block']-pivot['edits_per_user_per_day']['pre-block'])/pivot['edits_per_user_per_day']['pre-block'], 100*(pivot['edits_per_user_per_day']['after-block']-pivot['edits_per_user_per_day']['pre-block'])/pivot['edits_per_user_per_day']['pre-block']], axis =1)\n",
    "edits_per_day_pct.columns = ['preblock -> block', 'preblock -> postblock']\n",
    "edits_per_user_per_day.columns = ['preblock -> block', 'preblock -> postblock']"
   ]
  },
  {
   "cell_type": "code",
   "execution_count": 76,
   "metadata": {},
   "outputs": [],
   "source": [
    "edits_per_user_per_day.index = pctiles\n",
    "edits_per_day_pct.index = pctiles"
   ]
  },
  {
   "cell_type": "code",
   "execution_count": 77,
   "metadata": {},
   "outputs": [
    {
     "data": {
      "image/png": "[encoded data removed]",
      "text/plain": [
       "<Figure size 1080x432 with 1 Axes>"
      ]
     },
     "metadata": {
      "needs_background": "light"
     },
     "output_type": "display_data"
    }
   ],
   "source": [
    "ax = edits_per_day_pct['preblock -> block'].plot(kind=\"bar\", color = 'blue', alpha = 0.6 )\n",
    "# Get a Matplotlib figure from the axes object for formatting purposes\n",
    "fig = ax.get_figure()\n",
    "# Change the plot dimensions (width, height)\n",
    "fig.set_size_inches(15, 6)\n",
    "# Change the axes labels\n",
    "ax.set_title('Percent Change in the number of edits by user activity levels for users who remained')\n",
    "ax.set_xlabel(\"User Activity categories\")\n",
    "ax.set_ylabel(\"Percent change in edits per day\")\n",
    "plt.show()"
   ]
  },
  {
   "cell_type": "markdown",
   "metadata": {},
   "source": [
    "## Bootstrapped user activity plots"
   ]
  },
  {
   "cell_type": "code",
   "execution_count": 271,
   "metadata": {},
   "outputs": [],
   "source": [
    "daily_active_users = edits.set_index('event_timestamp').groupby([pd.Grouper(freq= 'D'), 'preblock_daily_edit_category']).event_user_id.nunique()"
   ]
  },
  {
   "cell_type": "code",
   "execution_count": 273,
   "metadata": {},
   "outputs": [],
   "source": [
    "daily_active_users = daily_active_users.reset_index()"
   ]
  },
  {
   "cell_type": "code",
   "execution_count": 275,
   "metadata": {},
   "outputs": [],
   "source": [
    "daily_active_users['period'] = daily_active_users.apply(lambda row: 'pre-block' if row['event_timestamp'] < block_dates[0] else 'block' if not row['event_timestamp'] >= block_dates[1] else 'after-block', axis=1)"
   ]
  },
  {
   "cell_type": "code",
   "execution_count": 287,
   "metadata": {},
   "outputs": [
    {
     "data": {
      "text/html": [
       "<div>\n",
       "<style scoped>\n",
       "    .dataframe tbody tr th:only-of-type {\n",
       "        vertical-align: middle;\n",
       "    }\n",
       "\n",
       "    .dataframe tbody tr th {\n",
       "        vertical-align: top;\n",
       "    }\n",
       "\n",
       "    .dataframe thead th {\n",
       "        text-align: right;\n",
       "    }\n",
       "</style>\n",
       "<table border=\"1\" class=\"dataframe\">\n",
       "  <thead>\n",
       "    <tr style=\"text-align: right;\">\n",
       "      <th></th>\n",
       "      <th>event_timestamp</th>\n",
       "      <th>preblock_daily_edit_category</th>\n",
       "      <th>event_user_id</th>\n",
       "      <th>period</th>\n",
       "    </tr>\n",
       "  </thead>\n",
       "  <tbody>\n",
       "    <tr>\n",
       "      <th>4955</th>\n",
       "      <td>2017-04-29 00:00:00+00:00</td>\n",
       "      <td>(0.0, 0.00202]</td>\n",
       "      <td>2</td>\n",
       "      <td>block</td>\n",
       "    </tr>\n",
       "    <tr>\n",
       "      <th>4956</th>\n",
       "      <td>2017-04-29 00:00:00+00:00</td>\n",
       "      <td>(0.00202, 0.00303]</td>\n",
       "      <td>6</td>\n",
       "      <td>block</td>\n",
       "    </tr>\n",
       "    <tr>\n",
       "      <th>4957</th>\n",
       "      <td>2017-04-29 00:00:00+00:00</td>\n",
       "      <td>(0.00303, 0.00706]</td>\n",
       "      <td>6</td>\n",
       "      <td>block</td>\n",
       "    </tr>\n",
       "    <tr>\n",
       "      <th>4958</th>\n",
       "      <td>2017-04-29 00:00:00+00:00</td>\n",
       "      <td>(0.00706, 0.341]</td>\n",
       "      <td>33</td>\n",
       "      <td>block</td>\n",
       "    </tr>\n",
       "    <tr>\n",
       "      <th>4959</th>\n",
       "      <td>2017-04-29 00:00:00+00:00</td>\n",
       "      <td>(0.341, 224.838]</td>\n",
       "      <td>54</td>\n",
       "      <td>block</td>\n",
       "    </tr>\n",
       "    <tr>\n",
       "      <th>...</th>\n",
       "      <td>...</td>\n",
       "      <td>...</td>\n",
       "      <td>...</td>\n",
       "      <td>...</td>\n",
       "    </tr>\n",
       "    <tr>\n",
       "      <th>9910</th>\n",
       "      <td>2020-01-15 00:00:00+00:00</td>\n",
       "      <td>(0.0, 0.00202]</td>\n",
       "      <td>11</td>\n",
       "      <td>block</td>\n",
       "    </tr>\n",
       "    <tr>\n",
       "      <th>9911</th>\n",
       "      <td>2020-01-15 00:00:00+00:00</td>\n",
       "      <td>(0.00202, 0.00303]</td>\n",
       "      <td>5</td>\n",
       "      <td>block</td>\n",
       "    </tr>\n",
       "    <tr>\n",
       "      <th>9912</th>\n",
       "      <td>2020-01-15 00:00:00+00:00</td>\n",
       "      <td>(0.00303, 0.00706]</td>\n",
       "      <td>8</td>\n",
       "      <td>block</td>\n",
       "    </tr>\n",
       "    <tr>\n",
       "      <th>9913</th>\n",
       "      <td>2020-01-15 00:00:00+00:00</td>\n",
       "      <td>(0.00706, 0.341]</td>\n",
       "      <td>51</td>\n",
       "      <td>block</td>\n",
       "    </tr>\n",
       "    <tr>\n",
       "      <th>9914</th>\n",
       "      <td>2020-01-15 00:00:00+00:00</td>\n",
       "      <td>(0.341, 224.838]</td>\n",
       "      <td>55</td>\n",
       "      <td>block</td>\n",
       "    </tr>\n",
       "  </tbody>\n",
       "</table>\n",
       "<p>4960 rows × 4 columns</p>\n",
       "</div>"
      ],
      "text/plain": [
       "               event_timestamp preblock_daily_edit_category  event_user_id  \\\n",
       "4955 2017-04-29 00:00:00+00:00               (0.0, 0.00202]              2   \n",
       "4956 2017-04-29 00:00:00+00:00           (0.00202, 0.00303]              6   \n",
       "4957 2017-04-29 00:00:00+00:00           (0.00303, 0.00706]              6   \n",
       "4958 2017-04-29 00:00:00+00:00             (0.00706, 0.341]             33   \n",
       "4959 2017-04-29 00:00:00+00:00             (0.341, 224.838]             54   \n",
       "...                        ...                          ...            ...   \n",
       "9910 2020-01-15 00:00:00+00:00               (0.0, 0.00202]             11   \n",
       "9911 2020-01-15 00:00:00+00:00           (0.00202, 0.00303]              5   \n",
       "9912 2020-01-15 00:00:00+00:00           (0.00303, 0.00706]              8   \n",
       "9913 2020-01-15 00:00:00+00:00             (0.00706, 0.341]             51   \n",
       "9914 2020-01-15 00:00:00+00:00             (0.341, 224.838]             55   \n",
       "\n",
       "     period  \n",
       "4955  block  \n",
       "4956  block  \n",
       "4957  block  \n",
       "4958  block  \n",
       "4959  block  \n",
       "...     ...  \n",
       "9910  block  \n",
       "9911  block  \n",
       "9912  block  \n",
       "9913  block  \n",
       "9914  block  \n",
       "\n",
       "[4960 rows x 4 columns]"
      ]
     },
     "execution_count": 287,
     "metadata": {},
     "output_type": "execute_result"
    }
   ],
   "source": [
    "daily_active_users[daily_active_users['period'] == 'block']"
   ]
  },
  {
   "cell_type": "code",
   "execution_count": 290,
   "metadata": {},
   "outputs": [],
   "source": [
    "daily_active_users = daily_active_users.pivot(index='event_timestamp', columns='preblock_daily_edit_category', values='event_user_id')"
   ]
  },
  {
   "cell_type": "code",
   "execution_count": 328,
   "metadata": {},
   "outputs": [],
   "source": [
    "preblock = daily_active_users.loc[:block_dates[0] - pd.Timedelta(days=1)].to_numpy()"
   ]
  },
  {
   "cell_type": "code",
   "execution_count": 329,
   "metadata": {},
   "outputs": [],
   "source": [
    "block = daily_active_users.loc[block_dates[0]:block_dates[1]- pd.Timedelta(days=1)].to_numpy()"
   ]
  },
  {
   "cell_type": "code",
   "execution_count": 339,
   "metadata": {},
   "outputs": [],
   "source": [
    "afterblock = daily_active_users.loc[block_dates[1]:].to_numpy()"
   ]
  },
  {
   "cell_type": "code",
   "execution_count": 399,
   "metadata": {},
   "outputs": [],
   "source": [
    "from sklearn.utils import resample\n",
    "import matplotlib.ticker as mtick"
   ]
  },
  {
   "cell_type": "code",
   "execution_count": 381,
   "metadata": {},
   "outputs": [],
   "source": [
    "def calculate_bootstrapped_pct_change(n_bootstrap = 1000, n_samples = 100):\n",
    "    \n",
    "    preblock_block_change = np.zeros((n_bootstrap, 5))\n",
    "    block_afterblock_change = np.zeros((n_bootstrap, 5))\n",
    "    preblock_afterblock_change = np.zeros((n_bootstrap, 5))\n",
    "\n",
    "    for i in range(n_bootstrap):\n",
    "    \n",
    "        preblock_bootstrap = resample(preblock, n_samples = n_samples, replace=True)\n",
    "        block_bootstrap = resample(block, n_samples = n_samples, replace=True)\n",
    "        afterblock_bootstrap = resample(afterblock, n_samples = n_samples, replace=True)\n",
    "        preblock_mean = preblock_bootstrap.mean(axis = 0)\n",
    "        block_mean = block_bootstrap.mean(axis = 0)\n",
    "        afterblock_mean = afterblock_bootstrap.mean(axis = 0)\n",
    "\n",
    "        preblock_block_change[i, :] = 100*(block_mean-preblock_mean)/preblock_mean\n",
    "        block_afterblock_change[i, :]= 100*(afterblock_mean-block_mean)/block_mean\n",
    "        preblock_afterblock_change[i, :]= 100*(afterblock_mean-preblock_mean)/preblock_mean\n",
    "        \n",
    "    return preblock_block_change, block_afterblock_change, preblock_afterblock_change\n",
    "    \n",
    "    "
   ]
  },
  {
   "cell_type": "code",
   "execution_count": 382,
   "metadata": {},
   "outputs": [],
   "source": [
    "preblock_block_change, block_afterblock_change, preblock_afterblock_change = calculate_bootstrapped_pct_change()"
   ]
  },
  {
   "cell_type": "code",
   "execution_count": 404,
   "metadata": {},
   "outputs": [
    {
     "data": {
      "image/png": "[encoded data removed]",
      "text/plain": [
       "<Figure size 1080x720 with 1 Axes>"
      ]
     },
     "metadata": {
      "needs_background": "light"
     },
     "output_type": "display_data"
    }
   ],
   "source": [
    "fig, ax = plt.subplots()\n",
    "plt.title(f\"Percent change of activity between preblock and block periods by user activity level.\")\n",
    "fig.set_size_inches(15, 10)\n",
    "plt.xlabel('User activity category (percentiles)')\n",
    "plt.ylabel('Percent change')\n",
    "\n",
    "ax = sns.boxplot(data=preblock_block_change)\n",
    "ax.yaxis.set_major_formatter(mtick.PercentFormatter())\n",
    "plt.xticks(list(range(5)), pctiles)\n",
    "\n",
    "plt.show()"
   ]
  },
  {
   "cell_type": "code",
   "execution_count": 405,
   "metadata": {},
   "outputs": [
    {
     "data": {
      "image/png": "[encoded data removed]",
      "text/plain": [
       "<Figure size 1080x720 with 1 Axes>"
      ]
     },
     "metadata": {
      "needs_background": "light"
     },
     "output_type": "display_data"
    }
   ],
   "source": [
    "fig, ax = plt.subplots()\n",
    "plt.title(f\"Percent change of activity between block and afterblock periods by user activity level.\")\n",
    "fig.set_size_inches(15, 10)\n",
    "plt.xlabel('User activity category (percentiles)')\n",
    "plt.ylabel('Percent change')\n",
    "\n",
    "ax = sns.boxplot(data=block_afterblock_change)\n",
    "ax.yaxis.set_major_formatter(mtick.PercentFormatter())\n",
    "plt.xticks(list(range(5)), pctiles)\n",
    "\n",
    "plt.show()"
   ]
  },
  {
   "cell_type": "code",
   "execution_count": 406,
   "metadata": {},
   "outputs": [
    {
     "data": {
      "image/png": "[encoded data removed]",
      "text/plain": [
       "<Figure size 1080x720 with 1 Axes>"
      ]
     },
     "metadata": {
      "needs_background": "light"
     },
     "output_type": "display_data"
    }
   ],
   "source": [
    "fig, ax = plt.subplots()\n",
    "plt.title(f\"Percent change of activity between preblock and afterblock periods by user activity level.\")\n",
    "fig.set_size_inches(15, 10)\n",
    "plt.xlabel('User activity category (percentiles)')\n",
    "plt.ylabel('Percent change')\n",
    "\n",
    "ax = sns.boxplot(data=preblock_afterblock_change)\n",
    "ax.yaxis.set_major_formatter(mtick.PercentFormatter())\n",
    "plt.xticks(list(range(5)), pctiles)\n",
    "\n",
    "plt.show()"
   ]
  }
 ],
 "metadata": {
  "kernelspec": {
   "display_name": "Python 3",
   "language": "python",
   "name": "python3"
  },
  "language_info": {
   "codemirror_mode": {
    "name": "ipython",
    "version": 3
   },
   "file_extension": ".py",
   "mimetype": "text/x-python",
   "name": "python",
   "nbconvert_exporter": "python",
   "pygments_lexer": "ipython3",
   "version": "3.7.7"
  }
 },
 "nbformat": 4,
 "nbformat_minor": 4
}
