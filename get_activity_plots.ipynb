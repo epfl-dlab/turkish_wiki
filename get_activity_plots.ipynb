{
 "cells": [
  {
   "cell_type": "code",
   "execution_count": 207,
   "metadata": {},
   "outputs": [],
   "source": [
    "import pandas as pd\n",
    "import numpy as np\n",
    "import matplotlib.pyplot as plt\n",
    "import seaborn as sns"
   ]
  },
  {
   "cell_type": "code",
   "execution_count": 208,
   "metadata": {},
   "outputs": [],
   "source": [
    "DATA_PATH = '/dlabdata1/turkish_wiki'"
   ]
  },
  {
   "cell_type": "markdown",
   "metadata": {},
   "source": [
    "# Preprocessing edits for analysis"
   ]
  },
  {
   "cell_type": "code",
   "execution_count": 209,
   "metadata": {},
   "outputs": [
    {
     "name": "stderr",
     "output_type": "stream",
     "text": [
      "/opt/anaconda3/lib/python3.7/site-packages/IPython/core/interactiveshell.py:3063: DtypeWarning: Columns (10,13) have mixed types.Specify dtype option on import or set low_memory=False.\n",
      "  interactivity=interactivity, compiler=compiler, result=result)\n",
      "/opt/anaconda3/lib/python3.7/site-packages/numpy/lib/arraysetops.py:569: FutureWarning: elementwise comparison failed; returning scalar instead, but in the future will perform elementwise comparison\n",
      "  mask |= (ar1 == a)\n"
     ]
    }
   ],
   "source": [
    "edits = pd.read_csv(f'{DATA_PATH}/processed_data/account_edits.csv', index_col = 0)"
   ]
  },
  {
   "cell_type": "code",
   "execution_count": 210,
   "metadata": {},
   "outputs": [
    {
     "data": {
      "text/html": [
       "<div>\n",
       "<style scoped>\n",
       "    .dataframe tbody tr th:only-of-type {\n",
       "        vertical-align: middle;\n",
       "    }\n",
       "\n",
       "    .dataframe tbody tr th {\n",
       "        vertical-align: top;\n",
       "    }\n",
       "\n",
       "    .dataframe thead th {\n",
       "        text-align: right;\n",
       "    }\n",
       "</style>\n",
       "<table border=\"1\" class=\"dataframe\">\n",
       "  <thead>\n",
       "    <tr style=\"text-align: right;\">\n",
       "      <th></th>\n",
       "      <th>event_type</th>\n",
       "      <th>event_timestamp</th>\n",
       "      <th>event_user_id</th>\n",
       "      <th>event_user_groups</th>\n",
       "      <th>event_user_revision_count</th>\n",
       "      <th>event_user_seconds_since_previous_revision</th>\n",
       "      <th>page_id</th>\n",
       "      <th>page_title</th>\n",
       "      <th>page_revision_count</th>\n",
       "      <th>revision_minor_edit</th>\n",
       "      <th>revision_text_bytes</th>\n",
       "      <th>revision_text_bytes_diff</th>\n",
       "      <th>revision_is_identity_revert</th>\n",
       "    </tr>\n",
       "  </thead>\n",
       "  <tbody>\n",
       "    <tr>\n",
       "      <th>1</th>\n",
       "      <td>create</td>\n",
       "      <td>2002-12-05 22:54:39+00:00</td>\n",
       "      <td>1</td>\n",
       "      <td>NaN</td>\n",
       "      <td>1</td>\n",
       "      <td>NaN</td>\n",
       "      <td>5</td>\n",
       "      <td>Main_Page</td>\n",
       "      <td>1.0</td>\n",
       "      <td>False</td>\n",
       "      <td>24</td>\n",
       "      <td>24.0</td>\n",
       "      <td>False</td>\n",
       "    </tr>\n",
       "    <tr>\n",
       "      <th>14</th>\n",
       "      <td>create</td>\n",
       "      <td>2003-03-13 16:30:04+00:00</td>\n",
       "      <td>6</td>\n",
       "      <td>NaN</td>\n",
       "      <td>1</td>\n",
       "      <td>NaN</td>\n",
       "      <td>10</td>\n",
       "      <td>Cengiz_Han</td>\n",
       "      <td>1.0</td>\n",
       "      <td>False</td>\n",
       "      <td>8540</td>\n",
       "      <td>8540.0</td>\n",
       "      <td>False</td>\n",
       "    </tr>\n",
       "    <tr>\n",
       "      <th>51</th>\n",
       "      <td>create</td>\n",
       "      <td>2003-08-02 01:08:44+00:00</td>\n",
       "      <td>13</td>\n",
       "      <td>NaN</td>\n",
       "      <td>2</td>\n",
       "      <td>303.0</td>\n",
       "      <td>24</td>\n",
       "      <td>Linux</td>\n",
       "      <td>1.0</td>\n",
       "      <td>False</td>\n",
       "      <td>257</td>\n",
       "      <td>257.0</td>\n",
       "      <td>False</td>\n",
       "    </tr>\n",
       "    <tr>\n",
       "      <th>52</th>\n",
       "      <td>create</td>\n",
       "      <td>2003-08-02 01:10:08+00:00</td>\n",
       "      <td>13</td>\n",
       "      <td>NaN</td>\n",
       "      <td>3</td>\n",
       "      <td>84.0</td>\n",
       "      <td>24</td>\n",
       "      <td>Linux</td>\n",
       "      <td>2.0</td>\n",
       "      <td>False</td>\n",
       "      <td>259</td>\n",
       "      <td>2.0</td>\n",
       "      <td>False</td>\n",
       "    </tr>\n",
       "    <tr>\n",
       "      <th>53</th>\n",
       "      <td>create</td>\n",
       "      <td>2003-08-02 01:11:50+00:00</td>\n",
       "      <td>13</td>\n",
       "      <td>NaN</td>\n",
       "      <td>4</td>\n",
       "      <td>102.0</td>\n",
       "      <td>24</td>\n",
       "      <td>Linux</td>\n",
       "      <td>3.0</td>\n",
       "      <td>False</td>\n",
       "      <td>261</td>\n",
       "      <td>2.0</td>\n",
       "      <td>False</td>\n",
       "    </tr>\n",
       "  </tbody>\n",
       "</table>\n",
       "</div>"
      ],
      "text/plain": [
       "   event_type            event_timestamp  event_user_id event_user_groups  \\\n",
       "1      create  2002-12-05 22:54:39+00:00              1               NaN   \n",
       "14     create  2003-03-13 16:30:04+00:00              6               NaN   \n",
       "51     create  2003-08-02 01:08:44+00:00             13               NaN   \n",
       "52     create  2003-08-02 01:10:08+00:00             13               NaN   \n",
       "53     create  2003-08-02 01:11:50+00:00             13               NaN   \n",
       "\n",
       "    event_user_revision_count  event_user_seconds_since_previous_revision  \\\n",
       "1                           1                                         NaN   \n",
       "14                          1                                         NaN   \n",
       "51                          2                                       303.0   \n",
       "52                          3                                        84.0   \n",
       "53                          4                                       102.0   \n",
       "\n",
       "    page_id  page_title  page_revision_count revision_minor_edit  \\\n",
       "1         5   Main_Page                  1.0               False   \n",
       "14       10  Cengiz_Han                  1.0               False   \n",
       "51       24       Linux                  1.0               False   \n",
       "52       24       Linux                  2.0               False   \n",
       "53       24       Linux                  3.0               False   \n",
       "\n",
       "    revision_text_bytes  revision_text_bytes_diff revision_is_identity_revert  \n",
       "1                    24                      24.0                       False  \n",
       "14                 8540                    8540.0                       False  \n",
       "51                  257                     257.0                       False  \n",
       "52                  259                       2.0                       False  \n",
       "53                  261                       2.0                       False  "
      ]
     },
     "execution_count": 210,
     "metadata": {},
     "output_type": "execute_result"
    }
   ],
   "source": [
    "edits.head()"
   ]
  },
  {
   "cell_type": "code",
   "execution_count": 211,
   "metadata": {},
   "outputs": [],
   "source": [
    "edits = edits[['event_user_id', 'event_timestamp', 'page_id','page_revision_count', \n",
    "               'revision_minor_edit', 'revision_text_bytes','revision_is_identity_revert']]"
   ]
  },
  {
   "cell_type": "code",
   "execution_count": 212,
   "metadata": {},
   "outputs": [],
   "source": [
    "edits[['revision_minor_edit','revision_is_identity_revert']] = edits[['revision_minor_edit','revision_is_identity_revert']].convert_dtypes()"
   ]
  },
  {
   "cell_type": "code",
   "execution_count": 213,
   "metadata": {},
   "outputs": [],
   "source": [
    "edits['event_timestamp'] = pd.to_datetime(edits['event_timestamp'],   utc = True)"
   ]
  },
  {
   "cell_type": "code",
   "execution_count": 214,
   "metadata": {},
   "outputs": [],
   "source": [
    "block_dates = [pd.to_datetime('2017-04-29', utc = True), pd.to_datetime('2020-01-15 19:00', utc = True)]"
   ]
  },
  {
   "cell_type": "markdown",
   "metadata": {},
   "source": [
    "# Characterize blocked users\n",
    "## 1) Change binning"
   ]
  },
  {
   "cell_type": "code",
   "execution_count": 215,
   "metadata": {},
   "outputs": [
    {
     "data": {
      "text/plain": [
       "Index(['event_user_id', 'event_timestamp', 'page_id', 'page_revision_count',\n",
       "       'revision_minor_edit', 'revision_text_bytes',\n",
       "       'revision_is_identity_revert'],\n",
       "      dtype='object')"
      ]
     },
     "execution_count": 215,
     "metadata": {},
     "output_type": "execute_result"
    }
   ],
   "source": [
    "edits.columns"
   ]
  },
  {
   "cell_type": "code",
   "execution_count": 216,
   "metadata": {},
   "outputs": [],
   "source": [
    "blocked_days = (block_dates[1] - block_dates[0]).days"
   ]
  },
  {
   "cell_type": "code",
   "execution_count": 217,
   "metadata": {},
   "outputs": [],
   "source": [
    "preblock_edit_counts = edits[(edits['event_timestamp'] >= block_dates[0] - pd.Timedelta(days=blocked_days)) & (edits['event_timestamp'] < block_dates[0])].groupby('event_user_id').agg(\n",
    "        {'event_timestamp': ['min', 'max'],'revision_minor_edit': 'size'}).reset_index()"
   ]
  },
  {
   "cell_type": "code",
   "execution_count": 218,
   "metadata": {},
   "outputs": [],
   "source": [
    "block_edit_counts = edits[(edits['event_timestamp'] >= block_dates[0]) & (edits['event_timestamp'] < block_dates[1])].groupby('event_user_id').agg(\n",
    "        {'event_timestamp': ['min', 'max'],'revision_minor_edit': 'size'}).reset_index()"
   ]
  },
  {
   "cell_type": "code",
   "execution_count": 219,
   "metadata": {},
   "outputs": [],
   "source": [
    "preblock_edit_counts.columns = ['user_id','first_edit_before_block', 'last_edit_before_block', 'number_of_edits']\n",
    "block_edit_counts.columns = ['user_id', 'first_edit_during_block', 'last_edit_during_block', 'number_of_edits']"
   ]
  },
  {
   "cell_type": "code",
   "execution_count": 220,
   "metadata": {},
   "outputs": [
    {
     "data": {
      "text/html": [
       "<div>\n",
       "<style scoped>\n",
       "    .dataframe tbody tr th:only-of-type {\n",
       "        vertical-align: middle;\n",
       "    }\n",
       "\n",
       "    .dataframe tbody tr th {\n",
       "        vertical-align: top;\n",
       "    }\n",
       "\n",
       "    .dataframe thead th {\n",
       "        text-align: right;\n",
       "    }\n",
       "</style>\n",
       "<table border=\"1\" class=\"dataframe\">\n",
       "  <thead>\n",
       "    <tr style=\"text-align: right;\">\n",
       "      <th></th>\n",
       "      <th>user_id</th>\n",
       "      <th>first_edit_before_block</th>\n",
       "      <th>last_edit_before_block</th>\n",
       "      <th>number_of_edits</th>\n",
       "    </tr>\n",
       "  </thead>\n",
       "  <tbody>\n",
       "    <tr>\n",
       "      <th>10332</th>\n",
       "      <td>573665</td>\n",
       "      <td>2014-08-12 21:22:49+00:00</td>\n",
       "      <td>2017-04-28 21:16:47+00:00</td>\n",
       "      <td>222814</td>\n",
       "    </tr>\n",
       "    <tr>\n",
       "      <th>1105</th>\n",
       "      <td>90501</td>\n",
       "      <td>2014-08-14 19:22:44+00:00</td>\n",
       "      <td>2017-04-28 22:04:57+00:00</td>\n",
       "      <td>216000</td>\n",
       "    </tr>\n",
       "    <tr>\n",
       "      <th>2800</th>\n",
       "      <td>221544</td>\n",
       "      <td>2014-08-12 13:00:53+00:00</td>\n",
       "      <td>2017-04-28 19:06:33+00:00</td>\n",
       "      <td>73737</td>\n",
       "    </tr>\n",
       "    <tr>\n",
       "      <th>1061</th>\n",
       "      <td>86010</td>\n",
       "      <td>2014-08-12 02:06:07+00:00</td>\n",
       "      <td>2017-04-28 21:23:09+00:00</td>\n",
       "      <td>47235</td>\n",
       "    </tr>\n",
       "    <tr>\n",
       "      <th>1471</th>\n",
       "      <td>123656</td>\n",
       "      <td>2014-08-12 08:53:00+00:00</td>\n",
       "      <td>2017-04-28 20:42:54+00:00</td>\n",
       "      <td>35633</td>\n",
       "    </tr>\n",
       "    <tr>\n",
       "      <th>...</th>\n",
       "      <td>...</td>\n",
       "      <td>...</td>\n",
       "      <td>...</td>\n",
       "      <td>...</td>\n",
       "    </tr>\n",
       "    <tr>\n",
       "      <th>46323</th>\n",
       "      <td>842788</td>\n",
       "      <td>2016-03-06 16:35:28+00:00</td>\n",
       "      <td>2016-03-06 16:35:28+00:00</td>\n",
       "      <td>1</td>\n",
       "    </tr>\n",
       "    <tr>\n",
       "      <th>46322</th>\n",
       "      <td>842779</td>\n",
       "      <td>2016-02-14 18:12:52+00:00</td>\n",
       "      <td>2016-02-14 18:12:52+00:00</td>\n",
       "      <td>1</td>\n",
       "    </tr>\n",
       "    <tr>\n",
       "      <th>46321</th>\n",
       "      <td>842773</td>\n",
       "      <td>2016-02-14 18:05:50+00:00</td>\n",
       "      <td>2016-02-14 18:05:50+00:00</td>\n",
       "      <td>1</td>\n",
       "    </tr>\n",
       "    <tr>\n",
       "      <th>21400</th>\n",
       "      <td>675719</td>\n",
       "      <td>2015-01-21 19:13:52+00:00</td>\n",
       "      <td>2015-01-21 19:13:52+00:00</td>\n",
       "      <td>1</td>\n",
       "    </tr>\n",
       "    <tr>\n",
       "      <th>34413</th>\n",
       "      <td>770939</td>\n",
       "      <td>2015-07-14 18:30:07+00:00</td>\n",
       "      <td>2015-07-14 18:30:07+00:00</td>\n",
       "      <td>1</td>\n",
       "    </tr>\n",
       "  </tbody>\n",
       "</table>\n",
       "<p>68827 rows × 4 columns</p>\n",
       "</div>"
      ],
      "text/plain": [
       "       user_id   first_edit_before_block    last_edit_before_block  \\\n",
       "10332   573665 2014-08-12 21:22:49+00:00 2017-04-28 21:16:47+00:00   \n",
       "1105     90501 2014-08-14 19:22:44+00:00 2017-04-28 22:04:57+00:00   \n",
       "2800    221544 2014-08-12 13:00:53+00:00 2017-04-28 19:06:33+00:00   \n",
       "1061     86010 2014-08-12 02:06:07+00:00 2017-04-28 21:23:09+00:00   \n",
       "1471    123656 2014-08-12 08:53:00+00:00 2017-04-28 20:42:54+00:00   \n",
       "...        ...                       ...                       ...   \n",
       "46323   842788 2016-03-06 16:35:28+00:00 2016-03-06 16:35:28+00:00   \n",
       "46322   842779 2016-02-14 18:12:52+00:00 2016-02-14 18:12:52+00:00   \n",
       "46321   842773 2016-02-14 18:05:50+00:00 2016-02-14 18:05:50+00:00   \n",
       "21400   675719 2015-01-21 19:13:52+00:00 2015-01-21 19:13:52+00:00   \n",
       "34413   770939 2015-07-14 18:30:07+00:00 2015-07-14 18:30:07+00:00   \n",
       "\n",
       "       number_of_edits  \n",
       "10332           222814  \n",
       "1105            216000  \n",
       "2800             73737  \n",
       "1061             47235  \n",
       "1471             35633  \n",
       "...                ...  \n",
       "46323                1  \n",
       "46322                1  \n",
       "46321                1  \n",
       "21400                1  \n",
       "34413                1  \n",
       "\n",
       "[68827 rows x 4 columns]"
      ]
     },
     "execution_count": 220,
     "metadata": {},
     "output_type": "execute_result"
    }
   ],
   "source": [
    "preblock_edit_counts.sort_values('number_of_edits', ascending = False)"
   ]
  },
  {
   "cell_type": "markdown",
   "metadata": {},
   "source": [
    "## Editor activity levels"
   ]
  },
  {
   "cell_type": "code",
   "execution_count": 221,
   "metadata": {},
   "outputs": [],
   "source": [
    "preblock_edit_counts['edits_per_day'] = preblock_edit_counts['number_of_edits']/(blocked_days)"
   ]
  },
  {
   "cell_type": "code",
   "execution_count": 222,
   "metadata": {},
   "outputs": [
    {
     "data": {
      "text/html": [
       "<div>\n",
       "<style scoped>\n",
       "    .dataframe tbody tr th:only-of-type {\n",
       "        vertical-align: middle;\n",
       "    }\n",
       "\n",
       "    .dataframe tbody tr th {\n",
       "        vertical-align: top;\n",
       "    }\n",
       "\n",
       "    .dataframe thead th {\n",
       "        text-align: right;\n",
       "    }\n",
       "</style>\n",
       "<table border=\"1\" class=\"dataframe\">\n",
       "  <thead>\n",
       "    <tr style=\"text-align: right;\">\n",
       "      <th></th>\n",
       "      <th>user_id</th>\n",
       "      <th>first_edit_before_block</th>\n",
       "      <th>last_edit_before_block</th>\n",
       "      <th>number_of_edits</th>\n",
       "      <th>edits_per_day</th>\n",
       "    </tr>\n",
       "  </thead>\n",
       "  <tbody>\n",
       "    <tr>\n",
       "      <th>0</th>\n",
       "      <td>25</td>\n",
       "      <td>2014-11-17 07:39:39+00:00</td>\n",
       "      <td>2016-09-15 08:51:50+00:00</td>\n",
       "      <td>2</td>\n",
       "      <td>0.002018</td>\n",
       "    </tr>\n",
       "    <tr>\n",
       "      <th>1</th>\n",
       "      <td>39</td>\n",
       "      <td>2015-07-08 11:00:43+00:00</td>\n",
       "      <td>2017-03-16 10:51:19+00:00</td>\n",
       "      <td>14</td>\n",
       "      <td>0.014127</td>\n",
       "    </tr>\n",
       "    <tr>\n",
       "      <th>2</th>\n",
       "      <td>47</td>\n",
       "      <td>2016-07-01 08:19:57+00:00</td>\n",
       "      <td>2016-07-01 08:53:14+00:00</td>\n",
       "      <td>7</td>\n",
       "      <td>0.007064</td>\n",
       "    </tr>\n",
       "    <tr>\n",
       "      <th>3</th>\n",
       "      <td>89</td>\n",
       "      <td>2016-09-14 13:27:45+00:00</td>\n",
       "      <td>2016-09-14 13:27:45+00:00</td>\n",
       "      <td>1</td>\n",
       "      <td>0.001009</td>\n",
       "    </tr>\n",
       "    <tr>\n",
       "      <th>4</th>\n",
       "      <td>137</td>\n",
       "      <td>2014-12-03 09:29:04+00:00</td>\n",
       "      <td>2016-08-24 09:13:13+00:00</td>\n",
       "      <td>10</td>\n",
       "      <td>0.010091</td>\n",
       "    </tr>\n",
       "    <tr>\n",
       "      <th>...</th>\n",
       "      <td>...</td>\n",
       "      <td>...</td>\n",
       "      <td>...</td>\n",
       "      <td>...</td>\n",
       "      <td>...</td>\n",
       "    </tr>\n",
       "    <tr>\n",
       "      <th>68822</th>\n",
       "      <td>964220</td>\n",
       "      <td>2017-04-28 21:44:27+00:00</td>\n",
       "      <td>2017-04-28 21:44:27+00:00</td>\n",
       "      <td>1</td>\n",
       "      <td>0.001009</td>\n",
       "    </tr>\n",
       "    <tr>\n",
       "      <th>68823</th>\n",
       "      <td>964228</td>\n",
       "      <td>2017-04-28 22:33:28+00:00</td>\n",
       "      <td>2017-04-28 22:33:28+00:00</td>\n",
       "      <td>1</td>\n",
       "      <td>0.001009</td>\n",
       "    </tr>\n",
       "    <tr>\n",
       "      <th>68824</th>\n",
       "      <td>964229</td>\n",
       "      <td>2017-04-28 22:23:20+00:00</td>\n",
       "      <td>2017-04-28 22:23:20+00:00</td>\n",
       "      <td>1</td>\n",
       "      <td>0.001009</td>\n",
       "    </tr>\n",
       "    <tr>\n",
       "      <th>68825</th>\n",
       "      <td>964230</td>\n",
       "      <td>2017-04-28 22:46:12+00:00</td>\n",
       "      <td>2017-04-28 22:52:38+00:00</td>\n",
       "      <td>3</td>\n",
       "      <td>0.003027</td>\n",
       "    </tr>\n",
       "    <tr>\n",
       "      <th>68826</th>\n",
       "      <td>964234</td>\n",
       "      <td>2017-04-28 22:48:40+00:00</td>\n",
       "      <td>2017-04-28 22:59:47+00:00</td>\n",
       "      <td>7</td>\n",
       "      <td>0.007064</td>\n",
       "    </tr>\n",
       "  </tbody>\n",
       "</table>\n",
       "<p>68827 rows × 5 columns</p>\n",
       "</div>"
      ],
      "text/plain": [
       "       user_id   first_edit_before_block    last_edit_before_block  \\\n",
       "0           25 2014-11-17 07:39:39+00:00 2016-09-15 08:51:50+00:00   \n",
       "1           39 2015-07-08 11:00:43+00:00 2017-03-16 10:51:19+00:00   \n",
       "2           47 2016-07-01 08:19:57+00:00 2016-07-01 08:53:14+00:00   \n",
       "3           89 2016-09-14 13:27:45+00:00 2016-09-14 13:27:45+00:00   \n",
       "4          137 2014-12-03 09:29:04+00:00 2016-08-24 09:13:13+00:00   \n",
       "...        ...                       ...                       ...   \n",
       "68822   964220 2017-04-28 21:44:27+00:00 2017-04-28 21:44:27+00:00   \n",
       "68823   964228 2017-04-28 22:33:28+00:00 2017-04-28 22:33:28+00:00   \n",
       "68824   964229 2017-04-28 22:23:20+00:00 2017-04-28 22:23:20+00:00   \n",
       "68825   964230 2017-04-28 22:46:12+00:00 2017-04-28 22:52:38+00:00   \n",
       "68826   964234 2017-04-28 22:48:40+00:00 2017-04-28 22:59:47+00:00   \n",
       "\n",
       "       number_of_edits  edits_per_day  \n",
       "0                    2       0.002018  \n",
       "1                   14       0.014127  \n",
       "2                    7       0.007064  \n",
       "3                    1       0.001009  \n",
       "4                   10       0.010091  \n",
       "...                ...            ...  \n",
       "68822                1       0.001009  \n",
       "68823                1       0.001009  \n",
       "68824                1       0.001009  \n",
       "68825                3       0.003027  \n",
       "68826                7       0.007064  \n",
       "\n",
       "[68827 rows x 5 columns]"
      ]
     },
     "execution_count": 222,
     "metadata": {},
     "output_type": "execute_result"
    }
   ],
   "source": [
    "preblock_edit_counts"
   ]
  },
  {
   "cell_type": "code",
   "execution_count": 223,
   "metadata": {},
   "outputs": [],
   "source": [
    "preblock_edit_counts = preblock_edit_counts[preblock_edit_counts['number_of_edits'] > 1]"
   ]
  },
  {
   "cell_type": "code",
   "execution_count": 224,
   "metadata": {},
   "outputs": [],
   "source": [
    "summary_stats = preblock_edit_counts.edits_per_day.describe(percentiles=[0.25, 0.5, 0.75, 0.99])"
   ]
  },
  {
   "cell_type": "code",
   "execution_count": 225,
   "metadata": {},
   "outputs": [
    {
     "data": {
      "text/plain": [
       "count    39467.000000\n",
       "mean         0.052612\n",
       "std          1.737151\n",
       "min          0.002018\n",
       "25%          0.002018\n",
       "50%          0.003027\n",
       "75%          0.007064\n",
       "99%          0.341070\n",
       "max        224.837538\n",
       "Name: edits_per_day, dtype: float64"
      ]
     },
     "execution_count": 225,
     "metadata": {},
     "output_type": "execute_result"
    }
   ],
   "source": [
    "summary_stats"
   ]
  },
  {
   "cell_type": "code",
   "execution_count": 226,
   "metadata": {},
   "outputs": [],
   "source": [
    "bins = [0] +list(summary_stats.values[4:9])"
   ]
  },
  {
   "cell_type": "code",
   "execution_count": 227,
   "metadata": {},
   "outputs": [
    {
     "name": "stderr",
     "output_type": "stream",
     "text": [
      "/opt/anaconda3/lib/python3.7/site-packages/ipykernel_launcher.py:1: SettingWithCopyWarning: \n",
      "A value is trying to be set on a copy of a slice from a DataFrame.\n",
      "Try using .loc[row_indexer,col_indexer] = value instead\n",
      "\n",
      "See the caveats in the documentation: https://pandas.pydata.org/pandas-docs/stable/user_guide/indexing.html#returning-a-view-versus-a-copy\n",
      "  \"\"\"Entry point for launching an IPython kernel.\n"
     ]
    }
   ],
   "source": [
    "preblock_edit_counts['preblock_daily_edit_category'] = pd.cut(preblock_edit_counts.edits_per_day, bins, right=True)"
   ]
  },
  {
   "cell_type": "code",
   "execution_count": 228,
   "metadata": {},
   "outputs": [
    {
     "data": {
      "text/plain": [
       "[(0.0, 0.00202], (0.00706, 0.341], (0.00303, 0.00706], (0.00202, 0.00303], (0.341, 224.838]]\n",
       "Categories (5, interval[float64]): [(0.0, 0.00202] < (0.00202, 0.00303] < (0.00303, 0.00706] < (0.00706, 0.341] < (0.341, 224.838]]"
      ]
     },
     "execution_count": 228,
     "metadata": {},
     "output_type": "execute_result"
    }
   ],
   "source": [
    "preblock_edit_counts.preblock_daily_edit_category.unique()"
   ]
  },
  {
   "cell_type": "markdown",
   "metadata": {},
   "source": [
    "## Analysing drop by user activity"
   ]
  },
  {
   "cell_type": "code",
   "execution_count": 229,
   "metadata": {},
   "outputs": [],
   "source": [
    "daily_active_users = edits.set_index('event_timestamp').groupby([pd.Grouper(freq= 'D'), 'preblock']).event_user_id.nunique()"
   ]
  },
  {
   "cell_type": "code",
   "execution_count": 230,
   "metadata": {},
   "outputs": [],
   "source": [
    "daily_active_users = daily_active_users.reset_index()"
   ]
  },
  {
   "cell_type": "code",
   "execution_count": 231,
   "metadata": {},
   "outputs": [],
   "source": [
    "daily_active_users = daily_active_users[daily_active_users['event_timestamp'] >= block_dates[0]-pd.Timedelta(days=blocked_days)]"
   ]
  },
  {
   "cell_type": "code",
   "execution_count": 232,
   "metadata": {},
   "outputs": [
    {
     "data": {
      "image/png": "[encoded data removed]",
      "text/plain": [
       "<Figure size 1152x288 with 1 Axes>"
      ]
     },
     "metadata": {
      "needs_background": "light"
     },
     "output_type": "display_data"
    }
   ],
   "source": [
    "plt.figure(figsize=(16,4))\n",
    "plt.title(\"Daily active users to Turkish Wikipedia\")\n",
    "rolling_mean = daily_active_users.rolling(window=7).mean()\n",
    "plt.plot(daily_active_users.event_timestamp.values, rolling_mean, color='blue', lw=0.5)\n",
    "plt.ylabel(\"Number of active users\")\n",
    "plt.xlabel(\"Day\")\n",
    "# for date in block_dates:\n",
    "#     plt.axvline(date)\n",
    "plt.show()"
   ]
  },
  {
   "cell_type": "code",
   "execution_count": 233,
   "metadata": {},
   "outputs": [],
   "source": [
    "daily_active_users['period'] = daily_active_users.apply(lambda row: 'pre-block' if row['event_timestamp'] < block_dates[0] else 'block' if not row['event_timestamp'] >= block_dates[1] else 'after-block', axis=1)"
   ]
  },
  {
   "cell_type": "code",
   "execution_count": 234,
   "metadata": {},
   "outputs": [
    {
     "data": {
      "text/html": [
       "<div>\n",
       "<style scoped>\n",
       "    .dataframe tbody tr th:only-of-type {\n",
       "        vertical-align: middle;\n",
       "    }\n",
       "\n",
       "    .dataframe tbody tr th {\n",
       "        vertical-align: top;\n",
       "    }\n",
       "\n",
       "    .dataframe thead tr th {\n",
       "        text-align: left;\n",
       "    }\n",
       "\n",
       "    .dataframe thead tr:last-of-type th {\n",
       "        text-align: right;\n",
       "    }\n",
       "</style>\n",
       "<table border=\"1\" class=\"dataframe\">\n",
       "  <thead>\n",
       "    <tr>\n",
       "      <th></th>\n",
       "      <th colspan=\"8\" halign=\"left\">event_user_id</th>\n",
       "    </tr>\n",
       "    <tr>\n",
       "      <th></th>\n",
       "      <th>count</th>\n",
       "      <th>mean</th>\n",
       "      <th>std</th>\n",
       "      <th>min</th>\n",
       "      <th>25%</th>\n",
       "      <th>50%</th>\n",
       "      <th>75%</th>\n",
       "      <th>max</th>\n",
       "    </tr>\n",
       "    <tr>\n",
       "      <th>period</th>\n",
       "      <th></th>\n",
       "      <th></th>\n",
       "      <th></th>\n",
       "      <th></th>\n",
       "      <th></th>\n",
       "      <th></th>\n",
       "      <th></th>\n",
       "      <th></th>\n",
       "    </tr>\n",
       "  </thead>\n",
       "  <tbody>\n",
       "    <tr>\n",
       "      <th>after-block</th>\n",
       "      <td>383.0</td>\n",
       "      <td>283.352480</td>\n",
       "      <td>71.960530</td>\n",
       "      <td>188.0</td>\n",
       "      <td>246.5</td>\n",
       "      <td>271.0</td>\n",
       "      <td>308.00</td>\n",
       "      <td>1285.0</td>\n",
       "    </tr>\n",
       "    <tr>\n",
       "      <th>block</th>\n",
       "      <td>992.0</td>\n",
       "      <td>73.993952</td>\n",
       "      <td>19.797970</td>\n",
       "      <td>40.0</td>\n",
       "      <td>67.0</td>\n",
       "      <td>73.0</td>\n",
       "      <td>79.25</td>\n",
       "      <td>607.0</td>\n",
       "    </tr>\n",
       "    <tr>\n",
       "      <th>pre-block</th>\n",
       "      <td>991.0</td>\n",
       "      <td>228.420787</td>\n",
       "      <td>33.085221</td>\n",
       "      <td>137.0</td>\n",
       "      <td>207.0</td>\n",
       "      <td>228.0</td>\n",
       "      <td>248.00</td>\n",
       "      <td>395.0</td>\n",
       "    </tr>\n",
       "  </tbody>\n",
       "</table>\n",
       "</div>"
      ],
      "text/plain": [
       "            event_user_id                                                      \\\n",
       "                    count        mean        std    min    25%    50%     75%   \n",
       "period                                                                          \n",
       "after-block         383.0  283.352480  71.960530  188.0  246.5  271.0  308.00   \n",
       "block               992.0   73.993952  19.797970   40.0   67.0   73.0   79.25   \n",
       "pre-block           991.0  228.420787  33.085221  137.0  207.0  228.0  248.00   \n",
       "\n",
       "                     \n",
       "                max  \n",
       "period               \n",
       "after-block  1285.0  \n",
       "block         607.0  \n",
       "pre-block     395.0  "
      ]
     },
     "execution_count": 234,
     "metadata": {},
     "output_type": "execute_result"
    }
   ],
   "source": [
    "daily_active_users.groupby('period').describe()"
   ]
  },
  {
   "cell_type": "code",
   "execution_count": 235,
   "metadata": {},
   "outputs": [
    {
     "name": "stdout",
     "output_type": "stream",
     "text": [
      "Median activity change for all users: -67.98245614035088%\n"
     ]
    }
   ],
   "source": [
    "print(f\"Median activity change for all users: {100*(73.0-228.0)/(228.0)}%\")"
   ]
  },
  {
   "cell_type": "markdown",
   "metadata": {},
   "source": [
    "Wikipedia lost nearly 70% of their daily active users due to the block."
   ]
  },
  {
   "cell_type": "code",
   "execution_count": 236,
   "metadata": {},
   "outputs": [],
   "source": [
    "from matplotlib import cm"
   ]
  },
  {
   "cell_type": "code",
   "execution_count": 237,
   "metadata": {},
   "outputs": [],
   "source": [
    "n = 5 # Number of colors\n",
    "new_colors = [plt.get_cmap('magma')(1. * i/n) for i in range(n)]\n",
    "plt.rc('axes', prop_cycle=(plt.cycler('color', new_colors[::-1])))"
   ]
  },
  {
   "cell_type": "code",
   "execution_count": 238,
   "metadata": {},
   "outputs": [
    {
     "data": {
      "image/png": "[encoded data removed]",
      "text/plain": [
       "<Figure size 1152x432 with 1 Axes>"
      ]
     },
     "metadata": {
      "needs_background": "light"
     },
     "output_type": "display_data"
    }
   ],
   "source": [
    "pctiles = [\"[0.0 - 0.25]\", \"[0.25 - 0.5]\", \"[0.5 - 0.75]\", \"[0.75 - 0.99]\", \"[0.99 - 1]\"]\n",
    "plt.figure(figsize=(16,6))\n",
    "plt.title(f\"Daily active users for users per activity level.\")\n",
    "for idx, category in enumerate(sorted(preblock_edit_counts.preblock_daily_edit_category.unique())):\n",
    "    category_users = preblock_edit_counts[preblock_edit_counts['preblock_daily_edit_category'] == category].user_id\n",
    "    df = edits[(edits['event_timestamp'] >= block_dates[0]-pd.Timedelta(days=blocked_days))&(edits.event_user_id.isin(category_users))].set_index('event_timestamp').groupby(pd.Grouper(freq= 'D')).event_user_id.nunique().reset_index()\n",
    "    rolling_mean = df.rolling(window=30).mean()\n",
    "    plt.plot(df.event_timestamp.values, rolling_mean, label = f\"Percentiles {pctiles[idx]}\")\n",
    "\n",
    "plt.ylabel(\"Number of active users\")\n",
    "plt.xlabel(\"Day\")\n",
    "plt.legend()\n",
    "plt.show()"
   ]
  },
  {
   "cell_type": "code",
   "execution_count": 240,
   "metadata": {},
   "outputs": [],
   "source": [
    "edits_cat_slice = pd.merge(edits[['event_user_id']], preblock_edit_counts[['user_id', 'preblock_daily_edit_category']], how = 'left', left_on ='event_user_id', right_on='user_id' )"
   ]
  },
  {
   "cell_type": "code",
   "execution_count": 248,
   "metadata": {},
   "outputs": [],
   "source": [
    "edits = edits.reset_index()"
   ]
  },
  {
   "cell_type": "code",
   "execution_count": 249,
   "metadata": {},
   "outputs": [],
   "source": [
    "edits['preblock_daily_edit_category'] = edits_cat_slice['preblock_daily_edit_category']"
   ]
  },
  {
   "cell_type": "code",
   "execution_count": 250,
   "metadata": {},
   "outputs": [
    {
     "data": {
      "text/html": [
       "<div>\n",
       "<style scoped>\n",
       "    .dataframe tbody tr th:only-of-type {\n",
       "        vertical-align: middle;\n",
       "    }\n",
       "\n",
       "    .dataframe tbody tr th {\n",
       "        vertical-align: top;\n",
       "    }\n",
       "\n",
       "    .dataframe thead th {\n",
       "        text-align: right;\n",
       "    }\n",
       "</style>\n",
       "<table border=\"1\" class=\"dataframe\">\n",
       "  <thead>\n",
       "    <tr style=\"text-align: right;\">\n",
       "      <th></th>\n",
       "      <th>index</th>\n",
       "      <th>event_user_id</th>\n",
       "      <th>event_timestamp</th>\n",
       "      <th>page_id</th>\n",
       "      <th>page_revision_count</th>\n",
       "      <th>revision_minor_edit</th>\n",
       "      <th>revision_text_bytes</th>\n",
       "      <th>revision_is_identity_revert</th>\n",
       "      <th>preblock_daily_edit_category</th>\n",
       "    </tr>\n",
       "  </thead>\n",
       "  <tbody>\n",
       "    <tr>\n",
       "      <th>20</th>\n",
       "      <td>176</td>\n",
       "      <td>25</td>\n",
       "      <td>2003-10-25 18:18:57+00:00</td>\n",
       "      <td>2740662</td>\n",
       "      <td>60.0</td>\n",
       "      <td>True</td>\n",
       "      <td>6363</td>\n",
       "      <td>False</td>\n",
       "      <td>(0.0, 0.00202]</td>\n",
       "    </tr>\n",
       "    <tr>\n",
       "      <th>21</th>\n",
       "      <td>186</td>\n",
       "      <td>25</td>\n",
       "      <td>2003-10-31 03:18:13+00:00</td>\n",
       "      <td>2740662</td>\n",
       "      <td>61.0</td>\n",
       "      <td>True</td>\n",
       "      <td>6388</td>\n",
       "      <td>False</td>\n",
       "      <td>(0.0, 0.00202]</td>\n",
       "    </tr>\n",
       "    <tr>\n",
       "      <th>30</th>\n",
       "      <td>243</td>\n",
       "      <td>25</td>\n",
       "      <td>2003-11-26 16:34:37+00:00</td>\n",
       "      <td>2740662</td>\n",
       "      <td>81.0</td>\n",
       "      <td>True</td>\n",
       "      <td>4335</td>\n",
       "      <td>False</td>\n",
       "      <td>(0.0, 0.00202]</td>\n",
       "    </tr>\n",
       "    <tr>\n",
       "      <th>38</th>\n",
       "      <td>545</td>\n",
       "      <td>25</td>\n",
       "      <td>2003-12-20 01:20:09+00:00</td>\n",
       "      <td>59</td>\n",
       "      <td>6.0</td>\n",
       "      <td>True</td>\n",
       "      <td>631</td>\n",
       "      <td>True</td>\n",
       "      <td>(0.0, 0.00202]</td>\n",
       "    </tr>\n",
       "    <tr>\n",
       "      <th>41</th>\n",
       "      <td>577</td>\n",
       "      <td>47</td>\n",
       "      <td>2003-12-24 15:23:38+00:00</td>\n",
       "      <td>649</td>\n",
       "      <td>2.0</td>\n",
       "      <td>False</td>\n",
       "      <td>627</td>\n",
       "      <td>False</td>\n",
       "      <td>(0.00303, 0.00706]</td>\n",
       "    </tr>\n",
       "    <tr>\n",
       "      <th>...</th>\n",
       "      <td>...</td>\n",
       "      <td>...</td>\n",
       "      <td>...</td>\n",
       "      <td>...</td>\n",
       "      <td>...</td>\n",
       "      <td>...</td>\n",
       "      <td>...</td>\n",
       "      <td>...</td>\n",
       "      <td>...</td>\n",
       "    </tr>\n",
       "    <tr>\n",
       "      <th>9538265</th>\n",
       "      <td>24670408</td>\n",
       "      <td>166490</td>\n",
       "      <td>2021-02-01 15:53:21+00:00</td>\n",
       "      <td>2908790</td>\n",
       "      <td>2.0</td>\n",
       "      <td>True</td>\n",
       "      <td>33</td>\n",
       "      <td>False</td>\n",
       "      <td>(0.341, 224.838]</td>\n",
       "    </tr>\n",
       "    <tr>\n",
       "      <th>9538268</th>\n",
       "      <td>24670415</td>\n",
       "      <td>775403</td>\n",
       "      <td>2021-02-01 15:54:48+00:00</td>\n",
       "      <td>2717907</td>\n",
       "      <td>160.0</td>\n",
       "      <td>False</td>\n",
       "      <td>22005</td>\n",
       "      <td>False</td>\n",
       "      <td>(0.00706, 0.341]</td>\n",
       "    </tr>\n",
       "    <tr>\n",
       "      <th>9538270</th>\n",
       "      <td>24670418</td>\n",
       "      <td>466504</td>\n",
       "      <td>2021-02-01 15:55:14+00:00</td>\n",
       "      <td>2908622</td>\n",
       "      <td>3.0</td>\n",
       "      <td>False</td>\n",
       "      <td>658</td>\n",
       "      <td>False</td>\n",
       "      <td>(0.341, 224.838]</td>\n",
       "    </tr>\n",
       "    <tr>\n",
       "      <th>9538271</th>\n",
       "      <td>24670419</td>\n",
       "      <td>466504</td>\n",
       "      <td>2021-02-01 15:56:02+00:00</td>\n",
       "      <td>2861149</td>\n",
       "      <td>10.0</td>\n",
       "      <td>False</td>\n",
       "      <td>7831</td>\n",
       "      <td>False</td>\n",
       "      <td>(0.341, 224.838]</td>\n",
       "    </tr>\n",
       "    <tr>\n",
       "      <th>9538273</th>\n",
       "      <td>24670421</td>\n",
       "      <td>775403</td>\n",
       "      <td>2021-02-01 15:56:18+00:00</td>\n",
       "      <td>2727922</td>\n",
       "      <td>149.0</td>\n",
       "      <td>False</td>\n",
       "      <td>20997</td>\n",
       "      <td>False</td>\n",
       "      <td>(0.00706, 0.341]</td>\n",
       "    </tr>\n",
       "  </tbody>\n",
       "</table>\n",
       "<p>6996954 rows × 9 columns</p>\n",
       "</div>"
      ],
      "text/plain": [
       "            index  event_user_id           event_timestamp  page_id  \\\n",
       "20            176             25 2003-10-25 18:18:57+00:00  2740662   \n",
       "21            186             25 2003-10-31 03:18:13+00:00  2740662   \n",
       "30            243             25 2003-11-26 16:34:37+00:00  2740662   \n",
       "38            545             25 2003-12-20 01:20:09+00:00       59   \n",
       "41            577             47 2003-12-24 15:23:38+00:00      649   \n",
       "...           ...            ...                       ...      ...   \n",
       "9538265  24670408         166490 2021-02-01 15:53:21+00:00  2908790   \n",
       "9538268  24670415         775403 2021-02-01 15:54:48+00:00  2717907   \n",
       "9538270  24670418         466504 2021-02-01 15:55:14+00:00  2908622   \n",
       "9538271  24670419         466504 2021-02-01 15:56:02+00:00  2861149   \n",
       "9538273  24670421         775403 2021-02-01 15:56:18+00:00  2727922   \n",
       "\n",
       "         page_revision_count  revision_minor_edit  revision_text_bytes  \\\n",
       "20                      60.0                 True                 6363   \n",
       "21                      61.0                 True                 6388   \n",
       "30                      81.0                 True                 4335   \n",
       "38                       6.0                 True                  631   \n",
       "41                       2.0                False                  627   \n",
       "...                      ...                  ...                  ...   \n",
       "9538265                  2.0                 True                   33   \n",
       "9538268                160.0                False                22005   \n",
       "9538270                  3.0                False                  658   \n",
       "9538271                 10.0                False                 7831   \n",
       "9538273                149.0                False                20997   \n",
       "\n",
       "         revision_is_identity_revert preblock_daily_edit_category  \n",
       "20                             False               (0.0, 0.00202]  \n",
       "21                             False               (0.0, 0.00202]  \n",
       "30                             False               (0.0, 0.00202]  \n",
       "38                              True               (0.0, 0.00202]  \n",
       "41                             False           (0.00303, 0.00706]  \n",
       "...                              ...                          ...  \n",
       "9538265                        False             (0.341, 224.838]  \n",
       "9538268                        False             (0.00706, 0.341]  \n",
       "9538270                        False             (0.341, 224.838]  \n",
       "9538271                        False             (0.341, 224.838]  \n",
       "9538273                        False             (0.00706, 0.341]  \n",
       "\n",
       "[6996954 rows x 9 columns]"
      ]
     },
     "execution_count": 250,
     "metadata": {},
     "output_type": "execute_result"
    }
   ],
   "source": [
    "edits = edits[~edits.preblock_daily_edit_category.isna()]"
   ]
  },
  {
   "cell_type": "code",
   "execution_count": 251,
   "metadata": {},
   "outputs": [],
   "source": [
    "edits = edits[(edits['event_timestamp'] >= block_dates[0] - pd.Timedelta(days=blocked_days))]"
   ]
  },
  {
   "cell_type": "code",
   "execution_count": 252,
   "metadata": {},
   "outputs": [],
   "source": [
    "edits.loc[edits['event_timestamp'] < block_dates[0], 'period'] = 'pre-block'\n",
    "edits.loc[(edits['event_timestamp'] >= block_dates[0]) & (edits['event_timestamp'] < block_dates[1]), 'period'] = 'block'\n",
    "edits.loc[edits['event_timestamp'] >= block_dates[1], 'period'] = 'after-block'"
   ]
  },
  {
   "cell_type": "code",
   "execution_count": 258,
   "metadata": {},
   "outputs": [
    {
     "data": {
      "text/html": [
       "<div>\n",
       "<style scoped>\n",
       "    .dataframe tbody tr th:only-of-type {\n",
       "        vertical-align: middle;\n",
       "    }\n",
       "\n",
       "    .dataframe tbody tr th {\n",
       "        vertical-align: top;\n",
       "    }\n",
       "\n",
       "    .dataframe thead th {\n",
       "        text-align: right;\n",
       "    }\n",
       "</style>\n",
       "<table border=\"1\" class=\"dataframe\">\n",
       "  <thead>\n",
       "    <tr style=\"text-align: right;\">\n",
       "      <th></th>\n",
       "      <th>index</th>\n",
       "      <th>event_user_id</th>\n",
       "      <th>event_timestamp</th>\n",
       "      <th>page_id</th>\n",
       "      <th>page_revision_count</th>\n",
       "      <th>revision_minor_edit</th>\n",
       "      <th>revision_text_bytes</th>\n",
       "      <th>revision_is_identity_revert</th>\n",
       "      <th>preblock_daily_edit_category</th>\n",
       "      <th>period</th>\n",
       "    </tr>\n",
       "  </thead>\n",
       "  <tbody>\n",
       "    <tr>\n",
       "      <th>4440716</th>\n",
       "      <td>14523274</td>\n",
       "      <td>344317</td>\n",
       "      <td>2014-08-12 00:04:48+00:00</td>\n",
       "      <td>1758272</td>\n",
       "      <td>1.0</td>\n",
       "      <td>False</td>\n",
       "      <td>558</td>\n",
       "      <td>False</td>\n",
       "      <td>(0.00303, 0.00706]</td>\n",
       "      <td>pre-block</td>\n",
       "    </tr>\n",
       "    <tr>\n",
       "      <th>4440717</th>\n",
       "      <td>14523275</td>\n",
       "      <td>369043</td>\n",
       "      <td>2014-08-12 00:05:00+00:00</td>\n",
       "      <td>1798433</td>\n",
       "      <td>2046.0</td>\n",
       "      <td>True</td>\n",
       "      <td>115877</td>\n",
       "      <td>True</td>\n",
       "      <td>(0.341, 224.838]</td>\n",
       "      <td>pre-block</td>\n",
       "    </tr>\n",
       "    <tr>\n",
       "      <th>4440718</th>\n",
       "      <td>14523279</td>\n",
       "      <td>344317</td>\n",
       "      <td>2014-08-12 00:09:36+00:00</td>\n",
       "      <td>1758273</td>\n",
       "      <td>1.0</td>\n",
       "      <td>False</td>\n",
       "      <td>1275</td>\n",
       "      <td>False</td>\n",
       "      <td>(0.00303, 0.00706]</td>\n",
       "      <td>pre-block</td>\n",
       "    </tr>\n",
       "    <tr>\n",
       "      <th>4440719</th>\n",
       "      <td>14523281</td>\n",
       "      <td>362126</td>\n",
       "      <td>2014-08-12 00:23:20+00:00</td>\n",
       "      <td>1758270</td>\n",
       "      <td>2.0</td>\n",
       "      <td>False</td>\n",
       "      <td>5155</td>\n",
       "      <td>False</td>\n",
       "      <td>(0.341, 224.838]</td>\n",
       "      <td>pre-block</td>\n",
       "    </tr>\n",
       "    <tr>\n",
       "      <th>4440720</th>\n",
       "      <td>14523284</td>\n",
       "      <td>362126</td>\n",
       "      <td>2014-08-12 00:25:34+00:00</td>\n",
       "      <td>1758270</td>\n",
       "      <td>3.0</td>\n",
       "      <td>False</td>\n",
       "      <td>5196</td>\n",
       "      <td>False</td>\n",
       "      <td>(0.341, 224.838]</td>\n",
       "      <td>pre-block</td>\n",
       "    </tr>\n",
       "    <tr>\n",
       "      <th>...</th>\n",
       "      <td>...</td>\n",
       "      <td>...</td>\n",
       "      <td>...</td>\n",
       "      <td>...</td>\n",
       "      <td>...</td>\n",
       "      <td>...</td>\n",
       "      <td>...</td>\n",
       "      <td>...</td>\n",
       "      <td>...</td>\n",
       "      <td>...</td>\n",
       "    </tr>\n",
       "    <tr>\n",
       "      <th>9538269</th>\n",
       "      <td>24670417</td>\n",
       "      <td>1175541</td>\n",
       "      <td>2021-02-01 15:55:06+00:00</td>\n",
       "      <td>3075</td>\n",
       "      <td>343.0</td>\n",
       "      <td>False</td>\n",
       "      <td>16149</td>\n",
       "      <td>False</td>\n",
       "      <td>NaN</td>\n",
       "      <td>after-block</td>\n",
       "    </tr>\n",
       "    <tr>\n",
       "      <th>9538270</th>\n",
       "      <td>24670418</td>\n",
       "      <td>466504</td>\n",
       "      <td>2021-02-01 15:55:14+00:00</td>\n",
       "      <td>2908622</td>\n",
       "      <td>3.0</td>\n",
       "      <td>False</td>\n",
       "      <td>658</td>\n",
       "      <td>False</td>\n",
       "      <td>(0.341, 224.838]</td>\n",
       "      <td>after-block</td>\n",
       "    </tr>\n",
       "    <tr>\n",
       "      <th>9538271</th>\n",
       "      <td>24670419</td>\n",
       "      <td>466504</td>\n",
       "      <td>2021-02-01 15:56:02+00:00</td>\n",
       "      <td>2861149</td>\n",
       "      <td>10.0</td>\n",
       "      <td>False</td>\n",
       "      <td>7831</td>\n",
       "      <td>False</td>\n",
       "      <td>(0.341, 224.838]</td>\n",
       "      <td>after-block</td>\n",
       "    </tr>\n",
       "    <tr>\n",
       "      <th>9538272</th>\n",
       "      <td>24670420</td>\n",
       "      <td>1221913</td>\n",
       "      <td>2021-02-01 15:56:08+00:00</td>\n",
       "      <td>747973</td>\n",
       "      <td>43.0</td>\n",
       "      <td>True</td>\n",
       "      <td>1655</td>\n",
       "      <td>False</td>\n",
       "      <td>NaN</td>\n",
       "      <td>after-block</td>\n",
       "    </tr>\n",
       "    <tr>\n",
       "      <th>9538273</th>\n",
       "      <td>24670421</td>\n",
       "      <td>775403</td>\n",
       "      <td>2021-02-01 15:56:18+00:00</td>\n",
       "      <td>2727922</td>\n",
       "      <td>149.0</td>\n",
       "      <td>False</td>\n",
       "      <td>20997</td>\n",
       "      <td>False</td>\n",
       "      <td>(0.00706, 0.341]</td>\n",
       "      <td>after-block</td>\n",
       "    </tr>\n",
       "  </tbody>\n",
       "</table>\n",
       "<p>5097558 rows × 10 columns</p>\n",
       "</div>"
      ],
      "text/plain": [
       "            index  event_user_id           event_timestamp  page_id  \\\n",
       "4440716  14523274         344317 2014-08-12 00:04:48+00:00  1758272   \n",
       "4440717  14523275         369043 2014-08-12 00:05:00+00:00  1798433   \n",
       "4440718  14523279         344317 2014-08-12 00:09:36+00:00  1758273   \n",
       "4440719  14523281         362126 2014-08-12 00:23:20+00:00  1758270   \n",
       "4440720  14523284         362126 2014-08-12 00:25:34+00:00  1758270   \n",
       "...           ...            ...                       ...      ...   \n",
       "9538269  24670417        1175541 2021-02-01 15:55:06+00:00     3075   \n",
       "9538270  24670418         466504 2021-02-01 15:55:14+00:00  2908622   \n",
       "9538271  24670419         466504 2021-02-01 15:56:02+00:00  2861149   \n",
       "9538272  24670420        1221913 2021-02-01 15:56:08+00:00   747973   \n",
       "9538273  24670421         775403 2021-02-01 15:56:18+00:00  2727922   \n",
       "\n",
       "         page_revision_count  revision_minor_edit  revision_text_bytes  \\\n",
       "4440716                  1.0                False                  558   \n",
       "4440717               2046.0                 True               115877   \n",
       "4440718                  1.0                False                 1275   \n",
       "4440719                  2.0                False                 5155   \n",
       "4440720                  3.0                False                 5196   \n",
       "...                      ...                  ...                  ...   \n",
       "9538269                343.0                False                16149   \n",
       "9538270                  3.0                False                  658   \n",
       "9538271                 10.0                False                 7831   \n",
       "9538272                 43.0                 True                 1655   \n",
       "9538273                149.0                False                20997   \n",
       "\n",
       "         revision_is_identity_revert preblock_daily_edit_category       period  \n",
       "4440716                        False           (0.00303, 0.00706]    pre-block  \n",
       "4440717                         True             (0.341, 224.838]    pre-block  \n",
       "4440718                        False           (0.00303, 0.00706]    pre-block  \n",
       "4440719                        False             (0.341, 224.838]    pre-block  \n",
       "4440720                        False             (0.341, 224.838]    pre-block  \n",
       "...                              ...                          ...          ...  \n",
       "9538269                        False                          NaN  after-block  \n",
       "9538270                        False             (0.341, 224.838]  after-block  \n",
       "9538271                        False             (0.341, 224.838]  after-block  \n",
       "9538272                        False                          NaN  after-block  \n",
       "9538273                        False             (0.00706, 0.341]  after-block  \n",
       "\n",
       "[5097558 rows x 10 columns]"
      ]
     },
     "execution_count": 258,
     "metadata": {},
     "output_type": "execute_result"
    }
   ],
   "source": [
    "edits"
   ]
  },
  {
   "cell_type": "markdown",
   "metadata": {},
   "source": [
    "## Analysing drop by user activity"
   ]
  },
  {
   "cell_type": "code",
   "execution_count": 264,
   "metadata": {},
   "outputs": [],
   "source": [
    "daily_active_users = edits.set_index('event_timestamp').groupby([pd.Grouper(freq= 'D')]).event_user_id.nunique()"
   ]
  },
  {
   "cell_type": "code",
   "execution_count": 265,
   "metadata": {},
   "outputs": [],
   "source": [
    "daily_active_users = daily_active_users.reset_index()"
   ]
  },
  {
   "cell_type": "code",
   "execution_count": 266,
   "metadata": {},
   "outputs": [],
   "source": [
    "daily_active_users = daily_active_users[daily_active_users['event_timestamp'] >= block_dates[0]-pd.Timedelta(days=blocked_days)]"
   ]
  },
  {
   "cell_type": "code",
   "execution_count": 267,
   "metadata": {},
   "outputs": [
    {
     "data": {
      "image/png": "[encoded data removed]",
      "text/plain": [
       "<Figure size 1152x288 with 1 Axes>"
      ]
     },
     "metadata": {
      "needs_background": "light"
     },
     "output_type": "display_data"
    }
   ],
   "source": [
    "plt.figure(figsize=(16,4))\n",
    "plt.title(\"Daily active users to Turkish Wikipedia\")\n",
    "rolling_mean = daily_active_users.rolling(window=7).mean()\n",
    "plt.plot(daily_active_users.event_timestamp.values, rolling_mean, color='blue', lw=0.5)\n",
    "plt.ylabel(\"Number of active users\")\n",
    "plt.xlabel(\"Day\")\n",
    "# for date in block_dates:\n",
    "#     plt.axvline(date)\n",
    "plt.show()"
   ]
  },
  {
   "cell_type": "code",
   "execution_count": 268,
   "metadata": {},
   "outputs": [],
   "source": [
    "daily_active_users['period'] = daily_active_users.apply(lambda row: 'pre-block' if row['event_timestamp'] < block_dates[0] else 'block' if not row['event_timestamp'] >= block_dates[1] else 'after-block', axis=1)"
   ]
  },
  {
   "cell_type": "code",
   "execution_count": 269,
   "metadata": {},
   "outputs": [
    {
     "data": {
      "text/html": [
       "<div>\n",
       "<style scoped>\n",
       "    .dataframe tbody tr th:only-of-type {\n",
       "        vertical-align: middle;\n",
       "    }\n",
       "\n",
       "    .dataframe tbody tr th {\n",
       "        vertical-align: top;\n",
       "    }\n",
       "\n",
       "    .dataframe thead tr th {\n",
       "        text-align: left;\n",
       "    }\n",
       "\n",
       "    .dataframe thead tr:last-of-type th {\n",
       "        text-align: right;\n",
       "    }\n",
       "</style>\n",
       "<table border=\"1\" class=\"dataframe\">\n",
       "  <thead>\n",
       "    <tr>\n",
       "      <th></th>\n",
       "      <th colspan=\"8\" halign=\"left\">event_user_id</th>\n",
       "    </tr>\n",
       "    <tr>\n",
       "      <th></th>\n",
       "      <th>count</th>\n",
       "      <th>mean</th>\n",
       "      <th>std</th>\n",
       "      <th>min</th>\n",
       "      <th>25%</th>\n",
       "      <th>50%</th>\n",
       "      <th>75%</th>\n",
       "      <th>max</th>\n",
       "    </tr>\n",
       "    <tr>\n",
       "      <th>period</th>\n",
       "      <th></th>\n",
       "      <th></th>\n",
       "      <th></th>\n",
       "      <th></th>\n",
       "      <th></th>\n",
       "      <th></th>\n",
       "      <th></th>\n",
       "      <th></th>\n",
       "    </tr>\n",
       "  </thead>\n",
       "  <tbody>\n",
       "    <tr>\n",
       "      <th>after-block</th>\n",
       "      <td>383.0</td>\n",
       "      <td>283.352480</td>\n",
       "      <td>71.960530</td>\n",
       "      <td>188.0</td>\n",
       "      <td>246.5</td>\n",
       "      <td>271.0</td>\n",
       "      <td>308.00</td>\n",
       "      <td>1285.0</td>\n",
       "    </tr>\n",
       "    <tr>\n",
       "      <th>block</th>\n",
       "      <td>992.0</td>\n",
       "      <td>73.993952</td>\n",
       "      <td>19.797970</td>\n",
       "      <td>40.0</td>\n",
       "      <td>67.0</td>\n",
       "      <td>73.0</td>\n",
       "      <td>79.25</td>\n",
       "      <td>607.0</td>\n",
       "    </tr>\n",
       "    <tr>\n",
       "      <th>pre-block</th>\n",
       "      <td>991.0</td>\n",
       "      <td>228.420787</td>\n",
       "      <td>33.085221</td>\n",
       "      <td>137.0</td>\n",
       "      <td>207.0</td>\n",
       "      <td>228.0</td>\n",
       "      <td>248.00</td>\n",
       "      <td>395.0</td>\n",
       "    </tr>\n",
       "  </tbody>\n",
       "</table>\n",
       "</div>"
      ],
      "text/plain": [
       "            event_user_id                                                      \\\n",
       "                    count        mean        std    min    25%    50%     75%   \n",
       "period                                                                          \n",
       "after-block         383.0  283.352480  71.960530  188.0  246.5  271.0  308.00   \n",
       "block               992.0   73.993952  19.797970   40.0   67.0   73.0   79.25   \n",
       "pre-block           991.0  228.420787  33.085221  137.0  207.0  228.0  248.00   \n",
       "\n",
       "                     \n",
       "                max  \n",
       "period               \n",
       "after-block  1285.0  \n",
       "block         607.0  \n",
       "pre-block     395.0  "
      ]
     },
     "execution_count": 269,
     "metadata": {},
     "output_type": "execute_result"
    }
   ],
   "source": [
    "daily_active_users.groupby('period').describe()"
   ]
  },
  {
   "cell_type": "code",
   "execution_count": 270,
   "metadata": {},
   "outputs": [
    {
     "name": "stdout",
     "output_type": "stream",
     "text": [
      "Median activity change for all users: -67.98245614035088%\n"
     ]
    }
   ],
   "source": [
    "print(f\"Median activity change for all users: {100*(73.0-228.0)/(228.0)}%\")"
   ]
  },
  {
   "cell_type": "markdown",
   "metadata": {},
   "source": [
    "Wikipedia lost nearly 70% of their daily active users due to the block."
   ]
  },
  {
   "cell_type": "markdown",
   "metadata": {},
   "source": [
    "## Analysing drop by user activity category\n"
   ]
  },
  {
   "cell_type": "code",
   "execution_count": 271,
   "metadata": {},
   "outputs": [],
   "source": [
    "daily_active_users = edits.set_index('event_timestamp').groupby([pd.Grouper(freq= 'D'), 'preblock_daily_edit_category']).event_user_id.nunique()"
   ]
  },
  {
   "cell_type": "code",
   "execution_count": 273,
   "metadata": {},
   "outputs": [],
   "source": [
    "daily_active_users = daily_active_users.reset_index()"
   ]
  },
  {
   "cell_type": "code",
   "execution_count": 275,
   "metadata": {},
   "outputs": [],
   "source": [
    "daily_active_users['period'] = daily_active_users.apply(lambda row: 'pre-block' if row['event_timestamp'] < block_dates[0] else 'block' if not row['event_timestamp'] >= block_dates[1] else 'after-block', axis=1)"
   ]
  },
  {
   "cell_type": "code",
   "execution_count": 287,
   "metadata": {},
   "outputs": [
    {
     "data": {
      "text/html": [
       "<div>\n",
       "<style scoped>\n",
       "    .dataframe tbody tr th:only-of-type {\n",
       "        vertical-align: middle;\n",
       "    }\n",
       "\n",
       "    .dataframe tbody tr th {\n",
       "        vertical-align: top;\n",
       "    }\n",
       "\n",
       "    .dataframe thead th {\n",
       "        text-align: right;\n",
       "    }\n",
       "</style>\n",
       "<table border=\"1\" class=\"dataframe\">\n",
       "  <thead>\n",
       "    <tr style=\"text-align: right;\">\n",
       "      <th></th>\n",
       "      <th>event_timestamp</th>\n",
       "      <th>preblock_daily_edit_category</th>\n",
       "      <th>event_user_id</th>\n",
       "      <th>period</th>\n",
       "    </tr>\n",
       "  </thead>\n",
       "  <tbody>\n",
       "    <tr>\n",
       "      <th>4955</th>\n",
       "      <td>2017-04-29 00:00:00+00:00</td>\n",
       "      <td>(0.0, 0.00202]</td>\n",
       "      <td>2</td>\n",
       "      <td>block</td>\n",
       "    </tr>\n",
       "    <tr>\n",
       "      <th>4956</th>\n",
       "      <td>2017-04-29 00:00:00+00:00</td>\n",
       "      <td>(0.00202, 0.00303]</td>\n",
       "      <td>6</td>\n",
       "      <td>block</td>\n",
       "    </tr>\n",
       "    <tr>\n",
       "      <th>4957</th>\n",
       "      <td>2017-04-29 00:00:00+00:00</td>\n",
       "      <td>(0.00303, 0.00706]</td>\n",
       "      <td>6</td>\n",
       "      <td>block</td>\n",
       "    </tr>\n",
       "    <tr>\n",
       "      <th>4958</th>\n",
       "      <td>2017-04-29 00:00:00+00:00</td>\n",
       "      <td>(0.00706, 0.341]</td>\n",
       "      <td>33</td>\n",
       "      <td>block</td>\n",
       "    </tr>\n",
       "    <tr>\n",
       "      <th>4959</th>\n",
       "      <td>2017-04-29 00:00:00+00:00</td>\n",
       "      <td>(0.341, 224.838]</td>\n",
       "      <td>54</td>\n",
       "      <td>block</td>\n",
       "    </tr>\n",
       "    <tr>\n",
       "      <th>...</th>\n",
       "      <td>...</td>\n",
       "      <td>...</td>\n",
       "      <td>...</td>\n",
       "      <td>...</td>\n",
       "    </tr>\n",
       "    <tr>\n",
       "      <th>9910</th>\n",
       "      <td>2020-01-15 00:00:00+00:00</td>\n",
       "      <td>(0.0, 0.00202]</td>\n",
       "      <td>11</td>\n",
       "      <td>block</td>\n",
       "    </tr>\n",
       "    <tr>\n",
       "      <th>9911</th>\n",
       "      <td>2020-01-15 00:00:00+00:00</td>\n",
       "      <td>(0.00202, 0.00303]</td>\n",
       "      <td>5</td>\n",
       "      <td>block</td>\n",
       "    </tr>\n",
       "    <tr>\n",
       "      <th>9912</th>\n",
       "      <td>2020-01-15 00:00:00+00:00</td>\n",
       "      <td>(0.00303, 0.00706]</td>\n",
       "      <td>8</td>\n",
       "      <td>block</td>\n",
       "    </tr>\n",
       "    <tr>\n",
       "      <th>9913</th>\n",
       "      <td>2020-01-15 00:00:00+00:00</td>\n",
       "      <td>(0.00706, 0.341]</td>\n",
       "      <td>51</td>\n",
       "      <td>block</td>\n",
       "    </tr>\n",
       "    <tr>\n",
       "      <th>9914</th>\n",
       "      <td>2020-01-15 00:00:00+00:00</td>\n",
       "      <td>(0.341, 224.838]</td>\n",
       "      <td>55</td>\n",
       "      <td>block</td>\n",
       "    </tr>\n",
       "  </tbody>\n",
       "</table>\n",
       "<p>4960 rows × 4 columns</p>\n",
       "</div>"
      ],
      "text/plain": [
       "               event_timestamp preblock_daily_edit_category  event_user_id  \\\n",
       "4955 2017-04-29 00:00:00+00:00               (0.0, 0.00202]              2   \n",
       "4956 2017-04-29 00:00:00+00:00           (0.00202, 0.00303]              6   \n",
       "4957 2017-04-29 00:00:00+00:00           (0.00303, 0.00706]              6   \n",
       "4958 2017-04-29 00:00:00+00:00             (0.00706, 0.341]             33   \n",
       "4959 2017-04-29 00:00:00+00:00             (0.341, 224.838]             54   \n",
       "...                        ...                          ...            ...   \n",
       "9910 2020-01-15 00:00:00+00:00               (0.0, 0.00202]             11   \n",
       "9911 2020-01-15 00:00:00+00:00           (0.00202, 0.00303]              5   \n",
       "9912 2020-01-15 00:00:00+00:00           (0.00303, 0.00706]              8   \n",
       "9913 2020-01-15 00:00:00+00:00             (0.00706, 0.341]             51   \n",
       "9914 2020-01-15 00:00:00+00:00             (0.341, 224.838]             55   \n",
       "\n",
       "     period  \n",
       "4955  block  \n",
       "4956  block  \n",
       "4957  block  \n",
       "4958  block  \n",
       "4959  block  \n",
       "...     ...  \n",
       "9910  block  \n",
       "9911  block  \n",
       "9912  block  \n",
       "9913  block  \n",
       "9914  block  \n",
       "\n",
       "[4960 rows x 4 columns]"
      ]
     },
     "execution_count": 287,
     "metadata": {},
     "output_type": "execute_result"
    }
   ],
   "source": [
    "daily_active_users[daily_active_users['period'] == 'block']"
   ]
  },
  {
   "cell_type": "code",
   "execution_count": 290,
   "metadata": {},
   "outputs": [],
   "source": [
    "daily_active_users = daily_active_users.pivot(index='event_timestamp', columns='preblock_daily_edit_category', values='event_user_id')"
   ]
  },
  {
   "cell_type": "code",
   "execution_count": 328,
   "metadata": {},
   "outputs": [],
   "source": [
    "preblock = daily_active_users.loc[:block_dates[0] - pd.Timedelta(days=1)].to_numpy()"
   ]
  },
  {
   "cell_type": "code",
   "execution_count": 329,
   "metadata": {},
   "outputs": [],
   "source": [
    "block = daily_active_users.loc[block_dates[0]:block_dates[1]- pd.Timedelta(days=1)].to_numpy()"
   ]
  },
  {
   "cell_type": "code",
   "execution_count": 339,
   "metadata": {},
   "outputs": [],
   "source": [
    "afterblock = daily_active_users.loc[block_dates[1]:].to_numpy()"
   ]
  },
  {
   "cell_type": "code",
   "execution_count": 399,
   "metadata": {},
   "outputs": [],
   "source": [
    "from sklearn.utils import resample\n",
    "import matplotlib.ticker as mtick"
   ]
  },
  {
   "cell_type": "code",
   "execution_count": 381,
   "metadata": {},
   "outputs": [],
   "source": [
    "def calculate_bootstrapped_pct_change(n_bootstrap = 1000, n_samples = 100):\n",
    "    \n",
    "    preblock_block_change = np.zeros((n_bootstrap, 5))\n",
    "    block_afterblock_change = np.zeros((n_bootstrap, 5))\n",
    "    preblock_afterblock_change = np.zeros((n_bootstrap, 5))\n",
    "\n",
    "    for i in range(n_bootstrap):\n",
    "    \n",
    "        preblock_bootstrap = resample(preblock, n_samples = n_samples, replace=True)\n",
    "        block_bootstrap = resample(block, n_samples = n_samples, replace=True)\n",
    "        afterblock_bootstrap = resample(afterblock, n_samples = n_samples, replace=True)\n",
    "        preblock_mean = preblock_bootstrap.mean(axis = 0)\n",
    "        block_mean = block_bootstrap.mean(axis = 0)\n",
    "        afterblock_mean = afterblock_bootstrap.mean(axis = 0)\n",
    "\n",
    "        preblock_block_change[i, :] = 100*(block_mean-preblock_mean)/preblock_mean\n",
    "        block_afterblock_change[i, :]= 100*(afterblock_mean-block_mean)/block_mean\n",
    "        preblock_afterblock_change[i, :]= 100*(afterblock_mean-preblock_mean)/preblock_mean\n",
    "        \n",
    "    return preblock_block_change, block_afterblock_change, preblock_afterblock_change\n",
    "    \n",
    "    "
   ]
  },
  {
   "cell_type": "code",
   "execution_count": 382,
   "metadata": {},
   "outputs": [],
   "source": [
    "preblock_block_change, block_afterblock_change, preblock_afterblock_change = calculate_bootstrapped_pct_change()"
   ]
  },
  {
   "cell_type": "code",
   "execution_count": 404,
   "metadata": {},
   "outputs": [
    {
     "data": {
      "image/png": "[encoded data removed]",
      "text/plain": [
       "<Figure size 1080x720 with 1 Axes>"
      ]
     },
     "metadata": {
      "needs_background": "light"
     },
     "output_type": "display_data"
    }
   ],
   "source": [
    "fig, ax = plt.subplots()\n",
    "plt.title(f\"Percent change of activity between preblock and block periods by user activity level.\")\n",
    "fig.set_size_inches(15, 10)\n",
    "plt.xlabel('User activity category (percentiles)')\n",
    "plt.ylabel('Percent change')\n",
    "\n",
    "ax = sns.boxplot(data=preblock_block_change)\n",
    "ax.yaxis.set_major_formatter(mtick.PercentFormatter())\n",
    "plt.xticks(list(range(5)), pctiles)\n",
    "\n",
    "plt.show()"
   ]
  },
  {
   "cell_type": "code",
   "execution_count": 405,
   "metadata": {},
   "outputs": [
    {
     "data": {
      "image/png": "[encoded data removed]",
      "text/plain": [
       "<Figure size 1080x720 with 1 Axes>"
      ]
     },
     "metadata": {
      "needs_background": "light"
     },
     "output_type": "display_data"
    }
   ],
   "source": [
    "fig, ax = plt.subplots()\n",
    "plt.title(f\"Percent change of activity between block and afterblock periods by user activity level.\")\n",
    "fig.set_size_inches(15, 10)\n",
    "plt.xlabel('User activity category (percentiles)')\n",
    "plt.ylabel('Percent change')\n",
    "\n",
    "ax = sns.boxplot(data=block_afterblock_change)\n",
    "ax.yaxis.set_major_formatter(mtick.PercentFormatter())\n",
    "plt.xticks(list(range(5)), pctiles)\n",
    "\n",
    "plt.show()"
   ]
  },
  {
   "cell_type": "code",
   "execution_count": 406,
   "metadata": {},
   "outputs": [
    {
     "data": {
      "image/png": "[encoded data removed]",
      "text/plain": [
       "<Figure size 1080x720 with 1 Axes>"
      ]
     },
     "metadata": {
      "needs_background": "light"
     },
     "output_type": "display_data"
    }
   ],
   "source": [
    "fig, ax = plt.subplots()\n",
    "plt.title(f\"Percent change of activity between preblock and afterblock periods by user activity level.\")\n",
    "fig.set_size_inches(15, 10)\n",
    "plt.xlabel('User activity category (percentiles)')\n",
    "plt.ylabel('Percent change')\n",
    "\n",
    "ax = sns.boxplot(data=preblock_afterblock_change)\n",
    "ax.yaxis.set_major_formatter(mtick.PercentFormatter())\n",
    "plt.xticks(list(range(5)), pctiles)\n",
    "\n",
    "plt.show()"
   ]
  },
  {
   "cell_type": "code",
   "execution_count": null,
   "metadata": {},
   "outputs": [],
   "source": []
  }
 ],
 "metadata": {
  "kernelspec": {
   "display_name": "Python 3",
   "language": "python",
   "name": "python3"
  },
  "language_info": {
   "codemirror_mode": {
    "name": "ipython",
    "version": 3
   },
   "file_extension": ".py",
   "mimetype": "text/x-python",
   "name": "python",
   "nbconvert_exporter": "python",
   "pygments_lexer": "ipython3",
   "version": "3.7.7"
  }
 },
 "nbformat": 4,
 "nbformat_minor": 4
}
