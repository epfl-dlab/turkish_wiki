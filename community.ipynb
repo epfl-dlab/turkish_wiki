{
 "cells": [
  {
   "cell_type": "markdown",
   "metadata": {},
   "source": [
    "# Community\n",
    "In this notebook, I try to explore details about Wikipedia's core community, it's registered users. I try to understand how the block changed the levels of activity of users and try to implement new metrics for analysis."
   ]
  },
  {
   "cell_type": "code",
   "execution_count": 100,
   "metadata": {},
   "outputs": [],
   "source": [
    "import pandas as pd\n",
    "import numpy as np\n",
    "import matplotlib.pyplot as plt\n",
    "import matplotlib.dates as mdates\n",
    "import seaborn as sns\n",
    "from tqdm import tqdm"
   ]
  },
  {
   "cell_type": "code",
   "execution_count": 11,
   "metadata": {},
   "outputs": [],
   "source": [
    "DATA_PATH = '/dlabdata1/turkish_wiki'\n",
    "block_dates = [pd.to_datetime('2017-04-29', utc = True), pd.to_datetime('2020-01-15', utc = True)]"
   ]
  },
  {
   "cell_type": "markdown",
   "metadata": {},
   "source": [
    "## I. Preprocessing registered account edits for analysis"
   ]
  },
  {
   "cell_type": "code",
   "execution_count": 5,
   "metadata": {},
   "outputs": [
    {
     "name": "stderr",
     "output_type": "stream",
     "text": [
      "/opt/anaconda3/lib/python3.7/site-packages/IPython/core/interactiveshell.py:3063: DtypeWarning: Columns (10,13) have mixed types.Specify dtype option on import or set low_memory=False.\n",
      "  interactivity=interactivity, compiler=compiler, result=result)\n",
      "/home/ira/.local/lib/python3.7/site-packages/numpy/lib/arraysetops.py:569: FutureWarning: elementwise comparison failed; returning scalar instead, but in the future will perform elementwise comparison\n",
      "  mask |= (ar1 == a)\n"
     ]
    },
    {
     "data": {
      "text/html": [
       "<div>\n",
       "<style scoped>\n",
       "    .dataframe tbody tr th:only-of-type {\n",
       "        vertical-align: middle;\n",
       "    }\n",
       "\n",
       "    .dataframe tbody tr th {\n",
       "        vertical-align: top;\n",
       "    }\n",
       "\n",
       "    .dataframe thead th {\n",
       "        text-align: right;\n",
       "    }\n",
       "</style>\n",
       "<table border=\"1\" class=\"dataframe\">\n",
       "  <thead>\n",
       "    <tr style=\"text-align: right;\">\n",
       "      <th></th>\n",
       "      <th>event_type</th>\n",
       "      <th>event_timestamp</th>\n",
       "      <th>event_user_id</th>\n",
       "      <th>event_user_groups</th>\n",
       "      <th>event_user_revision_count</th>\n",
       "      <th>event_user_seconds_since_previous_revision</th>\n",
       "      <th>page_id</th>\n",
       "      <th>page_title</th>\n",
       "      <th>page_revision_count</th>\n",
       "      <th>revision_minor_edit</th>\n",
       "      <th>revision_text_bytes</th>\n",
       "      <th>revision_text_bytes_diff</th>\n",
       "      <th>revision_is_identity_revert</th>\n",
       "    </tr>\n",
       "  </thead>\n",
       "  <tbody>\n",
       "    <tr>\n",
       "      <th>1</th>\n",
       "      <td>create</td>\n",
       "      <td>2002-12-05 22:54:39+00:00</td>\n",
       "      <td>1</td>\n",
       "      <td>NaN</td>\n",
       "      <td>1</td>\n",
       "      <td>NaN</td>\n",
       "      <td>5</td>\n",
       "      <td>Main_Page</td>\n",
       "      <td>1.0</td>\n",
       "      <td>False</td>\n",
       "      <td>24</td>\n",
       "      <td>24.0</td>\n",
       "      <td>False</td>\n",
       "    </tr>\n",
       "    <tr>\n",
       "      <th>14</th>\n",
       "      <td>create</td>\n",
       "      <td>2003-03-13 16:30:04+00:00</td>\n",
       "      <td>6</td>\n",
       "      <td>NaN</td>\n",
       "      <td>1</td>\n",
       "      <td>NaN</td>\n",
       "      <td>10</td>\n",
       "      <td>Cengiz_Han</td>\n",
       "      <td>1.0</td>\n",
       "      <td>False</td>\n",
       "      <td>8540</td>\n",
       "      <td>8540.0</td>\n",
       "      <td>False</td>\n",
       "    </tr>\n",
       "    <tr>\n",
       "      <th>51</th>\n",
       "      <td>create</td>\n",
       "      <td>2003-08-02 01:08:44+00:00</td>\n",
       "      <td>13</td>\n",
       "      <td>NaN</td>\n",
       "      <td>2</td>\n",
       "      <td>303.0</td>\n",
       "      <td>24</td>\n",
       "      <td>Linux</td>\n",
       "      <td>1.0</td>\n",
       "      <td>False</td>\n",
       "      <td>257</td>\n",
       "      <td>257.0</td>\n",
       "      <td>False</td>\n",
       "    </tr>\n",
       "    <tr>\n",
       "      <th>52</th>\n",
       "      <td>create</td>\n",
       "      <td>2003-08-02 01:10:08+00:00</td>\n",
       "      <td>13</td>\n",
       "      <td>NaN</td>\n",
       "      <td>3</td>\n",
       "      <td>84.0</td>\n",
       "      <td>24</td>\n",
       "      <td>Linux</td>\n",
       "      <td>2.0</td>\n",
       "      <td>False</td>\n",
       "      <td>259</td>\n",
       "      <td>2.0</td>\n",
       "      <td>False</td>\n",
       "    </tr>\n",
       "    <tr>\n",
       "      <th>53</th>\n",
       "      <td>create</td>\n",
       "      <td>2003-08-02 01:11:50+00:00</td>\n",
       "      <td>13</td>\n",
       "      <td>NaN</td>\n",
       "      <td>4</td>\n",
       "      <td>102.0</td>\n",
       "      <td>24</td>\n",
       "      <td>Linux</td>\n",
       "      <td>3.0</td>\n",
       "      <td>False</td>\n",
       "      <td>261</td>\n",
       "      <td>2.0</td>\n",
       "      <td>False</td>\n",
       "    </tr>\n",
       "  </tbody>\n",
       "</table>\n",
       "</div>"
      ],
      "text/plain": [
       "   event_type            event_timestamp  event_user_id event_user_groups  \\\n",
       "1      create  2002-12-05 22:54:39+00:00              1               NaN   \n",
       "14     create  2003-03-13 16:30:04+00:00              6               NaN   \n",
       "51     create  2003-08-02 01:08:44+00:00             13               NaN   \n",
       "52     create  2003-08-02 01:10:08+00:00             13               NaN   \n",
       "53     create  2003-08-02 01:11:50+00:00             13               NaN   \n",
       "\n",
       "    event_user_revision_count  event_user_seconds_since_previous_revision  \\\n",
       "1                           1                                         NaN   \n",
       "14                          1                                         NaN   \n",
       "51                          2                                       303.0   \n",
       "52                          3                                        84.0   \n",
       "53                          4                                       102.0   \n",
       "\n",
       "    page_id  page_title  page_revision_count revision_minor_edit  \\\n",
       "1         5   Main_Page                  1.0               False   \n",
       "14       10  Cengiz_Han                  1.0               False   \n",
       "51       24       Linux                  1.0               False   \n",
       "52       24       Linux                  2.0               False   \n",
       "53       24       Linux                  3.0               False   \n",
       "\n",
       "    revision_text_bytes  revision_text_bytes_diff revision_is_identity_revert  \n",
       "1                    24                      24.0                       False  \n",
       "14                 8540                    8540.0                       False  \n",
       "51                  257                     257.0                       False  \n",
       "52                  259                       2.0                       False  \n",
       "53                  261                       2.0                       False  "
      ]
     },
     "execution_count": 5,
     "metadata": {},
     "output_type": "execute_result"
    }
   ],
   "source": [
    "edits = pd.read_csv(f'{DATA_PATH}/processed_data/account_edits.csv', index_col = 0)\n",
    "edits.head()"
   ]
  },
  {
   "cell_type": "code",
   "execution_count": 6,
   "metadata": {},
   "outputs": [],
   "source": [
    "# Select subset of columns, convert Data types\n",
    "edits = edits[['event_user_id', 'event_timestamp', 'page_id','page_revision_count', \n",
    "               'revision_minor_edit', 'revision_text_bytes','revision_is_identity_revert']]\n",
    "edits[['revision_minor_edit','revision_is_identity_revert']] = edits[['revision_minor_edit','revision_is_identity_revert']].convert_dtypes()\n",
    "edits['event_timestamp'] = pd.to_datetime(edits['event_timestamp'],   utc = True)"
   ]
  },
  {
   "cell_type": "markdown",
   "metadata": {},
   "source": [
    "### Find precise timestamp of the ban\n",
    "#### Find end of blocking"
   ]
  },
  {
   "cell_type": "code",
   "execution_count": 7,
   "metadata": {},
   "outputs": [],
   "source": [
    "registrations = pd.read_csv(f'{DATA_PATH}/processed_data/all_registrations.csv')"
   ]
  },
  {
   "cell_type": "code",
   "execution_count": 8,
   "metadata": {},
   "outputs": [
    {
     "data": {
      "text/html": [
       "<div>\n",
       "<style scoped>\n",
       "    .dataframe tbody tr th:only-of-type {\n",
       "        vertical-align: middle;\n",
       "    }\n",
       "\n",
       "    .dataframe tbody tr th {\n",
       "        vertical-align: top;\n",
       "    }\n",
       "\n",
       "    .dataframe thead th {\n",
       "        text-align: right;\n",
       "    }\n",
       "</style>\n",
       "<table border=\"1\" class=\"dataframe\">\n",
       "  <thead>\n",
       "    <tr style=\"text-align: right;\">\n",
       "      <th></th>\n",
       "      <th>date</th>\n",
       "      <th>user_id</th>\n",
       "    </tr>\n",
       "  </thead>\n",
       "  <tbody>\n",
       "    <tr>\n",
       "      <th>0</th>\n",
       "      <td>2005-09-08 00:14:22+00:00</td>\n",
       "      <td>2985</td>\n",
       "    </tr>\n",
       "    <tr>\n",
       "      <th>1</th>\n",
       "      <td>2005-09-08 00:38:01+00:00</td>\n",
       "      <td>2986</td>\n",
       "    </tr>\n",
       "    <tr>\n",
       "      <th>2</th>\n",
       "      <td>2005-09-08 06:48:49+00:00</td>\n",
       "      <td>2987</td>\n",
       "    </tr>\n",
       "    <tr>\n",
       "      <th>3</th>\n",
       "      <td>2005-09-08 08:37:43+00:00</td>\n",
       "      <td>2988</td>\n",
       "    </tr>\n",
       "    <tr>\n",
       "      <th>4</th>\n",
       "      <td>2005-09-08 09:07:11+00:00</td>\n",
       "      <td>2989</td>\n",
       "    </tr>\n",
       "  </tbody>\n",
       "</table>\n",
       "</div>"
      ],
      "text/plain": [
       "                        date  user_id\n",
       "0  2005-09-08 00:14:22+00:00     2985\n",
       "1  2005-09-08 00:38:01+00:00     2986\n",
       "2  2005-09-08 06:48:49+00:00     2987\n",
       "3  2005-09-08 08:37:43+00:00     2988\n",
       "4  2005-09-08 09:07:11+00:00     2989"
      ]
     },
     "execution_count": 8,
     "metadata": {},
     "output_type": "execute_result"
    }
   ],
   "source": [
    "registrations.head()"
   ]
  },
  {
   "cell_type": "code",
   "execution_count": 9,
   "metadata": {},
   "outputs": [],
   "source": [
    "registrations['date'] = pd.to_datetime(registrations['date'],   utc = True)"
   ]
  },
  {
   "cell_type": "code",
   "execution_count": 12,
   "metadata": {},
   "outputs": [],
   "source": [
    "zoom_after_block = registrations[(registrations['date'] > block_dates[1]-pd.Timedelta(days=1)) & (registrations['date'] < block_dates[1]+pd.Timedelta(days=1)) ]\n",
    "zoom_after_block = zoom_after_block.set_index('date')\n",
    "zoom_after_block = zoom_after_block.groupby(pd.Grouper(freq= 'H')).count().reset_index()"
   ]
  },
  {
   "cell_type": "code",
   "execution_count": 13,
   "metadata": {},
   "outputs": [
    {
     "data": {
      "image/png": "[encoded data removed]",
      "text/plain": [
       "<Figure size 1152x288 with 1 Axes>"
      ]
     },
     "metadata": {
      "needs_background": "light"
     },
     "output_type": "display_data"
    }
   ],
   "source": [
    "plt.figure(figsize=(16,4))\n",
    "plt.title(\"Hourly new registrations to Turkish Wikipedia\")\n",
    "plt.plot(zoom_after_block['date'].values, zoom_after_block['user_id'], color='blue', lw=0.5)\n",
    "plt.ylabel(\"Number of new registrations \")\n",
    "plt.xlabel(\"Day Hour\")\n",
    "plt.show()"
   ]
  },
  {
   "cell_type": "code",
   "execution_count": 14,
   "metadata": {},
   "outputs": [
    {
     "data": {
      "text/html": [
       "<div>\n",
       "<style scoped>\n",
       "    .dataframe tbody tr th:only-of-type {\n",
       "        vertical-align: middle;\n",
       "    }\n",
       "\n",
       "    .dataframe tbody tr th {\n",
       "        vertical-align: top;\n",
       "    }\n",
       "\n",
       "    .dataframe thead th {\n",
       "        text-align: right;\n",
       "    }\n",
       "</style>\n",
       "<table border=\"1\" class=\"dataframe\">\n",
       "  <thead>\n",
       "    <tr style=\"text-align: right;\">\n",
       "      <th></th>\n",
       "      <th>date</th>\n",
       "      <th>user_id</th>\n",
       "    </tr>\n",
       "  </thead>\n",
       "  <tbody>\n",
       "    <tr>\n",
       "      <th>32</th>\n",
       "      <td>2020-01-15 14:00:00+00:00</td>\n",
       "      <td>30</td>\n",
       "    </tr>\n",
       "    <tr>\n",
       "      <th>33</th>\n",
       "      <td>2020-01-15 15:00:00+00:00</td>\n",
       "      <td>12</td>\n",
       "    </tr>\n",
       "    <tr>\n",
       "      <th>34</th>\n",
       "      <td>2020-01-15 16:00:00+00:00</td>\n",
       "      <td>18</td>\n",
       "    </tr>\n",
       "    <tr>\n",
       "      <th>35</th>\n",
       "      <td>2020-01-15 17:00:00+00:00</td>\n",
       "      <td>8</td>\n",
       "    </tr>\n",
       "    <tr>\n",
       "      <th>36</th>\n",
       "      <td>2020-01-15 18:00:00+00:00</td>\n",
       "      <td>17</td>\n",
       "    </tr>\n",
       "    <tr>\n",
       "      <th>37</th>\n",
       "      <td>2020-01-15 19:00:00+00:00</td>\n",
       "      <td>291</td>\n",
       "    </tr>\n",
       "    <tr>\n",
       "      <th>38</th>\n",
       "      <td>2020-01-15 20:00:00+00:00</td>\n",
       "      <td>4102</td>\n",
       "    </tr>\n",
       "    <tr>\n",
       "      <th>39</th>\n",
       "      <td>2020-01-15 21:00:00+00:00</td>\n",
       "      <td>2579</td>\n",
       "    </tr>\n",
       "    <tr>\n",
       "      <th>40</th>\n",
       "      <td>2020-01-15 22:00:00+00:00</td>\n",
       "      <td>1385</td>\n",
       "    </tr>\n",
       "    <tr>\n",
       "      <th>41</th>\n",
       "      <td>2020-01-15 23:00:00+00:00</td>\n",
       "      <td>624</td>\n",
       "    </tr>\n",
       "  </tbody>\n",
       "</table>\n",
       "</div>"
      ],
      "text/plain": [
       "                        date  user_id\n",
       "32 2020-01-15 14:00:00+00:00       30\n",
       "33 2020-01-15 15:00:00+00:00       12\n",
       "34 2020-01-15 16:00:00+00:00       18\n",
       "35 2020-01-15 17:00:00+00:00        8\n",
       "36 2020-01-15 18:00:00+00:00       17\n",
       "37 2020-01-15 19:00:00+00:00      291\n",
       "38 2020-01-15 20:00:00+00:00     4102\n",
       "39 2020-01-15 21:00:00+00:00     2579\n",
       "40 2020-01-15 22:00:00+00:00     1385\n",
       "41 2020-01-15 23:00:00+00:00      624"
      ]
     },
     "execution_count": 14,
     "metadata": {},
     "output_type": "execute_result"
    }
   ],
   "source": [
    "zoom_after_block.tail(10)"
   ]
  },
  {
   "cell_type": "markdown",
   "metadata": {},
   "source": [
    "The block seems to have ended at 7pm on the 2020-01-15."
   ]
  },
  {
   "cell_type": "markdown",
   "metadata": {},
   "source": [
    "#### Finding the beginning of the block"
   ]
  },
  {
   "cell_type": "code",
   "execution_count": 15,
   "metadata": {},
   "outputs": [],
   "source": [
    "zoom_before_block = registrations[(registrations['date'] > block_dates[0]-pd.Timedelta(days=3)) & (registrations['date'] < block_dates[0]+pd.Timedelta(days=3)) ]\n",
    "zoom_before_block = zoom_before_block.set_index('date')\n",
    "zoom_before_block = zoom_before_block.groupby(pd.Grouper(freq= 'H')).count().reset_index()"
   ]
  },
  {
   "cell_type": "code",
   "execution_count": 18,
   "metadata": {},
   "outputs": [
    {
     "data": {
      "image/png": "[encoded data removed]",
      "text/plain": [
       "<Figure size 1152x288 with 1 Axes>"
      ]
     },
     "metadata": {
      "needs_background": "light"
     },
     "output_type": "display_data"
    }
   ],
   "source": [
    "plt.figure(figsize=(16,4))\n",
    "plt.title(\"Hourly new registrations to Turkish Wikipedia\")\n",
    "plt.plot(zoom_before_block['date'].values, zoom_before_block['user_id'], color='blue', lw=0.5)\n",
    "plt.ylabel(\"Number of new registrations \")\n",
    "plt.xlabel(\"Day Hour\")\n",
    "plt.show()"
   ]
  },
  {
   "cell_type": "code",
   "execution_count": 19,
   "metadata": {},
   "outputs": [],
   "source": [
    "zoom_before_block = edits[(edits['event_timestamp'] > block_dates[0]-pd.Timedelta(days=1)) & (edits['event_timestamp'] < block_dates[0]+pd.Timedelta(days=1)) ]\n",
    "zoom_before_block = zoom_before_block.set_index('event_timestamp')\n",
    "zoom_before_block = zoom_before_block.groupby(pd.Grouper(freq= 'H')).count().reset_index()"
   ]
  },
  {
   "cell_type": "code",
   "execution_count": 24,
   "metadata": {},
   "outputs": [
    {
     "data": {
      "image/png": "[encoded data removed]",
      "text/plain": [
       "<Figure size 1152x288 with 1 Axes>"
      ]
     },
     "metadata": {
      "needs_background": "light"
     },
     "output_type": "display_data"
    }
   ],
   "source": [
    "plt.figure(figsize=(16,4))\n",
    "plt.title(\"Hourly edits to Turkish Wikipedia\")\n",
    "plt.plot(zoom_before_block['event_timestamp'].values, zoom_before_block['event_user_id'], color='blue', lw=0.5)\n",
    "plt.ylabel(\"Number of edits by registered users\")\n",
    "plt.xlabel(\"Day Hour\")\n",
    "plt.show()"
   ]
  },
  {
   "cell_type": "code",
   "execution_count": 30,
   "metadata": {},
   "outputs": [],
   "source": [
    "block_dates = [pd.to_datetime('2017-04-29', utc = True), pd.to_datetime('2020-01-15 19:00', utc = True)]\n",
    "blocked_days = (block_dates[1] - block_dates[0]).days"
   ]
  },
  {
   "cell_type": "code",
   "execution_count": 23,
   "metadata": {},
   "outputs": [],
   "source": [
    "edits['period'] = np.nan\n",
    "edits.loc[edits['event_timestamp'] < block_dates[0], 'period'] = 'pre-block'\n",
    "edits.loc[(edits['event_timestamp'] >= block_dates[0]) & (edits['event_timestamp'] < block_dates[1]) , 'period'] = 'block'\n",
    "edits.loc[edits['event_timestamp'] >= block_dates[1], 'period'] = 'after-block'\n",
    "edits['period'] = edits['period'].astype(\"category\")"
   ]
  },
  {
   "cell_type": "markdown",
   "metadata": {},
   "source": [
    "The beginning of the block seems to be around midnight of the 29 April judging by the edits, since new regisrations do not give much information."
   ]
  },
  {
   "cell_type": "markdown",
   "metadata": {},
   "source": [
    "## II. Characterize blocked users\n",
    "### 1) Strict characterization\n",
    "Consider a user is affected by the block if the user no longer posts during the block period"
   ]
  },
  {
   "cell_type": "code",
   "execution_count": 25,
   "metadata": {},
   "outputs": [],
   "source": [
    "preblock_edit_counts = edits[edits['period'] == 'pre-block'].groupby('event_user_id').agg(\n",
    "        {'event_timestamp': ['min', 'max'],'revision_minor_edit': 'size'}).reset_index()"
   ]
  },
  {
   "cell_type": "code",
   "execution_count": 26,
   "metadata": {},
   "outputs": [],
   "source": [
    "block_edit_counts = edits[edits['period'] == 'block'].groupby('event_user_id').agg(\n",
    "        {'event_timestamp': ['min', 'max'],'revision_minor_edit': 'size'}).reset_index()"
   ]
  },
  {
   "cell_type": "code",
   "execution_count": 27,
   "metadata": {},
   "outputs": [],
   "source": [
    "preblock_edit_counts.columns = ['user_id','first_edit_before_block', 'last_edit_before_block', 'number_of_edits']\n",
    "block_edit_counts.columns = ['user_id', 'first_edit_during_block', 'last_edit_during_block', 'number_of_edits']"
   ]
  },
  {
   "cell_type": "code",
   "execution_count": 28,
   "metadata": {},
   "outputs": [],
   "source": [
    "users_during_block = set(block_edit_counts.user_id)"
   ]
  },
  {
   "cell_type": "code",
   "execution_count": 29,
   "metadata": {
    "collapsed": true,
    "jupyter": {
     "outputs_hidden": true
    }
   },
   "outputs": [
    {
     "name": "stderr",
     "output_type": "stream",
     "text": [
      "/opt/anaconda3/lib/python3.7/site-packages/ipykernel_launcher.py:1: DeprecationWarning: parsing timezone aware datetimes is deprecated; this will raise an error in the future\n",
      "  \"\"\"Entry point for launching an IPython kernel.\n"
     ]
    }
   ],
   "source": [
    "preblock_dates = np.arange(block_dates[0]-pd.Timedelta(days=365), block_dates[0], dtype='datetime64[D]')\n",
    "user_activity = np.zeros(365)"
   ]
  },
  {
   "cell_type": "code",
   "execution_count": 31,
   "metadata": {},
   "outputs": [],
   "source": [
    "for days in range(365):\n",
    "    filtered_preblock_edit_counts = preblock_edit_counts[preblock_edit_counts['last_edit_before_block'] >=  block_dates[0]-pd.Timedelta(days=days+1)]\n",
    "    active_users = set(filtered_preblock_edit_counts.user_id)\n",
    "    user_activity[days] = len(active_users.intersection(users_during_block))/len(active_users)"
   ]
  },
  {
   "cell_type": "code",
   "execution_count": 32,
   "metadata": {},
   "outputs": [
    {
     "data": {
      "image/png": "[encoded data removed]",
      "text/plain": [
       "<Figure size 1152x288 with 1 Axes>"
      ]
     },
     "metadata": {
      "needs_background": "light"
     },
     "output_type": "display_data"
    }
   ],
   "source": [
    "plt.figure(figsize=(16,4))\n",
    "plt.title(\"Share of users active during block by last pre-block edit date\")\n",
    "plt.plot(preblock_dates[::-1], user_activity, color='blue', lw=1)\n",
    "plt.ylabel(\"Ratio\")\n",
    "plt.xlabel(\"Day Hour\")\n",
    "plt.show()"
   ]
  },
  {
   "cell_type": "code",
   "execution_count": 49,
   "metadata": {},
   "outputs": [],
   "source": [
    "plot_object = preblock_edit_counts.set_index('last_edit_before_block')['number_of_edits'].resample('6M').count()"
   ]
  },
  {
   "cell_type": "code",
   "execution_count": 50,
   "metadata": {},
   "outputs": [],
   "source": [
    "plot_object.index = plot_object.index.strftime('%Y-%m')"
   ]
  },
  {
   "cell_type": "code",
   "execution_count": 52,
   "metadata": {},
   "outputs": [
    {
     "data": {
      "image/png": "[encoded data removed]",
      "text/plain": [
       "<Figure size 720x288 with 1 Axes>"
      ]
     },
     "metadata": {
      "needs_background": "light"
     },
     "output_type": "display_data"
    }
   ],
   "source": [
    "plt.figure(figsize=(10,4))\n",
    "plot_object.plot(kind=\"bar\")\n",
    "plt.title(\"When were the users active before the block\")\n",
    "plt.ylabel('Number of Users')\n",
    "plt.show()"
   ]
  },
  {
   "cell_type": "code",
   "execution_count": 262,
   "metadata": {},
   "outputs": [
    {
     "data": {
      "text/plain": [
       "count    177341.000000\n",
       "mean         36.809390\n",
       "std        1502.967584\n",
       "min           1.000000\n",
       "25%           1.000000\n",
       "50%           2.000000\n",
       "75%           5.000000\n",
       "max      427314.000000\n",
       "Name: number_of_edits, dtype: float64"
      ]
     },
     "execution_count": 262,
     "metadata": {},
     "output_type": "execute_result"
    }
   ],
   "source": [
    "preblock_edit_counts['number_of_edits'].describe()"
   ]
  },
  {
   "cell_type": "code",
   "execution_count": 63,
   "metadata": {},
   "outputs": [
    {
     "data": {
      "image/png": "[encoded data removed]",
      "text/plain": [
       "<Figure size 720x288 with 1 Axes>"
      ]
     },
     "metadata": {
      "needs_background": "light"
     },
     "output_type": "display_data"
    }
   ],
   "source": [
    "plt.figure(figsize=(10,4))\n",
    "plt.hist(preblock_edit_counts['number_of_edits'], density=True, bins=100)\n",
    "plt.yscale('log', nonposy='clip')\n",
    "plt.title('Distribution of the number of pre-block edits')\n",
    "plt.ylabel('Frequency')\n",
    "plt.xlabel('Number of edits')\n",
    "plt.show()"
   ]
  },
  {
   "cell_type": "markdown",
   "metadata": {},
   "source": [
    "We see how disproportionate contributions to Turkish wikipedia are by the summary statistics and the plot above."
   ]
  },
  {
   "cell_type": "markdown",
   "metadata": {},
   "source": [
    "### 2) Editor activity levels by fixed number of daily edits."
   ]
  },
  {
   "cell_type": "code",
   "execution_count": 64,
   "metadata": {},
   "outputs": [],
   "source": [
    "preblock_edit_counts['edits_per_active_day'] = preblock_edit_counts['number_of_edits']/(1+(preblock_edit_counts['last_edit_before_block'] - preblock_edit_counts['first_edit_before_block']).dt.days)\n",
    "preblock_edit_counts['edits_per_day'] = preblock_edit_counts['number_of_edits']/(1+(block_dates[0] - preblock_edit_counts['first_edit_before_block']).dt.days)"
   ]
  },
  {
   "cell_type": "code",
   "execution_count": 65,
   "metadata": {},
   "outputs": [],
   "source": [
    "block_edit_counts['edits_per_day'] = block_edit_counts['number_of_edits']/((block_dates[1] - block_dates[0]).days)"
   ]
  },
  {
   "cell_type": "code",
   "execution_count": 66,
   "metadata": {},
   "outputs": [
    {
     "data": {
      "text/html": [
       "<div>\n",
       "<style scoped>\n",
       "    .dataframe tbody tr th:only-of-type {\n",
       "        vertical-align: middle;\n",
       "    }\n",
       "\n",
       "    .dataframe tbody tr th {\n",
       "        vertical-align: top;\n",
       "    }\n",
       "\n",
       "    .dataframe thead th {\n",
       "        text-align: right;\n",
       "    }\n",
       "</style>\n",
       "<table border=\"1\" class=\"dataframe\">\n",
       "  <thead>\n",
       "    <tr style=\"text-align: right;\">\n",
       "      <th></th>\n",
       "      <th>user_id</th>\n",
       "      <th>first_edit_before_block</th>\n",
       "      <th>last_edit_before_block</th>\n",
       "      <th>number_of_edits</th>\n",
       "      <th>edits_per_active_day</th>\n",
       "      <th>edits_per_day</th>\n",
       "    </tr>\n",
       "  </thead>\n",
       "  <tbody>\n",
       "    <tr>\n",
       "      <th>115512</th>\n",
       "      <td>573665</td>\n",
       "      <td>2014-05-19 20:52:30+00:00</td>\n",
       "      <td>2017-04-28 21:16:47+00:00</td>\n",
       "      <td>223151</td>\n",
       "      <td>207.389405</td>\n",
       "      <td>207.389405</td>\n",
       "    </tr>\n",
       "    <tr>\n",
       "      <th>14760</th>\n",
       "      <td>90501</td>\n",
       "      <td>2007-06-01 13:23:34+00:00</td>\n",
       "      <td>2017-04-28 22:04:57+00:00</td>\n",
       "      <td>427314</td>\n",
       "      <td>118.042541</td>\n",
       "      <td>118.042541</td>\n",
       "    </tr>\n",
       "    <tr>\n",
       "      <th>43576</th>\n",
       "      <td>221544</td>\n",
       "      <td>2009-05-10 12:47:23+00:00</td>\n",
       "      <td>2017-04-28 19:06:33+00:00</td>\n",
       "      <td>238426</td>\n",
       "      <td>81.905187</td>\n",
       "      <td>81.905187</td>\n",
       "    </tr>\n",
       "    <tr>\n",
       "      <th>162031</th>\n",
       "      <td>882988</td>\n",
       "      <td>2016-06-25 17:39:57+00:00</td>\n",
       "      <td>2016-12-07 18:58:58+00:00</td>\n",
       "      <td>22224</td>\n",
       "      <td>133.879518</td>\n",
       "      <td>72.155844</td>\n",
       "    </tr>\n",
       "    <tr>\n",
       "      <th>164293</th>\n",
       "      <td>893615</td>\n",
       "      <td>2016-08-08 19:04:13+00:00</td>\n",
       "      <td>2017-04-28 23:00:36+00:00</td>\n",
       "      <td>12801</td>\n",
       "      <td>48.488636</td>\n",
       "      <td>48.488636</td>\n",
       "    </tr>\n",
       "    <tr>\n",
       "      <th>...</th>\n",
       "      <td>...</td>\n",
       "      <td>...</td>\n",
       "      <td>...</td>\n",
       "      <td>...</td>\n",
       "      <td>...</td>\n",
       "      <td>...</td>\n",
       "    </tr>\n",
       "    <tr>\n",
       "      <th>1955</th>\n",
       "      <td>10589</td>\n",
       "      <td>2007-05-17 16:25:50+00:00</td>\n",
       "      <td>2015-03-05 10:33:56+00:00</td>\n",
       "      <td>2</td>\n",
       "      <td>0.000702</td>\n",
       "      <td>0.000550</td>\n",
       "    </tr>\n",
       "    <tr>\n",
       "      <th>11976</th>\n",
       "      <td>73477</td>\n",
       "      <td>2007-03-15 16:55:29+00:00</td>\n",
       "      <td>2016-04-18 18:27:36+00:00</td>\n",
       "      <td>2</td>\n",
       "      <td>0.000602</td>\n",
       "      <td>0.000541</td>\n",
       "    </tr>\n",
       "    <tr>\n",
       "      <th>11168</th>\n",
       "      <td>67523</td>\n",
       "      <td>2007-02-20 17:57:29+00:00</td>\n",
       "      <td>2016-08-25 12:16:03+00:00</td>\n",
       "      <td>2</td>\n",
       "      <td>0.000576</td>\n",
       "      <td>0.000537</td>\n",
       "    </tr>\n",
       "    <tr>\n",
       "      <th>10959</th>\n",
       "      <td>65955</td>\n",
       "      <td>2007-02-13 07:33:45+00:00</td>\n",
       "      <td>2015-11-05 19:50:15+00:00</td>\n",
       "      <td>2</td>\n",
       "      <td>0.000627</td>\n",
       "      <td>0.000536</td>\n",
       "    </tr>\n",
       "    <tr>\n",
       "      <th>1991</th>\n",
       "      <td>10766</td>\n",
       "      <td>2006-01-26 14:56:03+00:00</td>\n",
       "      <td>2016-10-18 11:14:37+00:00</td>\n",
       "      <td>2</td>\n",
       "      <td>0.000510</td>\n",
       "      <td>0.000486</td>\n",
       "    </tr>\n",
       "  </tbody>\n",
       "</table>\n",
       "<p>63618 rows × 6 columns</p>\n",
       "</div>"
      ],
      "text/plain": [
       "        user_id   first_edit_before_block    last_edit_before_block  \\\n",
       "115512   573665 2014-05-19 20:52:30+00:00 2017-04-28 21:16:47+00:00   \n",
       "14760     90501 2007-06-01 13:23:34+00:00 2017-04-28 22:04:57+00:00   \n",
       "43576    221544 2009-05-10 12:47:23+00:00 2017-04-28 19:06:33+00:00   \n",
       "162031   882988 2016-06-25 17:39:57+00:00 2016-12-07 18:58:58+00:00   \n",
       "164293   893615 2016-08-08 19:04:13+00:00 2017-04-28 23:00:36+00:00   \n",
       "...         ...                       ...                       ...   \n",
       "1955      10589 2007-05-17 16:25:50+00:00 2015-03-05 10:33:56+00:00   \n",
       "11976     73477 2007-03-15 16:55:29+00:00 2016-04-18 18:27:36+00:00   \n",
       "11168     67523 2007-02-20 17:57:29+00:00 2016-08-25 12:16:03+00:00   \n",
       "10959     65955 2007-02-13 07:33:45+00:00 2015-11-05 19:50:15+00:00   \n",
       "1991      10766 2006-01-26 14:56:03+00:00 2016-10-18 11:14:37+00:00   \n",
       "\n",
       "        number_of_edits  edits_per_active_day  edits_per_day  \n",
       "115512           223151            207.389405     207.389405  \n",
       "14760            427314            118.042541     118.042541  \n",
       "43576            238426             81.905187      81.905187  \n",
       "162031            22224            133.879518      72.155844  \n",
       "164293            12801             48.488636      48.488636  \n",
       "...                 ...                   ...            ...  \n",
       "1955                  2              0.000702       0.000550  \n",
       "11976                 2              0.000602       0.000541  \n",
       "11168                 2              0.000576       0.000537  \n",
       "10959                 2              0.000627       0.000536  \n",
       "1991                  2              0.000510       0.000486  \n",
       "\n",
       "[63618 rows x 6 columns]"
      ]
     },
     "execution_count": 66,
     "metadata": {},
     "output_type": "execute_result"
    }
   ],
   "source": [
    "preblock_edit_counts[preblock_edit_counts['last_edit_before_block'] >=  block_dates[0]-pd.Timedelta(days=900)].sort_values('edits_per_day', ascending=False)"
   ]
  },
  {
   "cell_type": "code",
   "execution_count": 68,
   "metadata": {},
   "outputs": [],
   "source": [
    "days_after_block = (edits['event_timestamp'].max()-block_dates[1]).days"
   ]
  },
  {
   "cell_type": "code",
   "execution_count": 69,
   "metadata": {},
   "outputs": [],
   "source": [
    "active_preblock_editors = preblock_edit_counts[(preblock_edit_counts['last_edit_before_block'] >=  block_dates[0]-pd.Timedelta(days=30)) & (preblock_edit_counts['edits_per_day'] > 1)].sort_values('edits_per_day', ascending=False)"
   ]
  },
  {
   "cell_type": "code",
   "execution_count": 70,
   "metadata": {},
   "outputs": [],
   "source": [
    "top_editors = pd.merge(active_preblock_editors, block_edit_counts, on = 'user_id', how='left')"
   ]
  },
  {
   "cell_type": "code",
   "execution_count": 71,
   "metadata": {},
   "outputs": [
    {
     "data": {
      "text/plain": [
       "count    319.000000\n",
       "mean       5.587758\n",
       "std       14.676185\n",
       "min        1.004638\n",
       "50%        2.598658\n",
       "75%        5.023623\n",
       "90%        9.274827\n",
       "95%       14.165663\n",
       "99%       47.020682\n",
       "max      207.389405\n",
       "Name: edits_per_day_x, dtype: float64"
      ]
     },
     "execution_count": 71,
     "metadata": {},
     "output_type": "execute_result"
    }
   ],
   "source": [
    "top_editors.edits_per_day_x.describe(percentiles=[0.75, 0.90, 0.95, 0.99])"
   ]
  },
  {
   "cell_type": "code",
   "execution_count": 72,
   "metadata": {},
   "outputs": [
    {
     "data": {
      "image/png": "[encoded data removed]",
      "text/plain": [
       "<Figure size 1440x504 with 1 Axes>"
      ]
     },
     "metadata": {
      "needs_background": "light"
     },
     "output_type": "display_data"
    }
   ],
   "source": [
    "fig, ax = plt.subplots(figsize=(20,7))\n",
    "ax.set_aspect('equal')\n",
    "plt.title(f\"Activity levels of top active turkish wikipedia editors\")\n",
    "sns.scatterplot(data=top_editors, x=\"edits_per_day_y\", y=\"edits_per_day_x\")\n",
    "ax.set(xlabel='Daily edits during block', ylabel='Daily edits before block')\n",
    "plt.show()"
   ]
  },
  {
   "cell_type": "code",
   "execution_count": 73,
   "metadata": {},
   "outputs": [
    {
     "data": {
      "image/png": "[encoded data removed]",
      "text/plain": [
       "<Figure size 1152x576 with 1 Axes>"
      ]
     },
     "metadata": {
      "needs_background": "light"
     },
     "output_type": "display_data"
    }
   ],
   "source": [
    "fig, ax = plt.subplots(figsize=(16,8))\n",
    "ax.set_aspect('equal')\n",
    "plt.title(f\"Activity levels of top active turkish wikipedia editors with less than 20 preblock edits\")\n",
    "sns.scatterplot(data=top_editors[top_editors['edits_per_day_x'] < 20], x=\"edits_per_day_y\", y=\"edits_per_day_x\")\n",
    "ax.set(xlabel='Daily edits during block', ylabel='Daily edits before block')\n",
    "plt.show()"
   ]
  },
  {
   "cell_type": "code",
   "execution_count": 74,
   "metadata": {},
   "outputs": [
    {
     "data": {
      "text/html": [
       "<div>\n",
       "<style scoped>\n",
       "    .dataframe tbody tr th:only-of-type {\n",
       "        vertical-align: middle;\n",
       "    }\n",
       "\n",
       "    .dataframe tbody tr th {\n",
       "        vertical-align: top;\n",
       "    }\n",
       "\n",
       "    .dataframe thead th {\n",
       "        text-align: right;\n",
       "    }\n",
       "</style>\n",
       "<table border=\"1\" class=\"dataframe\">\n",
       "  <thead>\n",
       "    <tr style=\"text-align: right;\">\n",
       "      <th></th>\n",
       "      <th>user_id</th>\n",
       "      <th>number_of_edits_x</th>\n",
       "      <th>edits_per_active_day</th>\n",
       "      <th>edits_per_day_x</th>\n",
       "      <th>number_of_edits_y</th>\n",
       "      <th>edits_per_day_y</th>\n",
       "    </tr>\n",
       "  </thead>\n",
       "  <tbody>\n",
       "    <tr>\n",
       "      <th>count</th>\n",
       "      <td>319.000000</td>\n",
       "      <td>319.000000</td>\n",
       "      <td>319.000000</td>\n",
       "      <td>319.000000</td>\n",
       "      <td>174.000000</td>\n",
       "      <td>174.000000</td>\n",
       "    </tr>\n",
       "    <tr>\n",
       "      <th>mean</th>\n",
       "      <td>647473.564263</td>\n",
       "      <td>8270.429467</td>\n",
       "      <td>7.211913</td>\n",
       "      <td>5.587758</td>\n",
       "      <td>7769.528736</td>\n",
       "      <td>7.840090</td>\n",
       "    </tr>\n",
       "    <tr>\n",
       "      <th>std</th>\n",
       "      <td>342372.828615</td>\n",
       "      <td>31323.096188</td>\n",
       "      <td>15.110531</td>\n",
       "      <td>14.676185</td>\n",
       "      <td>44886.386853</td>\n",
       "      <td>45.294033</td>\n",
       "    </tr>\n",
       "    <tr>\n",
       "      <th>min</th>\n",
       "      <td>464.000000</td>\n",
       "      <td>2.000000</td>\n",
       "      <td>1.011204</td>\n",
       "      <td>1.004638</td>\n",
       "      <td>1.000000</td>\n",
       "      <td>0.001009</td>\n",
       "    </tr>\n",
       "    <tr>\n",
       "      <th>25%</th>\n",
       "      <td>326632.000000</td>\n",
       "      <td>17.000000</td>\n",
       "      <td>2.250517</td>\n",
       "      <td>1.616448</td>\n",
       "      <td>24.000000</td>\n",
       "      <td>0.024218</td>\n",
       "    </tr>\n",
       "    <tr>\n",
       "      <th>50%</th>\n",
       "      <td>805755.000000</td>\n",
       "      <td>1095.000000</td>\n",
       "      <td>3.666667</td>\n",
       "      <td>2.598658</td>\n",
       "      <td>235.500000</td>\n",
       "      <td>0.237639</td>\n",
       "    </tr>\n",
       "    <tr>\n",
       "      <th>75%</th>\n",
       "      <td>958503.000000</td>\n",
       "      <td>6891.000000</td>\n",
       "      <td>7.542118</td>\n",
       "      <td>5.023623</td>\n",
       "      <td>2635.750000</td>\n",
       "      <td>2.659687</td>\n",
       "    </tr>\n",
       "    <tr>\n",
       "      <th>max</th>\n",
       "      <td>964234.000000</td>\n",
       "      <td>427314.000000</td>\n",
       "      <td>207.389405</td>\n",
       "      <td>207.389405</td>\n",
       "      <td>483274.000000</td>\n",
       "      <td>487.662967</td>\n",
       "    </tr>\n",
       "  </tbody>\n",
       "</table>\n",
       "</div>"
      ],
      "text/plain": [
       "             user_id  number_of_edits_x  edits_per_active_day  \\\n",
       "count     319.000000         319.000000            319.000000   \n",
       "mean   647473.564263        8270.429467              7.211913   \n",
       "std    342372.828615       31323.096188             15.110531   \n",
       "min       464.000000           2.000000              1.011204   \n",
       "25%    326632.000000          17.000000              2.250517   \n",
       "50%    805755.000000        1095.000000              3.666667   \n",
       "75%    958503.000000        6891.000000              7.542118   \n",
       "max    964234.000000      427314.000000            207.389405   \n",
       "\n",
       "       edits_per_day_x  number_of_edits_y  edits_per_day_y  \n",
       "count       319.000000         174.000000       174.000000  \n",
       "mean          5.587758        7769.528736         7.840090  \n",
       "std          14.676185       44886.386853        45.294033  \n",
       "min           1.004638           1.000000         0.001009  \n",
       "25%           1.616448          24.000000         0.024218  \n",
       "50%           2.598658         235.500000         0.237639  \n",
       "75%           5.023623        2635.750000         2.659687  \n",
       "max         207.389405      483274.000000       487.662967  "
      ]
     },
     "execution_count": 74,
     "metadata": {},
     "output_type": "execute_result"
    }
   ],
   "source": [
    "top_editors.describe()"
   ]
  },
  {
   "cell_type": "markdown",
   "metadata": {},
   "source": [
    "Here I bin the users by their daily edit activity for the preblock and the block periods. Having seen that Wikipedia itself has categorizations of users going from [0,1] edits per day and  [1, 5], [5, 25], [25, 99] and [99>] I decided to implement the same thing. However I guess that the daily edit rates is lower in turkish wikipedia than english wikipedia so this approach wasn't great. In later analysis, I changed these categories to daily edit activity percentiles."
   ]
  },
  {
   "cell_type": "code",
   "execution_count": 75,
   "metadata": {},
   "outputs": [],
   "source": [
    "bins = [0., 1., 5., 25., 99., 10000.]"
   ]
  },
  {
   "cell_type": "code",
   "execution_count": 76,
   "metadata": {},
   "outputs": [],
   "source": [
    "top_editors['preblock_daily_edit_category'] = pd.cut(top_editors.edits_per_day_x, bins, right=False)\n",
    "top_editors['block_daily_edit_category'] = pd.cut(top_editors.edits_per_day_y, bins, right=False)"
   ]
  },
  {
   "cell_type": "code",
   "execution_count": 77,
   "metadata": {},
   "outputs": [],
   "source": [
    "edit_cats = pd.concat([top_editors.preblock_daily_edit_category.value_counts(dropna=False), top_editors.block_daily_edit_category.value_counts(dropna=False)], axis=1)"
   ]
  },
  {
   "cell_type": "code",
   "execution_count": 78,
   "metadata": {},
   "outputs": [],
   "source": [
    "edit_cats = edit_cats.reset_index()"
   ]
  },
  {
   "cell_type": "code",
   "execution_count": 79,
   "metadata": {},
   "outputs": [
    {
     "data": {
      "text/plain": [
       "index                           category\n",
       "preblock_daily_edit_category     float64\n",
       "block_daily_edit_category          int64\n",
       "dtype: object"
      ]
     },
     "execution_count": 79,
     "metadata": {},
     "output_type": "execute_result"
    }
   ],
   "source": [
    "edit_cats.dtypes"
   ]
  },
  {
   "cell_type": "code",
   "execution_count": 92,
   "metadata": {},
   "outputs": [
    {
     "data": {
      "image/png": "[encoded data removed]",
      "text/plain": [
       "<Figure size 720x288 with 1 Axes>"
      ]
     },
     "metadata": {
      "needs_background": "light"
     },
     "output_type": "display_data"
    }
   ],
   "source": [
    "fig, ax = plt.subplots(figsize=(10,4))\n",
    "edit_cats.plot.bar(x='index', ax=ax)\n",
    "\n",
    "# The following commands add labels to our figure.\n",
    "plt.xlabel('daily edit category')\n",
    "plt.ylabel('Frequency')\n",
    "plt.title(f'Daily edit shift on top active editors')\n",
    "\n",
    "plt.show()"
   ]
  },
  {
   "cell_type": "markdown",
   "metadata": {},
   "source": [
    "### 3) Analysing activity level changes for different user categories"
   ]
  },
  {
   "cell_type": "code",
   "execution_count": 81,
   "metadata": {},
   "outputs": [],
   "source": [
    "daily_active_users = edits.set_index('event_timestamp').groupby(pd.Grouper(freq= 'D')).event_user_id.nunique()"
   ]
  },
  {
   "cell_type": "code",
   "execution_count": 82,
   "metadata": {},
   "outputs": [],
   "source": [
    "daily_active_users = daily_active_users.reset_index()"
   ]
  },
  {
   "cell_type": "code",
   "execution_count": 83,
   "metadata": {},
   "outputs": [],
   "source": [
    "daily_active_users = daily_active_users[daily_active_users['event_timestamp'] >= block_dates[0]-pd.Timedelta(days=days_after_block)]"
   ]
  },
  {
   "cell_type": "code",
   "execution_count": 84,
   "metadata": {},
   "outputs": [
    {
     "data": {
      "image/png": "[encoded data removed]",
      "text/plain": [
       "<Figure size 1152x288 with 1 Axes>"
      ]
     },
     "metadata": {
      "needs_background": "light"
     },
     "output_type": "display_data"
    }
   ],
   "source": [
    "plt.figure(figsize=(16,4))\n",
    "plt.title(\"Daily active users to Turkish Wikipedia\")\n",
    "rolling_mean = daily_active_users.rolling(window=7).mean()\n",
    "plt.plot(daily_active_users.event_timestamp.values, rolling_mean, color='blue', lw=0.5)\n",
    "plt.ylabel(\"Number of active users\")\n",
    "plt.xlabel(\"Day\")\n",
    "# for date in block_dates:\n",
    "#     plt.axvline(date)\n",
    "plt.show()"
   ]
  },
  {
   "cell_type": "code",
   "execution_count": 85,
   "metadata": {},
   "outputs": [],
   "source": [
    "daily_active_users['period'] = daily_active_users.apply(lambda row: 'pre-block' if row['event_timestamp'] < block_dates[0] else 'block' if not row['event_timestamp'] >= block_dates[1] else 'after-block', axis=1)"
   ]
  },
  {
   "cell_type": "code",
   "execution_count": 86,
   "metadata": {},
   "outputs": [
    {
     "data": {
      "text/html": [
       "<div>\n",
       "<style scoped>\n",
       "    .dataframe tbody tr th:only-of-type {\n",
       "        vertical-align: middle;\n",
       "    }\n",
       "\n",
       "    .dataframe tbody tr th {\n",
       "        vertical-align: top;\n",
       "    }\n",
       "\n",
       "    .dataframe thead tr th {\n",
       "        text-align: left;\n",
       "    }\n",
       "\n",
       "    .dataframe thead tr:last-of-type th {\n",
       "        text-align: right;\n",
       "    }\n",
       "</style>\n",
       "<table border=\"1\" class=\"dataframe\">\n",
       "  <thead>\n",
       "    <tr>\n",
       "      <th></th>\n",
       "      <th colspan=\"8\" halign=\"left\">event_user_id</th>\n",
       "    </tr>\n",
       "    <tr>\n",
       "      <th></th>\n",
       "      <th>count</th>\n",
       "      <th>mean</th>\n",
       "      <th>std</th>\n",
       "      <th>min</th>\n",
       "      <th>25%</th>\n",
       "      <th>50%</th>\n",
       "      <th>75%</th>\n",
       "      <th>max</th>\n",
       "    </tr>\n",
       "    <tr>\n",
       "      <th>period</th>\n",
       "      <th></th>\n",
       "      <th></th>\n",
       "      <th></th>\n",
       "      <th></th>\n",
       "      <th></th>\n",
       "      <th></th>\n",
       "      <th></th>\n",
       "      <th></th>\n",
       "    </tr>\n",
       "  </thead>\n",
       "  <tbody>\n",
       "    <tr>\n",
       "      <th>after-block</th>\n",
       "      <td>383.0</td>\n",
       "      <td>283.352480</td>\n",
       "      <td>71.960530</td>\n",
       "      <td>188.0</td>\n",
       "      <td>246.5</td>\n",
       "      <td>271.0</td>\n",
       "      <td>308.00</td>\n",
       "      <td>1285.0</td>\n",
       "    </tr>\n",
       "    <tr>\n",
       "      <th>block</th>\n",
       "      <td>992.0</td>\n",
       "      <td>73.993952</td>\n",
       "      <td>19.797970</td>\n",
       "      <td>40.0</td>\n",
       "      <td>67.0</td>\n",
       "      <td>73.0</td>\n",
       "      <td>79.25</td>\n",
       "      <td>607.0</td>\n",
       "    </tr>\n",
       "    <tr>\n",
       "      <th>pre-block</th>\n",
       "      <td>382.0</td>\n",
       "      <td>227.052356</td>\n",
       "      <td>23.258953</td>\n",
       "      <td>154.0</td>\n",
       "      <td>212.0</td>\n",
       "      <td>228.0</td>\n",
       "      <td>243.00</td>\n",
       "      <td>311.0</td>\n",
       "    </tr>\n",
       "  </tbody>\n",
       "</table>\n",
       "</div>"
      ],
      "text/plain": [
       "            event_user_id                                                      \\\n",
       "                    count        mean        std    min    25%    50%     75%   \n",
       "period                                                                          \n",
       "after-block         383.0  283.352480  71.960530  188.0  246.5  271.0  308.00   \n",
       "block               992.0   73.993952  19.797970   40.0   67.0   73.0   79.25   \n",
       "pre-block           382.0  227.052356  23.258953  154.0  212.0  228.0  243.00   \n",
       "\n",
       "                     \n",
       "                max  \n",
       "period               \n",
       "after-block  1285.0  \n",
       "block         607.0  \n",
       "pre-block     311.0  "
      ]
     },
     "execution_count": 86,
     "metadata": {},
     "output_type": "execute_result"
    }
   ],
   "source": [
    "daily_active_users.groupby('period').describe()"
   ]
  },
  {
   "cell_type": "markdown",
   "metadata": {},
   "source": [
    "Wikipedia lost nearly 75% of their daily active users due to the block."
   ]
  },
  {
   "cell_type": "code",
   "execution_count": 87,
   "metadata": {},
   "outputs": [],
   "source": [
    "preblock_edit_counts['preblock_daily_edit_category'] = pd.cut(preblock_edit_counts.edits_per_day, bins, right=False)"
   ]
  },
  {
   "cell_type": "code",
   "execution_count": 89,
   "metadata": {},
   "outputs": [
    {
     "data": {
      "image/png": "[encoded data removed]",
      "text/plain": [
       "<Figure size 1152x288 with 1 Axes>"
      ]
     },
     "metadata": {
      "needs_background": "light"
     },
     "output_type": "display_data"
    },
    {
     "data": {
      "image/png": "[encoded data removed]",
      "text/plain": [
       "<Figure size 1152x360 with 1 Axes>"
      ]
     },
     "metadata": {
      "needs_background": "light"
     },
     "output_type": "display_data"
    },
    {
     "name": "stdout",
     "output_type": "stream",
     "text": [
      "Activity change for [0.0, 1.0) users: -86.39455782312925%\n"
     ]
    },
    {
     "data": {
      "image/png": "[encoded data removed]",
      "text/plain": [
       "<Figure size 1152x288 with 1 Axes>"
      ]
     },
     "metadata": {
      "needs_background": "light"
     },
     "output_type": "display_data"
    },
    {
     "data": {
      "image/png": "[encoded data removed]",
      "text/plain": [
       "<Figure size 1152x360 with 1 Axes>"
      ]
     },
     "metadata": {
      "needs_background": "light"
     },
     "output_type": "display_data"
    },
    {
     "name": "stdout",
     "output_type": "stream",
     "text": [
      "Activity change for [1.0, 5.0) users: -76.19047619047619%\n"
     ]
    },
    {
     "data": {
      "image/png": "[encoded data removed]",
      "text/plain": [
       "<Figure size 1152x288 with 1 Axes>"
      ]
     },
     "metadata": {
      "needs_background": "light"
     },
     "output_type": "display_data"
    },
    {
     "data": {
      "image/png": "[encoded data removed]",
      "text/plain": [
       "<Figure size 1152x360 with 1 Axes>"
      ]
     },
     "metadata": {
      "needs_background": "light"
     },
     "output_type": "display_data"
    },
    {
     "name": "stdout",
     "output_type": "stream",
     "text": [
      "Activity change for [5.0, 25.0) users: -51.515151515151516%\n"
     ]
    },
    {
     "data": {
      "image/png": "[encoded data removed]",
      "text/plain": [
       "<Figure size 1152x288 with 1 Axes>"
      ]
     },
     "metadata": {
      "needs_background": "light"
     },
     "output_type": "display_data"
    },
    {
     "data": {
      "image/png": "[encoded data removed]",
      "text/plain": [
       "<Figure size 1152x360 with 1 Axes>"
      ]
     },
     "metadata": {
      "needs_background": "light"
     },
     "output_type": "display_data"
    },
    {
     "name": "stdout",
     "output_type": "stream",
     "text": [
      "Activity change for [25.0, 99.0) users: 0.0%\n"
     ]
    },
    {
     "data": {
      "image/png": "[encoded data removed]",
      "text/plain": [
       "<Figure size 1152x288 with 1 Axes>"
      ]
     },
     "metadata": {
      "needs_background": "light"
     },
     "output_type": "display_data"
    },
    {
     "data": {
      "image/png": "[encoded data removed]",
      "text/plain": [
       "<Figure size 1152x360 with 1 Axes>"
      ]
     },
     "metadata": {
      "needs_background": "light"
     },
     "output_type": "display_data"
    },
    {
     "name": "stdout",
     "output_type": "stream",
     "text": [
      "Activity change for [99.0, 10000.0) users: -50.0%\n"
     ]
    }
   ],
   "source": [
    "for category in sorted(preblock_edit_counts.preblock_daily_edit_category.unique()):\n",
    "    category_users = preblock_edit_counts[preblock_edit_counts['preblock_daily_edit_category'] == category].user_id\n",
    "    plt.figure(figsize=(16,4))\n",
    "    plt.title(f\"Daily active users for users between {category} edits.\")\n",
    "    df = edits[(edits['event_timestamp'] >= block_dates[0]-pd.Timedelta(days=days_after_block))&(edits.event_user_id.isin(category_users))].set_index('event_timestamp').groupby(pd.Grouper(freq= 'D')).event_user_id.nunique().reset_index()\n",
    "    rolling_mean = df.rolling(window=30).mean()\n",
    "    plt.plot(df.event_timestamp.values, rolling_mean, color='blue', lw=0.5)\n",
    "    plt.ylabel(\"Number of active users\")\n",
    "    plt.xlabel(\"Day\")\n",
    "    for date in block_dates:\n",
    "        plt.axvline(date, color = 'black')\n",
    "    plt.show()\n",
    "    \n",
    "    \n",
    "    df['period'] = df.apply(lambda row: 'pre-block' if row['event_timestamp'] < block_dates[0] else 'block' if not row['event_timestamp'] >= block_dates[1] else 'after-block', axis=1)\n",
    "    \n",
    "    groups = df.groupby('period')\n",
    "    periods = pd.concat([pd.DataFrame(x[1]['event_user_id'].values) for x in groups], axis=1)\n",
    "    periods = pd.DataFrame(periods)\n",
    "    periods.columns = range(1,4)\n",
    "    fig, ax = plt.subplots()\n",
    "    plt.title(f\"Active users for users with {category} daily edits.\")\n",
    "    fig.set_size_inches(16, 5)\n",
    "    plt.xlabel('Daily Active users')\n",
    "    ax = sns.boxplot(y=\"period\", x=\"event_user_id\", data=df,  showfliers=False)\n",
    "    plt.show()\n",
    "    \n",
    "    medians = groups.median()\n",
    "    \n",
    "    print(f\"Activity change for {category} users: {100*(medians.values[1].item() - medians.values[2].item())/(medians.values[2].item())}%\")"
   ]
  },
  {
   "cell_type": "markdown",
   "metadata": {},
   "source": [
    "We can see that higher edit categories have between 1 to 4 active users a day. This categorisation is quite poor"
   ]
  },
  {
   "cell_type": "markdown",
   "metadata": {},
   "source": [
    "## III. Create network of registered users\n"
   ]
  },
  {
   "cell_type": "code",
   "execution_count": 491,
   "metadata": {},
   "outputs": [],
   "source": [
    "import networkx as nx"
   ]
  },
  {
   "cell_type": "code",
   "execution_count": 621,
   "metadata": {},
   "outputs": [
    {
     "data": {
      "text/html": [
       "<div>\n",
       "<style scoped>\n",
       "    .dataframe tbody tr th:only-of-type {\n",
       "        vertical-align: middle;\n",
       "    }\n",
       "\n",
       "    .dataframe tbody tr th {\n",
       "        vertical-align: top;\n",
       "    }\n",
       "\n",
       "    .dataframe thead th {\n",
       "        text-align: right;\n",
       "    }\n",
       "</style>\n",
       "<table border=\"1\" class=\"dataframe\">\n",
       "  <thead>\n",
       "    <tr style=\"text-align: right;\">\n",
       "      <th></th>\n",
       "      <th>event_user_id</th>\n",
       "      <th>event_timestamp</th>\n",
       "      <th>page_id</th>\n",
       "      <th>page_revision_count</th>\n",
       "      <th>revision_minor_edit</th>\n",
       "      <th>revision_text_bytes</th>\n",
       "      <th>revision_is_identity_revert</th>\n",
       "      <th>period</th>\n",
       "    </tr>\n",
       "  </thead>\n",
       "  <tbody>\n",
       "    <tr>\n",
       "      <th>1</th>\n",
       "      <td>1</td>\n",
       "      <td>2002-12-05 22:54:39+00:00</td>\n",
       "      <td>5</td>\n",
       "      <td>1.0</td>\n",
       "      <td>False</td>\n",
       "      <td>24</td>\n",
       "      <td>False</td>\n",
       "      <td>pre-block</td>\n",
       "    </tr>\n",
       "    <tr>\n",
       "      <th>14</th>\n",
       "      <td>6</td>\n",
       "      <td>2003-03-13 16:30:04+00:00</td>\n",
       "      <td>10</td>\n",
       "      <td>1.0</td>\n",
       "      <td>False</td>\n",
       "      <td>8540</td>\n",
       "      <td>False</td>\n",
       "      <td>pre-block</td>\n",
       "    </tr>\n",
       "    <tr>\n",
       "      <th>51</th>\n",
       "      <td>13</td>\n",
       "      <td>2003-08-02 01:08:44+00:00</td>\n",
       "      <td>24</td>\n",
       "      <td>1.0</td>\n",
       "      <td>False</td>\n",
       "      <td>257</td>\n",
       "      <td>False</td>\n",
       "      <td>pre-block</td>\n",
       "    </tr>\n",
       "    <tr>\n",
       "      <th>52</th>\n",
       "      <td>13</td>\n",
       "      <td>2003-08-02 01:10:08+00:00</td>\n",
       "      <td>24</td>\n",
       "      <td>2.0</td>\n",
       "      <td>False</td>\n",
       "      <td>259</td>\n",
       "      <td>False</td>\n",
       "      <td>pre-block</td>\n",
       "    </tr>\n",
       "    <tr>\n",
       "      <th>53</th>\n",
       "      <td>13</td>\n",
       "      <td>2003-08-02 01:11:50+00:00</td>\n",
       "      <td>24</td>\n",
       "      <td>3.0</td>\n",
       "      <td>False</td>\n",
       "      <td>261</td>\n",
       "      <td>False</td>\n",
       "      <td>pre-block</td>\n",
       "    </tr>\n",
       "  </tbody>\n",
       "</table>\n",
       "</div>"
      ],
      "text/plain": [
       "    event_user_id           event_timestamp  page_id  page_revision_count  \\\n",
       "1               1 2002-12-05 22:54:39+00:00        5                  1.0   \n",
       "14              6 2003-03-13 16:30:04+00:00       10                  1.0   \n",
       "51             13 2003-08-02 01:08:44+00:00       24                  1.0   \n",
       "52             13 2003-08-02 01:10:08+00:00       24                  2.0   \n",
       "53             13 2003-08-02 01:11:50+00:00       24                  3.0   \n",
       "\n",
       "    revision_minor_edit  revision_text_bytes  revision_is_identity_revert  \\\n",
       "1                 False                   24                        False   \n",
       "14                False                 8540                        False   \n",
       "51                False                  257                        False   \n",
       "52                False                  259                        False   \n",
       "53                False                  261                        False   \n",
       "\n",
       "       period  \n",
       "1   pre-block  \n",
       "14  pre-block  \n",
       "51  pre-block  \n",
       "52  pre-block  \n",
       "53  pre-block  "
      ]
     },
     "execution_count": 621,
     "metadata": {},
     "output_type": "execute_result"
    }
   ],
   "source": [
    "edits.head()"
   ]
  },
  {
   "cell_type": "code",
   "execution_count": 625,
   "metadata": {},
   "outputs": [
    {
     "name": "stdout",
     "output_type": "stream",
     "text": [
      "Number of distinct editors : 212768\n"
     ]
    }
   ],
   "source": [
    "print(f\"Number of distinct editors : {len(edits.event_user_id.unique())}\")"
   ]
  },
  {
   "cell_type": "markdown",
   "metadata": {},
   "source": [
    "### 1) Preblock graph \n",
    "Here we create a graph of active users in the preblock period. We restrict ourselves to a timeframe of similar size to the block period (i.e. 991 days before the ban). Nodes of the graph are users active in the pre-block period, and there exists and edge between two users if both users edited a same page during the pre-block period. The weight of the edges are the number of distinct pages that both users edited in common.\n"
   ]
  },
  {
   "cell_type": "code",
   "execution_count": 94,
   "metadata": {},
   "outputs": [],
   "source": [
    "preblock_edits = edits[(edits['period'] == 'pre-block') & (edits['event_timestamp'] > block_dates[0]-pd.Timedelta(days=blocked_days))]"
   ]
  },
  {
   "cell_type": "code",
   "execution_count": 95,
   "metadata": {},
   "outputs": [],
   "source": [
    "preblock_edits = preblock_edits.groupby('event_user_id')['page_id'].apply(set)"
   ]
  },
  {
   "cell_type": "code",
   "execution_count": 657,
   "metadata": {},
   "outputs": [],
   "source": [
    "preblock_edits = preblock_edits.reset_index()"
   ]
  },
  {
   "cell_type": "code",
   "execution_count": 646,
   "metadata": {},
   "outputs": [],
   "source": [
    "preblock_adjacency = np.zeros((preblock_edits.shape[0], preblock_edits.shape[0]))"
   ]
  },
  {
   "cell_type": "code",
   "execution_count": 662,
   "metadata": {},
   "outputs": [],
   "source": [
    "for i, elem1 in preblock_edits.page_id.iteritems():\n",
    "    for j, elem2 in preblock_edits.page_id.iteritems():\n",
    "        if i > j:\n",
    "            intersection = len(elem1.intersection(elem2))\n",
    "            preblock_adjacency[i,j] = intersection\n",
    "            preblock_adjacency[j,i] = intersection"
   ]
  },
  {
   "cell_type": "code",
   "execution_count": 684,
   "metadata": {},
   "outputs": [],
   "source": [
    "preblock_graph = nx.from_numpy_array(preblock_adjacency)"
   ]
  },
  {
   "cell_type": "code",
   "execution_count": 685,
   "metadata": {},
   "outputs": [],
   "source": [
    "nx.write_gexf(preblock_graph, 'preblock_graph.gexf')"
   ]
  },
  {
   "cell_type": "code",
   "execution_count": 686,
   "metadata": {},
   "outputs": [
    {
     "name": "stdout",
     "output_type": "stream",
     "text": [
      "Number of nodes: 68827, Number of edges: 2326737\n",
      "Number of self-loops: 0, Number of connected components: 5367\n"
     ]
    }
   ],
   "source": [
    "print('Number of nodes: {}, Number of edges: {}'. format(preblock_graph.number_of_nodes(), preblock_graph.number_of_edges()))\n",
    "print('Number of self-loops: {}, Number of connected components: {}'. format(nx.number_of_selfloops(preblock_graph), nx.number_connected_components(preblock_graph)))"
   ]
  },
  {
   "cell_type": "code",
   "execution_count": 699,
   "metadata": {},
   "outputs": [
    {
     "name": "stdout",
     "output_type": "stream",
     "text": [
      "The giant component of the preblock graph has 63390 nodes and 2326653 edges.\n"
     ]
    }
   ],
   "source": [
    "giant_preblock = preblock_graph.subgraph(max(nx.connected_components(preblock_graph), key=len))\n",
    "print('The giant component of the preblock graph has {} nodes and {} edges.'.format(giant_preblock.number_of_nodes(), giant_preblock.size()))"
   ]
  },
  {
   "cell_type": "code",
   "execution_count": 717,
   "metadata": {
    "collapsed": true,
    "jupyter": {
     "outputs_hidden": true
    }
   },
   "outputs": [
    {
     "ename": "KeyboardInterrupt",
     "evalue": "",
     "output_type": "error",
     "traceback": [
      "\u001b[0;31m---------------------------------------------------------------------------\u001b[0m",
      "\u001b[0;31mKeyboardInterrupt\u001b[0m                         Traceback (most recent call last)",
      "\u001b[0;32m<ipython-input-717-9281e96d41ab>\u001b[0m in \u001b[0;36m<module>\u001b[0;34m\u001b[0m\n\u001b[0;32m----> 1\u001b[0;31m \u001b[0mprint\u001b[0m\u001b[0;34m(\u001b[0m\u001b[0;34mf'The clustering coefficient of the preblock graph is {nx.average_clustering(preblock_graph)}'\u001b[0m\u001b[0;34m)\u001b[0m\u001b[0;34m\u001b[0m\u001b[0;34m\u001b[0m\u001b[0m\n\u001b[0m",
      "\u001b[0;32m/opt/anaconda3/lib/python3.7/site-packages/networkx/algorithms/cluster.py\u001b[0m in \u001b[0;36maverage_clustering\u001b[0;34m(G, nodes, weight, count_zeros)\u001b[0m\n\u001b[1;32m    257\u001b[0m        \u001b[0mhttps\u001b[0m\u001b[0;34m:\u001b[0m\u001b[0;34m//\u001b[0m\u001b[0marxiv\u001b[0m\u001b[0;34m.\u001b[0m\u001b[0morg\u001b[0m\u001b[0;34m/\u001b[0m\u001b[0mabs\u001b[0m\u001b[0;34m/\u001b[0m\u001b[0;36m0802.2512\u001b[0m\u001b[0;34m\u001b[0m\u001b[0;34m\u001b[0m\u001b[0m\n\u001b[1;32m    258\u001b[0m     \"\"\"\n\u001b[0;32m--> 259\u001b[0;31m     \u001b[0mc\u001b[0m \u001b[0;34m=\u001b[0m \u001b[0mclustering\u001b[0m\u001b[0;34m(\u001b[0m\u001b[0mG\u001b[0m\u001b[0;34m,\u001b[0m \u001b[0mnodes\u001b[0m\u001b[0;34m,\u001b[0m \u001b[0mweight\u001b[0m\u001b[0;34m=\u001b[0m\u001b[0mweight\u001b[0m\u001b[0;34m)\u001b[0m\u001b[0;34m.\u001b[0m\u001b[0mvalues\u001b[0m\u001b[0;34m(\u001b[0m\u001b[0;34m)\u001b[0m\u001b[0;34m\u001b[0m\u001b[0;34m\u001b[0m\u001b[0m\n\u001b[0m\u001b[1;32m    260\u001b[0m     \u001b[0;32mif\u001b[0m \u001b[0;32mnot\u001b[0m \u001b[0mcount_zeros\u001b[0m\u001b[0;34m:\u001b[0m\u001b[0;34m\u001b[0m\u001b[0;34m\u001b[0m\u001b[0m\n\u001b[1;32m    261\u001b[0m         \u001b[0mc\u001b[0m \u001b[0;34m=\u001b[0m \u001b[0;34m[\u001b[0m\u001b[0mv\u001b[0m \u001b[0;32mfor\u001b[0m \u001b[0mv\u001b[0m \u001b[0;32min\u001b[0m \u001b[0mc\u001b[0m \u001b[0;32mif\u001b[0m \u001b[0mv\u001b[0m \u001b[0;34m>\u001b[0m \u001b[0;36m0\u001b[0m\u001b[0;34m]\u001b[0m\u001b[0;34m\u001b[0m\u001b[0;34m\u001b[0m\u001b[0m\n",
      "\u001b[0;32m/opt/anaconda3/lib/python3.7/site-packages/networkx/algorithms/cluster.py\u001b[0m in \u001b[0;36mclustering\u001b[0;34m(G, nodes, weight)\u001b[0m\n\u001b[1;32m    362\u001b[0m             \u001b[0mtd_iter\u001b[0m \u001b[0;34m=\u001b[0m \u001b[0m_triangles_and_degree_iter\u001b[0m\u001b[0;34m(\u001b[0m\u001b[0mG\u001b[0m\u001b[0;34m,\u001b[0m \u001b[0mnodes\u001b[0m\u001b[0;34m)\u001b[0m\u001b[0;34m\u001b[0m\u001b[0;34m\u001b[0m\u001b[0m\n\u001b[1;32m    363\u001b[0m             clusterc = {v: 0 if t == 0 else t / (d * (d - 1)) for\n\u001b[0;32m--> 364\u001b[0;31m                         v, d, t, _ in td_iter}\n\u001b[0m\u001b[1;32m    365\u001b[0m     \u001b[0;32mif\u001b[0m \u001b[0mnodes\u001b[0m \u001b[0;32min\u001b[0m \u001b[0mG\u001b[0m\u001b[0;34m:\u001b[0m\u001b[0;34m\u001b[0m\u001b[0;34m\u001b[0m\u001b[0m\n\u001b[1;32m    366\u001b[0m         \u001b[0;31m# Return the value of the sole entry in the dictionary.\u001b[0m\u001b[0;34m\u001b[0m\u001b[0;34m\u001b[0m\u001b[0;34m\u001b[0m\u001b[0m\n",
      "\u001b[0;32m/opt/anaconda3/lib/python3.7/site-packages/networkx/algorithms/cluster.py\u001b[0m in \u001b[0;36m<dictcomp>\u001b[0;34m(.0)\u001b[0m\n\u001b[1;32m    361\u001b[0m         \u001b[0;32melse\u001b[0m\u001b[0;34m:\u001b[0m\u001b[0;34m\u001b[0m\u001b[0;34m\u001b[0m\u001b[0m\n\u001b[1;32m    362\u001b[0m             \u001b[0mtd_iter\u001b[0m \u001b[0;34m=\u001b[0m \u001b[0m_triangles_and_degree_iter\u001b[0m\u001b[0;34m(\u001b[0m\u001b[0mG\u001b[0m\u001b[0;34m,\u001b[0m \u001b[0mnodes\u001b[0m\u001b[0;34m)\u001b[0m\u001b[0;34m\u001b[0m\u001b[0;34m\u001b[0m\u001b[0m\n\u001b[0;32m--> 363\u001b[0;31m             clusterc = {v: 0 if t == 0 else t / (d * (d - 1)) for\n\u001b[0m\u001b[1;32m    364\u001b[0m                         v, d, t, _ in td_iter}\n\u001b[1;32m    365\u001b[0m     \u001b[0;32mif\u001b[0m \u001b[0mnodes\u001b[0m \u001b[0;32min\u001b[0m \u001b[0mG\u001b[0m\u001b[0;34m:\u001b[0m\u001b[0;34m\u001b[0m\u001b[0;34m\u001b[0m\u001b[0m\n",
      "\u001b[0;32m/opt/anaconda3/lib/python3.7/site-packages/networkx/algorithms/cluster.py\u001b[0m in \u001b[0;36m_triangles_and_degree_iter\u001b[0;34m(G, nodes)\u001b[0m\n\u001b[1;32m     84\u001b[0m     \u001b[0;32mfor\u001b[0m \u001b[0mv\u001b[0m\u001b[0;34m,\u001b[0m \u001b[0mv_nbrs\u001b[0m \u001b[0;32min\u001b[0m \u001b[0mnodes_nbrs\u001b[0m\u001b[0;34m:\u001b[0m\u001b[0;34m\u001b[0m\u001b[0;34m\u001b[0m\u001b[0m\n\u001b[1;32m     85\u001b[0m         \u001b[0mvs\u001b[0m \u001b[0;34m=\u001b[0m \u001b[0mset\u001b[0m\u001b[0;34m(\u001b[0m\u001b[0mv_nbrs\u001b[0m\u001b[0;34m)\u001b[0m \u001b[0;34m-\u001b[0m \u001b[0;34m{\u001b[0m\u001b[0mv\u001b[0m\u001b[0;34m}\u001b[0m\u001b[0;34m\u001b[0m\u001b[0;34m\u001b[0m\u001b[0m\n\u001b[0;32m---> 86\u001b[0;31m         \u001b[0mgen_degree\u001b[0m \u001b[0;34m=\u001b[0m \u001b[0mCounter\u001b[0m\u001b[0;34m(\u001b[0m\u001b[0mlen\u001b[0m\u001b[0;34m(\u001b[0m\u001b[0mvs\u001b[0m \u001b[0;34m&\u001b[0m \u001b[0;34m(\u001b[0m\u001b[0mset\u001b[0m\u001b[0;34m(\u001b[0m\u001b[0mG\u001b[0m\u001b[0;34m[\u001b[0m\u001b[0mw\u001b[0m\u001b[0;34m]\u001b[0m\u001b[0;34m)\u001b[0m \u001b[0;34m-\u001b[0m \u001b[0;34m{\u001b[0m\u001b[0mw\u001b[0m\u001b[0;34m}\u001b[0m\u001b[0;34m)\u001b[0m\u001b[0;34m)\u001b[0m \u001b[0;32mfor\u001b[0m \u001b[0mw\u001b[0m \u001b[0;32min\u001b[0m \u001b[0mvs\u001b[0m\u001b[0;34m)\u001b[0m\u001b[0;34m\u001b[0m\u001b[0;34m\u001b[0m\u001b[0m\n\u001b[0m\u001b[1;32m     87\u001b[0m         \u001b[0mntriangles\u001b[0m \u001b[0;34m=\u001b[0m \u001b[0msum\u001b[0m\u001b[0;34m(\u001b[0m\u001b[0mk\u001b[0m \u001b[0;34m*\u001b[0m \u001b[0mval\u001b[0m \u001b[0;32mfor\u001b[0m \u001b[0mk\u001b[0m\u001b[0;34m,\u001b[0m \u001b[0mval\u001b[0m \u001b[0;32min\u001b[0m \u001b[0mgen_degree\u001b[0m\u001b[0;34m.\u001b[0m\u001b[0mitems\u001b[0m\u001b[0;34m(\u001b[0m\u001b[0;34m)\u001b[0m\u001b[0;34m)\u001b[0m\u001b[0;34m\u001b[0m\u001b[0;34m\u001b[0m\u001b[0m\n\u001b[1;32m     88\u001b[0m         \u001b[0;32myield\u001b[0m \u001b[0;34m(\u001b[0m\u001b[0mv\u001b[0m\u001b[0;34m,\u001b[0m \u001b[0mlen\u001b[0m\u001b[0;34m(\u001b[0m\u001b[0mvs\u001b[0m\u001b[0;34m)\u001b[0m\u001b[0;34m,\u001b[0m \u001b[0mntriangles\u001b[0m\u001b[0;34m,\u001b[0m \u001b[0mgen_degree\u001b[0m\u001b[0;34m)\u001b[0m\u001b[0;34m\u001b[0m\u001b[0;34m\u001b[0m\u001b[0m\n",
      "\u001b[0;32m/opt/anaconda3/lib/python3.7/collections/__init__.py\u001b[0m in \u001b[0;36m__init__\u001b[0;34m(*args, **kwds)\u001b[0m\n\u001b[1;32m    566\u001b[0m             \u001b[0;32mraise\u001b[0m \u001b[0mTypeError\u001b[0m\u001b[0;34m(\u001b[0m\u001b[0;34m'expected at most 1 arguments, got %d'\u001b[0m \u001b[0;34m%\u001b[0m \u001b[0mlen\u001b[0m\u001b[0;34m(\u001b[0m\u001b[0margs\u001b[0m\u001b[0;34m)\u001b[0m\u001b[0;34m)\u001b[0m\u001b[0;34m\u001b[0m\u001b[0;34m\u001b[0m\u001b[0m\n\u001b[1;32m    567\u001b[0m         \u001b[0msuper\u001b[0m\u001b[0;34m(\u001b[0m\u001b[0mCounter\u001b[0m\u001b[0;34m,\u001b[0m \u001b[0mself\u001b[0m\u001b[0;34m)\u001b[0m\u001b[0;34m.\u001b[0m\u001b[0m__init__\u001b[0m\u001b[0;34m(\u001b[0m\u001b[0;34m)\u001b[0m\u001b[0;34m\u001b[0m\u001b[0;34m\u001b[0m\u001b[0m\n\u001b[0;32m--> 568\u001b[0;31m         \u001b[0mself\u001b[0m\u001b[0;34m.\u001b[0m\u001b[0mupdate\u001b[0m\u001b[0;34m(\u001b[0m\u001b[0;34m*\u001b[0m\u001b[0margs\u001b[0m\u001b[0;34m,\u001b[0m \u001b[0;34m**\u001b[0m\u001b[0mkwds\u001b[0m\u001b[0;34m)\u001b[0m\u001b[0;34m\u001b[0m\u001b[0;34m\u001b[0m\u001b[0m\n\u001b[0m\u001b[1;32m    569\u001b[0m \u001b[0;34m\u001b[0m\u001b[0m\n\u001b[1;32m    570\u001b[0m     \u001b[0;32mdef\u001b[0m \u001b[0m__missing__\u001b[0m\u001b[0;34m(\u001b[0m\u001b[0mself\u001b[0m\u001b[0;34m,\u001b[0m \u001b[0mkey\u001b[0m\u001b[0;34m)\u001b[0m\u001b[0;34m:\u001b[0m\u001b[0;34m\u001b[0m\u001b[0;34m\u001b[0m\u001b[0m\n",
      "\u001b[0;32m/opt/anaconda3/lib/python3.7/collections/__init__.py\u001b[0m in \u001b[0;36mupdate\u001b[0;34m(*args, **kwds)\u001b[0m\n\u001b[1;32m    653\u001b[0m                     \u001b[0msuper\u001b[0m\u001b[0;34m(\u001b[0m\u001b[0mCounter\u001b[0m\u001b[0;34m,\u001b[0m \u001b[0mself\u001b[0m\u001b[0;34m)\u001b[0m\u001b[0;34m.\u001b[0m\u001b[0mupdate\u001b[0m\u001b[0;34m(\u001b[0m\u001b[0miterable\u001b[0m\u001b[0;34m)\u001b[0m \u001b[0;31m# fast path when counter is empty\u001b[0m\u001b[0;34m\u001b[0m\u001b[0;34m\u001b[0m\u001b[0m\n\u001b[1;32m    654\u001b[0m             \u001b[0;32melse\u001b[0m\u001b[0;34m:\u001b[0m\u001b[0;34m\u001b[0m\u001b[0;34m\u001b[0m\u001b[0m\n\u001b[0;32m--> 655\u001b[0;31m                 \u001b[0m_count_elements\u001b[0m\u001b[0;34m(\u001b[0m\u001b[0mself\u001b[0m\u001b[0;34m,\u001b[0m \u001b[0miterable\u001b[0m\u001b[0;34m)\u001b[0m\u001b[0;34m\u001b[0m\u001b[0;34m\u001b[0m\u001b[0m\n\u001b[0m\u001b[1;32m    656\u001b[0m         \u001b[0;32mif\u001b[0m \u001b[0mkwds\u001b[0m\u001b[0;34m:\u001b[0m\u001b[0;34m\u001b[0m\u001b[0;34m\u001b[0m\u001b[0m\n\u001b[1;32m    657\u001b[0m             \u001b[0mself\u001b[0m\u001b[0;34m.\u001b[0m\u001b[0mupdate\u001b[0m\u001b[0;34m(\u001b[0m\u001b[0mkwds\u001b[0m\u001b[0;34m)\u001b[0m\u001b[0;34m\u001b[0m\u001b[0;34m\u001b[0m\u001b[0m\n",
      "\u001b[0;32m/opt/anaconda3/lib/python3.7/site-packages/networkx/algorithms/cluster.py\u001b[0m in \u001b[0;36m<genexpr>\u001b[0;34m(.0)\u001b[0m\n\u001b[1;32m     84\u001b[0m     \u001b[0;32mfor\u001b[0m \u001b[0mv\u001b[0m\u001b[0;34m,\u001b[0m \u001b[0mv_nbrs\u001b[0m \u001b[0;32min\u001b[0m \u001b[0mnodes_nbrs\u001b[0m\u001b[0;34m:\u001b[0m\u001b[0;34m\u001b[0m\u001b[0;34m\u001b[0m\u001b[0m\n\u001b[1;32m     85\u001b[0m         \u001b[0mvs\u001b[0m \u001b[0;34m=\u001b[0m \u001b[0mset\u001b[0m\u001b[0;34m(\u001b[0m\u001b[0mv_nbrs\u001b[0m\u001b[0;34m)\u001b[0m \u001b[0;34m-\u001b[0m \u001b[0;34m{\u001b[0m\u001b[0mv\u001b[0m\u001b[0;34m}\u001b[0m\u001b[0;34m\u001b[0m\u001b[0;34m\u001b[0m\u001b[0m\n\u001b[0;32m---> 86\u001b[0;31m         \u001b[0mgen_degree\u001b[0m \u001b[0;34m=\u001b[0m \u001b[0mCounter\u001b[0m\u001b[0;34m(\u001b[0m\u001b[0mlen\u001b[0m\u001b[0;34m(\u001b[0m\u001b[0mvs\u001b[0m \u001b[0;34m&\u001b[0m \u001b[0;34m(\u001b[0m\u001b[0mset\u001b[0m\u001b[0;34m(\u001b[0m\u001b[0mG\u001b[0m\u001b[0;34m[\u001b[0m\u001b[0mw\u001b[0m\u001b[0;34m]\u001b[0m\u001b[0;34m)\u001b[0m \u001b[0;34m-\u001b[0m \u001b[0;34m{\u001b[0m\u001b[0mw\u001b[0m\u001b[0;34m}\u001b[0m\u001b[0;34m)\u001b[0m\u001b[0;34m)\u001b[0m \u001b[0;32mfor\u001b[0m \u001b[0mw\u001b[0m \u001b[0;32min\u001b[0m \u001b[0mvs\u001b[0m\u001b[0;34m)\u001b[0m\u001b[0;34m\u001b[0m\u001b[0;34m\u001b[0m\u001b[0m\n\u001b[0m\u001b[1;32m     87\u001b[0m         \u001b[0mntriangles\u001b[0m \u001b[0;34m=\u001b[0m \u001b[0msum\u001b[0m\u001b[0;34m(\u001b[0m\u001b[0mk\u001b[0m \u001b[0;34m*\u001b[0m \u001b[0mval\u001b[0m \u001b[0;32mfor\u001b[0m \u001b[0mk\u001b[0m\u001b[0;34m,\u001b[0m \u001b[0mval\u001b[0m \u001b[0;32min\u001b[0m \u001b[0mgen_degree\u001b[0m\u001b[0;34m.\u001b[0m\u001b[0mitems\u001b[0m\u001b[0;34m(\u001b[0m\u001b[0;34m)\u001b[0m\u001b[0;34m)\u001b[0m\u001b[0;34m\u001b[0m\u001b[0;34m\u001b[0m\u001b[0m\n\u001b[1;32m     88\u001b[0m         \u001b[0;32myield\u001b[0m \u001b[0;34m(\u001b[0m\u001b[0mv\u001b[0m\u001b[0;34m,\u001b[0m \u001b[0mlen\u001b[0m\u001b[0;34m(\u001b[0m\u001b[0mvs\u001b[0m\u001b[0;34m)\u001b[0m\u001b[0;34m,\u001b[0m \u001b[0mntriangles\u001b[0m\u001b[0;34m,\u001b[0m \u001b[0mgen_degree\u001b[0m\u001b[0;34m)\u001b[0m\u001b[0;34m\u001b[0m\u001b[0;34m\u001b[0m\u001b[0m\n",
      "\u001b[0;31mKeyboardInterrupt\u001b[0m: "
     ]
    }
   ],
   "source": [
    "print(f'The clustering coefficient of the preblock graph is {nx.average_clustering(preblock_graph)}')"
   ]
  },
  {
   "cell_type": "markdown",
   "metadata": {},
   "source": [
    "### 2) Block graph \n",
    "The block graph is similar to the preblock graph. The ```.gexf``` files can be found in ```/dlabdata1/turkish_wiki/graphs/```."
   ]
  },
  {
   "cell_type": "code",
   "execution_count": 14,
   "metadata": {},
   "outputs": [],
   "source": [
    "block_edits = edits[(edits['period'] == 'block')]"
   ]
  },
  {
   "cell_type": "code",
   "execution_count": 664,
   "metadata": {},
   "outputs": [],
   "source": [
    "block_edits = block_edits.groupby('event_user_id')['page_id'].apply(set)"
   ]
  },
  {
   "cell_type": "code",
   "execution_count": 665,
   "metadata": {},
   "outputs": [],
   "source": [
    "block_edits = block_edits.reset_index()"
   ]
  },
  {
   "cell_type": "code",
   "execution_count": 666,
   "metadata": {},
   "outputs": [],
   "source": [
    "block_adjacency = np.zeros((block_edits.shape[0], block_edits.shape[0]))"
   ]
  },
  {
   "cell_type": "code",
   "execution_count": 671,
   "metadata": {},
   "outputs": [],
   "source": [
    "for i, elem1 in block_edits.page_id.iteritems():\n",
    "    for j, elem2 in block_edits.page_id.iteritems():\n",
    "        if i > j:\n",
    "            intersection = len(elem1.intersection(elem2))\n",
    "            block_adjacency[i,j] = intersection\n",
    "            block_adjacency[j,i] = intersection"
   ]
  },
  {
   "cell_type": "code",
   "execution_count": 702,
   "metadata": {},
   "outputs": [],
   "source": [
    "block_graph =  nx.from_numpy_array(block_adjacency)"
   ]
  },
  {
   "cell_type": "code",
   "execution_count": 703,
   "metadata": {},
   "outputs": [],
   "source": [
    "nx.write_gexf(block_graph, 'block_graph.gexf')"
   ]
  },
  {
   "cell_type": "code",
   "execution_count": 704,
   "metadata": {},
   "outputs": [
    {
     "name": "stdout",
     "output_type": "stream",
     "text": [
      "Number of nodes: 13119, Number of edges: 130517\n",
      "Number of self-loops: 0, Number of connected components: 1026\n"
     ]
    }
   ],
   "source": [
    "print('Number of nodes: {}, Number of edges: {}'. format(block_graph.number_of_nodes(), block_graph.number_of_edges()))\n",
    "print('Number of self-loops: {}, Number of connected components: {}'. format(nx.number_of_selfloops(block_graph), nx.number_connected_components(block_graph)))\n"
   ]
  },
  {
   "cell_type": "code",
   "execution_count": 706,
   "metadata": {},
   "outputs": [
    {
     "name": "stdout",
     "output_type": "stream",
     "text": [
      "The giant component of the block graph has 12085 nodes and 130508 edges.\n"
     ]
    }
   ],
   "source": [
    "giant_block = block_graph.subgraph(max(nx.connected_components(block_graph), key=len))\n",
    "print('The giant component of the block graph has {} nodes and {} edges.'.format(giant_block.number_of_nodes(), giant_block.size()))"
   ]
  },
  {
   "cell_type": "code",
   "execution_count": 709,
   "metadata": {},
   "outputs": [
    {
     "data": {
      "image/png": "[encoded data removed]",
      "text/plain": [
       "<Figure size 1080x432 with 2 Axes>"
      ]
     },
     "metadata": {
      "needs_background": "light"
     },
     "output_type": "display_data"
    }
   ],
   "source": [
    "fig, axes = plt.subplots(1, 2, figsize=(15, 6))\n",
    "axes[0].set_title('Preblock degree graph')\n",
    "preblock_degrees = [degree for node, degree in preblock_graph.degree()]\n",
    "axes[0].hist(preblock_degrees);\n",
    "axes[1].set_title('Block degree graph')\n",
    "block_degrees = [degree for node, degree in block_graph.degree()]\n",
    "axes[1].hist(block_degrees);"
   ]
  },
  {
   "cell_type": "code",
   "execution_count": null,
   "metadata": {},
   "outputs": [],
   "source": [
    "print(f'The clustering coefficient of the block graph is {nx.average_clustering(block_graph)}')"
   ]
  },
  {
   "cell_type": "markdown",
   "metadata": {},
   "source": [
    "### 3) Find out if those who remained were a subcommunity of the pre-block graph"
   ]
  },
  {
   "cell_type": "code",
   "execution_count": 723,
   "metadata": {},
   "outputs": [],
   "source": [
    "users_who_remained = list(set(preblock_edits.event_user_id.values).intersection(set(block_edits.event_user_id.values)))"
   ]
  },
  {
   "cell_type": "code",
   "execution_count": 728,
   "metadata": {},
   "outputs": [],
   "source": [
    "users_who_remained_idx = preblock_edits[preblock_edits['event_user_id'].isin(users_who_remained)].index.values"
   ]
  },
  {
   "cell_type": "code",
   "execution_count": 760,
   "metadata": {},
   "outputs": [],
   "source": [
    "users_who_left_idx = list(preblock_edits[~preblock_edits['event_user_id'].isin(users_who_remained)].index.values)"
   ]
  },
  {
   "cell_type": "code",
   "execution_count": 732,
   "metadata": {},
   "outputs": [],
   "source": [
    "unaffected_community = nx.subgraph(preblock_graph, users_who_remained_idx)\n",
    "rest_of_graph = nx.subgraph(preblock_graph, users_who_left_idx)"
   ]
  },
  {
   "cell_type": "markdown",
   "metadata": {},
   "source": [
    "#### 1) Strong community\n",
    "The subgraph V is a community in a strong sense if each node has more connections within the community than with the rest of the graph. "
   ]
  },
  {
   "cell_type": "markdown",
   "metadata": {},
   "source": [
    "#### 2) Weak community\n",
    "The subgraph V is a community in a weak sense if the sum of all degrees within V is larger than the sum of all degrees toward the rest of the network."
   ]
  },
  {
   "cell_type": "code",
   "execution_count": 743,
   "metadata": {},
   "outputs": [],
   "source": [
    "degrees_within_community = sum(dict(unaffected_community.degree()).values())"
   ]
  },
  {
   "cell_type": "code",
   "execution_count": 776,
   "metadata": {},
   "outputs": [],
   "source": [
    "degrees_to_the_rest = 0\n",
    "for user_idx in users_who_remained_idx:\n",
    "    user_and_rest = users_who_left_idx.copy()\n",
    "    user_and_rest.append(user_idx)\n",
    "    rest_of_network = nx.subgraph(preblock_graph, user_and_rest)\n",
    "    degrees_to_the_rest += nx.degree(rest_of_network, user_idx)"
   ]
  },
  {
   "cell_type": "code",
   "execution_count": 777,
   "metadata": {},
   "outputs": [
    {
     "data": {
      "text/plain": [
       "1123868"
      ]
     },
     "execution_count": 777,
     "metadata": {},
     "output_type": "execute_result"
    }
   ],
   "source": [
    "degrees_to_the_rest"
   ]
  },
  {
   "cell_type": "code",
   "execution_count": 778,
   "metadata": {},
   "outputs": [
    {
     "data": {
      "text/plain": [
       "201302"
      ]
     },
     "execution_count": 778,
     "metadata": {},
     "output_type": "execute_result"
    }
   ],
   "source": [
    "degrees_within_community"
   ]
  },
  {
   "cell_type": "markdown",
   "metadata": {},
   "source": [
    "The users who remained do not form a strong or weak community inside the pre-block network. It is possible that the timeframe that we took for the pre-block period is too much. We took a symmetrical period to the pre-block period, the block lasted 991 days, but a lot of the users in the pre-block period already left wikipedia a long time ago. The sum of degrees within the users who remained is 5 times smaller than the degrees to the rest of the network whilst there are 23 times more users outside the community than inside."
   ]
  },
  {
   "cell_type": "markdown",
   "metadata": {},
   "source": [
    "### 4) Use community algorithms and check if users who remained are in it\n",
    "The below measures took too much time to compute on the scale of graphs that we had and were abandoned. Another approach to understand the user networks were employed later on in the notebooks ```get_graphs.ipynb``` and ```analyze_graphs.ipynb```."
   ]
  },
  {
   "cell_type": "markdown",
   "metadata": {},
   "source": [
    "#### Centrality based - Girvan Newman"
   ]
  },
  {
   "cell_type": "code",
   "execution_count": 792,
   "metadata": {},
   "outputs": [],
   "source": [
    "from networkx.algorithms import community\n",
    "girvan_newman_communities_generator = community.girvan_newman(preblock_graph)\n",
    "top_level_communities = next(girvan_newman_communities_generator)"
   ]
  },
  {
   "cell_type": "markdown",
   "metadata": {},
   "source": [
    "#### Modularity based"
   ]
  },
  {
   "cell_type": "markdown",
   "metadata": {},
   "source": [
    "##### Weighted"
   ]
  },
  {
   "cell_type": "code",
   "execution_count": null,
   "metadata": {},
   "outputs": [],
   "source": [
    "modularity_communities_generator = community._naive_greedy_modularity_communities(preblock_graph)\n",
    "top_level_communities = next(modularity_communities_generator)\n"
   ]
  },
  {
   "cell_type": "markdown",
   "metadata": {},
   "source": [
    "##### Unweighted"
   ]
  },
  {
   "cell_type": "code",
   "execution_count": 805,
   "metadata": {
    "collapsed": true,
    "jupyter": {
     "outputs_hidden": true
    }
   },
   "outputs": [
    {
     "ename": "KeyboardInterrupt",
     "evalue": "",
     "output_type": "error",
     "traceback": [
      "\u001b[0;31m---------------------------------------------------------------------------\u001b[0m",
      "\u001b[0;31mKeyboardInterrupt\u001b[0m                         Traceback (most recent call last)",
      "\u001b[0;32m<ipython-input-805-7645139d4fa5>\u001b[0m in \u001b[0;36m<module>\u001b[0;34m\u001b[0m\n\u001b[0;32m----> 1\u001b[0;31m \u001b[0muw_modularity_communities_generator\u001b[0m \u001b[0;34m=\u001b[0m \u001b[0mcommunity\u001b[0m\u001b[0;34m.\u001b[0m\u001b[0mgreedy_modularity_communities\u001b[0m\u001b[0;34m(\u001b[0m\u001b[0mpreblock_graph\u001b[0m\u001b[0;34m)\u001b[0m\u001b[0;34m\u001b[0m\u001b[0;34m\u001b[0m\u001b[0m\n\u001b[0m\u001b[1;32m      2\u001b[0m \u001b[0mtop_level_communities\u001b[0m \u001b[0;34m=\u001b[0m \u001b[0mnext\u001b[0m\u001b[0;34m(\u001b[0m\u001b[0muw_modularity_communities_generator\u001b[0m\u001b[0;34m)\u001b[0m\u001b[0;34m\u001b[0m\u001b[0;34m\u001b[0m\u001b[0m\n",
      "\u001b[0;32m/opt/anaconda3/lib/python3.7/site-packages/networkx/algorithms/community/modularity_max.py\u001b[0m in \u001b[0;36mgreedy_modularity_communities\u001b[0;34m(G, weight)\u001b[0m\n\u001b[1;32m    152\u001b[0m         \u001b[0;32mfor\u001b[0m \u001b[0mk\u001b[0m \u001b[0;32min\u001b[0m \u001b[0mall_set\u001b[0m\u001b[0;34m:\u001b[0m\u001b[0;34m\u001b[0m\u001b[0;34m\u001b[0m\u001b[0m\n\u001b[1;32m    153\u001b[0m             \u001b[0;31m# Calculate new dq value\u001b[0m\u001b[0;34m\u001b[0m\u001b[0;34m\u001b[0m\u001b[0;34m\u001b[0m\u001b[0m\n\u001b[0;32m--> 154\u001b[0;31m             \u001b[0;32mif\u001b[0m \u001b[0mk\u001b[0m \u001b[0;32min\u001b[0m \u001b[0mboth_set\u001b[0m\u001b[0;34m:\u001b[0m\u001b[0;34m\u001b[0m\u001b[0;34m\u001b[0m\u001b[0m\n\u001b[0m\u001b[1;32m    155\u001b[0m                 \u001b[0mdq_jk\u001b[0m \u001b[0;34m=\u001b[0m \u001b[0mdq_dict\u001b[0m\u001b[0;34m[\u001b[0m\u001b[0mj\u001b[0m\u001b[0;34m]\u001b[0m\u001b[0;34m[\u001b[0m\u001b[0mk\u001b[0m\u001b[0;34m]\u001b[0m \u001b[0;34m+\u001b[0m \u001b[0mdq_dict\u001b[0m\u001b[0;34m[\u001b[0m\u001b[0mi\u001b[0m\u001b[0;34m]\u001b[0m\u001b[0;34m[\u001b[0m\u001b[0mk\u001b[0m\u001b[0;34m]\u001b[0m\u001b[0;34m\u001b[0m\u001b[0;34m\u001b[0m\u001b[0m\n\u001b[1;32m    156\u001b[0m             \u001b[0;32melif\u001b[0m \u001b[0mk\u001b[0m \u001b[0;32min\u001b[0m \u001b[0mj_set\u001b[0m\u001b[0;34m:\u001b[0m\u001b[0;34m\u001b[0m\u001b[0;34m\u001b[0m\u001b[0m\n",
      "\u001b[0;31mKeyboardInterrupt\u001b[0m: "
     ]
    }
   ],
   "source": [
    "uw_modularity_communities_generator = community.greedy_modularity_communities(preblock_graph)\n",
    "top_level_communities = next(uw_modularity_communities_generator)\n"
   ]
  },
  {
   "cell_type": "markdown",
   "metadata": {},
   "source": [
    "## IV. Implementing measures of the Romero paper\n",
    "Romero and al. implemented some metrics to measure the changes in activity of Chinese Wikipedia during censorship times. Here we replicate the measures to analyze them in the context of Turkish Wikipedia. All measures are article based, meaning that we have values at an article level."
   ]
  },
  {
   "cell_type": "markdown",
   "metadata": {},
   "source": [
    "### 1) Shock level\n",
    "Given an article a, we define the weighted\n",
    "blocked ratio $B_a$ of article a as the fraction of edits contributed\n",
    "by the editors blocked among all the edits during\n",
    "the pre-block period."
   ]
  },
  {
   "cell_type": "code",
   "execution_count": null,
   "metadata": {},
   "outputs": [],
   "source": [
    "preblock_edits = edits[(edits['period'] == 'pre-block') & (edits['event_timestamp'] > block_dates[0]-pd.Timedelta(days=blocked_days))]\n",
    "block_edits = edits[(edits['period'] == 'block')]\n",
    "\n",
    "users_who_remained = list(set(preblock_edits.event_user_id.values).intersection(set(block_edits.event_user_id.values)))\n",
    "users_who_left = list(set(preblock_edits.event_user_id.values).difference(set(block_edits.event_user_id.values)))\n",
    "\n",
    "preblock_edits['blocked_user'] = preblock_edits['event_user_id'].isin(users_who_left)\n",
    "\n",
    "all_pages = preblock_edits.groupby(['page_id']).size().reset_index()\n",
    "blocked_user_pages = preblock_edits[preblock_edits['blocked_user'] == True].groupby(['page_id']).size().reset_index()\n",
    "\n",
    "shock_level = pd.merge(all_pages, blocked_user_pages, on = 'page_id', how = 'left')\n",
    "\n",
    "shock_level.columns = ['page_id', 'all_edits_count', 'blocked_user_edits_count']\n",
    "shock_level = shock_level.fillna(0)\n",
    "\n",
    "shock_level['blocked_ratio'] = shock_level['blocked_user_edits_count']/shock_level['all_edits_count']"
   ]
  },
  {
   "cell_type": "code",
   "execution_count": 869,
   "metadata": {},
   "outputs": [
    {
     "data": {
      "text/html": [
       "<div>\n",
       "<style scoped>\n",
       "    .dataframe tbody tr th:only-of-type {\n",
       "        vertical-align: middle;\n",
       "    }\n",
       "\n",
       "    .dataframe tbody tr th {\n",
       "        vertical-align: top;\n",
       "    }\n",
       "\n",
       "    .dataframe thead th {\n",
       "        text-align: right;\n",
       "    }\n",
       "</style>\n",
       "<table border=\"1\" class=\"dataframe\">\n",
       "  <thead>\n",
       "    <tr style=\"text-align: right;\">\n",
       "      <th></th>\n",
       "      <th>page_id</th>\n",
       "      <th>all_edits_count</th>\n",
       "      <th>blocked_user_edits_count</th>\n",
       "      <th>blocked_ratio</th>\n",
       "    </tr>\n",
       "  </thead>\n",
       "  <tbody>\n",
       "    <tr>\n",
       "      <th>0</th>\n",
       "      <td>5</td>\n",
       "      <td>2</td>\n",
       "      <td>1.0</td>\n",
       "      <td>0.500000</td>\n",
       "    </tr>\n",
       "    <tr>\n",
       "      <th>1</th>\n",
       "      <td>10</td>\n",
       "      <td>247</td>\n",
       "      <td>74.0</td>\n",
       "      <td>0.299595</td>\n",
       "    </tr>\n",
       "    <tr>\n",
       "      <th>2</th>\n",
       "      <td>16</td>\n",
       "      <td>2</td>\n",
       "      <td>0.0</td>\n",
       "      <td>0.000000</td>\n",
       "    </tr>\n",
       "    <tr>\n",
       "      <th>3</th>\n",
       "      <td>22</td>\n",
       "      <td>56</td>\n",
       "      <td>21.0</td>\n",
       "      <td>0.375000</td>\n",
       "    </tr>\n",
       "    <tr>\n",
       "      <th>4</th>\n",
       "      <td>24</td>\n",
       "      <td>90</td>\n",
       "      <td>58.0</td>\n",
       "      <td>0.644444</td>\n",
       "    </tr>\n",
       "  </tbody>\n",
       "</table>\n",
       "</div>"
      ],
      "text/plain": [
       "   page_id  all_edits_count  blocked_user_edits_count  blocked_ratio\n",
       "0        5                2                       1.0       0.500000\n",
       "1       10              247                      74.0       0.299595\n",
       "2       16                2                       0.0       0.000000\n",
       "3       22               56                      21.0       0.375000\n",
       "4       24               90                      58.0       0.644444"
      ]
     },
     "execution_count": 869,
     "metadata": {},
     "output_type": "execute_result"
    }
   ],
   "source": [
    "shock_level.head()"
   ]
  },
  {
   "cell_type": "code",
   "execution_count": 868,
   "metadata": {},
   "outputs": [],
   "source": [
    "shock_level.to_csv(f\"{DATA_PATH}/processed_data/shock_level.csv\")"
   ]
  },
  {
   "cell_type": "markdown",
   "metadata": {},
   "source": [
    "### 2) Level of Activity\n",
    "For each article a, we let $EV^{pre}_a$ and $EV^{post}_a$ be the number of edits of a made during the pre-block\n",
    "period and block period, respectively. <br>\n",
    "Then, $EV^Δ_a = \\frac{EV^{post}_a −EV^{pre}_a}{EV^{pre}_a}$"
   ]
  },
  {
   "cell_type": "code",
   "execution_count": 876,
   "metadata": {},
   "outputs": [],
   "source": [
    "level_of_activity = pd.merge(preblock_edits[['page_id']].groupby('page_id').size().reset_index().rename(columns={0: \"preblock_edit_count\"}), block_edits[['page_id']].groupby('page_id').size().reset_index().rename(columns={0: \"block_edit_count\"}), on='page_id', how='outer')"
   ]
  },
  {
   "cell_type": "code",
   "execution_count": 878,
   "metadata": {},
   "outputs": [],
   "source": [
    "level_of_activity = level_of_activity[~level_of_activity['preblock_edit_count'].isna()]"
   ]
  },
  {
   "cell_type": "code",
   "execution_count": 880,
   "metadata": {},
   "outputs": [],
   "source": [
    "level_of_activity = level_of_activity.fillna(0)"
   ]
  },
  {
   "cell_type": "code",
   "execution_count": 881,
   "metadata": {},
   "outputs": [],
   "source": [
    "level_of_activity['delta'] = (level_of_activity['block_edit_count'] - level_of_activity['preblock_edit_count'])/(level_of_activity['preblock_edit_count'])"
   ]
  },
  {
   "cell_type": "code",
   "execution_count": 882,
   "metadata": {},
   "outputs": [],
   "source": [
    "level_of_activity.to_csv(f\"{DATA_PATH}/processed_data/level_of_activity.csv\")"
   ]
  },
  {
   "cell_type": "markdown",
   "metadata": {},
   "source": [
    "### 3) Centralization\n",
    "We let $E^{pre}_a$ and $E^{post}_a$ be the set of editors of article a in the pre-block and post-block period, respectively, and $N^{pre}_a$ and $N^{post}_a$ be the number of editors in $E^{pre}_a$ and $E^{post}_a$ . We let $W^{pre}_a (e)$ and $W^{post}_a (e)$ be the number of times editor e contributed to article a in the respective time periods. We begin by computing the $G^{pre}_a$ , the Gini coefficient of the set ${\\bigcup_{e \\in E^{pre}_a} W^{pre}_a (e)}$: <br>\n",
    "$G^{pre}_a = \\frac{ \\sum_{i \\in E^{pre}_a} \\sum_{j \\in E^{pre}_a}|e_i−e_j|}{2\\sum_{i∈E^{pre}_a}\\sum_{j∈E^{pre}_a}e_j}$\n",
    "\n",
    "We define the centralization of article a during the pre-block period, $C^{pre}_a$  , as the fraction of $G^{pre}_a$ and the maximum value of $G_a$ given $E^{pre}_a$ and $EV^{pre}_a$ . We also define the corresponding measures of centralization of an article during the post-block period in the same manner. Finally, we define the change in centralization as $C^Δ_a=C^{post}_a −C^{pre}_a $."
   ]
  },
  {
   "cell_type": "code",
   "execution_count": 904,
   "metadata": {},
   "outputs": [],
   "source": [
    "from collections import Counter"
   ]
  },
  {
   "cell_type": "code",
   "execution_count": 905,
   "metadata": {},
   "outputs": [],
   "source": [
    "eprea = preblock_edits.groupby('page_id')['event_user_id'].apply(list).apply(Counter)"
   ]
  },
  {
   "cell_type": "code",
   "execution_count": 906,
   "metadata": {},
   "outputs": [],
   "source": [
    "eposta = block_edits.groupby('page_id')['event_user_id'].apply(list).apply(Counter)"
   ]
  },
  {
   "cell_type": "code",
   "execution_count": 907,
   "metadata": {},
   "outputs": [],
   "source": [
    "gini = pd.merge(eprea.reset_index(), eposta.reset_index(), on = 'page_id', how = 'outer')"
   ]
  },
  {
   "cell_type": "code",
   "execution_count": 908,
   "metadata": {},
   "outputs": [],
   "source": [
    "gini.columns = ['page_id', 'eprea', 'eposta']"
   ]
  },
  {
   "cell_type": "code",
   "execution_count": 963,
   "metadata": {},
   "outputs": [],
   "source": [
    "def calculate_gini(c):\n",
    "    if(pd.notnull(c)):\n",
    "        values = list(c.values())\n",
    "        num = 0\n",
    "        denom = 0\n",
    "\n",
    "        for i in values:\n",
    "            for j in values:\n",
    "                num += abs(i-j)\n",
    "                denom += j\n",
    "        return num/(2*denom)"
   ]
  },
  {
   "cell_type": "code",
   "execution_count": 966,
   "metadata": {},
   "outputs": [],
   "source": [
    "gini['gprea'] = gini['eprea'].apply(calculate_gini)\n",
    "gini['gposta'] = gini['eposta'].apply(calculate_gini)"
   ]
  },
  {
   "cell_type": "code",
   "execution_count": 967,
   "metadata": {},
   "outputs": [
    {
     "data": {
      "text/html": [
       "<div>\n",
       "<style scoped>\n",
       "    .dataframe tbody tr th:only-of-type {\n",
       "        vertical-align: middle;\n",
       "    }\n",
       "\n",
       "    .dataframe tbody tr th {\n",
       "        vertical-align: top;\n",
       "    }\n",
       "\n",
       "    .dataframe thead th {\n",
       "        text-align: right;\n",
       "    }\n",
       "</style>\n",
       "<table border=\"1\" class=\"dataframe\">\n",
       "  <thead>\n",
       "    <tr style=\"text-align: right;\">\n",
       "      <th></th>\n",
       "      <th>page_id</th>\n",
       "      <th>eprea</th>\n",
       "      <th>eposta</th>\n",
       "      <th>gprea</th>\n",
       "      <th>gposta</th>\n",
       "    </tr>\n",
       "  </thead>\n",
       "  <tbody>\n",
       "    <tr>\n",
       "      <th>0</th>\n",
       "      <td>5</td>\n",
       "      <td>{800643: 1, 113659: 1}</td>\n",
       "      <td>NaN</td>\n",
       "      <td>0.000000</td>\n",
       "      <td>NaN</td>\n",
       "    </tr>\n",
       "    <tr>\n",
       "      <th>1</th>\n",
       "      <td>10</td>\n",
       "      <td>{223619: 2, 464885: 2, 400394: 1, 650845: 1, 6...</td>\n",
       "      <td>{208697: 3, 573665: 6, 104002: 1, 880664: 1, 3...</td>\n",
       "      <td>0.625091</td>\n",
       "      <td>0.335979</td>\n",
       "    </tr>\n",
       "    <tr>\n",
       "      <th>2</th>\n",
       "      <td>16</td>\n",
       "      <td>{93111: 1, 96765: 1}</td>\n",
       "      <td>NaN</td>\n",
       "      <td>0.000000</td>\n",
       "      <td>NaN</td>\n",
       "    </tr>\n",
       "    <tr>\n",
       "      <th>3</th>\n",
       "      <td>22</td>\n",
       "      <td>{248688: 1, 5516: 1, 416618: 1, 673356: 1, 536...</td>\n",
       "      <td>{748781: 3, 573665: 2, 90501: 1}</td>\n",
       "      <td>0.470497</td>\n",
       "      <td>0.222222</td>\n",
       "    </tr>\n",
       "    <tr>\n",
       "      <th>4</th>\n",
       "      <td>24</td>\n",
       "      <td>{365127: 29, 166490: 11, 626925: 1, 642240: 2,...</td>\n",
       "      <td>{573665: 2, 136954: 1, 221544: 1, 86010: 1, 10...</td>\n",
       "      <td>0.562007</td>\n",
       "      <td>0.260000</td>\n",
       "    </tr>\n",
       "    <tr>\n",
       "      <th>...</th>\n",
       "      <td>...</td>\n",
       "      <td>...</td>\n",
       "      <td>...</td>\n",
       "      <td>...</td>\n",
       "      <td>...</td>\n",
       "    </tr>\n",
       "    <tr>\n",
       "      <th>453997</th>\n",
       "      <td>2607910</td>\n",
       "      <td>NaN</td>\n",
       "      <td>{996784: 1}</td>\n",
       "      <td>NaN</td>\n",
       "      <td>0.000000</td>\n",
       "    </tr>\n",
       "    <tr>\n",
       "      <th>453998</th>\n",
       "      <td>2616902</td>\n",
       "      <td>NaN</td>\n",
       "      <td>{90501: 1}</td>\n",
       "      <td>NaN</td>\n",
       "      <td>0.000000</td>\n",
       "    </tr>\n",
       "    <tr>\n",
       "      <th>453999</th>\n",
       "      <td>2625246</td>\n",
       "      <td>NaN</td>\n",
       "      <td>{90501: 1, 136954: 1}</td>\n",
       "      <td>NaN</td>\n",
       "      <td>0.000000</td>\n",
       "    </tr>\n",
       "    <tr>\n",
       "      <th>454000</th>\n",
       "      <td>2648641</td>\n",
       "      <td>NaN</td>\n",
       "      <td>{90501: 1}</td>\n",
       "      <td>NaN</td>\n",
       "      <td>0.000000</td>\n",
       "    </tr>\n",
       "    <tr>\n",
       "      <th>454001</th>\n",
       "      <td>2724441</td>\n",
       "      <td>NaN</td>\n",
       "      <td>{978246: 1}</td>\n",
       "      <td>NaN</td>\n",
       "      <td>0.000000</td>\n",
       "    </tr>\n",
       "  </tbody>\n",
       "</table>\n",
       "<p>454002 rows × 5 columns</p>\n",
       "</div>"
      ],
      "text/plain": [
       "        page_id                                              eprea  \\\n",
       "0             5                             {800643: 1, 113659: 1}   \n",
       "1            10  {223619: 2, 464885: 2, 400394: 1, 650845: 1, 6...   \n",
       "2            16                               {93111: 1, 96765: 1}   \n",
       "3            22  {248688: 1, 5516: 1, 416618: 1, 673356: 1, 536...   \n",
       "4            24  {365127: 29, 166490: 11, 626925: 1, 642240: 2,...   \n",
       "...         ...                                                ...   \n",
       "453997  2607910                                                NaN   \n",
       "453998  2616902                                                NaN   \n",
       "453999  2625246                                                NaN   \n",
       "454000  2648641                                                NaN   \n",
       "454001  2724441                                                NaN   \n",
       "\n",
       "                                                   eposta     gprea    gposta  \n",
       "0                                                     NaN  0.000000       NaN  \n",
       "1       {208697: 3, 573665: 6, 104002: 1, 880664: 1, 3...  0.625091  0.335979  \n",
       "2                                                     NaN  0.000000       NaN  \n",
       "3                        {748781: 3, 573665: 2, 90501: 1}  0.470497  0.222222  \n",
       "4       {573665: 2, 136954: 1, 221544: 1, 86010: 1, 10...  0.562007  0.260000  \n",
       "...                                                   ...       ...       ...  \n",
       "453997                                        {996784: 1}       NaN  0.000000  \n",
       "453998                                         {90501: 1}       NaN  0.000000  \n",
       "453999                              {90501: 1, 136954: 1}       NaN  0.000000  \n",
       "454000                                         {90501: 1}       NaN  0.000000  \n",
       "454001                                        {978246: 1}       NaN  0.000000  \n",
       "\n",
       "[454002 rows x 5 columns]"
      ]
     },
     "execution_count": 967,
     "metadata": {},
     "output_type": "execute_result"
    }
   ],
   "source": [
    "gini"
   ]
  },
  {
   "cell_type": "code",
   "execution_count": 975,
   "metadata": {},
   "outputs": [],
   "source": [
    "gini['evprea'] = gini['eprea'].apply(lambda c: sum(c.values()) if(pd.notnull(c)) else 0)\n",
    "gini['evposta'] = gini['eposta'].apply(lambda c: sum(c.values()) if(pd.notnull(c)) else 0)"
   ]
  },
  {
   "cell_type": "code",
   "execution_count": 978,
   "metadata": {},
   "outputs": [],
   "source": [
    "gini['nprea'] = gini['eprea'].apply(lambda c: len(c.keys()) if(pd.notnull(c)) else 0)\n",
    "gini['nposta'] = gini['eposta'].apply(lambda c: len(c.keys()) if(pd.notnull(c)) else 0)"
   ]
  },
  {
   "cell_type": "code",
   "execution_count": 1000,
   "metadata": {},
   "outputs": [],
   "source": [
    "def max_gini(ev, n):\n",
    "    \"\"\"\n",
    "    Returns the maximum possible gini value\n",
    "    \n",
    "    Params\n",
    "    ------\n",
    "        ev: int : Number of edits\n",
    "        n: int : Number of users\n",
    "    \"\"\"\n",
    "    if n>0:\n",
    "        return (n-1)*(ev-n)/(ev*n)"
   ]
  },
  {
   "cell_type": "code",
   "execution_count": 1009,
   "metadata": {},
   "outputs": [],
   "source": [
    "gini['max_pre_gini'] = gini[['evprea', 'nprea']].apply(lambda row: max_gini(row['evprea'], row['nprea']), axis=1)\n",
    "gini['max_post_gini'] = gini[['evposta', 'nposta']].apply(lambda row: max_gini(row['evposta'], row['nposta']), axis=1)"
   ]
  },
  {
   "cell_type": "code",
   "execution_count": 1015,
   "metadata": {
    "collapsed": true,
    "jupyter": {
     "outputs_hidden": true
    }
   },
   "outputs": [
    {
     "name": "stderr",
     "output_type": "stream",
     "text": [
      "/opt/anaconda3/lib/python3.7/site-packages/ipykernel_launcher.py:1: RuntimeWarning: invalid value encountered in double_scalars\n",
      "  \"\"\"Entry point for launching an IPython kernel.\n"
     ]
    }
   ],
   "source": [
    "gini['normalized_gprea'] = gini[['gprea', 'max_pre_gini']].apply(lambda row: row['gprea']/row['max_pre_gini'], axis=1)\n",
    "gini['normalized_gposta'] = gini[['gposta', 'max_post_gini']].apply(lambda row: row['gposta']/row['max_post_gini'], axis=1)"
   ]
  },
  {
   "cell_type": "code",
   "execution_count": 1019,
   "metadata": {},
   "outputs": [],
   "source": [
    "gini['cdelta'] = gini['normalized_gposta'] - gini['normalized_gprea']"
   ]
  },
  {
   "cell_type": "code",
   "execution_count": 1022,
   "metadata": {},
   "outputs": [],
   "source": [
    "gini.to_csv(f'{DATA_PATH}/processed_data/gini.csv')"
   ]
  },
  {
   "cell_type": "markdown",
   "metadata": {},
   "source": [
    "### 4) Conflict\n",
    "We let $R_{a}^{pre}$ and $R_{a}^{post}$ be the revert rates of article $a$ in the pre-block and post-block periods, respectively. We define the change in conflict in an article as $R_{a}^{\\Delta}=R_{a}^{\\text {post }}-R_{a}^{\\text {pre }}$"
   ]
  },
  {
   "cell_type": "code",
   "execution_count": 32,
   "metadata": {},
   "outputs": [],
   "source": [
    "conflict = pd.merge(preblock_edits[preblock_edits['revision_is_identity_revert'] == True].groupby('page_id').size().reset_index().rename(columns={0: \"preblock_reverts\"}), preblock_edits.groupby('page_id').size().reset_index().rename(columns={0: \"preblock_edits\"}), how = 'outer')"
   ]
  },
  {
   "cell_type": "code",
   "execution_count": 35,
   "metadata": {},
   "outputs": [],
   "source": [
    "conflict = pd.merge(conflict, pd.merge(block_edits[block_edits['revision_is_identity_revert'] == True].groupby('page_id').size().reset_index().rename(columns={0: \"block_reverts\"}), block_edits.groupby('page_id').size().reset_index().rename(columns={0: \"block_edits\"}), how = 'outer') ,how = 'outer')"
   ]
  },
  {
   "cell_type": "code",
   "execution_count": 38,
   "metadata": {},
   "outputs": [],
   "source": [
    "conflict = conflict.fillna(0)"
   ]
  },
  {
   "cell_type": "code",
   "execution_count": 40,
   "metadata": {},
   "outputs": [],
   "source": [
    "conflict['preblock_revert_rate'] = conflict['preblock_reverts']/conflict['preblock_edits']\n",
    "conflict['block_revert_rate'] = conflict['block_reverts']/conflict['block_edits']\n",
    "conflict['change'] = conflict['block_revert_rate'] - conflict['preblock_revert_rate']"
   ]
  },
  {
   "cell_type": "code",
   "execution_count": 41,
   "metadata": {},
   "outputs": [
    {
     "data": {
      "text/html": [
       "<div>\n",
       "<style scoped>\n",
       "    .dataframe tbody tr th:only-of-type {\n",
       "        vertical-align: middle;\n",
       "    }\n",
       "\n",
       "    .dataframe tbody tr th {\n",
       "        vertical-align: top;\n",
       "    }\n",
       "\n",
       "    .dataframe thead th {\n",
       "        text-align: right;\n",
       "    }\n",
       "</style>\n",
       "<table border=\"1\" class=\"dataframe\">\n",
       "  <thead>\n",
       "    <tr style=\"text-align: right;\">\n",
       "      <th></th>\n",
       "      <th>page_id</th>\n",
       "      <th>preblock_reverts</th>\n",
       "      <th>preblock_edits</th>\n",
       "      <th>block_reverts</th>\n",
       "      <th>block_edits</th>\n",
       "      <th>preblock_revert_rate</th>\n",
       "      <th>block_revert_rate</th>\n",
       "      <th>change</th>\n",
       "    </tr>\n",
       "  </thead>\n",
       "  <tbody>\n",
       "    <tr>\n",
       "      <th>0</th>\n",
       "      <td>5</td>\n",
       "      <td>1.0</td>\n",
       "      <td>2.0</td>\n",
       "      <td>0.0</td>\n",
       "      <td>0.0</td>\n",
       "      <td>0.500000</td>\n",
       "      <td>NaN</td>\n",
       "      <td>NaN</td>\n",
       "    </tr>\n",
       "    <tr>\n",
       "      <th>1</th>\n",
       "      <td>10</td>\n",
       "      <td>62.0</td>\n",
       "      <td>247.0</td>\n",
       "      <td>4.0</td>\n",
       "      <td>27.0</td>\n",
       "      <td>0.251012</td>\n",
       "      <td>0.148148</td>\n",
       "      <td>-0.102864</td>\n",
       "    </tr>\n",
       "    <tr>\n",
       "      <th>2</th>\n",
       "      <td>22</td>\n",
       "      <td>8.0</td>\n",
       "      <td>56.0</td>\n",
       "      <td>2.0</td>\n",
       "      <td>6.0</td>\n",
       "      <td>0.142857</td>\n",
       "      <td>0.333333</td>\n",
       "      <td>0.190476</td>\n",
       "    </tr>\n",
       "    <tr>\n",
       "      <th>3</th>\n",
       "      <td>24</td>\n",
       "      <td>17.0</td>\n",
       "      <td>90.0</td>\n",
       "      <td>2.0</td>\n",
       "      <td>15.0</td>\n",
       "      <td>0.188889</td>\n",
       "      <td>0.133333</td>\n",
       "      <td>-0.055556</td>\n",
       "    </tr>\n",
       "    <tr>\n",
       "      <th>4</th>\n",
       "      <td>30</td>\n",
       "      <td>5.0</td>\n",
       "      <td>12.0</td>\n",
       "      <td>0.0</td>\n",
       "      <td>12.0</td>\n",
       "      <td>0.416667</td>\n",
       "      <td>0.000000</td>\n",
       "      <td>-0.416667</td>\n",
       "    </tr>\n",
       "    <tr>\n",
       "      <th>...</th>\n",
       "      <td>...</td>\n",
       "      <td>...</td>\n",
       "      <td>...</td>\n",
       "      <td>...</td>\n",
       "      <td>...</td>\n",
       "      <td>...</td>\n",
       "      <td>...</td>\n",
       "      <td>...</td>\n",
       "    </tr>\n",
       "    <tr>\n",
       "      <th>453997</th>\n",
       "      <td>2607910</td>\n",
       "      <td>0.0</td>\n",
       "      <td>0.0</td>\n",
       "      <td>0.0</td>\n",
       "      <td>1.0</td>\n",
       "      <td>NaN</td>\n",
       "      <td>0.000000</td>\n",
       "      <td>NaN</td>\n",
       "    </tr>\n",
       "    <tr>\n",
       "      <th>453998</th>\n",
       "      <td>2616902</td>\n",
       "      <td>0.0</td>\n",
       "      <td>0.0</td>\n",
       "      <td>0.0</td>\n",
       "      <td>1.0</td>\n",
       "      <td>NaN</td>\n",
       "      <td>0.000000</td>\n",
       "      <td>NaN</td>\n",
       "    </tr>\n",
       "    <tr>\n",
       "      <th>453999</th>\n",
       "      <td>2625246</td>\n",
       "      <td>0.0</td>\n",
       "      <td>0.0</td>\n",
       "      <td>0.0</td>\n",
       "      <td>2.0</td>\n",
       "      <td>NaN</td>\n",
       "      <td>0.000000</td>\n",
       "      <td>NaN</td>\n",
       "    </tr>\n",
       "    <tr>\n",
       "      <th>454000</th>\n",
       "      <td>2648641</td>\n",
       "      <td>0.0</td>\n",
       "      <td>0.0</td>\n",
       "      <td>0.0</td>\n",
       "      <td>1.0</td>\n",
       "      <td>NaN</td>\n",
       "      <td>0.000000</td>\n",
       "      <td>NaN</td>\n",
       "    </tr>\n",
       "    <tr>\n",
       "      <th>454001</th>\n",
       "      <td>2724441</td>\n",
       "      <td>0.0</td>\n",
       "      <td>0.0</td>\n",
       "      <td>0.0</td>\n",
       "      <td>1.0</td>\n",
       "      <td>NaN</td>\n",
       "      <td>0.000000</td>\n",
       "      <td>NaN</td>\n",
       "    </tr>\n",
       "  </tbody>\n",
       "</table>\n",
       "<p>454002 rows × 8 columns</p>\n",
       "</div>"
      ],
      "text/plain": [
       "        page_id  preblock_reverts  preblock_edits  block_reverts  block_edits  \\\n",
       "0             5               1.0             2.0            0.0          0.0   \n",
       "1            10              62.0           247.0            4.0         27.0   \n",
       "2            22               8.0            56.0            2.0          6.0   \n",
       "3            24              17.0            90.0            2.0         15.0   \n",
       "4            30               5.0            12.0            0.0         12.0   \n",
       "...         ...               ...             ...            ...          ...   \n",
       "453997  2607910               0.0             0.0            0.0          1.0   \n",
       "453998  2616902               0.0             0.0            0.0          1.0   \n",
       "453999  2625246               0.0             0.0            0.0          2.0   \n",
       "454000  2648641               0.0             0.0            0.0          1.0   \n",
       "454001  2724441               0.0             0.0            0.0          1.0   \n",
       "\n",
       "        preblock_revert_rate  block_revert_rate    change  \n",
       "0                   0.500000                NaN       NaN  \n",
       "1                   0.251012           0.148148 -0.102864  \n",
       "2                   0.142857           0.333333  0.190476  \n",
       "3                   0.188889           0.133333 -0.055556  \n",
       "4                   0.416667           0.000000 -0.416667  \n",
       "...                      ...                ...       ...  \n",
       "453997                   NaN           0.000000       NaN  \n",
       "453998                   NaN           0.000000       NaN  \n",
       "453999                   NaN           0.000000       NaN  \n",
       "454000                   NaN           0.000000       NaN  \n",
       "454001                   NaN           0.000000       NaN  \n",
       "\n",
       "[454002 rows x 8 columns]"
      ]
     },
     "execution_count": 41,
     "metadata": {},
     "output_type": "execute_result"
    }
   ],
   "source": [
    "conflict"
   ]
  },
  {
   "cell_type": "code",
   "execution_count": 42,
   "metadata": {},
   "outputs": [],
   "source": [
    "conflict.to_csv(f'{DATA_PATH}/processed_data/conflict.csv', index =False)"
   ]
  }
 ],
 "metadata": {
  "kernelspec": {
   "display_name": "Python 3",
   "language": "python",
   "name": "python3"
  },
  "language_info": {
   "codemirror_mode": {
    "name": "ipython",
    "version": 3
   },
   "file_extension": ".py",
   "mimetype": "text/x-python",
   "name": "python",
   "nbconvert_exporter": "python",
   "pygments_lexer": "ipython3",
   "version": "3.7.7"
  }
 },
 "nbformat": 4,
 "nbformat_minor": 4
}
