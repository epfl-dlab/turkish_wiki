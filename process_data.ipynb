{
 "cells": [
  {
   "cell_type": "code",
   "execution_count": 1,
   "metadata": {},
   "outputs": [],
   "source": [
    "import pandas as pd\n",
    "import numpy as np\n",
    "import logging\n",
    "import time\n",
    "from pathlib import Path"
   ]
  },
  {
   "cell_type": "code",
   "execution_count": 2,
   "metadata": {},
   "outputs": [],
   "source": [
    "RES_PATH = \"/dlabdata1/turkish_wiki\""
   ]
  },
  {
   "cell_type": "code",
   "execution_count": 3,
   "metadata": {},
   "outputs": [],
   "source": [
    "DUMPS_PATH = '/dlabdata1/turkish_wiki'"
   ]
  },
  {
   "cell_type": "code",
   "execution_count": 4,
   "metadata": {},
   "outputs": [],
   "source": [
    "DATA_PATH = '/dlabdata1/turkish_wiki'"
   ]
  },
  {
   "cell_type": "code",
   "execution_count": 5,
   "metadata": {},
   "outputs": [],
   "source": [
    "column_names = pd.read_csv('column_names.csv')"
   ]
  },
  {
   "cell_type": "markdown",
   "metadata": {},
   "source": [
    "## Combine the dumps of each year into one dataset"
   ]
  },
  {
   "cell_type": "code",
   "execution_count": 6,
   "metadata": {},
   "outputs": [],
   "source": [
    "def combine_yearly_dumps(column_names, dtypes, lang ='tr',  path=DUMPS_PATH, ending='tsv.bz2', years= list(range(2002, 2022)) ):\n",
    "    df_lang = pd.DataFrame()\n",
    "    for year in years:\n",
    "        start = time.time()\n",
    "        try:\n",
    "            df_lang = pd.concat([df_lang, pd.read_csv(f'{path}/{lang}-{year}.{ending}', sep='\\t', names=list(column_names), dtype=dtypes, warn_bad_lines=True, error_bad_lines=False)])\n",
    "            logging.warning(f'Loaded {lang}-{year} in {time.time() - start}')\n",
    "        except:\n",
    "            traceback.print_exc()\n",
    "            logging.error(f'Error when processing {lang}-{year}')\n",
    "    return df_lang"
   ]
  },
  {
   "cell_type": "code",
   "execution_count": null,
   "metadata": {},
   "outputs": [],
   "source": [
    "df_tr = combine_yearly_dumps(column_names, dtypes=str)"
   ]
  },
  {
   "cell_type": "code",
   "execution_count": null,
   "metadata": {},
   "outputs": [],
   "source": [
    "Path(f'{RES_PATH}').mkdir(parents=True, exist_ok=True)\n",
    "df_tr.to_csv(f'{RES_PATH}/aggregated.tsv.gz', index=False, sep=\"\\t\", compression=\"gzip\")"
   ]
  },
  {
   "cell_type": "markdown",
   "metadata": {},
   "source": [
    "## Read the aggregated (raw) dumps"
   ]
  },
  {
   "cell_type": "code",
   "execution_count": 42,
   "metadata": {
    "collapsed": true,
    "jupyter": {
     "outputs_hidden": true
    }
   },
   "outputs": [
    {
     "ename": "KeyboardInterrupt",
     "evalue": "",
     "output_type": "error",
     "traceback": [
      "\u001b[0;31m---------------------------------------------------------------------------\u001b[0m",
      "\u001b[0;31mKeyboardInterrupt\u001b[0m                         Traceback (most recent call last)",
      "\u001b[0;32m<ipython-input-42-00fbec1c97ef>\u001b[0m in \u001b[0;36m<module>\u001b[0;34m\u001b[0m\n\u001b[0;32m----> 1\u001b[0;31m \u001b[0mdf\u001b[0m \u001b[0;34m=\u001b[0m \u001b[0mpd\u001b[0m\u001b[0;34m.\u001b[0m\u001b[0mread_csv\u001b[0m\u001b[0;34m(\u001b[0m\u001b[0;34mf'{RES_PATH}/aggregated.tsv.gz'\u001b[0m\u001b[0;34m,\u001b[0m \u001b[0msep\u001b[0m\u001b[0;34m=\u001b[0m\u001b[0;34m\"\\t\"\u001b[0m\u001b[0;34m,\u001b[0m \u001b[0mdtype\u001b[0m\u001b[0;34m=\u001b[0m\u001b[0mstr\u001b[0m\u001b[0;34m,\u001b[0m \u001b[0merror_bad_lines\u001b[0m\u001b[0;34m=\u001b[0m\u001b[0;32mFalse\u001b[0m\u001b[0;34m,\u001b[0m \u001b[0mwarn_bad_lines\u001b[0m\u001b[0;34m=\u001b[0m\u001b[0;32mTrue\u001b[0m\u001b[0;34m,\u001b[0m \u001b[0musecols\u001b[0m\u001b[0;34m=\u001b[0m \u001b[0mcolumn_names\u001b[0m\u001b[0;34m.\u001b[0m\u001b[0mcol_name\u001b[0m\u001b[0;34m[\u001b[0m\u001b[0;36m1\u001b[0m\u001b[0;34m:\u001b[0m\u001b[0;34m-\u001b[0m\u001b[0;36m1\u001b[0m\u001b[0;34m]\u001b[0m\u001b[0;34m.\u001b[0m\u001b[0mvalues\u001b[0m\u001b[0;34m,\u001b[0m \u001b[0mcompression\u001b[0m \u001b[0;34m=\u001b[0m \u001b[0;34m'gzip'\u001b[0m\u001b[0;34m)\u001b[0m\u001b[0;34m\u001b[0m\u001b[0;34m\u001b[0m\u001b[0m\n\u001b[0m",
      "\u001b[0;32m/opt/anaconda3/lib/python3.7/site-packages/pandas/io/parsers.py\u001b[0m in \u001b[0;36mparser_f\u001b[0;34m(filepath_or_buffer, sep, delimiter, header, names, index_col, usecols, squeeze, prefix, mangle_dupe_cols, dtype, engine, converters, true_values, false_values, skipinitialspace, skiprows, skipfooter, nrows, na_values, keep_default_na, na_filter, verbose, skip_blank_lines, parse_dates, infer_datetime_format, keep_date_col, date_parser, dayfirst, cache_dates, iterator, chunksize, compression, thousands, decimal, lineterminator, quotechar, quoting, doublequote, escapechar, comment, encoding, dialect, error_bad_lines, warn_bad_lines, delim_whitespace, low_memory, memory_map, float_precision)\u001b[0m\n\u001b[1;32m    674\u001b[0m         )\n\u001b[1;32m    675\u001b[0m \u001b[0;34m\u001b[0m\u001b[0m\n\u001b[0;32m--> 676\u001b[0;31m         \u001b[0;32mreturn\u001b[0m \u001b[0m_read\u001b[0m\u001b[0;34m(\u001b[0m\u001b[0mfilepath_or_buffer\u001b[0m\u001b[0;34m,\u001b[0m \u001b[0mkwds\u001b[0m\u001b[0;34m)\u001b[0m\u001b[0;34m\u001b[0m\u001b[0;34m\u001b[0m\u001b[0m\n\u001b[0m\u001b[1;32m    677\u001b[0m \u001b[0;34m\u001b[0m\u001b[0m\n\u001b[1;32m    678\u001b[0m     \u001b[0mparser_f\u001b[0m\u001b[0;34m.\u001b[0m\u001b[0m__name__\u001b[0m \u001b[0;34m=\u001b[0m \u001b[0mname\u001b[0m\u001b[0;34m\u001b[0m\u001b[0;34m\u001b[0m\u001b[0m\n",
      "\u001b[0;32m/opt/anaconda3/lib/python3.7/site-packages/pandas/io/parsers.py\u001b[0m in \u001b[0;36m_read\u001b[0;34m(filepath_or_buffer, kwds)\u001b[0m\n\u001b[1;32m    452\u001b[0m \u001b[0;34m\u001b[0m\u001b[0m\n\u001b[1;32m    453\u001b[0m     \u001b[0;32mtry\u001b[0m\u001b[0;34m:\u001b[0m\u001b[0;34m\u001b[0m\u001b[0;34m\u001b[0m\u001b[0m\n\u001b[0;32m--> 454\u001b[0;31m         \u001b[0mdata\u001b[0m \u001b[0;34m=\u001b[0m \u001b[0mparser\u001b[0m\u001b[0;34m.\u001b[0m\u001b[0mread\u001b[0m\u001b[0;34m(\u001b[0m\u001b[0mnrows\u001b[0m\u001b[0;34m)\u001b[0m\u001b[0;34m\u001b[0m\u001b[0;34m\u001b[0m\u001b[0m\n\u001b[0m\u001b[1;32m    455\u001b[0m     \u001b[0;32mfinally\u001b[0m\u001b[0;34m:\u001b[0m\u001b[0;34m\u001b[0m\u001b[0;34m\u001b[0m\u001b[0m\n\u001b[1;32m    456\u001b[0m         \u001b[0mparser\u001b[0m\u001b[0;34m.\u001b[0m\u001b[0mclose\u001b[0m\u001b[0;34m(\u001b[0m\u001b[0;34m)\u001b[0m\u001b[0;34m\u001b[0m\u001b[0;34m\u001b[0m\u001b[0m\n",
      "\u001b[0;32m/opt/anaconda3/lib/python3.7/site-packages/pandas/io/parsers.py\u001b[0m in \u001b[0;36mread\u001b[0;34m(self, nrows)\u001b[0m\n\u001b[1;32m   1131\u001b[0m     \u001b[0;32mdef\u001b[0m \u001b[0mread\u001b[0m\u001b[0;34m(\u001b[0m\u001b[0mself\u001b[0m\u001b[0;34m,\u001b[0m \u001b[0mnrows\u001b[0m\u001b[0;34m=\u001b[0m\u001b[0;32mNone\u001b[0m\u001b[0;34m)\u001b[0m\u001b[0;34m:\u001b[0m\u001b[0;34m\u001b[0m\u001b[0;34m\u001b[0m\u001b[0m\n\u001b[1;32m   1132\u001b[0m         \u001b[0mnrows\u001b[0m \u001b[0;34m=\u001b[0m \u001b[0m_validate_integer\u001b[0m\u001b[0;34m(\u001b[0m\u001b[0;34m\"nrows\"\u001b[0m\u001b[0;34m,\u001b[0m \u001b[0mnrows\u001b[0m\u001b[0;34m)\u001b[0m\u001b[0;34m\u001b[0m\u001b[0;34m\u001b[0m\u001b[0m\n\u001b[0;32m-> 1133\u001b[0;31m         \u001b[0mret\u001b[0m \u001b[0;34m=\u001b[0m \u001b[0mself\u001b[0m\u001b[0;34m.\u001b[0m\u001b[0m_engine\u001b[0m\u001b[0;34m.\u001b[0m\u001b[0mread\u001b[0m\u001b[0;34m(\u001b[0m\u001b[0mnrows\u001b[0m\u001b[0;34m)\u001b[0m\u001b[0;34m\u001b[0m\u001b[0;34m\u001b[0m\u001b[0m\n\u001b[0m\u001b[1;32m   1134\u001b[0m \u001b[0;34m\u001b[0m\u001b[0m\n\u001b[1;32m   1135\u001b[0m         \u001b[0;31m# May alter columns / col_dict\u001b[0m\u001b[0;34m\u001b[0m\u001b[0;34m\u001b[0m\u001b[0;34m\u001b[0m\u001b[0m\n",
      "\u001b[0;32m/opt/anaconda3/lib/python3.7/site-packages/pandas/io/parsers.py\u001b[0m in \u001b[0;36mread\u001b[0;34m(self, nrows)\u001b[0m\n\u001b[1;32m   2035\u001b[0m     \u001b[0;32mdef\u001b[0m \u001b[0mread\u001b[0m\u001b[0;34m(\u001b[0m\u001b[0mself\u001b[0m\u001b[0;34m,\u001b[0m \u001b[0mnrows\u001b[0m\u001b[0;34m=\u001b[0m\u001b[0;32mNone\u001b[0m\u001b[0;34m)\u001b[0m\u001b[0;34m:\u001b[0m\u001b[0;34m\u001b[0m\u001b[0;34m\u001b[0m\u001b[0m\n\u001b[1;32m   2036\u001b[0m         \u001b[0;32mtry\u001b[0m\u001b[0;34m:\u001b[0m\u001b[0;34m\u001b[0m\u001b[0;34m\u001b[0m\u001b[0m\n\u001b[0;32m-> 2037\u001b[0;31m             \u001b[0mdata\u001b[0m \u001b[0;34m=\u001b[0m \u001b[0mself\u001b[0m\u001b[0;34m.\u001b[0m\u001b[0m_reader\u001b[0m\u001b[0;34m.\u001b[0m\u001b[0mread\u001b[0m\u001b[0;34m(\u001b[0m\u001b[0mnrows\u001b[0m\u001b[0;34m)\u001b[0m\u001b[0;34m\u001b[0m\u001b[0;34m\u001b[0m\u001b[0m\n\u001b[0m\u001b[1;32m   2038\u001b[0m         \u001b[0;32mexcept\u001b[0m \u001b[0mStopIteration\u001b[0m\u001b[0;34m:\u001b[0m\u001b[0;34m\u001b[0m\u001b[0;34m\u001b[0m\u001b[0m\n\u001b[1;32m   2039\u001b[0m             \u001b[0;32mif\u001b[0m \u001b[0mself\u001b[0m\u001b[0;34m.\u001b[0m\u001b[0m_first_chunk\u001b[0m\u001b[0;34m:\u001b[0m\u001b[0;34m\u001b[0m\u001b[0;34m\u001b[0m\u001b[0m\n",
      "\u001b[0;32mpandas/_libs/parsers.pyx\u001b[0m in \u001b[0;36mpandas._libs.parsers.TextReader.read\u001b[0;34m()\u001b[0m\n",
      "\u001b[0;32mpandas/_libs/parsers.pyx\u001b[0m in \u001b[0;36mpandas._libs.parsers.TextReader._read_low_memory\u001b[0;34m()\u001b[0m\n",
      "\u001b[0;32mpandas/_libs/parsers.pyx\u001b[0m in \u001b[0;36mpandas._libs.parsers.TextReader._read_rows\u001b[0;34m()\u001b[0m\n",
      "\u001b[0;32mpandas/_libs/parsers.pyx\u001b[0m in \u001b[0;36mpandas._libs.parsers.TextReader._tokenize_rows\u001b[0;34m()\u001b[0m\n",
      "\u001b[0;32mpandas/_libs/parsers.pyx\u001b[0m in \u001b[0;36mpandas._libs.parsers.raise_parser_error\u001b[0;34m()\u001b[0m\n",
      "\u001b[0;32m/opt/anaconda3/lib/python3.7/_compression.py\u001b[0m in \u001b[0;36mreadinto\u001b[0;34m(self, b)\u001b[0m\n\u001b[1;32m     66\u001b[0m     \u001b[0;32mdef\u001b[0m \u001b[0mreadinto\u001b[0m\u001b[0;34m(\u001b[0m\u001b[0mself\u001b[0m\u001b[0;34m,\u001b[0m \u001b[0mb\u001b[0m\u001b[0;34m)\u001b[0m\u001b[0;34m:\u001b[0m\u001b[0;34m\u001b[0m\u001b[0;34m\u001b[0m\u001b[0m\n\u001b[1;32m     67\u001b[0m         \u001b[0;32mwith\u001b[0m \u001b[0mmemoryview\u001b[0m\u001b[0;34m(\u001b[0m\u001b[0mb\u001b[0m\u001b[0;34m)\u001b[0m \u001b[0;32mas\u001b[0m \u001b[0mview\u001b[0m\u001b[0;34m,\u001b[0m \u001b[0mview\u001b[0m\u001b[0;34m.\u001b[0m\u001b[0mcast\u001b[0m\u001b[0;34m(\u001b[0m\u001b[0;34m\"B\"\u001b[0m\u001b[0;34m)\u001b[0m \u001b[0;32mas\u001b[0m \u001b[0mbyte_view\u001b[0m\u001b[0;34m:\u001b[0m\u001b[0;34m\u001b[0m\u001b[0;34m\u001b[0m\u001b[0m\n\u001b[0;32m---> 68\u001b[0;31m             \u001b[0mdata\u001b[0m \u001b[0;34m=\u001b[0m \u001b[0mself\u001b[0m\u001b[0;34m.\u001b[0m\u001b[0mread\u001b[0m\u001b[0;34m(\u001b[0m\u001b[0mlen\u001b[0m\u001b[0;34m(\u001b[0m\u001b[0mbyte_view\u001b[0m\u001b[0;34m)\u001b[0m\u001b[0;34m)\u001b[0m\u001b[0;34m\u001b[0m\u001b[0;34m\u001b[0m\u001b[0m\n\u001b[0m\u001b[1;32m     69\u001b[0m             \u001b[0mbyte_view\u001b[0m\u001b[0;34m[\u001b[0m\u001b[0;34m:\u001b[0m\u001b[0mlen\u001b[0m\u001b[0;34m(\u001b[0m\u001b[0mdata\u001b[0m\u001b[0;34m)\u001b[0m\u001b[0;34m]\u001b[0m \u001b[0;34m=\u001b[0m \u001b[0mdata\u001b[0m\u001b[0;34m\u001b[0m\u001b[0;34m\u001b[0m\u001b[0m\n\u001b[1;32m     70\u001b[0m         \u001b[0;32mreturn\u001b[0m \u001b[0mlen\u001b[0m\u001b[0;34m(\u001b[0m\u001b[0mdata\u001b[0m\u001b[0;34m)\u001b[0m\u001b[0;34m\u001b[0m\u001b[0;34m\u001b[0m\u001b[0m\n",
      "\u001b[0;32m/opt/anaconda3/lib/python3.7/gzip.py\u001b[0m in \u001b[0;36mread\u001b[0;34m(self, size)\u001b[0m\n\u001b[1;32m    480\u001b[0m             \u001b[0mbuf\u001b[0m \u001b[0;34m=\u001b[0m \u001b[0mself\u001b[0m\u001b[0;34m.\u001b[0m\u001b[0m_fp\u001b[0m\u001b[0;34m.\u001b[0m\u001b[0mread\u001b[0m\u001b[0;34m(\u001b[0m\u001b[0mio\u001b[0m\u001b[0;34m.\u001b[0m\u001b[0mDEFAULT_BUFFER_SIZE\u001b[0m\u001b[0;34m)\u001b[0m\u001b[0;34m\u001b[0m\u001b[0;34m\u001b[0m\u001b[0m\n\u001b[1;32m    481\u001b[0m \u001b[0;34m\u001b[0m\u001b[0m\n\u001b[0;32m--> 482\u001b[0;31m             \u001b[0muncompress\u001b[0m \u001b[0;34m=\u001b[0m \u001b[0mself\u001b[0m\u001b[0;34m.\u001b[0m\u001b[0m_decompressor\u001b[0m\u001b[0;34m.\u001b[0m\u001b[0mdecompress\u001b[0m\u001b[0;34m(\u001b[0m\u001b[0mbuf\u001b[0m\u001b[0;34m,\u001b[0m \u001b[0msize\u001b[0m\u001b[0;34m)\u001b[0m\u001b[0;34m\u001b[0m\u001b[0;34m\u001b[0m\u001b[0m\n\u001b[0m\u001b[1;32m    483\u001b[0m             \u001b[0;32mif\u001b[0m \u001b[0mself\u001b[0m\u001b[0;34m.\u001b[0m\u001b[0m_decompressor\u001b[0m\u001b[0;34m.\u001b[0m\u001b[0munconsumed_tail\u001b[0m \u001b[0;34m!=\u001b[0m \u001b[0;34mb\"\"\u001b[0m\u001b[0;34m:\u001b[0m\u001b[0;34m\u001b[0m\u001b[0;34m\u001b[0m\u001b[0m\n\u001b[1;32m    484\u001b[0m                 \u001b[0mself\u001b[0m\u001b[0;34m.\u001b[0m\u001b[0m_fp\u001b[0m\u001b[0;34m.\u001b[0m\u001b[0mprepend\u001b[0m\u001b[0;34m(\u001b[0m\u001b[0mself\u001b[0m\u001b[0;34m.\u001b[0m\u001b[0m_decompressor\u001b[0m\u001b[0;34m.\u001b[0m\u001b[0munconsumed_tail\u001b[0m\u001b[0;34m)\u001b[0m\u001b[0;34m\u001b[0m\u001b[0;34m\u001b[0m\u001b[0m\n",
      "\u001b[0;31mKeyboardInterrupt\u001b[0m: "
     ]
    }
   ],
   "source": [
    "df = pd.read_csv(f'{RES_PATH}/aggregated.tsv.gz', sep=\"\\t\", dtype=str, error_bad_lines=False, warn_bad_lines=True, usecols= column_names.col_name[1:-1].values, compression = 'gzip')"
   ]
  },
  {
   "cell_type": "code",
   "execution_count": 30,
   "metadata": {},
   "outputs": [
    {
     "data": {
      "text/html": [
       "<div>\n",
       "<style scoped>\n",
       "    .dataframe tbody tr th:only-of-type {\n",
       "        vertical-align: middle;\n",
       "    }\n",
       "\n",
       "    .dataframe tbody tr th {\n",
       "        vertical-align: top;\n",
       "    }\n",
       "\n",
       "    .dataframe thead th {\n",
       "        text-align: right;\n",
       "    }\n",
       "</style>\n",
       "<table border=\"1\" class=\"dataframe\">\n",
       "  <thead>\n",
       "    <tr style=\"text-align: right;\">\n",
       "      <th></th>\n",
       "      <th>event_entity</th>\n",
       "      <th>event_type</th>\n",
       "      <th>event_timestamp</th>\n",
       "      <th>event_comment</th>\n",
       "      <th>event_user_id</th>\n",
       "      <th>event_user_text_historical</th>\n",
       "      <th>event_user_text</th>\n",
       "      <th>event_user_blocks_historical</th>\n",
       "      <th>event_user_blocks</th>\n",
       "      <th>event_user_groups_historical</th>\n",
       "      <th>...</th>\n",
       "      <th>revision_text_sha1</th>\n",
       "      <th>revision_content_model</th>\n",
       "      <th>revision_content_format</th>\n",
       "      <th>revision_is_deleted_by_page_deletion</th>\n",
       "      <th>revision_deleted_by_page_deletion_timestamp</th>\n",
       "      <th>revision_is_identity_reverted</th>\n",
       "      <th>revision_first_identity_reverting_revision_id</th>\n",
       "      <th>revision_seconds_to_identity_revert</th>\n",
       "      <th>revision_is_identity_revert</th>\n",
       "      <th>revision_is_from_before_page_creation</th>\n",
       "    </tr>\n",
       "  </thead>\n",
       "  <tbody>\n",
       "    <tr>\n",
       "      <th>0</th>\n",
       "      <td>revision</td>\n",
       "      <td>create</td>\n",
       "      <td>2002-12-05 22:51:28.0</td>\n",
       "      <td>(moved from tr.wikipedia.com)</td>\n",
       "      <td>NaN</td>\n",
       "      <td>209.162.17.70</td>\n",
       "      <td>209.162.17.70</td>\n",
       "      <td>NaN</td>\n",
       "      <td>NaN</td>\n",
       "      <td>NaN</td>\n",
       "      <td>...</td>\n",
       "      <td>8h2s3vbsvhk0xfyymbit06i0ef6j26s</td>\n",
       "      <td>NaN</td>\n",
       "      <td>NaN</td>\n",
       "      <td>false</td>\n",
       "      <td>NaN</td>\n",
       "      <td>false</td>\n",
       "      <td>NaN</td>\n",
       "      <td>NaN</td>\n",
       "      <td>false</td>\n",
       "      <td>true</td>\n",
       "    </tr>\n",
       "    <tr>\n",
       "      <th>1</th>\n",
       "      <td>user</td>\n",
       "      <td>create</td>\n",
       "      <td>2002-12-05 22:54:39.0</td>\n",
       "      <td>NaN</td>\n",
       "      <td>NaN</td>\n",
       "      <td>NaN</td>\n",
       "      <td>NaN</td>\n",
       "      <td>NaN</td>\n",
       "      <td>NaN</td>\n",
       "      <td>NaN</td>\n",
       "      <td>...</td>\n",
       "      <td>NaN</td>\n",
       "      <td>NaN</td>\n",
       "      <td>NaN</td>\n",
       "      <td>NaN</td>\n",
       "      <td>NaN</td>\n",
       "      <td>NaN</td>\n",
       "      <td>NaN</td>\n",
       "      <td>NaN</td>\n",
       "      <td>NaN</td>\n",
       "      <td>NaN</td>\n",
       "    </tr>\n",
       "    <tr>\n",
       "      <th>2</th>\n",
       "      <td>revision</td>\n",
       "      <td>create</td>\n",
       "      <td>2002-12-05 22:54:39.0</td>\n",
       "      <td>NaN</td>\n",
       "      <td>1</td>\n",
       "      <td>Brion VIBBER</td>\n",
       "      <td>Brion VIBBER</td>\n",
       "      <td>NaN</td>\n",
       "      <td>NaN</td>\n",
       "      <td>NaN</td>\n",
       "      <td>...</td>\n",
       "      <td>jevuozi5divb9m74s5x4gr3xrr12ch4</td>\n",
       "      <td>NaN</td>\n",
       "      <td>NaN</td>\n",
       "      <td>true</td>\n",
       "      <td>2016-10-07 18:22:17.0</td>\n",
       "      <td>false</td>\n",
       "      <td>NaN</td>\n",
       "      <td>NaN</td>\n",
       "      <td>false</td>\n",
       "      <td>false</td>\n",
       "    </tr>\n",
       "    <tr>\n",
       "      <th>3</th>\n",
       "      <td>revision</td>\n",
       "      <td>create</td>\n",
       "      <td>2002-12-05 23:39:38.0</td>\n",
       "      <td>language links added - good luck, turkish wiki...</td>\n",
       "      <td>NaN</td>\n",
       "      <td>80.128.44.46</td>\n",
       "      <td>80.128.44.46</td>\n",
       "      <td>NaN</td>\n",
       "      <td>NaN</td>\n",
       "      <td>NaN</td>\n",
       "      <td>...</td>\n",
       "      <td>7s919m6k15itrhd1v3wwr8b1ci069on</td>\n",
       "      <td>NaN</td>\n",
       "      <td>NaN</td>\n",
       "      <td>false</td>\n",
       "      <td>NaN</td>\n",
       "      <td>false</td>\n",
       "      <td>NaN</td>\n",
       "      <td>NaN</td>\n",
       "      <td>false</td>\n",
       "      <td>true</td>\n",
       "    </tr>\n",
       "    <tr>\n",
       "      <th>4</th>\n",
       "      <td>revision</td>\n",
       "      <td>create</td>\n",
       "      <td>2002-12-13 17:59:34.0</td>\n",
       "      <td>NaN</td>\n",
       "      <td>NaN</td>\n",
       "      <td>193.140.196.133</td>\n",
       "      <td>193.140.196.133</td>\n",
       "      <td>NaN</td>\n",
       "      <td>NaN</td>\n",
       "      <td>NaN</td>\n",
       "      <td>...</td>\n",
       "      <td>8sqxjw60e25kh1siv8e19jozs6tj52s</td>\n",
       "      <td>NaN</td>\n",
       "      <td>NaN</td>\n",
       "      <td>false</td>\n",
       "      <td>NaN</td>\n",
       "      <td>false</td>\n",
       "      <td>NaN</td>\n",
       "      <td>NaN</td>\n",
       "      <td>false</td>\n",
       "      <td>true</td>\n",
       "    </tr>\n",
       "  </tbody>\n",
       "</table>\n",
       "<p>5 rows × 68 columns</p>\n",
       "</div>"
      ],
      "text/plain": [
       "  event_entity event_type        event_timestamp  \\\n",
       "0     revision     create  2002-12-05 22:51:28.0   \n",
       "1         user     create  2002-12-05 22:54:39.0   \n",
       "2     revision     create  2002-12-05 22:54:39.0   \n",
       "3     revision     create  2002-12-05 23:39:38.0   \n",
       "4     revision     create  2002-12-13 17:59:34.0   \n",
       "\n",
       "                                       event_comment event_user_id  \\\n",
       "0                      (moved from tr.wikipedia.com)           NaN   \n",
       "1                                                NaN           NaN   \n",
       "2                                                NaN             1   \n",
       "3  language links added - good luck, turkish wiki...           NaN   \n",
       "4                                                NaN           NaN   \n",
       "\n",
       "  event_user_text_historical  event_user_text event_user_blocks_historical  \\\n",
       "0              209.162.17.70    209.162.17.70                          NaN   \n",
       "1                        NaN              NaN                          NaN   \n",
       "2               Brion VIBBER     Brion VIBBER                          NaN   \n",
       "3               80.128.44.46     80.128.44.46                          NaN   \n",
       "4            193.140.196.133  193.140.196.133                          NaN   \n",
       "\n",
       "  event_user_blocks event_user_groups_historical  ...  \\\n",
       "0               NaN                          NaN  ...   \n",
       "1               NaN                          NaN  ...   \n",
       "2               NaN                          NaN  ...   \n",
       "3               NaN                          NaN  ...   \n",
       "4               NaN                          NaN  ...   \n",
       "\n",
       "                revision_text_sha1 revision_content_model  \\\n",
       "0  8h2s3vbsvhk0xfyymbit06i0ef6j26s                    NaN   \n",
       "1                              NaN                    NaN   \n",
       "2  jevuozi5divb9m74s5x4gr3xrr12ch4                    NaN   \n",
       "3  7s919m6k15itrhd1v3wwr8b1ci069on                    NaN   \n",
       "4  8sqxjw60e25kh1siv8e19jozs6tj52s                    NaN   \n",
       "\n",
       "  revision_content_format revision_is_deleted_by_page_deletion  \\\n",
       "0                     NaN                                false   \n",
       "1                     NaN                                  NaN   \n",
       "2                     NaN                                 true   \n",
       "3                     NaN                                false   \n",
       "4                     NaN                                false   \n",
       "\n",
       "  revision_deleted_by_page_deletion_timestamp revision_is_identity_reverted  \\\n",
       "0                                         NaN                         false   \n",
       "1                                         NaN                           NaN   \n",
       "2                       2016-10-07 18:22:17.0                         false   \n",
       "3                                         NaN                         false   \n",
       "4                                         NaN                         false   \n",
       "\n",
       "  revision_first_identity_reverting_revision_id  \\\n",
       "0                                           NaN   \n",
       "1                                           NaN   \n",
       "2                                           NaN   \n",
       "3                                           NaN   \n",
       "4                                           NaN   \n",
       "\n",
       "  revision_seconds_to_identity_revert revision_is_identity_revert  \\\n",
       "0                                 NaN                       false   \n",
       "1                                 NaN                         NaN   \n",
       "2                                 NaN                       false   \n",
       "3                                 NaN                       false   \n",
       "4                                 NaN                       false   \n",
       "\n",
       "  revision_is_from_before_page_creation  \n",
       "0                                  true  \n",
       "1                                   NaN  \n",
       "2                                 false  \n",
       "3                                  true  \n",
       "4                                  true  \n",
       "\n",
       "[5 rows x 68 columns]"
      ]
     },
     "execution_count": 30,
     "metadata": {},
     "output_type": "execute_result"
    }
   ],
   "source": [
    "df.head()"
   ]
  },
  {
   "cell_type": "markdown",
   "metadata": {},
   "source": [
    "## Get column datatypes from scraped Wikipedia table.\n",
    "https://wikitech.wikimedia.org/wiki/Analytics/Data_Lake/Edits/Mediawiki_history_dumps"
   ]
  },
  {
   "cell_type": "code",
   "execution_count": 6,
   "metadata": {},
   "outputs": [],
   "source": [
    "def transform_data_type_to_dtype(col_name, data_type):\n",
    "    if (col_name == 'event_entity') or (col_name == 'event_type'):\n",
    "        return 'category'\n",
    "    elif ('timestamp' in col_name):\n",
    "        return 'datetime64[ns, UTC]'\n",
    "    elif (data_type == 'string') or (data_type == 'array<string>'):\n",
    "        return 'object'\n",
    "    elif (data_type == 'bigint') or (data_type == 'int') :\n",
    "        return 'Int64'\n",
    "    elif (data_type == 'boolean'):\n",
    "        return 'boolean'\n",
    "    else:\n",
    "        return 'object'"
   ]
  },
  {
   "cell_type": "code",
   "execution_count": 7,
   "metadata": {},
   "outputs": [],
   "source": [
    "col_to_dtype = column_names[['col_name', 'data_type']].set_index('col_name').to_dict()['data_type']"
   ]
  },
  {
   "cell_type": "code",
   "execution_count": 8,
   "metadata": {},
   "outputs": [],
   "source": [
    "col_to_dtype = {k: transform_data_type_to_dtype(k, v) for k, v in col_to_dtype.items()}"
   ]
  },
  {
   "cell_type": "code",
   "execution_count": 9,
   "metadata": {},
   "outputs": [],
   "source": [
    "category_cols = list({k  for k, v in col_to_dtype.items() if v == 'category' })\n",
    "timestamp_cols = list({k  for k, v in col_to_dtype.items() if v == 'datetime64[ns, UTC]' })\n",
    "numerical_cols = list({k  for k, v in col_to_dtype.items() if v == 'Int64' })\n",
    "boolean_cols = list({k  for k, v in col_to_dtype.items() if v == 'boolean' })"
   ]
  },
  {
   "cell_type": "markdown",
   "metadata": {},
   "source": [
    "## Preprocess the dataset to reduce size in memory"
   ]
  },
  {
   "cell_type": "markdown",
   "metadata": {},
   "source": [
    "#### Convert low cardinality categorical columns"
   ]
  },
  {
   "cell_type": "code",
   "execution_count": null,
   "metadata": {},
   "outputs": [],
   "source": [
    "df[category_cols] = df[category_cols].astype(\"category\")"
   ]
  },
  {
   "cell_type": "markdown",
   "metadata": {},
   "source": [
    "#### Convert Timestamps"
   ]
  },
  {
   "cell_type": "code",
   "execution_count": null,
   "metadata": {},
   "outputs": [],
   "source": [
    "df[timestamp_cols] = df[timestamp_cols].apply(pd.to_datetime, utc =True, errors='coerce')"
   ]
  },
  {
   "cell_type": "markdown",
   "metadata": {},
   "source": [
    "#### Convert numerical columns"
   ]
  },
  {
   "cell_type": "code",
   "execution_count": null,
   "metadata": {},
   "outputs": [],
   "source": [
    "df[numerical_cols] = df[numerical_cols].apply(pd.to_numeric, errors='coerce').convert_dtypes()"
   ]
  },
  {
   "cell_type": "markdown",
   "metadata": {},
   "source": [
    "#### Convert booleans"
   ]
  },
  {
   "cell_type": "code",
   "execution_count": 62,
   "metadata": {},
   "outputs": [],
   "source": [
    "df[boolean_cols] = df[boolean_cols].replace({'true':True,'false':False})\n",
    "df[boolean_cols] = df[boolean_cols].where(df[boolean_cols].applymap(type) == bool)\n",
    "df[boolean_cols] = df[boolean_cols].convert_dtypes()"
   ]
  },
  {
   "cell_type": "code",
   "execution_count": 63,
   "metadata": {},
   "outputs": [],
   "source": [
    "df.to_csv(f'{RES_PATH}/cleaned_trwiki_1.tsv.gz', index=False, sep=\"\\t\", compression=\"gzip\")"
   ]
  },
  {
   "cell_type": "markdown",
   "metadata": {},
   "source": [
    "## Separate DataFrame for user, revision and page"
   ]
  },
  {
   "cell_type": "code",
   "execution_count": 85,
   "metadata": {},
   "outputs": [],
   "source": [
    "user_df = df[df['event_entity'] == 'user'][['event_entity', 'event_type', 'event_timestamp', 'event_comment',\n",
    "       'event_user_id', 'event_user_text_historical', 'event_user_text',\n",
    "       'event_user_blocks_historical', 'event_user_blocks',\n",
    "       'event_user_groups_historical', 'event_user_groups',\n",
    "       'event_user_is_bot_by_historical', 'event_user_is_bot_by',\n",
    "       'event_user_is_created_by_self', 'event_user_is_created_by_system',\n",
    "       'event_user_is_created_by_peer', 'event_user_is_anonymous',\n",
    "       'event_user_registration_timestamp', 'event_user_creation_timestamp',\n",
    "       'event_user_first_edit_timestamp', 'event_user_revision_count',\n",
    "       'event_user_seconds_since_previous_revision',\n",
    "       'user_id', 'user_text_historical', 'user_text',\n",
    "       'user_blocks_historical', 'user_blocks', 'user_groups_historical',\n",
    "       'user_groups', 'user_is_bot_by_historical', 'user_is_bot_by',\n",
    "       'user_is_created_by_self', 'user_is_created_by_system',\n",
    "       'user_is_created_by_peer', 'user_is_anonymous',\n",
    "       'user_registration_timestamp', 'user_creation_timestamp',\n",
    "       'user_first_edit_timestamp']]"
   ]
  },
  {
   "cell_type": "code",
   "execution_count": null,
   "metadata": {},
   "outputs": [],
   "source": [
    "user_df.to_csv(f'{RES_PATH}/user_events.tsv.gz', index=False, sep=\"\\t\", compression=\"gzip\")"
   ]
  },
  {
   "cell_type": "code",
   "execution_count": null,
   "metadata": {},
   "outputs": [],
   "source": [
    "page_df = df[df['event_entity'] == 'page'][['event_entity', 'event_type', 'event_timestamp', 'event_comment',\n",
    "       'event_user_id', 'event_user_text_historical', 'event_user_text',\n",
    "       'event_user_blocks_historical', 'event_user_blocks',\n",
    "       'event_user_groups_historical', 'event_user_groups',\n",
    "       'event_user_is_bot_by_historical', 'event_user_is_bot_by',\n",
    "       'event_user_is_created_by_self', 'event_user_is_created_by_system',\n",
    "       'event_user_is_created_by_peer', 'event_user_is_anonymous',\n",
    "       'event_user_registration_timestamp', 'event_user_creation_timestamp',\n",
    "       'event_user_first_edit_timestamp', 'event_user_revision_count',\n",
    "       'event_user_seconds_since_previous_revision', 'page_id',\n",
    "       'page_title_historical', 'page_title', 'page_namespace_historical',\n",
    "       'page_namespace_is_content_historical', 'page_namespace',\n",
    "       'page_namespace_is_content', 'page_is_redirect', 'page_is_deleted',\n",
    "       'page_creation_timestamp', 'page_first_edit_timestamp',\n",
    "       'page_revision_count', 'page_seconds_since_previous_revision']]"
   ]
  },
  {
   "cell_type": "code",
   "execution_count": null,
   "metadata": {},
   "outputs": [],
   "source": [
    "page_df.to_csv(f'{RES_PATH}/page_events.tsv.gz', index=False, sep=\"\\t\", compression=\"gzip\")"
   ]
  },
  {
   "cell_type": "code",
   "execution_count": null,
   "metadata": {},
   "outputs": [],
   "source": [
    "revision_df = df[df['event_entity'] == 'revision'][['event_entity', 'event_type', 'event_timestamp', 'event_comment',\n",
    "       'event_user_id', 'event_user_text_historical', 'event_user_text',\n",
    "       'event_user_blocks_historical', 'event_user_blocks',\n",
    "       'event_user_groups_historical', 'event_user_groups',\n",
    "       'event_user_is_bot_by_historical', 'event_user_is_bot_by',\n",
    "       'event_user_is_created_by_self', 'event_user_is_created_by_system',\n",
    "       'event_user_is_created_by_peer', 'event_user_is_anonymous',\n",
    "       'event_user_registration_timestamp', 'event_user_creation_timestamp',\n",
    "       'event_user_first_edit_timestamp', 'event_user_revision_count',\n",
    "       'event_user_seconds_since_previous_revision', 'page_id',\n",
    "       'page_title_historical', 'page_title', 'page_namespace_historical',\n",
    "       'page_namespace_is_content_historical', 'page_namespace',\n",
    "       'page_namespace_is_content', 'page_is_redirect', 'page_is_deleted',\n",
    "       'page_creation_timestamp', 'page_first_edit_timestamp',\n",
    "       'page_revision_count', 'page_seconds_since_previous_revision',\n",
    "       'revision_id', 'revision_parent_id',\n",
    "       'revision_minor_edit', 'revision_deleted_parts',\n",
    "       'revision_deleted_parts_are_suppressed', 'revision_text_bytes',\n",
    "       'revision_text_bytes_diff', 'revision_text_sha1',\n",
    "       'revision_content_model', 'revision_content_format',\n",
    "       'revision_is_deleted_by_page_deletion',\n",
    "       'revision_deleted_by_page_deletion_timestamp',\n",
    "       'revision_is_identity_reverted',\n",
    "       'revision_first_identity_reverting_revision_id',\n",
    "       'revision_seconds_to_identity_revert', 'revision_is_identity_revert',\n",
    "       'revision_is_from_before_page_creation']]"
   ]
  },
  {
   "cell_type": "code",
   "execution_count": null,
   "metadata": {},
   "outputs": [],
   "source": [
    "revision_df.to_csv(f'{RES_PATH}/revision_events.tsv.gz', index=False, sep=\"\\t\", compression=\"gzip\")"
   ]
  },
  {
   "cell_type": "markdown",
   "metadata": {},
   "source": [
    "## Get number of newcomers"
   ]
  },
  {
   "cell_type": "code",
   "execution_count": 11,
   "metadata": {},
   "outputs": [
    {
     "name": "stderr",
     "output_type": "stream",
     "text": [
      "/opt/anaconda3/lib/python3.7/site-packages/IPython/core/interactiveshell.py:3063: DtypeWarning: Columns (7,8,9,11,25,26,28,33,34) have mixed types.Specify dtype option on import or set low_memory=False.\n",
      "  interactivity=interactivity, compiler=compiler, result=result)\n"
     ]
    }
   ],
   "source": [
    "user_df = pd.read_csv(f'{RES_PATH}/user_events.tsv.gz', sep=\"\\t\", error_bad_lines=False, warn_bad_lines=True, compression = 'gzip')"
   ]
  },
  {
   "cell_type": "markdown",
   "metadata": {},
   "source": [
    "### Get all user creation events"
   ]
  },
  {
   "cell_type": "code",
   "execution_count": 13,
   "metadata": {},
   "outputs": [],
   "source": [
    "try:\n",
    "    \n",
    "    user_df = user_df.convert_dtypes()\n",
    "\n",
    "    user_timestamp_columns = [col for col in user_df.columns if 'timestamp' in col]\n",
    "    user_df[user_timestamp_columns] = user_df[user_timestamp_columns].apply(pd.to_datetime, utc =True, errors='coerce')\n",
    "    user_df[\"date\"] = user_df.event_timestamp.dt.strftime(\"%Y-%m-%d\")\n",
    "\n",
    "    create_event_mask = (user_df.event_entity == 'user') & (user_df.event_type == 'create')\n",
    "    no_bot_mask = (user_df['event_user_is_bot_by'].isna() | user_df['event_user_is_bot_by_historical'].isna())\n",
    "    self_creation_mask = (user_df['event_user_is_created_by_self'] == True)\n",
    "    no_anon_mask = (user_df['event_user_is_anonymous'] != True)\n",
    "\n",
    "    # === get users by registration\n",
    "    all_registrations = user_df[create_event_mask & no_anon_mask & no_bot_mask & self_creation_mask][['event_timestamp', 'event_user_id']]\n",
    "\n",
    "    all_registrations.to_csv(f'{DATA_PATH}/processed_data/all_registrations.csv', index =False)\n",
    "    \n",
    "except Exception as e:\n",
    "    logging.error(f'Error: {str(e)}')  \n"
   ]
  },
  {
   "cell_type": "code",
   "execution_count": 76,
   "metadata": {},
   "outputs": [],
   "source": [
    "try:\n",
    "    \n",
    "    user_df = user_df.convert_dtypes()\n",
    "\n",
    "    user_timestamp_columns = [col for col in user_df.columns if 'timestamp' in col]\n",
    "    user_df[user_timestamp_columns] = user_df[user_timestamp_columns].apply(pd.to_datetime, utc =True, errors='coerce')\n",
    "    user_df[\"date\"] = user_df.event_timestamp.dt.strftime(\"%Y-%m-%d\")\n",
    "\n",
    "    create_event_mask = (user_df.event_entity == 'user') & (user_df.event_type == 'create')\n",
    "    no_bot_mask = (user_df['event_user_is_bot_by'].isna() | user_df['event_user_is_bot_by_historical'].isna())\n",
    "    self_creation_mask = (user_df['event_user_is_created_by_self'] == True)\n",
    "    no_anon_mask = (user_df['event_user_is_anonymous'] != True)\n",
    "\n",
    "    # === get users by registration\n",
    "    group_creation = user_df[create_event_mask & no_anon_mask & no_bot_mask & self_creation_mask].groupby(['date'])['event_user_id'].size()\n",
    "\n",
    "    group_creation = group_creation.reset_index()\n",
    "    group_creation.columns = ['date', 'number_of_newcomers']\n",
    "    group_creation.to_csv(f'{DATA_PATH}/processed_data/newcomers.csv', index =False)\n",
    "    \n",
    "except Exception as e:\n",
    "    logging.error(f'Error: {str(e)}')  \n"
   ]
  },
  {
   "cell_type": "markdown",
   "metadata": {},
   "source": [
    "## Get number of edits"
   ]
  },
  {
   "cell_type": "code",
   "execution_count": 14,
   "metadata": {},
   "outputs": [
    {
     "name": "stderr",
     "output_type": "stream",
     "text": [
      "/opt/anaconda3/lib/python3.7/site-packages/IPython/core/interactiveshell.py:3063: DtypeWarning: Columns (37,47,50) have mixed types.Specify dtype option on import or set low_memory=False.\n",
      "  interactivity=interactivity, compiler=compiler, result=result)\n"
     ]
    }
   ],
   "source": [
    "revision_df = pd.read_csv(f'{RES_PATH}/revision_events.tsv.gz', sep=\"\\t\", usecols= ['event_type', 'page_namespace',  'event_entity', 'event_type', 'event_timestamp', \n",
    "       'event_user_id', 'event_user_text_historical', 'page_id', 'revision_minor_edit',\n",
    "       'revision_is_identity_revert', 'revision_is_identity_reverted'], error_bad_lines=False, warn_bad_lines=True, compression = 'gzip')"
   ]
  },
  {
   "cell_type": "code",
   "execution_count": 83,
   "metadata": {},
   "outputs": [],
   "source": [
    "try:\n",
    "    \n",
    "    revision_df = revision_df.convert_dtypes()\n",
    "\n",
    "    create_revision_mask = (revision_df.event_entity=='revision') & (revision_df.event_type == 'create')\n",
    "    ns_mask = revision_df.page_namespace == 0\n",
    "    \n",
    "    revision_df = revision_df[create_revision_mask & ns_mask]\n",
    "\n",
    "    revision_df['revision_text_bytes'] = pd.to_numeric(revision_df['revision_text_bytes'], errors='coerce').fillna(0)\n",
    "    revision_df['event_timestamp'] = pd.to_datetime(revision_df['event_timestamp'],  utc = True, errors = 'coerce')\n",
    "    \n",
    "    revision_df[\"date\"] = revision_df.event_timestamp.dt.strftime(\"%Y-%m-%d\")\n",
    "    \n",
    "    revision_df['user_kind'] = revision_df.apply(lambda row: 'anonymous' if pd.isna(row.event_user_id) else 'bot' if not pd.isna(row.event_user_is_bot_by) else 'account', axis=1)\n",
    "\n",
    "    # group by date, page_id, user_kind\n",
    "\n",
    "    dict_edits_byid = revision_df.groupby(['date', 'page_id', 'user_kind']).agg(\n",
    "        {'event_user_id': 'size', 'revision_text_bytes': 'sum'})\n",
    "\n",
    "except Exception as e:\n",
    "    logging.error(f'Error: {str(e)}')  "
   ]
  },
  {
   "cell_type": "code",
   "execution_count": 84,
   "metadata": {},
   "outputs": [],
   "source": [
    "dict_edits_byid.to_csv(f'{DATA_PATH}/processed_data/edits.csv')"
   ]
  },
  {
   "cell_type": "code",
   "execution_count": 17,
   "metadata": {},
   "outputs": [],
   "source": [
    "try:\n",
    "    \n",
    "    revision_df = revision_df.convert_dtypes()\n",
    "\n",
    "    create_revision_mask = (revision_df.event_entity=='revision') & (revision_df.event_type == 'create')\n",
    "    ns_mask = revision_df.page_namespace == 0\n",
    "    \n",
    "    account_mask = (~revision_df.event_user_id.isna()) & (revision_df.event_user_is_bot_by.isna())\n",
    "    \n",
    "    revision_df = revision_df[create_revision_mask & ns_mask & account_mask]\n",
    "\n",
    "    revision_df['revision_text_bytes'] = pd.to_numeric(revision_df['revision_text_bytes'], errors='coerce').fillna(0)\n",
    "    revision_df['event_timestamp'] = pd.to_datetime(revision_df['event_timestamp'],  utc = True, errors = 'coerce')\n",
    "    \n",
    "    revision_df = revision_df[['event_type', 'event_timestamp', \n",
    "       'event_user_id', 'event_user_groups', 'event_user_revision_count',\n",
    "       'event_user_seconds_since_previous_revision', 'page_id',\n",
    "       'page_title', 'page_revision_count', 'revision_minor_edit',\n",
    "       'revision_text_bytes', 'revision_text_bytes_diff','revision_is_identity_revert']]\n",
    "    \n",
    "    revision_df.to_csv(f'{DATA_PATH}/processed_data/account_edits.csv')\n",
    "\n",
    "except Exception as e:\n",
    "    logging.error(f'Error: {str(e)}')  "
   ]
  },
  {
   "cell_type": "code",
   "execution_count": 15,
   "metadata": {},
   "outputs": [],
   "source": [
    "try:\n",
    "    \n",
    "    revision_df = revision_df.convert_dtypes()\n",
    "\n",
    "    create_revision_mask = (revision_df.event_entity=='revision') & (revision_df.event_type == 'create')\n",
    "    ns_mask = revision_df.page_namespace == 0\n",
    "    \n",
    "    \n",
    "    revision_df = revision_df[create_revision_mask & ns_mask]\n",
    "\n",
    "    revision_df['event_timestamp'] = pd.to_datetime(revision_df['event_timestamp'],  utc = True, errors = 'coerce')\n",
    "    \n",
    "    revision_df = revision_df[['event_type', 'event_timestamp', \n",
    "       'event_user_id', 'event_user_text_historical', 'page_id', 'revision_minor_edit',\n",
    "       'revision_is_identity_revert', 'revision_is_identity_reverted']]\n",
    "    \n",
    "    revision_df.to_csv(f'{DATA_PATH}/processed_data/all_edits.csv')\n",
    "\n",
    "except Exception as e:\n",
    "    logging.error(f'Error: {str(e)}')  "
   ]
  },
  {
   "cell_type": "code",
   "execution_count": 16,
   "metadata": {},
   "outputs": [
    {
     "data": {
      "text/html": [
       "<div>\n",
       "<style scoped>\n",
       "    .dataframe tbody tr th:only-of-type {\n",
       "        vertical-align: middle;\n",
       "    }\n",
       "\n",
       "    .dataframe tbody tr th {\n",
       "        vertical-align: top;\n",
       "    }\n",
       "\n",
       "    .dataframe thead th {\n",
       "        text-align: right;\n",
       "    }\n",
       "</style>\n",
       "<table border=\"1\" class=\"dataframe\">\n",
       "  <thead>\n",
       "    <tr style=\"text-align: right;\">\n",
       "      <th></th>\n",
       "      <th>event_type</th>\n",
       "      <th>event_timestamp</th>\n",
       "      <th>event_user_id</th>\n",
       "      <th>event_user_text_historical</th>\n",
       "      <th>page_id</th>\n",
       "      <th>revision_minor_edit</th>\n",
       "      <th>revision_is_identity_revert</th>\n",
       "      <th>revision_is_identity_reverted</th>\n",
       "    </tr>\n",
       "  </thead>\n",
       "  <tbody>\n",
       "    <tr>\n",
       "      <th>0</th>\n",
       "      <td>create</td>\n",
       "      <td>2002-12-05 22:51:28+00:00</td>\n",
       "      <td>&lt;NA&gt;</td>\n",
       "      <td>209.162.17.70</td>\n",
       "      <td>2740662</td>\n",
       "      <td>True</td>\n",
       "      <td>False</td>\n",
       "      <td>False</td>\n",
       "    </tr>\n",
       "    <tr>\n",
       "      <th>1</th>\n",
       "      <td>create</td>\n",
       "      <td>2002-12-05 22:54:39+00:00</td>\n",
       "      <td>1</td>\n",
       "      <td>Brion VIBBER</td>\n",
       "      <td>5</td>\n",
       "      <td>False</td>\n",
       "      <td>False</td>\n",
       "      <td>False</td>\n",
       "    </tr>\n",
       "    <tr>\n",
       "      <th>2</th>\n",
       "      <td>create</td>\n",
       "      <td>2002-12-05 23:39:38+00:00</td>\n",
       "      <td>&lt;NA&gt;</td>\n",
       "      <td>80.128.44.46</td>\n",
       "      <td>2740662</td>\n",
       "      <td>False</td>\n",
       "      <td>False</td>\n",
       "      <td>False</td>\n",
       "    </tr>\n",
       "    <tr>\n",
       "      <th>3</th>\n",
       "      <td>create</td>\n",
       "      <td>2002-12-13 17:59:34+00:00</td>\n",
       "      <td>&lt;NA&gt;</td>\n",
       "      <td>193.140.196.133</td>\n",
       "      <td>2740662</td>\n",
       "      <td>False</td>\n",
       "      <td>False</td>\n",
       "      <td>False</td>\n",
       "    </tr>\n",
       "    <tr>\n",
       "      <th>4</th>\n",
       "      <td>create</td>\n",
       "      <td>2002-12-13 18:01:20+00:00</td>\n",
       "      <td>&lt;NA&gt;</td>\n",
       "      <td>193.140.196.133</td>\n",
       "      <td>2740662</td>\n",
       "      <td>False</td>\n",
       "      <td>False</td>\n",
       "      <td>False</td>\n",
       "    </tr>\n",
       "    <tr>\n",
       "      <th>...</th>\n",
       "      <td>...</td>\n",
       "      <td>...</td>\n",
       "      <td>...</td>\n",
       "      <td>...</td>\n",
       "      <td>...</td>\n",
       "      <td>...</td>\n",
       "      <td>...</td>\n",
       "      <td>...</td>\n",
       "    </tr>\n",
       "    <tr>\n",
       "      <th>24670417</th>\n",
       "      <td>create</td>\n",
       "      <td>2021-02-01 15:55:06+00:00</td>\n",
       "      <td>1175541</td>\n",
       "      <td>Abdullah Göçük</td>\n",
       "      <td>3075</td>\n",
       "      <td>False</td>\n",
       "      <td>False</td>\n",
       "      <td>False</td>\n",
       "    </tr>\n",
       "    <tr>\n",
       "      <th>24670418</th>\n",
       "      <td>create</td>\n",
       "      <td>2021-02-01 15:55:14+00:00</td>\n",
       "      <td>466504</td>\n",
       "      <td>HastaLaVi2</td>\n",
       "      <td>2908622</td>\n",
       "      <td>False</td>\n",
       "      <td>False</td>\n",
       "      <td>False</td>\n",
       "    </tr>\n",
       "    <tr>\n",
       "      <th>24670419</th>\n",
       "      <td>create</td>\n",
       "      <td>2021-02-01 15:56:02+00:00</td>\n",
       "      <td>466504</td>\n",
       "      <td>HastaLaVi2</td>\n",
       "      <td>2861149</td>\n",
       "      <td>False</td>\n",
       "      <td>False</td>\n",
       "      <td>False</td>\n",
       "    </tr>\n",
       "    <tr>\n",
       "      <th>24670420</th>\n",
       "      <td>create</td>\n",
       "      <td>2021-02-01 15:56:08+00:00</td>\n",
       "      <td>1221913</td>\n",
       "      <td>Foldereid</td>\n",
       "      <td>747973</td>\n",
       "      <td>True</td>\n",
       "      <td>False</td>\n",
       "      <td>False</td>\n",
       "    </tr>\n",
       "    <tr>\n",
       "      <th>24670421</th>\n",
       "      <td>create</td>\n",
       "      <td>2021-02-01 15:56:18+00:00</td>\n",
       "      <td>775403</td>\n",
       "      <td>Tekask1903</td>\n",
       "      <td>2727922</td>\n",
       "      <td>False</td>\n",
       "      <td>False</td>\n",
       "      <td>False</td>\n",
       "    </tr>\n",
       "  </tbody>\n",
       "</table>\n",
       "<p>17391816 rows × 8 columns</p>\n",
       "</div>"
      ],
      "text/plain": [
       "         event_type           event_timestamp  event_user_id  \\\n",
       "0            create 2002-12-05 22:51:28+00:00           <NA>   \n",
       "1            create 2002-12-05 22:54:39+00:00              1   \n",
       "2            create 2002-12-05 23:39:38+00:00           <NA>   \n",
       "3            create 2002-12-13 17:59:34+00:00           <NA>   \n",
       "4            create 2002-12-13 18:01:20+00:00           <NA>   \n",
       "...             ...                       ...            ...   \n",
       "24670417     create 2021-02-01 15:55:06+00:00        1175541   \n",
       "24670418     create 2021-02-01 15:55:14+00:00         466504   \n",
       "24670419     create 2021-02-01 15:56:02+00:00         466504   \n",
       "24670420     create 2021-02-01 15:56:08+00:00        1221913   \n",
       "24670421     create 2021-02-01 15:56:18+00:00         775403   \n",
       "\n",
       "         event_user_text_historical  page_id  revision_minor_edit  \\\n",
       "0                     209.162.17.70  2740662                 True   \n",
       "1                      Brion VIBBER        5                False   \n",
       "2                      80.128.44.46  2740662                False   \n",
       "3                   193.140.196.133  2740662                False   \n",
       "4                   193.140.196.133  2740662                False   \n",
       "...                             ...      ...                  ...   \n",
       "24670417             Abdullah Göçük     3075                False   \n",
       "24670418                 HastaLaVi2  2908622                False   \n",
       "24670419                 HastaLaVi2  2861149                False   \n",
       "24670420                  Foldereid   747973                 True   \n",
       "24670421                 Tekask1903  2727922                False   \n",
       "\n",
       "          revision_is_identity_revert  revision_is_identity_reverted  \n",
       "0                               False                          False  \n",
       "1                               False                          False  \n",
       "2                               False                          False  \n",
       "3                               False                          False  \n",
       "4                               False                          False  \n",
       "...                               ...                            ...  \n",
       "24670417                        False                          False  \n",
       "24670418                        False                          False  \n",
       "24670419                        False                          False  \n",
       "24670420                        False                          False  \n",
       "24670421                        False                          False  \n",
       "\n",
       "[17391816 rows x 8 columns]"
      ]
     },
     "execution_count": 16,
     "metadata": {},
     "output_type": "execute_result"
    }
   ],
   "source": [
    "revision_df"
   ]
  },
  {
   "cell_type": "markdown",
   "metadata": {},
   "source": [
    "revision_dfts"
   ]
  },
  {
   "cell_type": "code",
   "execution_count": 100,
   "metadata": {},
   "outputs": [],
   "source": [
    "try:\n",
    "    \n",
    "#   get reverts per day as well as reverted\n",
    "    df_reverted = revision_df[revision_df['revision_is_identity_reverted'] == True].groupby(['date', 'user_kind'])['revision_is_identity_reverted'].size()\n",
    "    df_reverts = revision_df[revision_df['revision_is_identity_revert'] == True].groupby(['date', 'user_kind'])['revision_is_identity_revert'].size()\n",
    "\n",
    "    # reindex so all dates are filled\n",
    "    df_reverted = df_reverted.reindex(\n",
    "        pd.MultiIndex.from_product([revision_df.date.unique(), df_reverted.index.levels[1]], names=['date', 'user_kind']), fill_value=0)\n",
    "    df_reverts = df_reverts.reindex(\n",
    "        pd.MultiIndex.from_product([revision_df.date.unique(), df_reverts.index.levels[1]], names=['date', 'user_kind']), fill_value=0)\n",
    "\n",
    "\n",
    "except Exception as e:\n",
    "    logging.error(f'Error: {str(e)}')  "
   ]
  },
  {
   "cell_type": "code",
   "execution_count": 101,
   "metadata": {},
   "outputs": [],
   "source": [
    "df_reverted.to_csv(f'{DATA_PATH}/processed_data/df_reverted.csv')\n",
    "df_reverts.to_csv(f'{DATA_PATH}/processed_data/df_reverts.csv')"
   ]
  },
  {
   "cell_type": "code",
   "execution_count": 102,
   "metadata": {},
   "outputs": [
    {
     "name": "stderr",
     "output_type": "stream",
     "text": [
      "ERROR:root:Error: Length of names must match number of levels in MultiIndex.\n"
     ]
    }
   ],
   "source": [
    "try:\n",
    "    \n",
    "    # get reverts per day as well as reverted\n",
    "    df_reverted_pid = revision_df[revision_df['revision_is_identity_reverted'] == True].groupby(['date','page_id', 'user_kind'])['revision_is_identity_reverted'].size()\n",
    "    df_reverts_pid = revision_df[revision_df['revision_is_identity_revert'] == True].groupby(['date', 'page_id','user_kind'])['revision_is_identity_revert'].size()\n",
    "\n",
    "    # reindex so all dates are filled\n",
    "    df_reverted_pid = df_reverted_pid.reindex(\n",
    "        pd.MultiIndex.from_product([revision_df.date.unique(), df_reverted_pid.index.levels[1]], names=['date', 'page_id', 'user_kind']), fill_value=0)\n",
    "    df_reverts_pid = df_reverts_pid.reindex(\n",
    "        pd.MultiIndex.from_product([revision_df.date.unique(), df_reverts_pid.index.levels[1]], names=['date','page_id', 'user_kind']), fill_value=0)\n",
    "\n",
    "\n",
    "except Exception as e:\n",
    "    logging.error(f'Error: {str(e)}')  "
   ]
  },
  {
   "cell_type": "code",
   "execution_count": 103,
   "metadata": {},
   "outputs": [],
   "source": [
    "df_reverted_pid.to_csv(f'{DATA_PATH}/processed_data/df_reverted_by_pageid.csv')\n",
    "df_reverts_pid.to_csv(f'{DATA_PATH}/processed_data/df_reverts_by_pageid.csv')"
   ]
  }
 ],
 "metadata": {
  "kernelspec": {
   "display_name": "Python 3",
   "language": "python",
   "name": "python3"
  },
  "language_info": {
   "codemirror_mode": {
    "name": "ipython",
    "version": 3
   },
   "file_extension": ".py",
   "mimetype": "text/x-python",
   "name": "python",
   "nbconvert_exporter": "python",
   "pygments_lexer": "ipython3",
   "version": "3.7.7"
  }
 },
 "nbformat": 4,
 "nbformat_minor": 4
}
